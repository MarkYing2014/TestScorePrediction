{
 "cells": [
  {
   "cell_type": "markdown",
   "metadata": {},
   "source": [
    "## Import libraries"
   ]
  },
  {
   "cell_type": "code",
   "execution_count": 24,
   "metadata": {
    "collapsed": true
   },
   "outputs": [],
   "source": [
    "import pandas as pd\n",
    "import numpy as np\n",
    "from sklearn.ensemble import GradientBoostingRegressor\n",
    "from sklearn.model_selection import KFold\n",
    "from sklearn.model_selection import cross_val_score\n",
    "from sklearn.metrics import mean_squared_error\n",
    "from sklearn.metrics import r2_score\n",
    "from sklearn.model_selection import train_test_split\n",
    "import matplotlib.pyplot as plt\n",
    "%matplotlib inline"
   ]
  },
  {
   "cell_type": "markdown",
   "metadata": {},
   "source": [
    "## Read dataset"
   ]
  },
  {
   "cell_type": "code",
   "execution_count": 16,
   "metadata": {
    "collapsed": true
   },
   "outputs": [],
   "source": [
    "pisa = pd.read_csv('pisa2009.csv')\n"
   ]
  },
  {
   "cell_type": "markdown",
   "metadata": {},
   "source": [
    "## Preprocess"
   ]
  },
  {
   "cell_type": "code",
   "execution_count": 17,
   "metadata": {
    "collapsed": false
   },
   "outputs": [],
   "source": [
    "# Handle Missing values\n",
    "# For continuous variables replace the missing data with average of columns\n",
    "pisa['minutesPerWeekEnglish'].fillna(int(pisa['minutesPerWeekEnglish'].mean()), inplace=True)\n",
    "pisa['studentsInEnglish'].fillna(int(pisa['studentsInEnglish'].mean()), inplace=True)\n",
    "pisa['schoolSize'].fillna(int(pisa['schoolSize'].mean()), inplace=True)\n",
    "\n",
    "# For 'raceeth' use 'missing' replacement\n",
    "pisa['raceeth'].fillna('NoRace', inplace=True)\n",
    "# For binary variable use 0.5 in place of missing value\n",
    "\n",
    "pisa = pisa.apply(lambda x:x.fillna(0.5))\n",
    "\n",
    "# Encode categorical data\n",
    "raceeth = pd.get_dummies(pisa['raceeth'], 'raceeth')\n",
    "pisa = pd.concat([pisa, raceeth], axis=1)\n",
    "pisa = pisa.drop('raceeth', axis=1)\n",
    "\n",
    "# remove multicolinearity\n",
    "pisa = pisa.drop(['motherBachelors','motherBornUS', 'fatherBornUS'], axis=1)\n",
    "\n",
    "X = pisa.drop('readingScore', axis=1).values\n",
    "y = pisa['readingScore']"
   ]
  },
  {
   "cell_type": "code",
   "execution_count": 36,
   "metadata": {
    "collapsed": false
   },
   "outputs": [
    {
     "data": {
      "text/plain": [
       "(5233, 5)"
      ]
     },
     "execution_count": 36,
     "metadata": {},
     "output_type": "execute_result"
    }
   ],
   "source": [
    "X = pisa[['expectBachelors','schoolSize', 'minutesPerWeekEnglish', 'studentsInEnglish', 'grade']]\n",
    "X.shape"
   ]
  },
  {
   "cell_type": "markdown",
   "metadata": {},
   "source": [
    "## Train Test split"
   ]
  },
  {
   "cell_type": "code",
   "execution_count": 37,
   "metadata": {
    "collapsed": false
   },
   "outputs": [],
   "source": [
    "seed = 7\n",
    "X_train, X_test, y_train, y_test = train_test_split(X, y, test_size=0.2, random_state=seed)"
   ]
  },
  {
   "cell_type": "markdown",
   "metadata": {},
   "source": [
    "## Benchmark"
   ]
  },
  {
   "cell_type": "code",
   "execution_count": 38,
   "metadata": {
    "collapsed": false
   },
   "outputs": [
    {
     "name": "stdout",
     "output_type": "stream",
     "text": [
      "Benchmark rmse on training set: 95.8746849473\n",
      "Benchmark r2 on training set: 0.0\n",
      "Benchmark rmse on test set: 94.4118356767\n",
      "Benchmark r2 on test set: 0.0\n"
     ]
    }
   ],
   "source": [
    "# Use average of scores as benchmark\n",
    "benchmark_train_pred = np.empty(y_train.shape[0])\n",
    "benchmark_train_pred.fill(np.mean(y_train))\n",
    "\n",
    "benchmark_train_rmse = np.sqrt(mean_squared_error(y_train, benchmark_train_pred))\n",
    "benchmark_train_r2 = r2_score(y_train, benchmark_train_pred)\n",
    "print 'Benchmark rmse on training set:', benchmark_train_rmse\n",
    "print 'Benchmark r2 on training set:', benchmark_train_r2\n",
    "\n",
    "benchmark_test_pred = np.empty(y_test.shape[0])\n",
    "benchmark_test_pred.fill(np.mean(y_test))\n",
    "\n",
    "benchmark_test_rmse = np.sqrt(mean_squared_error(y_test, benchmark_test_pred))\n",
    "benchmark_test_r2 = r2_score(y_test, benchmark_test_pred)\n",
    "print 'Benchmark rmse on test set:', benchmark_test_rmse\n",
    "print 'Benchmark r2 on test set:', benchmark_test_r2"
   ]
  },
  {
   "cell_type": "markdown",
   "metadata": {},
   "source": [
    "## Model with default parameters"
   ]
  },
  {
   "cell_type": "code",
   "execution_count": 40,
   "metadata": {
    "collapsed": false
   },
   "outputs": [
    {
     "name": "stdout",
     "output_type": "stream",
     "text": [
      "RMSE: 80.589360 (2.579401) r2: 0.289374 (0.049247)\n"
     ]
    }
   ],
   "source": [
    "model = GradientBoostingRegressor()\n",
    "kfold = KFold(n_splits=10, random_state=7)\n",
    "cv_rmse = np.sqrt(-cross_val_score(model, X_train, y_train, cv=kfold, scoring='neg_mean_squared_error'))\n",
    "cv_r2 = cross_val_score(model, X_train, y_train, cv=kfold, scoring='r2')\n",
    "print(\"RMSE: %f (%f) r2: %f (%f)\" % ( cv_rmse.mean(), cv_rmse.std(), cv_r2.mean(), cv_r2.std()))"
   ]
  },
  {
   "cell_type": "markdown",
   "metadata": {},
   "source": [
    "## Tuning max_depth"
   ]
  },
  {
   "cell_type": "code",
   "execution_count": 22,
   "metadata": {
    "collapsed": false
   },
   "outputs": [
    {
     "name": "stdout",
     "output_type": "stream",
     "text": [
      "Best: 0.396097 using {'max_depth': 4}\n",
      "0.350008 (0.024771) with: {'max_depth': 1}\n",
      "0.383342 (0.031714) with: {'max_depth': 2}\n",
      "0.395863 (0.037489) with: {'max_depth': 3}\n",
      "0.396097 (0.041184) with: {'max_depth': 4}\n",
      "0.388151 (0.046541) with: {'max_depth': 5}\n",
      "0.380201 (0.049167) with: {'max_depth': 6}\n",
      "0.358921 (0.045949) with: {'max_depth': 7}\n",
      "0.337311 (0.054641) with: {'max_depth': 8}\n",
      "0.304730 (0.057597) with: {'max_depth': 9}\n",
      "0.272152 (0.067554) with: {'max_depth': 10}\n"
     ]
    }
   ],
   "source": [
    "from sklearn.model_selection import GridSearchCV\n",
    "# Tune  GBM\n",
    "\n",
    "max_depth = range(1, 11)\n",
    "param_grid = dict(max_depth=max_depth)\n",
    "\n",
    "model = GradientBoostingRegressor(random_state=seed)\n",
    "kfold = KFold(n_splits=10, random_state=seed)\n",
    "grid = GridSearchCV(estimator=model, param_grid=param_grid, scoring='r2', cv=kfold)\n",
    "grid_result = grid.fit(X_train, y_train)\n",
    "\n",
    "print(\"Best: %f using %s\" % (grid_result.best_score_, grid_result.best_params_))\n",
    "means = grid_result.cv_results_['mean_test_score']\n",
    "stds = grid_result.cv_results_['std_test_score']\n",
    "params = grid_result.cv_results_['params']\n",
    "for mean, stdev, param in zip(means, stds, params):\n",
    "    print(\"%f (%f) with: %r\" % (mean, stdev, param))"
   ]
  },
  {
   "cell_type": "code",
   "execution_count": 25,
   "metadata": {
    "collapsed": false
   },
   "outputs": [
    {
     "data": {
      "text/plain": [
       "<matplotlib.text.Text at 0xadd5b38>"
      ]
     },
     "execution_count": 25,
     "metadata": {},
     "output_type": "execute_result"
    },
    {
     "data": {
      "image/png": "[encoded data removed]",
      "text/plain": [
       "<matplotlib.figure.Figure at 0xc7ac518>"
      ]
     },
     "metadata": {},
     "output_type": "display_data"
    }
   ],
   "source": [
    "plt.errorbar(max_depth, means, yerr=stds)\n",
    "plt.title(\"GBM max_depth vs R2\")\n",
    "plt.xlabel('max_depth')\n",
    "plt.ylabel('R2')"
   ]
  },
  {
   "cell_type": "markdown",
   "metadata": {},
   "source": [
    "## Tuning n_estimators"
   ]
  },
  {
   "cell_type": "code",
   "execution_count": 34,
   "metadata": {
    "collapsed": false
   },
   "outputs": [
    {
     "name": "stdout",
     "output_type": "stream",
     "text": [
      "Best: 0.397017 using {'n_estimators': 150}\n",
      "0.382914 (0.034040) with: {'n_estimators': 50}\n",
      "0.396097 (0.041184) with: {'n_estimators': 100}\n",
      "0.397017 (0.041212) with: {'n_estimators': 150}\n",
      "0.393913 (0.042431) with: {'n_estimators': 200}\n",
      "0.390130 (0.044083) with: {'n_estimators': 250}\n",
      "0.385075 (0.045792) with: {'n_estimators': 300}\n",
      "0.380137 (0.046892) with: {'n_estimators': 350}\n",
      "0.376094 (0.046991) with: {'n_estimators': 400}\n",
      "0.371601 (0.048583) with: {'n_estimators': 450}\n",
      "0.368139 (0.049196) with: {'n_estimators': 500}\n",
      "0.363062 (0.049780) with: {'n_estimators': 550}\n"
     ]
    }
   ],
   "source": [
    "max_depth = 4\n",
    "n_estimators = range(50, 600, 50)\n",
    "param_grid = dict(n_estimators=n_estimators)\n",
    "\n",
    "model = GradientBoostingRegressor(max_depth= max_depth, random_state=seed)\n",
    "kfold = KFold(n_splits=10, random_state=seed)\n",
    "grid = GridSearchCV(estimator=model, param_grid=param_grid, scoring='r2', cv=kfold)\n",
    "grid_result = grid.fit(X_train, y_train)\n",
    "\n",
    "print(\"Best: %f using %s\" % (grid_result.best_score_, grid_result.best_params_))\n",
    "means = grid_result.cv_results_['mean_test_score']\n",
    "stds = grid_result.cv_results_['std_test_score']\n",
    "params = grid_result.cv_results_['params']\n",
    "for mean, stdev, param in zip(means, stds, params):\n",
    "    print(\"%f (%f) with: %r\" % (mean, stdev, param))"
   ]
  },
  {
   "cell_type": "code",
   "execution_count": 28,
   "metadata": {
    "collapsed": false
   },
   "outputs": [
    {
     "data": {
      "text/plain": [
       "<matplotlib.text.Text at 0xaf21c18>"
      ]
     },
     "execution_count": 28,
     "metadata": {},
     "output_type": "execute_result"
    },
    {
     "data": {
      "image/png": "[encoded data removed]",
      "text/plain": [
       "<matplotlib.figure.Figure at 0xaac0400>"
      ]
     },
     "metadata": {},
     "output_type": "display_data"
    }
   ],
   "source": [
    "plt.errorbar(n_estimators, means, yerr=stds)\n",
    "plt.title(\"GBM n_estimators vs R2\")\n",
    "plt.xlabel('n_estimators')\n",
    "plt.ylabel('R2')"
   ]
  },
  {
   "cell_type": "markdown",
   "metadata": {},
   "source": [
    "## Tuning loss"
   ]
  },
  {
   "cell_type": "code",
   "execution_count": 29,
   "metadata": {
    "collapsed": false
   },
   "outputs": [
    {
     "name": "stdout",
     "output_type": "stream",
     "text": [
      "Best: 0.396097 using {'loss': 'ls'}\n",
      "0.396097 (0.041184) with: {'loss': 'ls'}\n",
      "0.396052 (0.036434) with: {'loss': 'lad'}\n",
      "0.395521 (0.037696) with: {'loss': 'huber'}\n",
      "-0.591284 (0.114796) with: {'loss': 'quantile'}\n"
     ]
    }
   ],
   "source": [
    "max_depth = 4\n",
    "n_estimators = 150\n",
    "loss =['ls', 'lad','huber','quantile']\n",
    "\n",
    "param_grid = dict(loss=loss)\n",
    "\n",
    "model = GradientBoostingRegressor(max_depth= max_depth, random_state=seed)\n",
    "kfold = KFold(n_splits=10, random_state=seed)\n",
    "grid = GridSearchCV(estimator=model, param_grid=param_grid, scoring='r2', cv=kfold)\n",
    "grid_result = grid.fit(X_train, y_train)\n",
    "\n",
    "print(\"Best: %f using %s\" % (grid_result.best_score_, grid_result.best_params_))\n",
    "means = grid_result.cv_results_['mean_test_score']\n",
    "stds = grid_result.cv_results_['std_test_score']\n",
    "params = grid_result.cv_results_['params']\n",
    "for mean, stdev, param in zip(means, stds, params):\n",
    "    print(\"%f (%f) with: %r\" % (mean, stdev, param))"
   ]
  },
  {
   "cell_type": "markdown",
   "metadata": {},
   "source": [
    "## Finalize Model"
   ]
  },
  {
   "cell_type": "code",
   "execution_count": 32,
   "metadata": {
    "collapsed": false
   },
   "outputs": [
    {
     "name": "stdout",
     "output_type": "stream",
     "text": [
      "test set rmse: 72.35 is better compared to baseline 94.41\n",
      "test set r2: 0.41 is better than baseline 0.00\n"
     ]
    }
   ],
   "source": [
    "model = GradientBoostingRegressor(max_depth= max_depth, random_state=seed)\n",
    "model.fit(X_train, y_train)\n",
    "predictions = model.predict(X_test)\n",
    "test_rmse = np.sqrt(mean_squared_error(y_test, predictions))\n",
    "test_r2 = r2_score(y_test, predictions)\n",
    "print('test set rmse: %.2f is better compared to baseline %.2f' % (test_rmse, benchmark_test_rmse))\n",
    "print('test set r2: %.2f is better than baseline %.2f' % (test_r2, benchmark_test_r2))"
   ]
  },
  {
   "cell_type": "code",
   "execution_count": null,
   "metadata": {
    "collapsed": true
   },
   "outputs": [],
   "source": []
  }
 ],
 "metadata": {
  "kernelspec": {
   "display_name": "Python 2",
   "language": "python",
   "name": "python2"
  },
  "language_info": {
   "codemirror_mode": {
    "name": "ipython",
    "version": 2
   },
   "file_extension": ".py",
   "mimetype": "text/x-python",
   "name": "python",
   "nbconvert_exporter": "python",
   "pygments_lexer": "ipython2",
   "version": "2.7.11"
  }
 },
 "nbformat": 4,
 "nbformat_minor": 0
}
