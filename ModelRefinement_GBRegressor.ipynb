{
 "cells": [
  {
   "cell_type": "markdown",
   "metadata": {},
   "source": [
    "## Import libraries"
   ]
  },
  {
   "cell_type": "code",
   "execution_count": 1,
   "metadata": {
    "collapsed": true
   },
   "outputs": [],
   "source": [
    "import pandas as pd\n",
    "import numpy as np\n",
    "from sklearn.ensemble import GradientBoostingRegressor\n",
    "from sklearn.model_selection import KFold\n",
    "from sklearn.model_selection import cross_val_score\n",
    "from sklearn.metrics import mean_squared_error\n",
    "from sklearn.metrics import r2_score\n",
    "from sklearn.model_selection import train_test_split\n",
    "import matplotlib.pyplot as plt\n",
    "%matplotlib inline"
   ]
  },
  {
   "cell_type": "markdown",
   "metadata": {},
   "source": [
    "## Read dataset"
   ]
  },
  {
   "cell_type": "code",
   "execution_count": 2,
   "metadata": {
    "collapsed": true
   },
   "outputs": [],
   "source": [
    "pisa = pd.read_csv('pisa2009.csv')\n"
   ]
  },
  {
   "cell_type": "markdown",
   "metadata": {},
   "source": [
    "## Preprocess"
   ]
  },
  {
   "cell_type": "code",
   "execution_count": 3,
   "metadata": {
    "collapsed": false
   },
   "outputs": [],
   "source": [
    "# Handle Missing values\n",
    "# For continuous variables replace the missing data with average of columns\n",
    "pisa['minutesPerWeekEnglish'].fillna(int(pisa['minutesPerWeekEnglish'].mean()), inplace=True)\n",
    "pisa['studentsInEnglish'].fillna(int(pisa['studentsInEnglish'].mean()), inplace=True)\n",
    "pisa['schoolSize'].fillna(int(pisa['schoolSize'].mean()), inplace=True)\n",
    "\n",
    "# For 'raceeth' use 'missing' replacement\n",
    "pisa['raceeth'].fillna('NoRace', inplace=True)\n",
    "# For binary variable use 0.5 in place of missing value\n",
    "\n",
    "pisa = pisa.apply(lambda x:x.fillna(0.5))\n",
    "\n",
    "# Encode categorical data\n",
    "raceeth = pd.get_dummies(pisa['raceeth'], 'raceeth')\n",
    "pisa = pd.concat([pisa, raceeth], axis=1)\n",
    "pisa = pisa.drop('raceeth', axis=1)\n",
    "\n",
    "# remove multicolinearity\n",
    "pisa = pisa.drop(['motherBachelors','motherBornUS', 'fatherBornUS'], axis=1)\n",
    "\n",
    "# reduce skewness\n",
    "pisa['schoolSize'] = np.log1p(pisa['schoolSize'])\n",
    "pisa['minutesPerWeekEnglish'] = np.sqrt(pisa['minutesPerWeekEnglish'])\n",
    "\n",
    "\n",
    "X = pisa.drop('readingScore', axis=1).values\n",
    "y = pisa['readingScore']"
   ]
  },
  {
   "cell_type": "code",
   "execution_count": 4,
   "metadata": {
    "collapsed": false
   },
   "outputs": [
    {
     "data": {
      "text/plain": [
       "(5233, 5)"
      ]
     },
     "execution_count": 4,
     "metadata": {},
     "output_type": "execute_result"
    }
   ],
   "source": [
    "X = pisa[['expectBachelors','schoolSize', 'minutesPerWeekEnglish', 'studentsInEnglish', 'grade']]\n",
    "X.shape"
   ]
  },
  {
   "cell_type": "markdown",
   "metadata": {},
   "source": [
    "## Train Test split"
   ]
  },
  {
   "cell_type": "code",
   "execution_count": 5,
   "metadata": {
    "collapsed": false
   },
   "outputs": [],
   "source": [
    "seed = 7\n",
    "X_train, X_test, y_train, y_test = train_test_split(X, y, test_size=0.2, random_state=seed)"
   ]
  },
  {
   "cell_type": "markdown",
   "metadata": {},
   "source": [
    "## Benchmark"
   ]
  },
  {
   "cell_type": "code",
   "execution_count": 6,
   "metadata": {
    "collapsed": false
   },
   "outputs": [
    {
     "name": "stdout",
     "output_type": "stream",
     "text": [
      "Benchmark rmse on training set: 95.8746849473\n",
      "Benchmark r2 on training set: 0.0\n",
      "Benchmark rmse on test set: 94.4118356767\n",
      "Benchmark r2 on test set: 0.0\n"
     ]
    }
   ],
   "source": [
    "# Use average of scores as benchmark\n",
    "benchmark_train_pred = np.empty(y_train.shape[0])\n",
    "benchmark_train_pred.fill(np.mean(y_train))\n",
    "\n",
    "benchmark_train_rmse = np.sqrt(mean_squared_error(y_train, benchmark_train_pred))\n",
    "benchmark_train_r2 = r2_score(y_train, benchmark_train_pred)\n",
    "print 'Benchmark rmse on training set:', benchmark_train_rmse\n",
    "print 'Benchmark r2 on training set:', benchmark_train_r2\n",
    "\n",
    "benchmark_test_pred = np.empty(y_test.shape[0])\n",
    "benchmark_test_pred.fill(np.mean(y_test))\n",
    "\n",
    "benchmark_test_rmse = np.sqrt(mean_squared_error(y_test, benchmark_test_pred))\n",
    "benchmark_test_r2 = r2_score(y_test, benchmark_test_pred)\n",
    "print 'Benchmark rmse on test set:', benchmark_test_rmse\n",
    "print 'Benchmark r2 on test set:', benchmark_test_r2"
   ]
  },
  {
   "cell_type": "markdown",
   "metadata": {},
   "source": [
    "## Model with default parameters"
   ]
  },
  {
   "cell_type": "code",
   "execution_count": 7,
   "metadata": {
    "collapsed": false
   },
   "outputs": [
    {
     "name": "stdout",
     "output_type": "stream",
     "text": [
      "RMSE: 80.588962 (2.577931) r2: 0.289302 (0.049320)\n"
     ]
    }
   ],
   "source": [
    "model = GradientBoostingRegressor()\n",
    "kfold = KFold(n_splits=10, random_state=7)\n",
    "cv_rmse = np.sqrt(-cross_val_score(model, X_train, y_train, cv=kfold, scoring='neg_mean_squared_error'))\n",
    "cv_r2 = cross_val_score(model, X_train, y_train, cv=kfold, scoring='r2')\n",
    "print(\"RMSE: %f (%f) r2: %f (%f)\" % ( cv_rmse.mean(), cv_rmse.std(), cv_r2.mean(), cv_r2.std()))"
   ]
  },
  {
   "cell_type": "markdown",
   "metadata": {},
   "source": [
    "## Tuning max_depth"
   ]
  },
  {
   "cell_type": "code",
   "execution_count": 8,
   "metadata": {
    "collapsed": false
   },
   "outputs": [
    {
     "name": "stdout",
     "output_type": "stream",
     "text": [
      "Best: 0.299800 using {'max_depth': 4}\n",
      "0.228794 (0.035894) with: {'max_depth': 1}\n",
      "0.272475 (0.043614) with: {'max_depth': 2}\n",
      "0.289237 (0.049299) with: {'max_depth': 3}\n",
      "0.299800 (0.051410) with: {'max_depth': 4}\n",
      "0.298854 (0.052337) with: {'max_depth': 5}\n",
      "0.286281 (0.054468) with: {'max_depth': 6}\n",
      "0.260021 (0.059610) with: {'max_depth': 7}\n",
      "0.231967 (0.060949) with: {'max_depth': 8}\n",
      "0.205495 (0.069176) with: {'max_depth': 9}\n",
      "0.168073 (0.086019) with: {'max_depth': 10}\n"
     ]
    }
   ],
   "source": [
    "from sklearn.model_selection import GridSearchCV\n",
    "# Tune  GBM\n",
    "\n",
    "max_depth = range(1, 11)\n",
    "param_grid = dict(max_depth=max_depth)\n",
    "\n",
    "model = GradientBoostingRegressor(random_state=seed)\n",
    "kfold = KFold(n_splits=10, random_state=seed)\n",
    "grid = GridSearchCV(estimator=model, param_grid=param_grid, scoring='r2', cv=kfold)\n",
    "grid_result = grid.fit(X_train, y_train)\n",
    "\n",
    "print(\"Best: %f using %s\" % (grid_result.best_score_, grid_result.best_params_))\n",
    "means = grid_result.cv_results_['mean_test_score']\n",
    "stds = grid_result.cv_results_['std_test_score']\n",
    "params = grid_result.cv_results_['params']\n",
    "for mean, stdev, param in zip(means, stds, params):\n",
    "    print(\"%f (%f) with: %r\" % (mean, stdev, param))"
   ]
  },
  {
   "cell_type": "code",
   "execution_count": null,
   "metadata": {
    "collapsed": false
   },
   "outputs": [
    {
     "data": {
      "text/plain": [
       "<matplotlib.text.Text at 0xb6f7208>"
      ]
     },
     "execution_count": 9,
     "metadata": {},
     "output_type": "execute_result"
    },
    {
     "data": {
      "image/png": "[encoded data removed]",
      "text/plain": [
       "<matplotlib.figure.Figure at 0xb417fd0>"
      ]
     },
     "metadata": {},
     "output_type": "display_data"
    }
   ],
   "source": [
    "plt.errorbar(max_depth, means, yerr=stds)\n",
    "plt.title(\"GBM max_depth vs R2\")\n",
    "plt.xlabel('max_depth')\n",
    "plt.ylabel('R2')"
   ]
  },
  {
   "cell_type": "markdown",
   "metadata": {},
   "source": [
    "## Tuning n_estimators"
   ]
  },
  {
   "cell_type": "code",
   "execution_count": null,
   "metadata": {
    "collapsed": false
   },
   "outputs": [],
   "source": [
    "max_depth = 4\n",
    "n_estimators = range(50, 600, 50)\n",
    "param_grid = dict(n_estimators=n_estimators)\n",
    "\n",
    "model = GradientBoostingRegressor(max_depth= max_depth, random_state=seed)\n",
    "kfold = KFold(n_splits=10, random_state=seed)\n",
    "grid = GridSearchCV(estimator=model, param_grid=param_grid, scoring='r2', cv=kfold)\n",
    "grid_result = grid.fit(X_train, y_train)\n",
    "\n",
    "print(\"Best: %f using %s\" % (grid_result.best_score_, grid_result.best_params_))\n",
    "means = grid_result.cv_results_['mean_test_score']\n",
    "stds = grid_result.cv_results_['std_test_score']\n",
    "params = grid_result.cv_results_['params']\n",
    "for mean, stdev, param in zip(means, stds, params):\n",
    "    print(\"%f (%f) with: %r\" % (mean, stdev, param))"
   ]
  },
  {
   "cell_type": "code",
   "execution_count": null,
   "metadata": {
    "collapsed": false
   },
   "outputs": [],
   "source": [
    "plt.errorbar(n_estimators, means, yerr=stds)\n",
    "plt.title(\"GBM n_estimators vs R2\")\n",
    "plt.xlabel('n_estimators')\n",
    "plt.ylabel('R2')"
   ]
  },
  {
   "cell_type": "markdown",
   "metadata": {},
   "source": [
    "## Tuning loss"
   ]
  },
  {
   "cell_type": "code",
   "execution_count": null,
   "metadata": {
    "collapsed": false
   },
   "outputs": [],
   "source": [
    "max_depth = 4\n",
    "n_estimators = 150\n",
    "loss =['ls', 'lad','huber','quantile']\n",
    "\n",
    "param_grid = dict(loss=loss)\n",
    "\n",
    "model = GradientBoostingRegressor(max_depth= max_depth, random_state=seed)\n",
    "kfold = KFold(n_splits=10, random_state=seed)\n",
    "grid = GridSearchCV(estimator=model, param_grid=param_grid, scoring='r2', cv=kfold)\n",
    "grid_result = grid.fit(X_train, y_train)\n",
    "\n",
    "print(\"Best: %f using %s\" % (grid_result.best_score_, grid_result.best_params_))\n",
    "means = grid_result.cv_results_['mean_test_score']\n",
    "stds = grid_result.cv_results_['std_test_score']\n",
    "params = grid_result.cv_results_['params']\n",
    "for mean, stdev, param in zip(means, stds, params):\n",
    "    print(\"%f (%f) with: %r\" % (mean, stdev, param))"
   ]
  },
  {
   "cell_type": "markdown",
   "metadata": {},
   "source": [
    "## Finalize Model"
   ]
  },
  {
   "cell_type": "code",
   "execution_count": null,
   "metadata": {
    "collapsed": false
   },
   "outputs": [],
   "source": [
    "model = GradientBoostingRegressor(max_depth= max_depth, random_state=seed)\n",
    "model.fit(X_train, y_train)\n",
    "predictions = model.predict(X_test)\n",
    "test_rmse = np.sqrt(mean_squared_error(y_test, predictions))\n",
    "test_r2 = r2_score(y_test, predictions)\n",
    "print('test set rmse: %.2f is better compared to baseline %.2f' % (test_rmse, benchmark_test_rmse))\n",
    "print('test set r2: %.2f is better than baseline %.2f' % (test_r2, benchmark_test_r2))"
   ]
  },
  {
   "cell_type": "code",
   "execution_count": null,
   "metadata": {
    "collapsed": true
   },
   "outputs": [],
   "source": []
  }
 ],
 "metadata": {
  "kernelspec": {
   "display_name": "Python 2",
   "language": "python",
   "name": "python2"
  },
  "language_info": {
   "codemirror_mode": {
    "name": "ipython",
    "version": 2
   },
   "file_extension": ".py",
   "mimetype": "text/x-python",
   "name": "python",
   "nbconvert_exporter": "python",
   "pygments_lexer": "ipython2",
   "version": "2.7.11"
  }
 },
 "nbformat": 4,
 "nbformat_minor": 0
}
