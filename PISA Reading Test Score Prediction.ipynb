{
 "cells": [
  {
   "cell_type": "markdown",
   "metadata": {},
   "source": [
    "# Test Score Prediction - PISA 2009\n",
    "\n",
    "Shinto Theruvil Manuel\n",
    "\n",
    "December 2016"
   ]
  },
  {
   "cell_type": "markdown",
   "metadata": {},
   "source": [
    "## I. Definition\n",
    "(1-2 pages)\n",
    "### Project Overview"
   ]
  },
  {
   "cell_type": "markdown",
   "metadata": {},
   "source": [
    "## II. Analysis \n",
    "(2-4 pages)\n",
    "### Data Exploration"
   ]
  },
  {
   "cell_type": "markdown",
   "metadata": {},
   "source": [
    "The datasets **pisa2009train.csv** and **pisa2009test.csv** contain information about the demographics\n",
    "and schools for American students taking the exam, derived from 2009 PISA Public-Use Data Files\n",
    "distributed by the United States National Center for Education Statistics (NCES). While the datasets\n",
    "are not supposed to contain identifying information about students taking the test, by using the\n",
    "data you are bound by the NCES data use agreement, which prohibits any attempt to determine\n",
    "the identity of any student in the datasets.\n"
   ]
  },
  {
   "cell_type": "markdown",
   "metadata": {},
   "source": [
    "#### Fields\n",
    "The datasets have the following variables:\n",
    "* **grade**: The grade in school of the student (most 15-year-olds in America are in 10th grade)\n",
    "* **male**: Whether the student is male (1/0)\n",
    "* **raceeth**: The race/ethnicity composite of the student\n",
    "* **preschool**: Whether the student attended preschool (1/0)\n",
    "* **expectBachelors**: Whether the student expects to obtain a bachelor's degree (1/0)\n",
    "* **motherHS**: Whether the student's mother completed high school (1/0)\n",
    "* **motherBachelors**: Whether the student's mother obtained a bachelor's degree (1/0)\n",
    "* **motherWork**: Whether the student's mother has part-time or full-time work (1/0)\n",
    "* **fatherHS**: Whether the student's father completed high school (1/0)\n",
    "* **fatherBachelors**: Whether the student's father obtained a bachelor's degree (1/0)\n",
    "* **fatherWork**: Whether the student's father has part-time or full-time work (1/0)\n",
    "* **selfBornUS**: Whether the student was born in the United States of America (1/0)\n",
    "* **motherBornUS**: Whether the student's mother was born in the United States of America (1/0)\n",
    "* **fatherBornUS**: Whether the student's father was born in the United States of America (1/0)\n",
    "* **englishAtHome**: Whether the student speaks English at home (1/0)\n",
    "* **computerForSchoolwork**: Whether the student has access to a computer for schoolwork (1/0)\n",
    "* **read30MinsADay**: Whether the student reads for pleasure for 30 minutes/day (1/0)\n",
    "* **minutesPerWeekEnglish**: The number of minutes per week the student spend in English class\n",
    "* **studentsInEnglish**: The number of students in this student's English class at school\n",
    "* **schoolHasLibrary**: Whether this student's school has a library (1/0)\n",
    "* **publicSchool**: Whether this student attends a public school (1/0)\n",
    "* **urban**: Whether this student's school is in an urban area (1/0)\n",
    "* **schoolSize**: The number of students in this student's school\n",
    "* **readingScore**: The student's reading score, on a 1000-point scale (This is the **target** variable)"
   ]
  },
  {
   "cell_type": "markdown",
   "metadata": {},
   "source": [
    "Lets examine the predictor variables:\n",
    "\n",
    "** Categorical fields with order**\n",
    "* grade \n",
    "\n",
    "**Categorical fields without order**\n",
    "* raceeth\n",
    "\n",
    "**Conitnueous variables**\n",
    "* studentsInEnglish\n",
    "* minutesPerWeekEnglish\n",
    "* schoolSize\n",
    "\n",
    "**Binary varibles**\n",
    "* male\n",
    "* preschool\n",
    "* expectBachelors\n",
    "* motherHS\n",
    "* motherWork\n",
    "* fatherHS\n",
    "* fatherBachelors\n",
    "* fatherWork\n",
    "* selfBornUS\n",
    "* englishAtHome\n",
    "* computerForSchoolwork\n",
    "* read30MinsADay\n",
    "* schoolHasLibrary\n",
    "* publicSchool\n",
    "* urban"
   ]
  },
  {
   "cell_type": "code",
   "execution_count": 238,
   "metadata": {
    "collapsed": true
   },
   "outputs": [],
   "source": [
    "# import all required libraries\n",
    "import pandas as pd\n",
    "import numpy as np\n",
    "from sklearn.model_selection import KFold\n",
    "from sklearn.model_selection import cross_val_score\n",
    "from sklearn.model_selection import GridSearchCV\n",
    "from sklearn.linear_model import LinearRegression\n",
    "from sklearn.linear_model import Lasso\n",
    "from sklearn.linear_model import ElasticNet\n",
    "from sklearn.tree import DecisionTreeRegressor\n",
    "from sklearn.neighbors import KNeighborsRegressor\n",
    "from sklearn.svm import SVR"
   ]
  },
  {
   "cell_type": "code",
   "execution_count": 239,
   "metadata": {
    "collapsed": false
   },
   "outputs": [],
   "source": [
    "# Cross validation framework\n",
    "def do_cross_validation(X, y, scoring = 'neg_mean_squared_error'):\n",
    "    models = []\n",
    "    models.append(('LR', LinearRegression()))\n",
    "    models.append(('LASSO', Lasso()))\n",
    "    models.append(('EN', ElasticNet()))\n",
    "    models.append(('KNN', KNeighborsRegressor()))\n",
    "    models.append(('CART', DecisionTreeRegressor()))\n",
    "    models.append(('SVR', SVR()))\n",
    "    results = []\n",
    "    results_r2 = []\n",
    "    names = []\n",
    "    for name, model in models:\n",
    "        kfold = KFold(n_splits=10, random_state=7)\n",
    "        cv_results = np.sqrt(-cross_val_score(model, X_train, y_train, cv=kfold, scoring=scoring))\n",
    "        cv_results_r2 = cross_val_score(model, X_train, y_train, cv=kfold, scoring='r2')\n",
    "        results.append(cv_results)\n",
    "        names.append(name)\n",
    "        msg = \"%s: %f (%f) r2: %f (%f)\" % \\\n",
    "        (name, cv_results.mean(), cv_results.std(), cv_results_r2.mean(), cv_results_r2.std())\n",
    "        print(msg)\n",
    "    return results, names\n"
   ]
  },
  {
   "cell_type": "markdown",
   "metadata": {},
   "source": [
    "#### Dataset Size\n"
   ]
  },
  {
   "cell_type": "code",
   "execution_count": 240,
   "metadata": {
    "collapsed": false
   },
   "outputs": [
    {
     "name": "stdout",
     "output_type": "stream",
     "text": [
      "('Shape of training set: ', (3663, 24))\n",
      "('Shape of test set: ', (1570, 24))\n"
     ]
    }
   ],
   "source": [
    "pisaTrain = pd.read_csv('pisa2009train.csv')\n",
    "pisaTest = pd.read_csv('pisa2009test.csv')\n",
    "print('Shape of training set: ',pisaTrain.shape)\n",
    "print('Shape of test set: ', pisaTest.shape)"
   ]
  },
  {
   "cell_type": "markdown",
   "metadata": {},
   "source": [
    "#### Preview of dataset"
   ]
  },
  {
   "cell_type": "code",
   "execution_count": 241,
   "metadata": {
    "collapsed": false,
    "scrolled": true
   },
   "outputs": [
    {
     "name": "stdout",
     "output_type": "stream",
     "text": [
      "(5233, 24)\n"
     ]
    },
    {
     "data": {
      "text/html": [
       "<div>\n",
       "<table border=\"1\" class=\"dataframe\">\n",
       "  <thead>\n",
       "    <tr style=\"text-align: right;\">\n",
       "      <th></th>\n",
       "      <th>grade</th>\n",
       "      <th>male</th>\n",
       "      <th>raceeth</th>\n",
       "      <th>preschool</th>\n",
       "      <th>expectBachelors</th>\n",
       "      <th>motherHS</th>\n",
       "      <th>motherBachelors</th>\n",
       "      <th>motherWork</th>\n",
       "      <th>fatherHS</th>\n",
       "      <th>fatherBachelors</th>\n",
       "      <th>...</th>\n",
       "      <th>englishAtHome</th>\n",
       "      <th>computerForSchoolwork</th>\n",
       "      <th>read30MinsADay</th>\n",
       "      <th>minutesPerWeekEnglish</th>\n",
       "      <th>studentsInEnglish</th>\n",
       "      <th>schoolHasLibrary</th>\n",
       "      <th>publicSchool</th>\n",
       "      <th>urban</th>\n",
       "      <th>schoolSize</th>\n",
       "      <th>readingScore</th>\n",
       "    </tr>\n",
       "  </thead>\n",
       "  <tbody>\n",
       "    <tr>\n",
       "      <th>0</th>\n",
       "      <td>11</td>\n",
       "      <td>1</td>\n",
       "      <td>NaN</td>\n",
       "      <td>NaN</td>\n",
       "      <td>0.0</td>\n",
       "      <td>NaN</td>\n",
       "      <td>NaN</td>\n",
       "      <td>1.0</td>\n",
       "      <td>NaN</td>\n",
       "      <td>NaN</td>\n",
       "      <td>...</td>\n",
       "      <td>0.0</td>\n",
       "      <td>1.0</td>\n",
       "      <td>0.0</td>\n",
       "      <td>225.0</td>\n",
       "      <td>NaN</td>\n",
       "      <td>1.0</td>\n",
       "      <td>1</td>\n",
       "      <td>1</td>\n",
       "      <td>673.0</td>\n",
       "      <td>476.00</td>\n",
       "    </tr>\n",
       "    <tr>\n",
       "      <th>1</th>\n",
       "      <td>11</td>\n",
       "      <td>1</td>\n",
       "      <td>White</td>\n",
       "      <td>0.0</td>\n",
       "      <td>0.0</td>\n",
       "      <td>1.0</td>\n",
       "      <td>1.0</td>\n",
       "      <td>1.0</td>\n",
       "      <td>1.0</td>\n",
       "      <td>0.0</td>\n",
       "      <td>...</td>\n",
       "      <td>1.0</td>\n",
       "      <td>1.0</td>\n",
       "      <td>1.0</td>\n",
       "      <td>450.0</td>\n",
       "      <td>25.0</td>\n",
       "      <td>1.0</td>\n",
       "      <td>1</td>\n",
       "      <td>0</td>\n",
       "      <td>1173.0</td>\n",
       "      <td>575.01</td>\n",
       "    </tr>\n",
       "    <tr>\n",
       "      <th>2</th>\n",
       "      <td>9</td>\n",
       "      <td>1</td>\n",
       "      <td>White</td>\n",
       "      <td>1.0</td>\n",
       "      <td>1.0</td>\n",
       "      <td>1.0</td>\n",
       "      <td>1.0</td>\n",
       "      <td>1.0</td>\n",
       "      <td>1.0</td>\n",
       "      <td>NaN</td>\n",
       "      <td>...</td>\n",
       "      <td>1.0</td>\n",
       "      <td>1.0</td>\n",
       "      <td>0.0</td>\n",
       "      <td>250.0</td>\n",
       "      <td>28.0</td>\n",
       "      <td>1.0</td>\n",
       "      <td>1</td>\n",
       "      <td>0</td>\n",
       "      <td>1233.0</td>\n",
       "      <td>554.81</td>\n",
       "    </tr>\n",
       "    <tr>\n",
       "      <th>3</th>\n",
       "      <td>10</td>\n",
       "      <td>0</td>\n",
       "      <td>Black</td>\n",
       "      <td>1.0</td>\n",
       "      <td>1.0</td>\n",
       "      <td>0.0</td>\n",
       "      <td>0.0</td>\n",
       "      <td>1.0</td>\n",
       "      <td>1.0</td>\n",
       "      <td>0.0</td>\n",
       "      <td>...</td>\n",
       "      <td>1.0</td>\n",
       "      <td>1.0</td>\n",
       "      <td>1.0</td>\n",
       "      <td>200.0</td>\n",
       "      <td>23.0</td>\n",
       "      <td>1.0</td>\n",
       "      <td>1</td>\n",
       "      <td>1</td>\n",
       "      <td>2640.0</td>\n",
       "      <td>458.11</td>\n",
       "    </tr>\n",
       "    <tr>\n",
       "      <th>4</th>\n",
       "      <td>10</td>\n",
       "      <td>1</td>\n",
       "      <td>Hispanic</td>\n",
       "      <td>1.0</td>\n",
       "      <td>0.0</td>\n",
       "      <td>1.0</td>\n",
       "      <td>0.0</td>\n",
       "      <td>1.0</td>\n",
       "      <td>1.0</td>\n",
       "      <td>0.0</td>\n",
       "      <td>...</td>\n",
       "      <td>1.0</td>\n",
       "      <td>1.0</td>\n",
       "      <td>1.0</td>\n",
       "      <td>250.0</td>\n",
       "      <td>35.0</td>\n",
       "      <td>1.0</td>\n",
       "      <td>1</td>\n",
       "      <td>1</td>\n",
       "      <td>1095.0</td>\n",
       "      <td>613.89</td>\n",
       "    </tr>\n",
       "  </tbody>\n",
       "</table>\n",
       "<p>5 rows × 24 columns</p>\n",
       "</div>"
      ],
      "text/plain": [
       "   grade  male   raceeth  preschool  expectBachelors  motherHS  \\\n",
       "0     11     1       NaN        NaN              0.0       NaN   \n",
       "1     11     1     White        0.0              0.0       1.0   \n",
       "2      9     1     White        1.0              1.0       1.0   \n",
       "3     10     0     Black        1.0              1.0       0.0   \n",
       "4     10     1  Hispanic        1.0              0.0       1.0   \n",
       "\n",
       "   motherBachelors  motherWork  fatherHS  fatherBachelors      ...       \\\n",
       "0              NaN         1.0       NaN              NaN      ...        \n",
       "1              1.0         1.0       1.0              0.0      ...        \n",
       "2              1.0         1.0       1.0              NaN      ...        \n",
       "3              0.0         1.0       1.0              0.0      ...        \n",
       "4              0.0         1.0       1.0              0.0      ...        \n",
       "\n",
       "   englishAtHome  computerForSchoolwork  read30MinsADay  \\\n",
       "0            0.0                    1.0             0.0   \n",
       "1            1.0                    1.0             1.0   \n",
       "2            1.0                    1.0             0.0   \n",
       "3            1.0                    1.0             1.0   \n",
       "4            1.0                    1.0             1.0   \n",
       "\n",
       "   minutesPerWeekEnglish  studentsInEnglish  schoolHasLibrary  publicSchool  \\\n",
       "0                  225.0                NaN               1.0             1   \n",
       "1                  450.0               25.0               1.0             1   \n",
       "2                  250.0               28.0               1.0             1   \n",
       "3                  200.0               23.0               1.0             1   \n",
       "4                  250.0               35.0               1.0             1   \n",
       "\n",
       "   urban  schoolSize  readingScore  \n",
       "0      1       673.0        476.00  \n",
       "1      0      1173.0        575.01  \n",
       "2      0      1233.0        554.81  \n",
       "3      1      2640.0        458.11  \n",
       "4      1      1095.0        613.89  \n",
       "\n",
       "[5 rows x 24 columns]"
      ]
     },
     "execution_count": 241,
     "metadata": {},
     "output_type": "execute_result"
    }
   ],
   "source": [
    "allData = pd.concat([pisaTrain, pisaTest],  ignore_index=True)\n",
    "print(allData.shape)\n",
    "allData.head()"
   ]
  },
  {
   "cell_type": "markdown",
   "metadata": {},
   "source": [
    "It look like  there are some missing values. The missing values are shown in the above table as NaN. We will deal with missing values in preprocessing stage."
   ]
  },
  {
   "cell_type": "code",
   "execution_count": 242,
   "metadata": {
    "collapsed": true
   },
   "outputs": [],
   "source": [
    "# Continuous Features\n",
    "contFeatures = ['minutesPerWeekEnglish','studentsInEnglish','schoolSize']\n",
    "binaryFeatures = ['male',  'preschool', 'expectBachelors',\n",
    "       'motherHS', 'motherBachelors', 'motherWork', 'fatherHS',\n",
    "       'fatherBachelors', 'fatherWork', 'selfBornUS', 'motherBornUS',\n",
    "       'fatherBornUS', 'englishAtHome', 'computerForSchoolwork',\n",
    "       'read30MinsADay','schoolHasLibrary', 'publicSchool', 'urban' ]"
   ]
  },
  {
   "cell_type": "markdown",
   "metadata": {},
   "source": [
    "#### Distribution of continous variables"
   ]
  },
  {
   "cell_type": "code",
   "execution_count": 243,
   "metadata": {
    "collapsed": false
   },
   "outputs": [
    {
     "data": {
      "text/html": [
       "<div>\n",
       "<table border=\"1\" class=\"dataframe\">\n",
       "  <thead>\n",
       "    <tr style=\"text-align: right;\">\n",
       "      <th></th>\n",
       "      <th>minutesPerWeekEnglish</th>\n",
       "      <th>studentsInEnglish</th>\n",
       "      <th>schoolSize</th>\n",
       "    </tr>\n",
       "  </thead>\n",
       "  <tbody>\n",
       "    <tr>\n",
       "      <th>count</th>\n",
       "      <td>4944.000000</td>\n",
       "      <td>4870.000000</td>\n",
       "      <td>5002.000000</td>\n",
       "    </tr>\n",
       "    <tr>\n",
       "      <th>mean</th>\n",
       "      <td>265.717840</td>\n",
       "      <td>24.559754</td>\n",
       "      <td>1374.367653</td>\n",
       "    </tr>\n",
       "    <tr>\n",
       "      <th>std</th>\n",
       "      <td>149.591118</td>\n",
       "      <td>7.139661</td>\n",
       "      <td>870.424790</td>\n",
       "    </tr>\n",
       "    <tr>\n",
       "      <th>min</th>\n",
       "      <td>0.000000</td>\n",
       "      <td>1.000000</td>\n",
       "      <td>100.000000</td>\n",
       "    </tr>\n",
       "    <tr>\n",
       "      <th>25%</th>\n",
       "      <td>225.000000</td>\n",
       "      <td>20.000000</td>\n",
       "      <td>712.000000</td>\n",
       "    </tr>\n",
       "    <tr>\n",
       "      <th>50%</th>\n",
       "      <td>250.000000</td>\n",
       "      <td>25.000000</td>\n",
       "      <td>1233.000000</td>\n",
       "    </tr>\n",
       "    <tr>\n",
       "      <th>75%</th>\n",
       "      <td>300.000000</td>\n",
       "      <td>30.000000</td>\n",
       "      <td>1900.000000</td>\n",
       "    </tr>\n",
       "    <tr>\n",
       "      <th>max</th>\n",
       "      <td>2400.000000</td>\n",
       "      <td>90.000000</td>\n",
       "      <td>6694.000000</td>\n",
       "    </tr>\n",
       "  </tbody>\n",
       "</table>\n",
       "</div>"
      ],
      "text/plain": [
       "       minutesPerWeekEnglish  studentsInEnglish   schoolSize\n",
       "count            4944.000000        4870.000000  5002.000000\n",
       "mean              265.717840          24.559754  1374.367653\n",
       "std               149.591118           7.139661   870.424790\n",
       "min                 0.000000           1.000000   100.000000\n",
       "25%               225.000000          20.000000   712.000000\n",
       "50%               250.000000          25.000000  1233.000000\n",
       "75%               300.000000          30.000000  1900.000000\n",
       "max              2400.000000          90.000000  6694.000000"
      ]
     },
     "execution_count": 243,
     "metadata": {},
     "output_type": "execute_result"
    }
   ],
   "source": [
    "\n",
    "allData[contFeatures].describe()"
   ]
  },
  {
   "cell_type": "markdown",
   "metadata": {},
   "source": [
    "The min and max values as well are the means vary a lot for the continueous variables. We are likely going to get better results by rescaling the data in some way in the preprocessing stage."
   ]
  },
  {
   "cell_type": "code",
   "execution_count": 244,
   "metadata": {
    "collapsed": false
   },
   "outputs": [
    {
     "data": {
      "text/html": [
       "<div>\n",
       "<table border=\"1\" class=\"dataframe\">\n",
       "  <thead>\n",
       "    <tr style=\"text-align: right;\">\n",
       "      <th></th>\n",
       "      <th>grade</th>\n",
       "      <th>male</th>\n",
       "      <th>preschool</th>\n",
       "      <th>expectBachelors</th>\n",
       "      <th>motherHS</th>\n",
       "      <th>motherBachelors</th>\n",
       "      <th>motherWork</th>\n",
       "      <th>fatherHS</th>\n",
       "      <th>fatherBachelors</th>\n",
       "      <th>fatherWork</th>\n",
       "      <th>...</th>\n",
       "      <th>englishAtHome</th>\n",
       "      <th>computerForSchoolwork</th>\n",
       "      <th>read30MinsADay</th>\n",
       "      <th>minutesPerWeekEnglish</th>\n",
       "      <th>studentsInEnglish</th>\n",
       "      <th>schoolHasLibrary</th>\n",
       "      <th>publicSchool</th>\n",
       "      <th>urban</th>\n",
       "      <th>schoolSize</th>\n",
       "      <th>readingScore</th>\n",
       "    </tr>\n",
       "  </thead>\n",
       "  <tbody>\n",
       "    <tr>\n",
       "      <th>grade</th>\n",
       "      <td>1.000000</td>\n",
       "      <td>-0.089213</td>\n",
       "      <td>-0.011200</td>\n",
       "      <td>0.148041</td>\n",
       "      <td>0.028976</td>\n",
       "      <td>0.043972</td>\n",
       "      <td>0.042522</td>\n",
       "      <td>0.068751</td>\n",
       "      <td>0.056805</td>\n",
       "      <td>0.010012</td>\n",
       "      <td>...</td>\n",
       "      <td>-0.009583</td>\n",
       "      <td>0.105568</td>\n",
       "      <td>0.065484</td>\n",
       "      <td>0.045747</td>\n",
       "      <td>0.074487</td>\n",
       "      <td>-0.016703</td>\n",
       "      <td>-0.059306</td>\n",
       "      <td>0.080561</td>\n",
       "      <td>0.063289</td>\n",
       "      <td>0.272413</td>\n",
       "    </tr>\n",
       "    <tr>\n",
       "      <th>male</th>\n",
       "      <td>-0.089213</td>\n",
       "      <td>1.000000</td>\n",
       "      <td>0.005507</td>\n",
       "      <td>-0.088671</td>\n",
       "      <td>0.031166</td>\n",
       "      <td>0.048206</td>\n",
       "      <td>-0.016717</td>\n",
       "      <td>0.016752</td>\n",
       "      <td>0.057838</td>\n",
       "      <td>0.030472</td>\n",
       "      <td>...</td>\n",
       "      <td>-0.005748</td>\n",
       "      <td>-0.028993</td>\n",
       "      <td>-0.214101</td>\n",
       "      <td>0.009808</td>\n",
       "      <td>-0.036348</td>\n",
       "      <td>0.022453</td>\n",
       "      <td>-0.075265</td>\n",
       "      <td>0.016113</td>\n",
       "      <td>-0.004586</td>\n",
       "      <td>-0.145303</td>\n",
       "    </tr>\n",
       "    <tr>\n",
       "      <th>preschool</th>\n",
       "      <td>-0.011200</td>\n",
       "      <td>0.005507</td>\n",
       "      <td>1.000000</td>\n",
       "      <td>0.095978</td>\n",
       "      <td>0.140893</td>\n",
       "      <td>0.154680</td>\n",
       "      <td>0.069062</td>\n",
       "      <td>0.137600</td>\n",
       "      <td>0.146597</td>\n",
       "      <td>0.054756</td>\n",
       "      <td>...</td>\n",
       "      <td>0.122812</td>\n",
       "      <td>0.094145</td>\n",
       "      <td>-0.003884</td>\n",
       "      <td>-0.012829</td>\n",
       "      <td>-0.030150</td>\n",
       "      <td>0.029039</td>\n",
       "      <td>-0.076767</td>\n",
       "      <td>-0.056366</td>\n",
       "      <td>-0.024381</td>\n",
       "      <td>0.060373</td>\n",
       "    </tr>\n",
       "    <tr>\n",
       "      <th>expectBachelors</th>\n",
       "      <td>0.148041</td>\n",
       "      <td>-0.088671</td>\n",
       "      <td>0.095978</td>\n",
       "      <td>1.000000</td>\n",
       "      <td>0.109735</td>\n",
       "      <td>0.174178</td>\n",
       "      <td>0.070219</td>\n",
       "      <td>0.151738</td>\n",
       "      <td>0.208115</td>\n",
       "      <td>0.023476</td>\n",
       "      <td>...</td>\n",
       "      <td>0.035530</td>\n",
       "      <td>0.132233</td>\n",
       "      <td>0.125497</td>\n",
       "      <td>0.008403</td>\n",
       "      <td>0.041987</td>\n",
       "      <td>0.055405</td>\n",
       "      <td>-0.113289</td>\n",
       "      <td>0.006144</td>\n",
       "      <td>0.021538</td>\n",
       "      <td>0.359425</td>\n",
       "    </tr>\n",
       "    <tr>\n",
       "      <th>motherHS</th>\n",
       "      <td>0.028976</td>\n",
       "      <td>0.031166</td>\n",
       "      <td>0.140893</td>\n",
       "      <td>0.109735</td>\n",
       "      <td>1.000000</td>\n",
       "      <td>0.252665</td>\n",
       "      <td>0.170211</td>\n",
       "      <td>0.509090</td>\n",
       "      <td>0.229883</td>\n",
       "      <td>0.036855</td>\n",
       "      <td>...</td>\n",
       "      <td>0.376071</td>\n",
       "      <td>0.182245</td>\n",
       "      <td>0.020236</td>\n",
       "      <td>0.031403</td>\n",
       "      <td>-0.042705</td>\n",
       "      <td>0.021296</td>\n",
       "      <td>-0.074333</td>\n",
       "      <td>-0.116650</td>\n",
       "      <td>-0.089987</td>\n",
       "      <td>0.161376</td>\n",
       "    </tr>\n",
       "    <tr>\n",
       "      <th>motherBachelors</th>\n",
       "      <td>0.043972</td>\n",
       "      <td>0.048206</td>\n",
       "      <td>0.154680</td>\n",
       "      <td>0.174178</td>\n",
       "      <td>0.252665</td>\n",
       "      <td>1.000000</td>\n",
       "      <td>0.133704</td>\n",
       "      <td>0.210307</td>\n",
       "      <td>0.539321</td>\n",
       "      <td>0.067062</td>\n",
       "      <td>...</td>\n",
       "      <td>0.160095</td>\n",
       "      <td>0.144212</td>\n",
       "      <td>0.033012</td>\n",
       "      <td>0.017249</td>\n",
       "      <td>-0.043409</td>\n",
       "      <td>0.022864</td>\n",
       "      <td>-0.172575</td>\n",
       "      <td>-0.040708</td>\n",
       "      <td>-0.007501</td>\n",
       "      <td>0.213743</td>\n",
       "    </tr>\n",
       "    <tr>\n",
       "      <th>motherWork</th>\n",
       "      <td>0.042522</td>\n",
       "      <td>-0.016717</td>\n",
       "      <td>0.069062</td>\n",
       "      <td>0.070219</td>\n",
       "      <td>0.170211</td>\n",
       "      <td>0.133704</td>\n",
       "      <td>1.000000</td>\n",
       "      <td>0.115492</td>\n",
       "      <td>0.046268</td>\n",
       "      <td>0.054015</td>\n",
       "      <td>...</td>\n",
       "      <td>0.121524</td>\n",
       "      <td>0.091743</td>\n",
       "      <td>-0.027740</td>\n",
       "      <td>0.022426</td>\n",
       "      <td>-0.011111</td>\n",
       "      <td>-0.007515</td>\n",
       "      <td>-0.025414</td>\n",
       "      <td>-0.027873</td>\n",
       "      <td>-0.047528</td>\n",
       "      <td>0.047248</td>\n",
       "    </tr>\n",
       "    <tr>\n",
       "      <th>fatherHS</th>\n",
       "      <td>0.068751</td>\n",
       "      <td>0.016752</td>\n",
       "      <td>0.137600</td>\n",
       "      <td>0.151738</td>\n",
       "      <td>0.509090</td>\n",
       "      <td>0.210307</td>\n",
       "      <td>0.115492</td>\n",
       "      <td>1.000000</td>\n",
       "      <td>0.281755</td>\n",
       "      <td>0.107036</td>\n",
       "      <td>...</td>\n",
       "      <td>0.336876</td>\n",
       "      <td>0.170892</td>\n",
       "      <td>0.046933</td>\n",
       "      <td>0.036223</td>\n",
       "      <td>-0.020973</td>\n",
       "      <td>0.036179</td>\n",
       "      <td>-0.086946</td>\n",
       "      <td>-0.100400</td>\n",
       "      <td>-0.083902</td>\n",
       "      <td>0.188446</td>\n",
       "    </tr>\n",
       "    <tr>\n",
       "      <th>fatherBachelors</th>\n",
       "      <td>0.056805</td>\n",
       "      <td>0.057838</td>\n",
       "      <td>0.146597</td>\n",
       "      <td>0.208115</td>\n",
       "      <td>0.229883</td>\n",
       "      <td>0.539321</td>\n",
       "      <td>0.046268</td>\n",
       "      <td>0.281755</td>\n",
       "      <td>1.000000</td>\n",
       "      <td>0.108559</td>\n",
       "      <td>...</td>\n",
       "      <td>0.125238</td>\n",
       "      <td>0.172355</td>\n",
       "      <td>0.057101</td>\n",
       "      <td>0.008416</td>\n",
       "      <td>-0.031457</td>\n",
       "      <td>0.006428</td>\n",
       "      <td>-0.188413</td>\n",
       "      <td>-0.007594</td>\n",
       "      <td>0.031286</td>\n",
       "      <td>0.260840</td>\n",
       "    </tr>\n",
       "    <tr>\n",
       "      <th>fatherWork</th>\n",
       "      <td>0.010012</td>\n",
       "      <td>0.030472</td>\n",
       "      <td>0.054756</td>\n",
       "      <td>0.023476</td>\n",
       "      <td>0.036855</td>\n",
       "      <td>0.067062</td>\n",
       "      <td>0.054015</td>\n",
       "      <td>0.107036</td>\n",
       "      <td>0.108559</td>\n",
       "      <td>1.000000</td>\n",
       "      <td>...</td>\n",
       "      <td>0.013639</td>\n",
       "      <td>0.083243</td>\n",
       "      <td>-0.012241</td>\n",
       "      <td>0.023599</td>\n",
       "      <td>0.003508</td>\n",
       "      <td>-0.003134</td>\n",
       "      <td>-0.020203</td>\n",
       "      <td>-0.029030</td>\n",
       "      <td>-0.022164</td>\n",
       "      <td>0.067909</td>\n",
       "    </tr>\n",
       "    <tr>\n",
       "      <th>selfBornUS</th>\n",
       "      <td>-0.015076</td>\n",
       "      <td>0.013215</td>\n",
       "      <td>0.093149</td>\n",
       "      <td>-0.002508</td>\n",
       "      <td>0.176047</td>\n",
       "      <td>0.028062</td>\n",
       "      <td>0.067138</td>\n",
       "      <td>0.150403</td>\n",
       "      <td>-0.008772</td>\n",
       "      <td>-0.024228</td>\n",
       "      <td>...</td>\n",
       "      <td>0.468425</td>\n",
       "      <td>0.010185</td>\n",
       "      <td>-0.010905</td>\n",
       "      <td>0.004834</td>\n",
       "      <td>-0.036692</td>\n",
       "      <td>-0.012363</td>\n",
       "      <td>-0.039766</td>\n",
       "      <td>-0.116324</td>\n",
       "      <td>-0.133465</td>\n",
       "      <td>0.039097</td>\n",
       "    </tr>\n",
       "    <tr>\n",
       "      <th>motherBornUS</th>\n",
       "      <td>-0.062865</td>\n",
       "      <td>0.002977</td>\n",
       "      <td>0.110534</td>\n",
       "      <td>0.009766</td>\n",
       "      <td>0.344936</td>\n",
       "      <td>0.140357</td>\n",
       "      <td>0.102452</td>\n",
       "      <td>0.298765</td>\n",
       "      <td>0.068955</td>\n",
       "      <td>-0.004170</td>\n",
       "      <td>...</td>\n",
       "      <td>0.653097</td>\n",
       "      <td>0.011331</td>\n",
       "      <td>-0.002979</td>\n",
       "      <td>0.022577</td>\n",
       "      <td>-0.094795</td>\n",
       "      <td>0.001285</td>\n",
       "      <td>0.018613</td>\n",
       "      <td>-0.286551</td>\n",
       "      <td>-0.244124</td>\n",
       "      <td>0.066411</td>\n",
       "    </tr>\n",
       "    <tr>\n",
       "      <th>fatherBornUS</th>\n",
       "      <td>-0.057618</td>\n",
       "      <td>0.012652</td>\n",
       "      <td>0.113289</td>\n",
       "      <td>0.009201</td>\n",
       "      <td>0.337395</td>\n",
       "      <td>0.119619</td>\n",
       "      <td>0.094600</td>\n",
       "      <td>0.320266</td>\n",
       "      <td>0.072586</td>\n",
       "      <td>-0.007727</td>\n",
       "      <td>...</td>\n",
       "      <td>0.633340</td>\n",
       "      <td>0.026298</td>\n",
       "      <td>0.009739</td>\n",
       "      <td>0.015979</td>\n",
       "      <td>-0.086160</td>\n",
       "      <td>0.003341</td>\n",
       "      <td>0.023054</td>\n",
       "      <td>-0.294878</td>\n",
       "      <td>-0.248009</td>\n",
       "      <td>0.085264</td>\n",
       "    </tr>\n",
       "    <tr>\n",
       "      <th>englishAtHome</th>\n",
       "      <td>-0.009583</td>\n",
       "      <td>-0.005748</td>\n",
       "      <td>0.122812</td>\n",
       "      <td>0.035530</td>\n",
       "      <td>0.376071</td>\n",
       "      <td>0.160095</td>\n",
       "      <td>0.121524</td>\n",
       "      <td>0.336876</td>\n",
       "      <td>0.125238</td>\n",
       "      <td>0.013639</td>\n",
       "      <td>...</td>\n",
       "      <td>1.000000</td>\n",
       "      <td>0.071950</td>\n",
       "      <td>0.008428</td>\n",
       "      <td>0.003802</td>\n",
       "      <td>-0.069967</td>\n",
       "      <td>-0.005857</td>\n",
       "      <td>-0.038667</td>\n",
       "      <td>-0.215128</td>\n",
       "      <td>-0.204354</td>\n",
       "      <td>0.120762</td>\n",
       "    </tr>\n",
       "    <tr>\n",
       "      <th>computerForSchoolwork</th>\n",
       "      <td>0.105568</td>\n",
       "      <td>-0.028993</td>\n",
       "      <td>0.094145</td>\n",
       "      <td>0.132233</td>\n",
       "      <td>0.182245</td>\n",
       "      <td>0.144212</td>\n",
       "      <td>0.091743</td>\n",
       "      <td>0.170892</td>\n",
       "      <td>0.172355</td>\n",
       "      <td>0.083243</td>\n",
       "      <td>...</td>\n",
       "      <td>0.071950</td>\n",
       "      <td>1.000000</td>\n",
       "      <td>-0.015438</td>\n",
       "      <td>0.004469</td>\n",
       "      <td>0.052001</td>\n",
       "      <td>0.008955</td>\n",
       "      <td>-0.074288</td>\n",
       "      <td>0.023242</td>\n",
       "      <td>0.066941</td>\n",
       "      <td>0.190266</td>\n",
       "    </tr>\n",
       "    <tr>\n",
       "      <th>read30MinsADay</th>\n",
       "      <td>0.065484</td>\n",
       "      <td>-0.214101</td>\n",
       "      <td>-0.003884</td>\n",
       "      <td>0.125497</td>\n",
       "      <td>0.020236</td>\n",
       "      <td>0.033012</td>\n",
       "      <td>-0.027740</td>\n",
       "      <td>0.046933</td>\n",
       "      <td>0.057101</td>\n",
       "      <td>-0.012241</td>\n",
       "      <td>...</td>\n",
       "      <td>0.008428</td>\n",
       "      <td>-0.015438</td>\n",
       "      <td>1.000000</td>\n",
       "      <td>0.020766</td>\n",
       "      <td>0.008379</td>\n",
       "      <td>0.010067</td>\n",
       "      <td>0.003405</td>\n",
       "      <td>0.029070</td>\n",
       "      <td>-0.007225</td>\n",
       "      <td>0.241094</td>\n",
       "    </tr>\n",
       "    <tr>\n",
       "      <th>minutesPerWeekEnglish</th>\n",
       "      <td>0.045747</td>\n",
       "      <td>0.009808</td>\n",
       "      <td>-0.012829</td>\n",
       "      <td>0.008403</td>\n",
       "      <td>0.031403</td>\n",
       "      <td>0.017249</td>\n",
       "      <td>0.022426</td>\n",
       "      <td>0.036223</td>\n",
       "      <td>0.008416</td>\n",
       "      <td>0.023599</td>\n",
       "      <td>...</td>\n",
       "      <td>0.003802</td>\n",
       "      <td>0.004469</td>\n",
       "      <td>0.020766</td>\n",
       "      <td>1.000000</td>\n",
       "      <td>0.040743</td>\n",
       "      <td>-0.000751</td>\n",
       "      <td>0.042140</td>\n",
       "      <td>-0.045861</td>\n",
       "      <td>0.006433</td>\n",
       "      <td>0.068374</td>\n",
       "    </tr>\n",
       "    <tr>\n",
       "      <th>studentsInEnglish</th>\n",
       "      <td>0.074487</td>\n",
       "      <td>-0.036348</td>\n",
       "      <td>-0.030150</td>\n",
       "      <td>0.041987</td>\n",
       "      <td>-0.042705</td>\n",
       "      <td>-0.043409</td>\n",
       "      <td>-0.011111</td>\n",
       "      <td>-0.020973</td>\n",
       "      <td>-0.031457</td>\n",
       "      <td>0.003508</td>\n",
       "      <td>...</td>\n",
       "      <td>-0.069967</td>\n",
       "      <td>0.052001</td>\n",
       "      <td>0.008379</td>\n",
       "      <td>0.040743</td>\n",
       "      <td>1.000000</td>\n",
       "      <td>0.055911</td>\n",
       "      <td>0.084035</td>\n",
       "      <td>0.161696</td>\n",
       "      <td>0.252567</td>\n",
       "      <td>0.032793</td>\n",
       "    </tr>\n",
       "    <tr>\n",
       "      <th>schoolHasLibrary</th>\n",
       "      <td>-0.016703</td>\n",
       "      <td>0.022453</td>\n",
       "      <td>0.029039</td>\n",
       "      <td>0.055405</td>\n",
       "      <td>0.021296</td>\n",
       "      <td>0.022864</td>\n",
       "      <td>-0.007515</td>\n",
       "      <td>0.036179</td>\n",
       "      <td>0.006428</td>\n",
       "      <td>-0.003134</td>\n",
       "      <td>...</td>\n",
       "      <td>-0.005857</td>\n",
       "      <td>0.008955</td>\n",
       "      <td>0.010067</td>\n",
       "      <td>-0.000751</td>\n",
       "      <td>0.055911</td>\n",
       "      <td>1.000000</td>\n",
       "      <td>0.054164</td>\n",
       "      <td>-0.110345</td>\n",
       "      <td>0.019449</td>\n",
       "      <td>0.020409</td>\n",
       "    </tr>\n",
       "    <tr>\n",
       "      <th>publicSchool</th>\n",
       "      <td>-0.059306</td>\n",
       "      <td>-0.075265</td>\n",
       "      <td>-0.076767</td>\n",
       "      <td>-0.113289</td>\n",
       "      <td>-0.074333</td>\n",
       "      <td>-0.172575</td>\n",
       "      <td>-0.025414</td>\n",
       "      <td>-0.086946</td>\n",
       "      <td>-0.188413</td>\n",
       "      <td>-0.020203</td>\n",
       "      <td>...</td>\n",
       "      <td>-0.038667</td>\n",
       "      <td>-0.074288</td>\n",
       "      <td>0.003405</td>\n",
       "      <td>0.042140</td>\n",
       "      <td>0.084035</td>\n",
       "      <td>0.054164</td>\n",
       "      <td>1.000000</td>\n",
       "      <td>-0.261065</td>\n",
       "      <td>0.233649</td>\n",
       "      <td>-0.140822</td>\n",
       "    </tr>\n",
       "    <tr>\n",
       "      <th>urban</th>\n",
       "      <td>0.080561</td>\n",
       "      <td>0.016113</td>\n",
       "      <td>-0.056366</td>\n",
       "      <td>0.006144</td>\n",
       "      <td>-0.116650</td>\n",
       "      <td>-0.040708</td>\n",
       "      <td>-0.027873</td>\n",
       "      <td>-0.100400</td>\n",
       "      <td>-0.007594</td>\n",
       "      <td>-0.029030</td>\n",
       "      <td>...</td>\n",
       "      <td>-0.215128</td>\n",
       "      <td>0.023242</td>\n",
       "      <td>0.029070</td>\n",
       "      <td>-0.045861</td>\n",
       "      <td>0.161696</td>\n",
       "      <td>-0.110345</td>\n",
       "      <td>-0.261065</td>\n",
       "      <td>1.000000</td>\n",
       "      <td>0.331002</td>\n",
       "      <td>-0.062066</td>\n",
       "    </tr>\n",
       "    <tr>\n",
       "      <th>schoolSize</th>\n",
       "      <td>0.063289</td>\n",
       "      <td>-0.004586</td>\n",
       "      <td>-0.024381</td>\n",
       "      <td>0.021538</td>\n",
       "      <td>-0.089987</td>\n",
       "      <td>-0.007501</td>\n",
       "      <td>-0.047528</td>\n",
       "      <td>-0.083902</td>\n",
       "      <td>0.031286</td>\n",
       "      <td>-0.022164</td>\n",
       "      <td>...</td>\n",
       "      <td>-0.204354</td>\n",
       "      <td>0.066941</td>\n",
       "      <td>-0.007225</td>\n",
       "      <td>0.006433</td>\n",
       "      <td>0.252567</td>\n",
       "      <td>0.019449</td>\n",
       "      <td>0.233649</td>\n",
       "      <td>0.331002</td>\n",
       "      <td>1.000000</td>\n",
       "      <td>0.034782</td>\n",
       "    </tr>\n",
       "    <tr>\n",
       "      <th>readingScore</th>\n",
       "      <td>0.272413</td>\n",
       "      <td>-0.145303</td>\n",
       "      <td>0.060373</td>\n",
       "      <td>0.359425</td>\n",
       "      <td>0.161376</td>\n",
       "      <td>0.213743</td>\n",
       "      <td>0.047248</td>\n",
       "      <td>0.188446</td>\n",
       "      <td>0.260840</td>\n",
       "      <td>0.067909</td>\n",
       "      <td>...</td>\n",
       "      <td>0.120762</td>\n",
       "      <td>0.190266</td>\n",
       "      <td>0.241094</td>\n",
       "      <td>0.068374</td>\n",
       "      <td>0.032793</td>\n",
       "      <td>0.020409</td>\n",
       "      <td>-0.140822</td>\n",
       "      <td>-0.062066</td>\n",
       "      <td>0.034782</td>\n",
       "      <td>1.000000</td>\n",
       "    </tr>\n",
       "  </tbody>\n",
       "</table>\n",
       "<p>23 rows × 23 columns</p>\n",
       "</div>"
      ],
      "text/plain": [
       "                          grade      male  preschool  expectBachelors  \\\n",
       "grade                  1.000000 -0.089213  -0.011200         0.148041   \n",
       "male                  -0.089213  1.000000   0.005507        -0.088671   \n",
       "preschool             -0.011200  0.005507   1.000000         0.095978   \n",
       "expectBachelors        0.148041 -0.088671   0.095978         1.000000   \n",
       "motherHS               0.028976  0.031166   0.140893         0.109735   \n",
       "motherBachelors        0.043972  0.048206   0.154680         0.174178   \n",
       "motherWork             0.042522 -0.016717   0.069062         0.070219   \n",
       "fatherHS               0.068751  0.016752   0.137600         0.151738   \n",
       "fatherBachelors        0.056805  0.057838   0.146597         0.208115   \n",
       "fatherWork             0.010012  0.030472   0.054756         0.023476   \n",
       "selfBornUS            -0.015076  0.013215   0.093149        -0.002508   \n",
       "motherBornUS          -0.062865  0.002977   0.110534         0.009766   \n",
       "fatherBornUS          -0.057618  0.012652   0.113289         0.009201   \n",
       "englishAtHome         -0.009583 -0.005748   0.122812         0.035530   \n",
       "computerForSchoolwork  0.105568 -0.028993   0.094145         0.132233   \n",
       "read30MinsADay         0.065484 -0.214101  -0.003884         0.125497   \n",
       "minutesPerWeekEnglish  0.045747  0.009808  -0.012829         0.008403   \n",
       "studentsInEnglish      0.074487 -0.036348  -0.030150         0.041987   \n",
       "schoolHasLibrary      -0.016703  0.022453   0.029039         0.055405   \n",
       "publicSchool          -0.059306 -0.075265  -0.076767        -0.113289   \n",
       "urban                  0.080561  0.016113  -0.056366         0.006144   \n",
       "schoolSize             0.063289 -0.004586  -0.024381         0.021538   \n",
       "readingScore           0.272413 -0.145303   0.060373         0.359425   \n",
       "\n",
       "                       motherHS  motherBachelors  motherWork  fatherHS  \\\n",
       "grade                  0.028976         0.043972    0.042522  0.068751   \n",
       "male                   0.031166         0.048206   -0.016717  0.016752   \n",
       "preschool              0.140893         0.154680    0.069062  0.137600   \n",
       "expectBachelors        0.109735         0.174178    0.070219  0.151738   \n",
       "motherHS               1.000000         0.252665    0.170211  0.509090   \n",
       "motherBachelors        0.252665         1.000000    0.133704  0.210307   \n",
       "motherWork             0.170211         0.133704    1.000000  0.115492   \n",
       "fatherHS               0.509090         0.210307    0.115492  1.000000   \n",
       "fatherBachelors        0.229883         0.539321    0.046268  0.281755   \n",
       "fatherWork             0.036855         0.067062    0.054015  0.107036   \n",
       "selfBornUS             0.176047         0.028062    0.067138  0.150403   \n",
       "motherBornUS           0.344936         0.140357    0.102452  0.298765   \n",
       "fatherBornUS           0.337395         0.119619    0.094600  0.320266   \n",
       "englishAtHome          0.376071         0.160095    0.121524  0.336876   \n",
       "computerForSchoolwork  0.182245         0.144212    0.091743  0.170892   \n",
       "read30MinsADay         0.020236         0.033012   -0.027740  0.046933   \n",
       "minutesPerWeekEnglish  0.031403         0.017249    0.022426  0.036223   \n",
       "studentsInEnglish     -0.042705        -0.043409   -0.011111 -0.020973   \n",
       "schoolHasLibrary       0.021296         0.022864   -0.007515  0.036179   \n",
       "publicSchool          -0.074333        -0.172575   -0.025414 -0.086946   \n",
       "urban                 -0.116650        -0.040708   -0.027873 -0.100400   \n",
       "schoolSize            -0.089987        -0.007501   -0.047528 -0.083902   \n",
       "readingScore           0.161376         0.213743    0.047248  0.188446   \n",
       "\n",
       "                       fatherBachelors  fatherWork      ...       \\\n",
       "grade                         0.056805    0.010012      ...        \n",
       "male                          0.057838    0.030472      ...        \n",
       "preschool                     0.146597    0.054756      ...        \n",
       "expectBachelors               0.208115    0.023476      ...        \n",
       "motherHS                      0.229883    0.036855      ...        \n",
       "motherBachelors               0.539321    0.067062      ...        \n",
       "motherWork                    0.046268    0.054015      ...        \n",
       "fatherHS                      0.281755    0.107036      ...        \n",
       "fatherBachelors               1.000000    0.108559      ...        \n",
       "fatherWork                    0.108559    1.000000      ...        \n",
       "selfBornUS                   -0.008772   -0.024228      ...        \n",
       "motherBornUS                  0.068955   -0.004170      ...        \n",
       "fatherBornUS                  0.072586   -0.007727      ...        \n",
       "englishAtHome                 0.125238    0.013639      ...        \n",
       "computerForSchoolwork         0.172355    0.083243      ...        \n",
       "read30MinsADay                0.057101   -0.012241      ...        \n",
       "minutesPerWeekEnglish         0.008416    0.023599      ...        \n",
       "studentsInEnglish            -0.031457    0.003508      ...        \n",
       "schoolHasLibrary              0.006428   -0.003134      ...        \n",
       "publicSchool                 -0.188413   -0.020203      ...        \n",
       "urban                        -0.007594   -0.029030      ...        \n",
       "schoolSize                    0.031286   -0.022164      ...        \n",
       "readingScore                  0.260840    0.067909      ...        \n",
       "\n",
       "                       englishAtHome  computerForSchoolwork  read30MinsADay  \\\n",
       "grade                      -0.009583               0.105568        0.065484   \n",
       "male                       -0.005748              -0.028993       -0.214101   \n",
       "preschool                   0.122812               0.094145       -0.003884   \n",
       "expectBachelors             0.035530               0.132233        0.125497   \n",
       "motherHS                    0.376071               0.182245        0.020236   \n",
       "motherBachelors             0.160095               0.144212        0.033012   \n",
       "motherWork                  0.121524               0.091743       -0.027740   \n",
       "fatherHS                    0.336876               0.170892        0.046933   \n",
       "fatherBachelors             0.125238               0.172355        0.057101   \n",
       "fatherWork                  0.013639               0.083243       -0.012241   \n",
       "selfBornUS                  0.468425               0.010185       -0.010905   \n",
       "motherBornUS                0.653097               0.011331       -0.002979   \n",
       "fatherBornUS                0.633340               0.026298        0.009739   \n",
       "englishAtHome               1.000000               0.071950        0.008428   \n",
       "computerForSchoolwork       0.071950               1.000000       -0.015438   \n",
       "read30MinsADay              0.008428              -0.015438        1.000000   \n",
       "minutesPerWeekEnglish       0.003802               0.004469        0.020766   \n",
       "studentsInEnglish          -0.069967               0.052001        0.008379   \n",
       "schoolHasLibrary           -0.005857               0.008955        0.010067   \n",
       "publicSchool               -0.038667              -0.074288        0.003405   \n",
       "urban                      -0.215128               0.023242        0.029070   \n",
       "schoolSize                 -0.204354               0.066941       -0.007225   \n",
       "readingScore                0.120762               0.190266        0.241094   \n",
       "\n",
       "                       minutesPerWeekEnglish  studentsInEnglish  \\\n",
       "grade                               0.045747           0.074487   \n",
       "male                                0.009808          -0.036348   \n",
       "preschool                          -0.012829          -0.030150   \n",
       "expectBachelors                     0.008403           0.041987   \n",
       "motherHS                            0.031403          -0.042705   \n",
       "motherBachelors                     0.017249          -0.043409   \n",
       "motherWork                          0.022426          -0.011111   \n",
       "fatherHS                            0.036223          -0.020973   \n",
       "fatherBachelors                     0.008416          -0.031457   \n",
       "fatherWork                          0.023599           0.003508   \n",
       "selfBornUS                          0.004834          -0.036692   \n",
       "motherBornUS                        0.022577          -0.094795   \n",
       "fatherBornUS                        0.015979          -0.086160   \n",
       "englishAtHome                       0.003802          -0.069967   \n",
       "computerForSchoolwork               0.004469           0.052001   \n",
       "read30MinsADay                      0.020766           0.008379   \n",
       "minutesPerWeekEnglish               1.000000           0.040743   \n",
       "studentsInEnglish                   0.040743           1.000000   \n",
       "schoolHasLibrary                   -0.000751           0.055911   \n",
       "publicSchool                        0.042140           0.084035   \n",
       "urban                              -0.045861           0.161696   \n",
       "schoolSize                          0.006433           0.252567   \n",
       "readingScore                        0.068374           0.032793   \n",
       "\n",
       "                       schoolHasLibrary  publicSchool     urban  schoolSize  \\\n",
       "grade                         -0.016703     -0.059306  0.080561    0.063289   \n",
       "male                           0.022453     -0.075265  0.016113   -0.004586   \n",
       "preschool                      0.029039     -0.076767 -0.056366   -0.024381   \n",
       "expectBachelors                0.055405     -0.113289  0.006144    0.021538   \n",
       "motherHS                       0.021296     -0.074333 -0.116650   -0.089987   \n",
       "motherBachelors                0.022864     -0.172575 -0.040708   -0.007501   \n",
       "motherWork                    -0.007515     -0.025414 -0.027873   -0.047528   \n",
       "fatherHS                       0.036179     -0.086946 -0.100400   -0.083902   \n",
       "fatherBachelors                0.006428     -0.188413 -0.007594    0.031286   \n",
       "fatherWork                    -0.003134     -0.020203 -0.029030   -0.022164   \n",
       "selfBornUS                    -0.012363     -0.039766 -0.116324   -0.133465   \n",
       "motherBornUS                   0.001285      0.018613 -0.286551   -0.244124   \n",
       "fatherBornUS                   0.003341      0.023054 -0.294878   -0.248009   \n",
       "englishAtHome                 -0.005857     -0.038667 -0.215128   -0.204354   \n",
       "computerForSchoolwork          0.008955     -0.074288  0.023242    0.066941   \n",
       "read30MinsADay                 0.010067      0.003405  0.029070   -0.007225   \n",
       "minutesPerWeekEnglish         -0.000751      0.042140 -0.045861    0.006433   \n",
       "studentsInEnglish              0.055911      0.084035  0.161696    0.252567   \n",
       "schoolHasLibrary               1.000000      0.054164 -0.110345    0.019449   \n",
       "publicSchool                   0.054164      1.000000 -0.261065    0.233649   \n",
       "urban                         -0.110345     -0.261065  1.000000    0.331002   \n",
       "schoolSize                     0.019449      0.233649  0.331002    1.000000   \n",
       "readingScore                   0.020409     -0.140822 -0.062066    0.034782   \n",
       "\n",
       "                       readingScore  \n",
       "grade                      0.272413  \n",
       "male                      -0.145303  \n",
       "preschool                  0.060373  \n",
       "expectBachelors            0.359425  \n",
       "motherHS                   0.161376  \n",
       "motherBachelors            0.213743  \n",
       "motherWork                 0.047248  \n",
       "fatherHS                   0.188446  \n",
       "fatherBachelors            0.260840  \n",
       "fatherWork                 0.067909  \n",
       "selfBornUS                 0.039097  \n",
       "motherBornUS               0.066411  \n",
       "fatherBornUS               0.085264  \n",
       "englishAtHome              0.120762  \n",
       "computerForSchoolwork      0.190266  \n",
       "read30MinsADay             0.241094  \n",
       "minutesPerWeekEnglish      0.068374  \n",
       "studentsInEnglish          0.032793  \n",
       "schoolHasLibrary           0.020409  \n",
       "publicSchool              -0.140822  \n",
       "urban                     -0.062066  \n",
       "schoolSize                 0.034782  \n",
       "readingScore               1.000000  \n",
       "\n",
       "[23 rows x 23 columns]"
      ]
     },
     "execution_count": 244,
     "metadata": {},
     "output_type": "execute_result"
    }
   ],
   "source": [
    "# correlation\n",
    "corDf = allData.corr(method='pearson')\n",
    "corDf"
   ]
  },
  {
   "cell_type": "code",
   "execution_count": 245,
   "metadata": {
    "collapsed": false
   },
   "outputs": [
    {
     "data": {
      "text/plain": [
       "[('motherHS', 'fatherHS'),\n",
       " ('motherBachelors', 'fatherBachelors'),\n",
       " ('motherBornUS', 'fatherBornUS'),\n",
       " ('motherBornUS', 'englishAtHome'),\n",
       " ('fatherBornUS', 'englishAtHome')]"
      ]
     },
     "execution_count": 245,
     "metadata": {},
     "output_type": "execute_result"
    }
   ],
   "source": [
    "indices = np.where(corDf > 0.5)\n",
    "indices = [(corDf.index[x], corDf.columns[y]) for x, y in zip(*indices)\n",
    "                                        if x != y and x < y]\n",
    "indices"
   ]
  },
  {
   "cell_type": "markdown",
   "metadata": {},
   "source": [
    "### Exploratory Visualization"
   ]
  },
  {
   "cell_type": "code",
   "execution_count": 246,
   "metadata": {
    "collapsed": true
   },
   "outputs": [],
   "source": [
    "import matplotlib.pyplot as plt\n",
    "%matplotlib inline"
   ]
  },
  {
   "cell_type": "markdown",
   "metadata": {},
   "source": [
    "#### Unimodal Data Visualizations\n",
    "Histograms of each attribute toget a sense of the data distributions."
   ]
  },
  {
   "cell_type": "code",
   "execution_count": null,
   "metadata": {
    "collapsed": false
   },
   "outputs": [],
   "source": [
    "\n"
   ]
  },
  {
   "cell_type": "code",
   "execution_count": 247,
   "metadata": {
    "collapsed": false
   },
   "outputs": [
    {
     "data": {
      "image/png": "[encoded data removed]",
      "text/plain": [
       "<matplotlib.figure.Figure at 0xeab74a8>"
      ]
     },
     "metadata": {},
     "output_type": "display_data"
    },
    {
     "data": {
      "image/png": "[encoded data removed]",
      "text/plain": [
       "<matplotlib.figure.Figure at 0x1433a7f0>"
      ]
     },
     "metadata": {},
     "output_type": "display_data"
    },
    {
     "data": {
      "image/png": "[encoded data removed]",
      "text/plain": [
       "<matplotlib.figure.Figure at 0xf23d438>"
      ]
     },
     "metadata": {},
     "output_type": "display_data"
    },
    {
     "data": {
      "image/png": "[encoded data removed]",
      "text/plain": [
       "<matplotlib.figure.Figure at 0xc090dd8>"
      ]
     },
     "metadata": {},
     "output_type": "display_data"
    }
   ],
   "source": [
    "### Unimodal Data Visualizations\n",
    "allData['readingScore'].hist()\n",
    "allData[contFeatures].hist(sharex=False, sharey=False, xlabelsize=1, ylabelsize=1)\n",
    "allData[binaryFeatures[:9]].hist(sharex=False, sharey=False, xlabelsize=1, ylabelsize=1)\n",
    "allData[binaryFeatures[9:]].hist(sharex=False, sharey=False, xlabelsize=1, ylabelsize=1)\n",
    "\n",
    "plt.show()"
   ]
  },
  {
   "cell_type": "markdown",
   "metadata": {},
   "source": [
    "The target variable **readingScore** has a normal distribution. The variables **schoolSize** and **minutesPerWeekEnglish** shows some skewness."
   ]
  },
  {
   "cell_type": "code",
   "execution_count": 248,
   "metadata": {
    "collapsed": false
   },
   "outputs": [
    {
     "data": {
      "image/png": "[encoded data removed]",
      "text/plain": [
       "<matplotlib.figure.Figure at 0x9fc4f60>"
      ]
     },
     "metadata": {},
     "output_type": "display_data"
    }
   ],
   "source": [
    "# box and whisker plots\n",
    "allData[contFeatures].plot(kind='box', subplots=True, layout=(2,2), sharex=False, sharey=False,\n",
    "fontsize=8)\n",
    "plt.show()"
   ]
  },
  {
   "cell_type": "markdown",
   "metadata": {},
   "source": [
    "The box and whisker plots helps to see the outliers"
   ]
  },
  {
   "cell_type": "code",
   "execution_count": 249,
   "metadata": {
    "collapsed": false
   },
   "outputs": [
    {
     "data": {
      "image/png": "[encoded data removed]",
      "text/plain": [
       "<matplotlib.figure.Figure at 0xda77160>"
      ]
     },
     "metadata": {},
     "output_type": "display_data"
    }
   ],
   "source": [
    "# correlation matrix\n",
    "fig = plt.figure(figsize=(10,10))\n",
    "ax = fig.add_subplot(111)\n",
    "cax = ax.matshow(allData.corr(), vmin=-1, vmax=1, interpolation='none')\n",
    "fig.colorbar(cax)\n",
    "ticks = np.arange(0,24,1)\n",
    "ax.set_xticks(ticks)\n",
    "ax.set_yticks(ticks)\n",
    "ax.set_xticklabels(allData.columns.values)\n",
    "ax.set_yticklabels(allData.columns.values)\n",
    "\n",
    "plt.show()"
   ]
  },
  {
   "cell_type": "markdown",
   "metadata": {},
   "source": [
    "The dark red color shows positive correlations whereas the dark blue color shows negative correlation.\n",
    "\n",
    "Most correlations observed are:\n",
    "* 'motherHS' and 'fatherHS'\n",
    "* 'motherBachelors' and 'fatherBachelors'\n",
    "* 'motherBornUS' and 'fatherBornUS'\n",
    "* 'motherBornUS' and 'englishAtHome'\n",
    "* 'fatherBornUS' and 'englishAtHome'"
   ]
  },
  {
   "cell_type": "markdown",
   "metadata": {},
   "source": [
    "### Algorithms and Techniques"
   ]
  },
  {
   "cell_type": "code",
   "execution_count": null,
   "metadata": {
    "collapsed": true
   },
   "outputs": [],
   "source": []
  },
  {
   "cell_type": "markdown",
   "metadata": {},
   "source": [
    "### Benchmark"
   ]
  },
  {
   "cell_type": "code",
   "execution_count": 250,
   "metadata": {
    "collapsed": false
   },
   "outputs": [
    {
     "data": {
      "text/plain": [
       "<matplotlib.axes._subplots.AxesSubplot at 0xc633358>"
      ]
     },
     "execution_count": 250,
     "metadata": {},
     "output_type": "execute_result"
    },
    {
     "data": {
      "image/png": "[encoded data removed]",
      "text/plain": [
       "<matplotlib.figure.Figure at 0xdbea080>"
      ]
     },
     "metadata": {},
     "output_type": "display_data"
    }
   ],
   "source": [
    "allData['readingScore'].hist()"
   ]
  },
  {
   "cell_type": "code",
   "execution_count": 251,
   "metadata": {
    "collapsed": false
   },
   "outputs": [
    {
     "name": "stdout",
     "output_type": "stream",
     "text": [
      "mean score: 497.911403221\n",
      "train benchmark RMSE using mean: 95.5021145158\n"
     ]
    }
   ],
   "source": [
    "meanScore = np.mean(pisaTrain.readingScore)\n",
    "print 'mean score:', meanScore\n",
    "trainMeanRMSE = np.sqrt(np.mean((meanScore - pisaTrain.readingScore)**2))\n",
    "print 'train benchmark RMSE using mean:', trainMeanRMSE"
   ]
  },
  {
   "cell_type": "code",
   "execution_count": 252,
   "metadata": {
    "collapsed": false
   },
   "outputs": [
    {
     "name": "stdout",
     "output_type": "stream",
     "text": [
      "median score: 499.58\n",
      "benchmark RMSE using meadian: 95.6104555124\n"
     ]
    }
   ],
   "source": [
    "medianScore = np.median(allData.readingScore)\n",
    "print 'median score:', medianScore\n",
    "medianRMSE = np.sqrt(np.mean((allData.readingScore - medianScore)**2))\n",
    "print 'benchmark RMSE using meadian:', medianRMSE"
   ]
  },
  {
   "cell_type": "markdown",
   "metadata": {},
   "source": [
    "## III. Methodology\n",
    "(3-5 pages)"
   ]
  },
  {
   "cell_type": "markdown",
   "metadata": {},
   "source": [
    "### Data Preprocessing"
   ]
  },
  {
   "cell_type": "markdown",
   "metadata": {},
   "source": [
    "#### Handling missing values"
   ]
  },
  {
   "cell_type": "code",
   "execution_count": 253,
   "metadata": {
    "collapsed": false
   },
   "outputs": [
    {
     "data": {
      "text/plain": [
       "grade                      0\n",
       "male                       0\n",
       "raceeth                   48\n",
       "preschool                 77\n",
       "expectBachelors           85\n",
       "motherHS                 142\n",
       "motherBachelors          585\n",
       "motherWork               129\n",
       "fatherHS                 370\n",
       "fatherBachelors          857\n",
       "fatherWork               346\n",
       "selfBornUS                93\n",
       "motherBornUS              94\n",
       "fatherBornUS             171\n",
       "englishAtHome             98\n",
       "computerForSchoolwork     95\n",
       "read30MinsADay            55\n",
       "minutesPerWeekEnglish    289\n",
       "studentsInEnglish        363\n",
       "schoolHasLibrary         201\n",
       "publicSchool               0\n",
       "urban                      0\n",
       "schoolSize               231\n",
       "readingScore               0\n",
       "dtype: int64"
      ]
     },
     "execution_count": 253,
     "metadata": {},
     "output_type": "execute_result"
    }
   ],
   "source": [
    "allData.isnull().sum()"
   ]
  },
  {
   "cell_type": "code",
   "execution_count": 254,
   "metadata": {
    "collapsed": false
   },
   "outputs": [],
   "source": [
    "# For continuous variables replace the missing data with average of columns\n",
    "#minutesPerWeekEnglish\n",
    "#studentsInEnglish\n",
    "#schoolSize\n",
    "\n",
    "allData['minutesPerWeekEnglish'].fillna(int(allData['minutesPerWeekEnglish'].mean()), inplace=True)\n",
    "allData['studentsInEnglish'].fillna(int(allData['studentsInEnglish'].mean()), inplace=True)\n",
    "allData['schoolSize'].fillna(int(allData['schoolSize'].mean()), inplace=True)"
   ]
  },
  {
   "cell_type": "code",
   "execution_count": null,
   "metadata": {
    "collapsed": true
   },
   "outputs": [],
   "source": []
  },
  {
   "cell_type": "code",
   "execution_count": 255,
   "metadata": {
    "collapsed": false
   },
   "outputs": [
    {
     "data": {
      "text/plain": [
       "White                                     2894\n",
       "Hispanic                                  1184\n",
       "Black                                      635\n",
       "Asian                                      204\n",
       "More than one race                         177\n",
       "American Indian/Alaska Native               51\n",
       "Native Hawaiian/Other Pacific Islander      40\n",
       "Name: raceeth, dtype: int64"
      ]
     },
     "execution_count": 255,
     "metadata": {},
     "output_type": "execute_result"
    }
   ],
   "source": [
    "allData['raceeth'].value_counts()"
   ]
  },
  {
   "cell_type": "code",
   "execution_count": 256,
   "metadata": {
    "collapsed": false
   },
   "outputs": [],
   "source": [
    "allData['raceeth'].fillna('White', inplace=True)\n",
    "# fill every column with its own most frequent value\n",
    "allData = allData.apply(lambda x:x.fillna(x.value_counts().index[0]))"
   ]
  },
  {
   "cell_type": "code",
   "execution_count": 257,
   "metadata": {
    "collapsed": false
   },
   "outputs": [
    {
     "data": {
      "text/plain": [
       "grade                    0\n",
       "male                     0\n",
       "raceeth                  0\n",
       "preschool                0\n",
       "expectBachelors          0\n",
       "motherHS                 0\n",
       "motherBachelors          0\n",
       "motherWork               0\n",
       "fatherHS                 0\n",
       "fatherBachelors          0\n",
       "fatherWork               0\n",
       "selfBornUS               0\n",
       "motherBornUS             0\n",
       "fatherBornUS             0\n",
       "englishAtHome            0\n",
       "computerForSchoolwork    0\n",
       "read30MinsADay           0\n",
       "minutesPerWeekEnglish    0\n",
       "studentsInEnglish        0\n",
       "schoolHasLibrary         0\n",
       "publicSchool             0\n",
       "urban                    0\n",
       "schoolSize               0\n",
       "readingScore             0\n",
       "dtype: int64"
      ]
     },
     "execution_count": 257,
     "metadata": {},
     "output_type": "execute_result"
    }
   ],
   "source": [
    "allData.isnull().sum()"
   ]
  },
  {
   "cell_type": "markdown",
   "metadata": {},
   "source": [
    "#### First model"
   ]
  },
  {
   "cell_type": "code",
   "execution_count": 258,
   "metadata": {
    "collapsed": false
   },
   "outputs": [],
   "source": [
    "allData = allData.drop('readingScore', axis=1)\n",
    "y_train = pisaTrain['readingScore'].values\n",
    "y_test = pisaTest['readingScore'].values"
   ]
  },
  {
   "cell_type": "code",
   "execution_count": 259,
   "metadata": {
    "collapsed": false
   },
   "outputs": [
    {
     "name": "stdout",
     "output_type": "stream",
     "text": [
      "LR: 95.320775 (2.140909) r2: 0.000591 (0.010669)\n",
      "LASSO: 95.321018 (2.137245) r2: 0.000585 (0.010590)\n",
      "EN: 95.320507 (2.138220) r2: 0.000596 (0.010613)\n",
      "KNN: 93.033379 (2.539355) r2: 0.047763 (0.031063)\n",
      "CART: 112.533479 (4.224706) r2: -0.409121 (0.093383)\n",
      "SVR: 95.185780 (1.937003) r2: 0.003370 (0.005839)\n"
     ]
    },
    {
     "data": {
      "text/plain": [
       "([array([ 96.86681116,  91.7225696 ,  99.26337987,  97.14329749,\n",
       "          95.82081634,  96.06795686,  95.63919672,  93.06978897,\n",
       "          94.53908754,  93.07484634]),\n",
       "  array([ 96.86621906,  91.72248685,  99.25094666,  97.13166844,\n",
       "          95.81873345,  96.0862667 ,  95.64564133,  93.07144851,\n",
       "          94.53051364,  93.08625991]),\n",
       "  array([ 96.86632337,  91.72245901,  99.25405356,  97.13477313,\n",
       "          95.81919987,  96.07903564,  95.64346768,  93.07087764,\n",
       "          94.53272382,  93.08215831]),\n",
       "  array([ 96.63608999,  89.62300658,  94.44542082,  94.54499641,\n",
       "          97.40736859,  92.96427393,  92.53193944,  90.57347437,\n",
       "          91.12870486,  90.47851787]),\n",
       "  array([ 119.49047922,  110.53800647,  116.36610005,  107.11844306,\n",
       "          119.16118707,  113.10136298,  110.02008157,  110.2408719 ,\n",
       "          107.45517658,  111.84308407]),\n",
       "  array([ 96.91453367,  91.78338169,  98.52516387,  95.91185266,\n",
       "          96.33261697,  96.25426432,  95.30993372,  93.06580276,\n",
       "          94.55099735,  93.20925234])],\n",
       " ['LR', 'LASSO', 'EN', 'KNN', 'CART', 'SVR'])"
      ]
     },
     "execution_count": 259,
     "metadata": {},
     "output_type": "execute_result"
    }
   ],
   "source": [
    "subset = allData[contFeatures]\n",
    "X_train = subset.iloc[:pisaTrain.shape[0],:].values\n",
    "\n",
    "do_cross_validation(X_train, y_train)"
   ]
  },
  {
   "cell_type": "code",
   "execution_count": 260,
   "metadata": {
    "collapsed": false
   },
   "outputs": [
    {
     "name": "stdout",
     "output_type": "stream",
     "text": [
      "LR: 82.266996 (1.289424) r2: 0.255115 (0.021557)\n",
      "LASSO: 82.686933 (1.175312) r2: 0.247596 (0.016341)\n",
      "EN: 88.154816 (1.658685) r2: 0.145070 (0.010008)\n",
      "KNN: 92.537131 (2.002172) r2: 0.057779 (0.025820)\n",
      "CART: 114.113216 (3.440083) r2: -0.422023 (0.118433)\n",
      "SVR: 95.029719 (1.931375) r2: 0.006635 (0.005659)\n"
     ]
    },
    {
     "data": {
      "text/plain": [
       "([array([ 84.26793554,  80.63907908,  84.33368058,  82.36327422,\n",
       "          81.34054811,  81.73877293,  83.04769944,  80.31885422,\n",
       "          82.58027496,  82.03984129]),\n",
       "  array([ 84.3895413 ,  80.77217287,  84.60523479,  83.10194971,\n",
       "          82.302664  ,  82.49654354,  83.38952145,  81.26010866,\n",
       "          82.69102545,  81.86056533]),\n",
       "  array([ 89.49356589,  85.37944684,  90.93895162,  89.43093665,\n",
       "          88.42037732,  88.49844156,  89.17876783,  86.27180548,\n",
       "          87.6881289 ,  86.247737  ]),\n",
       "  array([ 94.61754416,  88.51014429,  93.74817315,  94.46204884,\n",
       "          95.34593357,  93.2434786 ,  91.63774793,  91.14498146,\n",
       "          90.9283231 ,  91.73293127]),\n",
       "  array([ 109.63923785,  120.24766709,  111.78189435,  115.16177283,\n",
       "          117.03462067,  112.07128573,  110.98243605,  117.76962365,\n",
       "          116.1110048 ,  110.33262141]),\n",
       "  array([ 96.73532089,  91.63295208,  98.34211661,  95.76723399,\n",
       "          96.18413828,  96.10102992,  95.18615437,  92.92015731,\n",
       "          94.39300576,  93.03508312])],\n",
       " ['LR', 'LASSO', 'EN', 'KNN', 'CART', 'SVR'])"
      ]
     },
     "execution_count": 260,
     "metadata": {},
     "output_type": "execute_result"
    }
   ],
   "source": [
    "subset = allData[contFeatures+binaryFeatures]\n",
    "X_train = subset.iloc[:pisaTrain.shape[0],:].values\n",
    "\n",
    "do_cross_validation(X_train, y_train)"
   ]
  },
  {
   "cell_type": "code",
   "execution_count": null,
   "metadata": {
    "collapsed": true
   },
   "outputs": [],
   "source": []
  },
  {
   "cell_type": "markdown",
   "metadata": {},
   "source": [
    "#### Create dummy variables for category fields"
   ]
  },
  {
   "cell_type": "code",
   "execution_count": 261,
   "metadata": {
    "collapsed": false
   },
   "outputs": [],
   "source": [
    "temp = pd.get_dummies(allData['raceeth'], 'raceeth')\n",
    "allData = pd.concat([allData, temp], axis=1)\n",
    "allData = allData.drop('raceeth', axis=1)"
   ]
  },
  {
   "cell_type": "code",
   "execution_count": 265,
   "metadata": {
    "collapsed": false
   },
   "outputs": [
    {
     "name": "stdout",
     "output_type": "stream",
     "text": [
      "LR: 76.630581 (1.977851) r2: 0.352794 (0.043351)\n",
      "LASSO: 77.259481 (1.530570) r2: 0.342425 (0.036208)\n",
      "EN: 84.145353 (1.387755) r2: 0.220856 (0.017844)\n",
      "KNN: 92.300244 (1.822065) r2: 0.062444 (0.028379)\n",
      "CART: 107.845256 (3.688387) r2: -0.291261 (0.121993)\n",
      "SVR: 94.973852 (1.934506) r2: 0.007805 (0.005606)\n"
     ]
    }
   ],
   "source": [
    "\n",
    "X_train = allData.iloc[:pisaTrain.shape[0],:].values\n",
    "\n",
    "_ = do_cross_validation(X_train, y_train)"
   ]
  },
  {
   "cell_type": "markdown",
   "metadata": {},
   "source": [
    "#### Data transformations"
   ]
  },
  {
   "cell_type": "code",
   "execution_count": 263,
   "metadata": {
    "collapsed": false
   },
   "outputs": [
    {
     "data": {
      "text/plain": [
       "array([[<matplotlib.axes._subplots.AxesSubplot object at 0x00000000145F8DA0>,\n",
       "        <matplotlib.axes._subplots.AxesSubplot object at 0x0000000019F66E10>],\n",
       "       [<matplotlib.axes._subplots.AxesSubplot object at 0x0000000011F60780>,\n",
       "        <matplotlib.axes._subplots.AxesSubplot object at 0x0000000019071828>]], dtype=object)"
      ]
     },
     "execution_count": 263,
     "metadata": {},
     "output_type": "execute_result"
    },
    {
     "data": {
      "image/png": "[encoded data removed]",
      "text/plain": [
       "<matplotlib.figure.Figure at 0x145a9fd0>"
      ]
     },
     "metadata": {},
     "output_type": "display_data"
    }
   ],
   "source": [
    "allData[contFeatures].hist()"
   ]
  },
  {
   "cell_type": "code",
   "execution_count": 237,
   "metadata": {
    "collapsed": false
   },
   "outputs": [],
   "source": [
    "# log transformations - No improvements\n",
    "#np.log(allData['schoolSize']).hist()\n",
    "#allData['schoolSize'] = np.log(allData['schoolSize'])\n",
    "#np.log1p(allData['minutesPerWeekEnglish']).hist()\n",
    "#allData['minutesPerWeekEnglish'] = np.log1p(allData['minutesPerWeekEnglish'])"
   ]
  },
  {
   "cell_type": "markdown",
   "metadata": {},
   "source": [
    "### Implementation"
   ]
  },
  {
   "cell_type": "code",
   "execution_count": 270,
   "metadata": {
    "collapsed": false
   },
   "outputs": [
    {
     "name": "stdout",
     "output_type": "stream",
     "text": [
      "ScaledLR: 76.632614 (1.976359)\n",
      "ScaledLASSO: 76.665276 (1.783048)\n",
      "ScaledEN: 77.810741 (1.381076)\n",
      "ScaledKNN: 83.944405 (1.158198)\n",
      "ScaledCART: 107.224323 (3.534628)\n",
      "ScaledSVR: 83.631208 (1.520350)\n"
     ]
    }
   ],
   "source": [
    "# Standardize the dataset\n",
    "from sklearn.pipeline import Pipeline\n",
    "from sklearn.preprocessing import StandardScaler\n",
    "pipelines = []\n",
    "pipelines.append(('ScaledLR', Pipeline([('Scaler', StandardScaler()),('LR', LinearRegression())])))\n",
    "pipelines.append(('ScaledLASSO', Pipeline([('Scaler', StandardScaler()),('LASSO', Lasso())])))\n",
    "pipelines.append(('ScaledEN', Pipeline([('Scaler', StandardScaler()),('EN', ElasticNet())])))\n",
    "pipelines.append(('ScaledKNN', Pipeline([('Scaler', StandardScaler()),('KNN', KNeighborsRegressor())])))\n",
    "pipelines.append(('ScaledCART', Pipeline([('Scaler', StandardScaler()),('CART', DecisionTreeRegressor())])))\n",
    "pipelines.append(('ScaledSVR', Pipeline([('Scaler', StandardScaler()),('SVR', SVR())])))\n",
    "results = []\n",
    "names = []\n",
    "for name, model in pipelines:\n",
    "    kfold = KFold(n_splits=num_folds, random_state=seed)\n",
    "    cv_results = np.sqrt(-cross_val_score(model, X_train, y_train, cv=kfold, scoring='neg_mean_squared_error'))\n",
    "    results.append(cv_results)\n",
    "    names.append(name)\n",
    "    msg = \"%s: %f (%f)\" % (name, cv_results.mean(), cv_results.std())\n",
    "    print(msg)"
   ]
  },
  {
   "cell_type": "markdown",
   "metadata": {},
   "source": [
    "#### Ensemble methods"
   ]
  },
  {
   "cell_type": "code",
   "execution_count": 273,
   "metadata": {
    "collapsed": false
   },
   "outputs": [
    {
     "name": "stdout",
     "output_type": "stream",
     "text": [
      "ScaledAB: 78.556915 (1.712257)\n",
      "ScaledGBM: 73.849404 (1.663634)\n",
      "ScaledRF: 81.339322 (1.683551)\n",
      "ScaledET: 89.355451 (2.558072)\n"
     ]
    }
   ],
   "source": [
    "from sklearn.ensemble import RandomForestRegressor\n",
    "from sklearn.ensemble import GradientBoostingRegressor\n",
    "from sklearn.ensemble import ExtraTreesRegressor\n",
    "from sklearn.ensemble import AdaBoostRegressor\n",
    "# ensembles\n",
    "ensembles = []\n",
    "ensembles.append(('ScaledAB', Pipeline([('Scaler', StandardScaler()),('AB', AdaBoostRegressor())])))\n",
    "ensembles.append(('ScaledGBM', Pipeline([('Scaler', StandardScaler()),('GBM', GradientBoostingRegressor())])))\n",
    "ensembles.append(('ScaledRF', Pipeline([('Scaler', StandardScaler()),('RF', RandomForestRegressor())])))\n",
    "ensembles.append(('ScaledET', Pipeline([('Scaler', StandardScaler()),('ET', ExtraTreesRegressor())])))\n",
    "results = []\n",
    "names = []\n",
    "for name, model in ensembles:\n",
    "    kfold = KFold(n_splits=num_folds, random_state=seed)\n",
    "    cv_results = np.sqrt(-cross_val_score(model, X_train, y_train, cv=kfold, scoring=scoring))\n",
    "    results.append(cv_results)\n",
    "    names.append(name)\n",
    "    msg = \"%s: %f (%f)\" % (name, cv_results.mean(), cv_results.std())\n",
    "    print(msg)"
   ]
  },
  {
   "cell_type": "code",
   "execution_count": 274,
   "metadata": {
    "collapsed": false
   },
   "outputs": [
    {
     "data": {
      "image/png": "[encoded data removed]",
      "text/plain": [
       "<matplotlib.figure.Figure at 0x1343eda0>"
      ]
     },
     "metadata": {},
     "output_type": "display_data"
    }
   ],
   "source": [
    "# Compare Algorithms\n",
    "fig = plt.figure()\n",
    "fig.suptitle('Scaled Algorithm Comparison')\n",
    "ax = fig.add_subplot(111)\n",
    "plt.boxplot(results)\n",
    "ax.set_xticklabels(names)\n",
    "plt.show()"
   ]
  },
  {
   "cell_type": "code",
   "execution_count": 282,
   "metadata": {
    "collapsed": false
   },
   "outputs": [
    {
     "name": "stdout",
     "output_type": "stream",
     "text": [
      "74.5031653788\n"
     ]
    }
   ],
   "source": []
  },
  {
   "cell_type": "code",
   "execution_count": null,
   "metadata": {
    "collapsed": true
   },
   "outputs": [],
   "source": []
  },
  {
   "cell_type": "code",
   "execution_count": 119,
   "metadata": {
    "collapsed": false
   },
   "outputs": [
    {
     "data": {
      "text/plain": [
       "0.9589629149446891"
      ]
     },
     "execution_count": 119,
     "metadata": {},
     "output_type": "execute_result"
    }
   ],
   "source": [
    "from sklearn.metrics import r2_score\n",
    "R2 = r2_score(y_test, y_pred)\n",
    "R2"
   ]
  },
  {
   "cell_type": "code",
   "execution_count": null,
   "metadata": {
    "collapsed": true
   },
   "outputs": [],
   "source": []
  },
  {
   "cell_type": "markdown",
   "metadata": {},
   "source": [
    "### Refinement"
   ]
  },
  {
   "cell_type": "code",
   "execution_count": 276,
   "metadata": {
    "collapsed": false
   },
   "outputs": [],
   "source": [
    "from sklearn.model_selection import GridSearchCV\n",
    "# Tune scaled GBM\n",
    "scaler = StandardScaler().fit(X_train)\n",
    "rescaledX = scaler.transform(X_train)\n",
    "param_grid = dict(n_estimators=np.array([50,100,150,200,250,300,350,400]))\n",
    "model = GradientBoostingRegressor(random_state=seed)\n",
    "kfold = KFold(n_splits=num_folds, random_state=seed)\n",
    "grid = GridSearchCV(estimator=model, param_grid=param_grid, scoring=scoring, cv=kfold)\n",
    "grid_result = grid.fit(rescaledX, y_train)"
   ]
  },
  {
   "cell_type": "code",
   "execution_count": 278,
   "metadata": {
    "collapsed": false
   },
   "outputs": [
    {
     "name": "stdout",
     "output_type": "stream",
     "text": [
      "Best: -5411.035078 using {'n_estimators': 150}\n",
      "-5643.057173 (246.481605) with: {'n_estimators': 50}\n",
      "-5456.642265 (246.207844) with: {'n_estimators': 100}\n",
      "-5411.035078 (246.818366) with: {'n_estimators': 150}\n",
      "-5421.718083 (251.228407) with: {'n_estimators': 200}\n",
      "-5429.752125 (253.638443) with: {'n_estimators': 250}\n",
      "-5454.192417 (261.012547) with: {'n_estimators': 300}\n",
      "-5469.757398 (254.138229) with: {'n_estimators': 350}\n",
      "-5500.226638 (257.899595) with: {'n_estimators': 400}\n"
     ]
    }
   ],
   "source": [
    "print(\"Best: %f using %s\" % (grid_result.best_score_, grid_result.best_params_))\n",
    "means = grid_result.cv_results_['mean_test_score']\n",
    "stds = grid_result.cv_results_['std_test_score']\n",
    "params = grid_result.cv_results_['params']\n",
    "for mean, stdev, param in zip(means, stds, params):\n",
    "    print(\"%f (%f) with: %r\" % (mean, stdev, param))"
   ]
  },
  {
   "cell_type": "markdown",
   "metadata": {},
   "source": [
    "## IV. Results\n",
    "(2-3 pages)"
   ]
  },
  {
   "cell_type": "markdown",
   "metadata": {},
   "source": [
    "### Model Evaluation and Validation"
   ]
  },
  {
   "cell_type": "markdown",
   "metadata": {},
   "source": [
    "### Justification"
   ]
  },
  {
   "cell_type": "code",
   "execution_count": 283,
   "metadata": {
    "collapsed": false
   },
   "outputs": [
    {
     "name": "stdout",
     "output_type": "stream",
     "text": [
      "74.5031653788\n"
     ]
    }
   ],
   "source": [
    "# prepare the model\n",
    "scaler = StandardScaler().fit(X_train)\n",
    "rescaledX = scaler.transform(X_train)\n",
    "model = GradientBoostingRegressor(random_state=seed, n_estimators=150)\n",
    "model.fit(rescaledX, y_train)\n",
    "\n",
    "X_test = allData.iloc[pisaTrain.shape[0]:, :]\n",
    "# transform the validation dataset\n",
    "rescaledTestX = scaler.transform(X_test)\n",
    "predictions = model.predict(rescaledTestX)\n",
    "print(mean_squared_error(y_test, predictions)**0.5)"
   ]
  },
  {
   "cell_type": "markdown",
   "metadata": {},
   "source": [
    "## V. Conclusion\n",
    "(1-2 pages)"
   ]
  },
  {
   "cell_type": "markdown",
   "metadata": {},
   "source": [
    "### Free-Form Visualization"
   ]
  },
  {
   "cell_type": "markdown",
   "metadata": {},
   "source": [
    "### Reflection"
   ]
  },
  {
   "cell_type": "markdown",
   "metadata": {},
   "source": [
    "### Improvement"
   ]
  },
  {
   "cell_type": "markdown",
   "metadata": {},
   "source": [
    "### References\n",
    "[1] Berger, Kathleen. Invitation to The Life Span (second ed.). worth. ISBN 978-1-4641-7205-2."
   ]
  }
 ],
 "metadata": {
  "kernelspec": {
   "display_name": "Python 2",
   "language": "python",
   "name": "python2"
  },
  "language_info": {
   "codemirror_mode": {
    "name": "ipython",
    "version": 2
   },
   "file_extension": ".py",
   "mimetype": "text/x-python",
   "name": "python",
   "nbconvert_exporter": "python",
   "pygments_lexer": "ipython2",
   "version": "2.7.11"
  }
 },
 "nbformat": 4,
 "nbformat_minor": 0
}
