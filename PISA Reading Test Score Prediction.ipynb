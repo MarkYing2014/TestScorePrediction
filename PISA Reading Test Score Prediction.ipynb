{
 "cells": [
  {
   "cell_type": "markdown",
   "metadata": {},
   "source": [
    "# Test Score Prediction - PISA 2009\n",
    "\n",
    "Shinto Theruvil Manuel\n",
    "\n",
    "December 2016"
   ]
  },
  {
   "cell_type": "markdown",
   "metadata": {},
   "source": [
    "## I. Definition\n",
    "(1-2 pages)\n",
    "### Project Overview"
   ]
  },
  {
   "cell_type": "markdown",
   "metadata": {},
   "source": [
    "## II. Analysis \n",
    "(2-4 pages)\n",
    "### Data Exploration"
   ]
  },
  {
   "cell_type": "markdown",
   "metadata": {},
   "source": [
    "The datasets **pisa2009train.csv** and **pisa2009test.csv** contain information about the demographics\n",
    "and schools for American students taking the exam, derived from 2009 PISA Public-Use Data Files\n",
    "distributed by the United States National Center for Education Statistics (NCES). While the datasets\n",
    "are not supposed to contain identifying information about students taking the test, by using the\n",
    "data you are bound by the NCES data use agreement, which prohibits any attempt to determine\n",
    "the identity of any student in the datasets.\n"
   ]
  },
  {
   "cell_type": "markdown",
   "metadata": {},
   "source": [
    "#### Fields\n",
    "The datasets have the following variables:\n",
    "* **grade**: The grade in school of the student (most 15-year-olds in America are in 10th grade)\n",
    "* **male**: Whether the student is male (1/0)\n",
    "* **raceeth**: The race/ethnicity composite of the student\n",
    "* **preschool**: Whether the student attended preschool (1/0)\n",
    "* **expectBachelors**: Whether the student expects to obtain a bachelor's degree (1/0)\n",
    "* **motherHS**: Whether the student's mother completed high school (1/0)\n",
    "* **motherBachelors**: Whether the student's mother obtained a bachelor's degree (1/0)\n",
    "* **motherWork**: Whether the student's mother has part-time or full-time work (1/0)\n",
    "* **fatherHS**: Whether the student's father completed high school (1/0)\n",
    "* **fatherBachelors**: Whether the student's father obtained a bachelor's degree (1/0)\n",
    "* **fatherWork**: Whether the student's father has part-time or full-time work (1/0)\n",
    "* **selfBornUS**: Whether the student was born in the United States of America (1/0)\n",
    "* **motherBornUS**: Whether the student's mother was born in the United States of America (1/0)\n",
    "* **fatherBornUS**: Whether the student's father was born in the United States of America (1/0)\n",
    "* **englishAtHome**: Whether the student speaks English at home (1/0)\n",
    "* **computerForSchoolwork**: Whether the student has access to a computer for schoolwork (1/0)\n",
    "* **read30MinsADay**: Whether the student reads for pleasure for 30 minutes/day (1/0)\n",
    "* **minutesPerWeekEnglish**: The number of minutes per week the student spend in English class\n",
    "* **studentsInEnglish**: The number of students in this student's English class at school\n",
    "* **schoolHasLibrary**: Whether this student's school has a library (1/0)\n",
    "* **publicSchool**: Whether this student attends a public school (1/0)\n",
    "* **urban**: Whether this student's school is in an urban area (1/0)\n",
    "* **schoolSize**: The number of students in this student's school\n",
    "* **readingScore**: The student's reading score, on a 1000-point scale (This is the **target** variable)"
   ]
  },
  {
   "cell_type": "markdown",
   "metadata": {},
   "source": [
    "Lets examine the predictor variables:\n",
    "\n",
    "** Categorical fields with order**\n",
    "* grade \n",
    "\n",
    "**Categorical fields without order**\n",
    "* raceeth\n",
    "\n",
    "**Conitnueous variables**\n",
    "* studentsInEnglish\n",
    "* minutesPerWeekEnglish\n",
    "* schoolSize\n",
    "\n",
    "**Binary varibles**\n",
    "* male\n",
    "* preschool\n",
    "* expectBachelors\n",
    "* motherHS\n",
    "* motherWork\n",
    "* fatherHS\n",
    "* fatherBachelors\n",
    "* fatherWork\n",
    "* selfBornUS\n",
    "* englishAtHome\n",
    "* computerForSchoolwork\n",
    "* read30MinsADay\n",
    "* schoolHasLibrary\n",
    "* publicSchool\n",
    "* urban"
   ]
  },
  {
   "cell_type": "code",
   "execution_count": 522,
   "metadata": {
    "collapsed": true
   },
   "outputs": [],
   "source": [
    "# import all required libraries\n",
    "import pandas as pd\n",
    "import numpy as np\n",
    "from sklearn.model_selection import KFold\n",
    "from sklearn.model_selection import cross_val_score\n",
    "from sklearn.model_selection import GridSearchCV\n",
    "from sklearn.linear_model import LinearRegression\n",
    "from sklearn.linear_model import Lasso\n",
    "from sklearn.linear_model import ElasticNet\n",
    "from sklearn.tree import DecisionTreeRegressor\n",
    "from sklearn.neighbors import KNeighborsRegressor\n",
    "from sklearn.svm import SVR"
   ]
  },
  {
   "cell_type": "code",
   "execution_count": 523,
   "metadata": {
    "collapsed": false
   },
   "outputs": [],
   "source": [
    "# Cross validation framework\n",
    "def do_cross_validation(X, y, scoring = 'neg_mean_squared_error'):\n",
    "    models = []\n",
    "    models.append(('LR', LinearRegression()))\n",
    "    models.append(('LASSO', Lasso()))\n",
    "    models.append(('EN', ElasticNet()))\n",
    "    models.append(('KNN', KNeighborsRegressor()))\n",
    "    models.append(('CART', DecisionTreeRegressor()))\n",
    "    models.append(('SVR', SVR()))\n",
    "    results = []\n",
    "    results_r2 = []\n",
    "    names = []\n",
    "    for name, model in models:\n",
    "        kfold = KFold(n_splits=10, random_state=7)\n",
    "        cv_results = np.sqrt(-cross_val_score(model, X_train, y_train, cv=kfold, scoring=scoring))\n",
    "        cv_results_r2 = cross_val_score(model, X_train, y_train, cv=kfold, scoring='r2')\n",
    "        results.append(cv_results)\n",
    "        names.append(name)\n",
    "        msg = \"%s: %f (%f) r2: %f (%f)\" % \\\n",
    "        (name, cv_results.mean(), cv_results.std(), cv_results_r2.mean(), cv_results_r2.std())\n",
    "        print(msg)\n",
    "    return results, names\n"
   ]
  },
  {
   "cell_type": "markdown",
   "metadata": {},
   "source": [
    "#### Dataset Size\n"
   ]
  },
  {
   "cell_type": "code",
   "execution_count": 524,
   "metadata": {
    "collapsed": false
   },
   "outputs": [
    {
     "name": "stdout",
     "output_type": "stream",
     "text": [
      "('Shape of training set: ', (3663, 24))\n",
      "('Shape of test set: ', (1570, 24))\n"
     ]
    }
   ],
   "source": [
    "pisaTrain = pd.read_csv('pisa2009train.csv')\n",
    "pisaTest = pd.read_csv('pisa2009test.csv')\n",
    "print('Shape of training set: ',pisaTrain.shape)\n",
    "print('Shape of test set: ', pisaTest.shape)"
   ]
  },
  {
   "cell_type": "markdown",
   "metadata": {},
   "source": [
    "#### Preview of dataset"
   ]
  },
  {
   "cell_type": "code",
   "execution_count": 525,
   "metadata": {
    "collapsed": false,
    "scrolled": true
   },
   "outputs": [
    {
     "data": {
      "text/html": [
       "<div>\n",
       "<table border=\"1\" class=\"dataframe\">\n",
       "  <thead>\n",
       "    <tr style=\"text-align: right;\">\n",
       "      <th></th>\n",
       "      <th>grade</th>\n",
       "      <th>male</th>\n",
       "      <th>raceeth</th>\n",
       "      <th>preschool</th>\n",
       "      <th>expectBachelors</th>\n",
       "      <th>motherHS</th>\n",
       "      <th>motherBachelors</th>\n",
       "      <th>motherWork</th>\n",
       "      <th>fatherHS</th>\n",
       "      <th>fatherBachelors</th>\n",
       "      <th>...</th>\n",
       "      <th>englishAtHome</th>\n",
       "      <th>computerForSchoolwork</th>\n",
       "      <th>read30MinsADay</th>\n",
       "      <th>minutesPerWeekEnglish</th>\n",
       "      <th>studentsInEnglish</th>\n",
       "      <th>schoolHasLibrary</th>\n",
       "      <th>publicSchool</th>\n",
       "      <th>urban</th>\n",
       "      <th>schoolSize</th>\n",
       "      <th>readingScore</th>\n",
       "    </tr>\n",
       "  </thead>\n",
       "  <tbody>\n",
       "    <tr>\n",
       "      <th>0</th>\n",
       "      <td>11</td>\n",
       "      <td>1</td>\n",
       "      <td>NaN</td>\n",
       "      <td>NaN</td>\n",
       "      <td>0.0</td>\n",
       "      <td>NaN</td>\n",
       "      <td>NaN</td>\n",
       "      <td>1.0</td>\n",
       "      <td>NaN</td>\n",
       "      <td>NaN</td>\n",
       "      <td>...</td>\n",
       "      <td>0.0</td>\n",
       "      <td>1.0</td>\n",
       "      <td>0.0</td>\n",
       "      <td>225.0</td>\n",
       "      <td>NaN</td>\n",
       "      <td>1.0</td>\n",
       "      <td>1</td>\n",
       "      <td>1</td>\n",
       "      <td>673.0</td>\n",
       "      <td>476.00</td>\n",
       "    </tr>\n",
       "    <tr>\n",
       "      <th>1</th>\n",
       "      <td>11</td>\n",
       "      <td>1</td>\n",
       "      <td>White</td>\n",
       "      <td>0.0</td>\n",
       "      <td>0.0</td>\n",
       "      <td>1.0</td>\n",
       "      <td>1.0</td>\n",
       "      <td>1.0</td>\n",
       "      <td>1.0</td>\n",
       "      <td>0.0</td>\n",
       "      <td>...</td>\n",
       "      <td>1.0</td>\n",
       "      <td>1.0</td>\n",
       "      <td>1.0</td>\n",
       "      <td>450.0</td>\n",
       "      <td>25.0</td>\n",
       "      <td>1.0</td>\n",
       "      <td>1</td>\n",
       "      <td>0</td>\n",
       "      <td>1173.0</td>\n",
       "      <td>575.01</td>\n",
       "    </tr>\n",
       "    <tr>\n",
       "      <th>2</th>\n",
       "      <td>9</td>\n",
       "      <td>1</td>\n",
       "      <td>White</td>\n",
       "      <td>1.0</td>\n",
       "      <td>1.0</td>\n",
       "      <td>1.0</td>\n",
       "      <td>1.0</td>\n",
       "      <td>1.0</td>\n",
       "      <td>1.0</td>\n",
       "      <td>NaN</td>\n",
       "      <td>...</td>\n",
       "      <td>1.0</td>\n",
       "      <td>1.0</td>\n",
       "      <td>0.0</td>\n",
       "      <td>250.0</td>\n",
       "      <td>28.0</td>\n",
       "      <td>1.0</td>\n",
       "      <td>1</td>\n",
       "      <td>0</td>\n",
       "      <td>1233.0</td>\n",
       "      <td>554.81</td>\n",
       "    </tr>\n",
       "    <tr>\n",
       "      <th>3</th>\n",
       "      <td>10</td>\n",
       "      <td>0</td>\n",
       "      <td>Black</td>\n",
       "      <td>1.0</td>\n",
       "      <td>1.0</td>\n",
       "      <td>0.0</td>\n",
       "      <td>0.0</td>\n",
       "      <td>1.0</td>\n",
       "      <td>1.0</td>\n",
       "      <td>0.0</td>\n",
       "      <td>...</td>\n",
       "      <td>1.0</td>\n",
       "      <td>1.0</td>\n",
       "      <td>1.0</td>\n",
       "      <td>200.0</td>\n",
       "      <td>23.0</td>\n",
       "      <td>1.0</td>\n",
       "      <td>1</td>\n",
       "      <td>1</td>\n",
       "      <td>2640.0</td>\n",
       "      <td>458.11</td>\n",
       "    </tr>\n",
       "    <tr>\n",
       "      <th>4</th>\n",
       "      <td>10</td>\n",
       "      <td>1</td>\n",
       "      <td>Hispanic</td>\n",
       "      <td>1.0</td>\n",
       "      <td>0.0</td>\n",
       "      <td>1.0</td>\n",
       "      <td>0.0</td>\n",
       "      <td>1.0</td>\n",
       "      <td>1.0</td>\n",
       "      <td>0.0</td>\n",
       "      <td>...</td>\n",
       "      <td>1.0</td>\n",
       "      <td>1.0</td>\n",
       "      <td>1.0</td>\n",
       "      <td>250.0</td>\n",
       "      <td>35.0</td>\n",
       "      <td>1.0</td>\n",
       "      <td>1</td>\n",
       "      <td>1</td>\n",
       "      <td>1095.0</td>\n",
       "      <td>613.89</td>\n",
       "    </tr>\n",
       "  </tbody>\n",
       "</table>\n",
       "<p>5 rows × 24 columns</p>\n",
       "</div>"
      ],
      "text/plain": [
       "   grade  male   raceeth  preschool  expectBachelors  motherHS  \\\n",
       "0     11     1       NaN        NaN              0.0       NaN   \n",
       "1     11     1     White        0.0              0.0       1.0   \n",
       "2      9     1     White        1.0              1.0       1.0   \n",
       "3     10     0     Black        1.0              1.0       0.0   \n",
       "4     10     1  Hispanic        1.0              0.0       1.0   \n",
       "\n",
       "   motherBachelors  motherWork  fatherHS  fatherBachelors      ...       \\\n",
       "0              NaN         1.0       NaN              NaN      ...        \n",
       "1              1.0         1.0       1.0              0.0      ...        \n",
       "2              1.0         1.0       1.0              NaN      ...        \n",
       "3              0.0         1.0       1.0              0.0      ...        \n",
       "4              0.0         1.0       1.0              0.0      ...        \n",
       "\n",
       "   englishAtHome  computerForSchoolwork  read30MinsADay  \\\n",
       "0            0.0                    1.0             0.0   \n",
       "1            1.0                    1.0             1.0   \n",
       "2            1.0                    1.0             0.0   \n",
       "3            1.0                    1.0             1.0   \n",
       "4            1.0                    1.0             1.0   \n",
       "\n",
       "   minutesPerWeekEnglish  studentsInEnglish  schoolHasLibrary  publicSchool  \\\n",
       "0                  225.0                NaN               1.0             1   \n",
       "1                  450.0               25.0               1.0             1   \n",
       "2                  250.0               28.0               1.0             1   \n",
       "3                  200.0               23.0               1.0             1   \n",
       "4                  250.0               35.0               1.0             1   \n",
       "\n",
       "   urban  schoolSize  readingScore  \n",
       "0      1       673.0        476.00  \n",
       "1      0      1173.0        575.01  \n",
       "2      0      1233.0        554.81  \n",
       "3      1      2640.0        458.11  \n",
       "4      1      1095.0        613.89  \n",
       "\n",
       "[5 rows x 24 columns]"
      ]
     },
     "execution_count": 525,
     "metadata": {},
     "output_type": "execute_result"
    }
   ],
   "source": [
    "#allData = pd.concat([pisaTrain, pisaTest],  ignore_index=True)\n",
    "#print(allData.shape)\n",
    "#allData.head()\n",
    "pisaTrain.head()"
   ]
  },
  {
   "cell_type": "markdown",
   "metadata": {},
   "source": [
    "It look like  there are some missing values. The missing values are shown in the above table as NaN. We will deal with missing values in preprocessing stage."
   ]
  },
  {
   "cell_type": "code",
   "execution_count": 526,
   "metadata": {
    "collapsed": true
   },
   "outputs": [],
   "source": [
    "# Continuous Features\n",
    "contFeatures = ['minutesPerWeekEnglish','studentsInEnglish','schoolSize']\n",
    "binaryFeatures = ['male',  'preschool', 'expectBachelors',\n",
    "       'motherHS', 'motherBachelors', 'motherWork', 'fatherHS',\n",
    "       'fatherBachelors', 'fatherWork', 'selfBornUS', 'motherBornUS',\n",
    "       'fatherBornUS', 'englishAtHome', 'computerForSchoolwork',\n",
    "       'read30MinsADay','schoolHasLibrary', 'publicSchool', 'urban' ]"
   ]
  },
  {
   "cell_type": "markdown",
   "metadata": {},
   "source": [
    "#### Distribution of continous variables"
   ]
  },
  {
   "cell_type": "code",
   "execution_count": 527,
   "metadata": {
    "collapsed": false
   },
   "outputs": [
    {
     "data": {
      "text/html": [
       "<div>\n",
       "<table border=\"1\" class=\"dataframe\">\n",
       "  <thead>\n",
       "    <tr style=\"text-align: right;\">\n",
       "      <th></th>\n",
       "      <th>minutesPerWeekEnglish</th>\n",
       "      <th>studentsInEnglish</th>\n",
       "      <th>schoolSize</th>\n",
       "    </tr>\n",
       "  </thead>\n",
       "  <tbody>\n",
       "    <tr>\n",
       "      <th>count</th>\n",
       "      <td>3477.000000</td>\n",
       "      <td>3414.000000</td>\n",
       "      <td>3501.000000</td>\n",
       "    </tr>\n",
       "    <tr>\n",
       "      <th>mean</th>\n",
       "      <td>266.208225</td>\n",
       "      <td>24.499414</td>\n",
       "      <td>1369.316767</td>\n",
       "    </tr>\n",
       "    <tr>\n",
       "      <th>std</th>\n",
       "      <td>148.403525</td>\n",
       "      <td>7.184348</td>\n",
       "      <td>869.983618</td>\n",
       "    </tr>\n",
       "    <tr>\n",
       "      <th>min</th>\n",
       "      <td>0.000000</td>\n",
       "      <td>1.000000</td>\n",
       "      <td>100.000000</td>\n",
       "    </tr>\n",
       "    <tr>\n",
       "      <th>25%</th>\n",
       "      <td>225.000000</td>\n",
       "      <td>20.000000</td>\n",
       "      <td>712.000000</td>\n",
       "    </tr>\n",
       "    <tr>\n",
       "      <th>50%</th>\n",
       "      <td>250.000000</td>\n",
       "      <td>25.000000</td>\n",
       "      <td>1212.000000</td>\n",
       "    </tr>\n",
       "    <tr>\n",
       "      <th>75%</th>\n",
       "      <td>300.000000</td>\n",
       "      <td>30.000000</td>\n",
       "      <td>1900.000000</td>\n",
       "    </tr>\n",
       "    <tr>\n",
       "      <th>max</th>\n",
       "      <td>2400.000000</td>\n",
       "      <td>75.000000</td>\n",
       "      <td>6694.000000</td>\n",
       "    </tr>\n",
       "  </tbody>\n",
       "</table>\n",
       "</div>"
      ],
      "text/plain": [
       "       minutesPerWeekEnglish  studentsInEnglish   schoolSize\n",
       "count            3477.000000        3414.000000  3501.000000\n",
       "mean              266.208225          24.499414  1369.316767\n",
       "std               148.403525           7.184348   869.983618\n",
       "min                 0.000000           1.000000   100.000000\n",
       "25%               225.000000          20.000000   712.000000\n",
       "50%               250.000000          25.000000  1212.000000\n",
       "75%               300.000000          30.000000  1900.000000\n",
       "max              2400.000000          75.000000  6694.000000"
      ]
     },
     "execution_count": 527,
     "metadata": {},
     "output_type": "execute_result"
    }
   ],
   "source": [
    "\n",
    "pisaTrain[contFeatures].describe()"
   ]
  },
  {
   "cell_type": "markdown",
   "metadata": {},
   "source": [
    "The min and max values as well are the means vary a lot for the continueous variables. We are likely going to get better results by rescaling the data in some way in the preprocessing stage."
   ]
  },
  {
   "cell_type": "code",
   "execution_count": 528,
   "metadata": {
    "collapsed": false
   },
   "outputs": [
    {
     "data": {
      "text/html": [
       "<div>\n",
       "<table border=\"1\" class=\"dataframe\">\n",
       "  <thead>\n",
       "    <tr style=\"text-align: right;\">\n",
       "      <th></th>\n",
       "      <th>grade</th>\n",
       "      <th>male</th>\n",
       "      <th>preschool</th>\n",
       "      <th>expectBachelors</th>\n",
       "      <th>motherHS</th>\n",
       "      <th>motherBachelors</th>\n",
       "      <th>motherWork</th>\n",
       "      <th>fatherHS</th>\n",
       "      <th>fatherBachelors</th>\n",
       "      <th>fatherWork</th>\n",
       "      <th>...</th>\n",
       "      <th>englishAtHome</th>\n",
       "      <th>computerForSchoolwork</th>\n",
       "      <th>read30MinsADay</th>\n",
       "      <th>minutesPerWeekEnglish</th>\n",
       "      <th>studentsInEnglish</th>\n",
       "      <th>schoolHasLibrary</th>\n",
       "      <th>publicSchool</th>\n",
       "      <th>urban</th>\n",
       "      <th>schoolSize</th>\n",
       "      <th>readingScore</th>\n",
       "    </tr>\n",
       "  </thead>\n",
       "  <tbody>\n",
       "    <tr>\n",
       "      <th>grade</th>\n",
       "      <td>1.000000</td>\n",
       "      <td>-0.097677</td>\n",
       "      <td>-0.023262</td>\n",
       "      <td>0.140200</td>\n",
       "      <td>0.005461</td>\n",
       "      <td>0.043171</td>\n",
       "      <td>0.019385</td>\n",
       "      <td>0.046210</td>\n",
       "      <td>0.061713</td>\n",
       "      <td>0.012731</td>\n",
       "      <td>...</td>\n",
       "      <td>-0.025675</td>\n",
       "      <td>0.112157</td>\n",
       "      <td>0.065008</td>\n",
       "      <td>0.028157</td>\n",
       "      <td>0.085289</td>\n",
       "      <td>-0.026542</td>\n",
       "      <td>-0.063972</td>\n",
       "      <td>0.076277</td>\n",
       "      <td>0.067454</td>\n",
       "      <td>0.286752</td>\n",
       "    </tr>\n",
       "    <tr>\n",
       "      <th>male</th>\n",
       "      <td>-0.097677</td>\n",
       "      <td>1.000000</td>\n",
       "      <td>0.014807</td>\n",
       "      <td>-0.078029</td>\n",
       "      <td>0.030586</td>\n",
       "      <td>0.074250</td>\n",
       "      <td>-0.011641</td>\n",
       "      <td>0.017784</td>\n",
       "      <td>0.076257</td>\n",
       "      <td>0.030614</td>\n",
       "      <td>...</td>\n",
       "      <td>-0.009790</td>\n",
       "      <td>-0.015485</td>\n",
       "      <td>-0.220103</td>\n",
       "      <td>0.010700</td>\n",
       "      <td>-0.025404</td>\n",
       "      <td>0.032114</td>\n",
       "      <td>-0.075466</td>\n",
       "      <td>0.036377</td>\n",
       "      <td>0.012921</td>\n",
       "      <td>-0.153928</td>\n",
       "    </tr>\n",
       "    <tr>\n",
       "      <th>preschool</th>\n",
       "      <td>-0.023262</td>\n",
       "      <td>0.014807</td>\n",
       "      <td>1.000000</td>\n",
       "      <td>0.076046</td>\n",
       "      <td>0.141552</td>\n",
       "      <td>0.151832</td>\n",
       "      <td>0.069249</td>\n",
       "      <td>0.117443</td>\n",
       "      <td>0.141418</td>\n",
       "      <td>0.065079</td>\n",
       "      <td>...</td>\n",
       "      <td>0.120480</td>\n",
       "      <td>0.076612</td>\n",
       "      <td>-0.008649</td>\n",
       "      <td>-0.015110</td>\n",
       "      <td>-0.027114</td>\n",
       "      <td>0.036506</td>\n",
       "      <td>-0.070919</td>\n",
       "      <td>-0.053684</td>\n",
       "      <td>-0.032582</td>\n",
       "      <td>0.040537</td>\n",
       "    </tr>\n",
       "    <tr>\n",
       "      <th>expectBachelors</th>\n",
       "      <td>0.140200</td>\n",
       "      <td>-0.078029</td>\n",
       "      <td>0.076046</td>\n",
       "      <td>1.000000</td>\n",
       "      <td>0.104886</td>\n",
       "      <td>0.168330</td>\n",
       "      <td>0.069366</td>\n",
       "      <td>0.156028</td>\n",
       "      <td>0.199217</td>\n",
       "      <td>0.003122</td>\n",
       "      <td>...</td>\n",
       "      <td>0.044169</td>\n",
       "      <td>0.130413</td>\n",
       "      <td>0.135002</td>\n",
       "      <td>0.018364</td>\n",
       "      <td>0.050988</td>\n",
       "      <td>0.072164</td>\n",
       "      <td>-0.112698</td>\n",
       "      <td>-0.004022</td>\n",
       "      <td>0.016164</td>\n",
       "      <td>0.360144</td>\n",
       "    </tr>\n",
       "    <tr>\n",
       "      <th>motherHS</th>\n",
       "      <td>0.005461</td>\n",
       "      <td>0.030586</td>\n",
       "      <td>0.141552</td>\n",
       "      <td>0.104886</td>\n",
       "      <td>1.000000</td>\n",
       "      <td>0.252322</td>\n",
       "      <td>0.176354</td>\n",
       "      <td>0.500723</td>\n",
       "      <td>0.227148</td>\n",
       "      <td>0.038105</td>\n",
       "      <td>...</td>\n",
       "      <td>0.374486</td>\n",
       "      <td>0.187951</td>\n",
       "      <td>0.011641</td>\n",
       "      <td>0.019021</td>\n",
       "      <td>-0.036948</td>\n",
       "      <td>0.012129</td>\n",
       "      <td>-0.067646</td>\n",
       "      <td>-0.117988</td>\n",
       "      <td>-0.084460</td>\n",
       "      <td>0.156488</td>\n",
       "    </tr>\n",
       "    <tr>\n",
       "      <th>motherBachelors</th>\n",
       "      <td>0.043171</td>\n",
       "      <td>0.074250</td>\n",
       "      <td>0.151832</td>\n",
       "      <td>0.168330</td>\n",
       "      <td>0.252322</td>\n",
       "      <td>1.000000</td>\n",
       "      <td>0.142306</td>\n",
       "      <td>0.197929</td>\n",
       "      <td>0.543581</td>\n",
       "      <td>0.071973</td>\n",
       "      <td>...</td>\n",
       "      <td>0.169733</td>\n",
       "      <td>0.146681</td>\n",
       "      <td>0.021138</td>\n",
       "      <td>0.023004</td>\n",
       "      <td>-0.041765</td>\n",
       "      <td>0.022990</td>\n",
       "      <td>-0.161796</td>\n",
       "      <td>-0.048131</td>\n",
       "      <td>-0.011638</td>\n",
       "      <td>0.214240</td>\n",
       "    </tr>\n",
       "    <tr>\n",
       "      <th>motherWork</th>\n",
       "      <td>0.019385</td>\n",
       "      <td>-0.011641</td>\n",
       "      <td>0.069249</td>\n",
       "      <td>0.069366</td>\n",
       "      <td>0.176354</td>\n",
       "      <td>0.142306</td>\n",
       "      <td>1.000000</td>\n",
       "      <td>0.102632</td>\n",
       "      <td>0.057245</td>\n",
       "      <td>0.039578</td>\n",
       "      <td>...</td>\n",
       "      <td>0.128595</td>\n",
       "      <td>0.083805</td>\n",
       "      <td>-0.049956</td>\n",
       "      <td>0.009103</td>\n",
       "      <td>-0.032115</td>\n",
       "      <td>-0.011439</td>\n",
       "      <td>-0.036711</td>\n",
       "      <td>-0.012350</td>\n",
       "      <td>-0.039499</td>\n",
       "      <td>0.043401</td>\n",
       "    </tr>\n",
       "    <tr>\n",
       "      <th>fatherHS</th>\n",
       "      <td>0.046210</td>\n",
       "      <td>0.017784</td>\n",
       "      <td>0.117443</td>\n",
       "      <td>0.156028</td>\n",
       "      <td>0.500723</td>\n",
       "      <td>0.197929</td>\n",
       "      <td>0.102632</td>\n",
       "      <td>1.000000</td>\n",
       "      <td>0.280287</td>\n",
       "      <td>0.100620</td>\n",
       "      <td>...</td>\n",
       "      <td>0.324131</td>\n",
       "      <td>0.173284</td>\n",
       "      <td>0.032457</td>\n",
       "      <td>0.041421</td>\n",
       "      <td>-0.007217</td>\n",
       "      <td>0.030027</td>\n",
       "      <td>-0.080654</td>\n",
       "      <td>-0.098083</td>\n",
       "      <td>-0.080115</td>\n",
       "      <td>0.175464</td>\n",
       "    </tr>\n",
       "    <tr>\n",
       "      <th>fatherBachelors</th>\n",
       "      <td>0.061713</td>\n",
       "      <td>0.076257</td>\n",
       "      <td>0.141418</td>\n",
       "      <td>0.199217</td>\n",
       "      <td>0.227148</td>\n",
       "      <td>0.543581</td>\n",
       "      <td>0.057245</td>\n",
       "      <td>0.280287</td>\n",
       "      <td>1.000000</td>\n",
       "      <td>0.106328</td>\n",
       "      <td>...</td>\n",
       "      <td>0.138824</td>\n",
       "      <td>0.174256</td>\n",
       "      <td>0.047728</td>\n",
       "      <td>0.007736</td>\n",
       "      <td>-0.019529</td>\n",
       "      <td>0.017605</td>\n",
       "      <td>-0.176680</td>\n",
       "      <td>-0.018506</td>\n",
       "      <td>0.019602</td>\n",
       "      <td>0.266236</td>\n",
       "    </tr>\n",
       "    <tr>\n",
       "      <th>fatherWork</th>\n",
       "      <td>0.012731</td>\n",
       "      <td>0.030614</td>\n",
       "      <td>0.065079</td>\n",
       "      <td>0.003122</td>\n",
       "      <td>0.038105</td>\n",
       "      <td>0.071973</td>\n",
       "      <td>0.039578</td>\n",
       "      <td>0.100620</td>\n",
       "      <td>0.106328</td>\n",
       "      <td>1.000000</td>\n",
       "      <td>...</td>\n",
       "      <td>0.022521</td>\n",
       "      <td>0.078806</td>\n",
       "      <td>-0.012103</td>\n",
       "      <td>0.030462</td>\n",
       "      <td>-0.000204</td>\n",
       "      <td>-0.012325</td>\n",
       "      <td>-0.023248</td>\n",
       "      <td>-0.039698</td>\n",
       "      <td>-0.023414</td>\n",
       "      <td>0.070423</td>\n",
       "    </tr>\n",
       "    <tr>\n",
       "      <th>selfBornUS</th>\n",
       "      <td>-0.022154</td>\n",
       "      <td>0.022550</td>\n",
       "      <td>0.092893</td>\n",
       "      <td>-0.010330</td>\n",
       "      <td>0.179856</td>\n",
       "      <td>0.044804</td>\n",
       "      <td>0.065549</td>\n",
       "      <td>0.139385</td>\n",
       "      <td>0.011592</td>\n",
       "      <td>-0.028350</td>\n",
       "      <td>...</td>\n",
       "      <td>0.456103</td>\n",
       "      <td>0.027402</td>\n",
       "      <td>-0.013808</td>\n",
       "      <td>0.004910</td>\n",
       "      <td>-0.033958</td>\n",
       "      <td>-0.008027</td>\n",
       "      <td>-0.041606</td>\n",
       "      <td>-0.115689</td>\n",
       "      <td>-0.118054</td>\n",
       "      <td>0.023530</td>\n",
       "    </tr>\n",
       "    <tr>\n",
       "      <th>motherBornUS</th>\n",
       "      <td>-0.072814</td>\n",
       "      <td>0.015107</td>\n",
       "      <td>0.111684</td>\n",
       "      <td>0.012359</td>\n",
       "      <td>0.343146</td>\n",
       "      <td>0.146741</td>\n",
       "      <td>0.096057</td>\n",
       "      <td>0.279932</td>\n",
       "      <td>0.081497</td>\n",
       "      <td>-0.008205</td>\n",
       "      <td>...</td>\n",
       "      <td>0.644713</td>\n",
       "      <td>0.035398</td>\n",
       "      <td>-0.013966</td>\n",
       "      <td>0.017809</td>\n",
       "      <td>-0.095075</td>\n",
       "      <td>-0.005134</td>\n",
       "      <td>0.012995</td>\n",
       "      <td>-0.279346</td>\n",
       "      <td>-0.246404</td>\n",
       "      <td>0.062846</td>\n",
       "    </tr>\n",
       "    <tr>\n",
       "      <th>fatherBornUS</th>\n",
       "      <td>-0.063530</td>\n",
       "      <td>0.008212</td>\n",
       "      <td>0.112208</td>\n",
       "      <td>0.015281</td>\n",
       "      <td>0.336373</td>\n",
       "      <td>0.125661</td>\n",
       "      <td>0.096592</td>\n",
       "      <td>0.308128</td>\n",
       "      <td>0.091718</td>\n",
       "      <td>-0.004942</td>\n",
       "      <td>...</td>\n",
       "      <td>0.622450</td>\n",
       "      <td>0.046293</td>\n",
       "      <td>0.002678</td>\n",
       "      <td>0.010291</td>\n",
       "      <td>-0.089547</td>\n",
       "      <td>-0.001739</td>\n",
       "      <td>0.021946</td>\n",
       "      <td>-0.294307</td>\n",
       "      <td>-0.258301</td>\n",
       "      <td>0.088670</td>\n",
       "    </tr>\n",
       "    <tr>\n",
       "      <th>englishAtHome</th>\n",
       "      <td>-0.025675</td>\n",
       "      <td>-0.009790</td>\n",
       "      <td>0.120480</td>\n",
       "      <td>0.044169</td>\n",
       "      <td>0.374486</td>\n",
       "      <td>0.169733</td>\n",
       "      <td>0.128595</td>\n",
       "      <td>0.324131</td>\n",
       "      <td>0.138824</td>\n",
       "      <td>0.022521</td>\n",
       "      <td>...</td>\n",
       "      <td>1.000000</td>\n",
       "      <td>0.090044</td>\n",
       "      <td>-0.004536</td>\n",
       "      <td>-0.011085</td>\n",
       "      <td>-0.068254</td>\n",
       "      <td>-0.011153</td>\n",
       "      <td>-0.042673</td>\n",
       "      <td>-0.218851</td>\n",
       "      <td>-0.203584</td>\n",
       "      <td>0.126018</td>\n",
       "    </tr>\n",
       "    <tr>\n",
       "      <th>computerForSchoolwork</th>\n",
       "      <td>0.112157</td>\n",
       "      <td>-0.015485</td>\n",
       "      <td>0.076612</td>\n",
       "      <td>0.130413</td>\n",
       "      <td>0.187951</td>\n",
       "      <td>0.146681</td>\n",
       "      <td>0.083805</td>\n",
       "      <td>0.173284</td>\n",
       "      <td>0.174256</td>\n",
       "      <td>0.078806</td>\n",
       "      <td>...</td>\n",
       "      <td>0.090044</td>\n",
       "      <td>1.000000</td>\n",
       "      <td>-0.028378</td>\n",
       "      <td>-0.001737</td>\n",
       "      <td>0.056054</td>\n",
       "      <td>-0.010667</td>\n",
       "      <td>-0.074832</td>\n",
       "      <td>0.020981</td>\n",
       "      <td>0.067300</td>\n",
       "      <td>0.190425</td>\n",
       "    </tr>\n",
       "    <tr>\n",
       "      <th>read30MinsADay</th>\n",
       "      <td>0.065008</td>\n",
       "      <td>-0.220103</td>\n",
       "      <td>-0.008649</td>\n",
       "      <td>0.135002</td>\n",
       "      <td>0.011641</td>\n",
       "      <td>0.021138</td>\n",
       "      <td>-0.049956</td>\n",
       "      <td>0.032457</td>\n",
       "      <td>0.047728</td>\n",
       "      <td>-0.012103</td>\n",
       "      <td>...</td>\n",
       "      <td>-0.004536</td>\n",
       "      <td>-0.028378</td>\n",
       "      <td>1.000000</td>\n",
       "      <td>0.012495</td>\n",
       "      <td>0.006866</td>\n",
       "      <td>0.021687</td>\n",
       "      <td>0.006983</td>\n",
       "      <td>0.023078</td>\n",
       "      <td>-0.011673</td>\n",
       "      <td>0.247221</td>\n",
       "    </tr>\n",
       "    <tr>\n",
       "      <th>minutesPerWeekEnglish</th>\n",
       "      <td>0.028157</td>\n",
       "      <td>0.010700</td>\n",
       "      <td>-0.015110</td>\n",
       "      <td>0.018364</td>\n",
       "      <td>0.019021</td>\n",
       "      <td>0.023004</td>\n",
       "      <td>0.009103</td>\n",
       "      <td>0.041421</td>\n",
       "      <td>0.007736</td>\n",
       "      <td>0.030462</td>\n",
       "      <td>...</td>\n",
       "      <td>-0.011085</td>\n",
       "      <td>-0.001737</td>\n",
       "      <td>0.012495</td>\n",
       "      <td>1.000000</td>\n",
       "      <td>0.050963</td>\n",
       "      <td>-0.003731</td>\n",
       "      <td>0.053556</td>\n",
       "      <td>-0.051268</td>\n",
       "      <td>0.007183</td>\n",
       "      <td>0.067823</td>\n",
       "    </tr>\n",
       "    <tr>\n",
       "      <th>studentsInEnglish</th>\n",
       "      <td>0.085289</td>\n",
       "      <td>-0.025404</td>\n",
       "      <td>-0.027114</td>\n",
       "      <td>0.050988</td>\n",
       "      <td>-0.036948</td>\n",
       "      <td>-0.041765</td>\n",
       "      <td>-0.032115</td>\n",
       "      <td>-0.007217</td>\n",
       "      <td>-0.019529</td>\n",
       "      <td>-0.000204</td>\n",
       "      <td>...</td>\n",
       "      <td>-0.068254</td>\n",
       "      <td>0.056054</td>\n",
       "      <td>0.006866</td>\n",
       "      <td>0.050963</td>\n",
       "      <td>1.000000</td>\n",
       "      <td>0.078381</td>\n",
       "      <td>0.081880</td>\n",
       "      <td>0.160524</td>\n",
       "      <td>0.258792</td>\n",
       "      <td>0.034653</td>\n",
       "    </tr>\n",
       "    <tr>\n",
       "      <th>schoolHasLibrary</th>\n",
       "      <td>-0.026542</td>\n",
       "      <td>0.032114</td>\n",
       "      <td>0.036506</td>\n",
       "      <td>0.072164</td>\n",
       "      <td>0.012129</td>\n",
       "      <td>0.022990</td>\n",
       "      <td>-0.011439</td>\n",
       "      <td>0.030027</td>\n",
       "      <td>0.017605</td>\n",
       "      <td>-0.012325</td>\n",
       "      <td>...</td>\n",
       "      <td>-0.011153</td>\n",
       "      <td>-0.010667</td>\n",
       "      <td>0.021687</td>\n",
       "      <td>-0.003731</td>\n",
       "      <td>0.078381</td>\n",
       "      <td>1.000000</td>\n",
       "      <td>0.059391</td>\n",
       "      <td>-0.116804</td>\n",
       "      <td>0.037762</td>\n",
       "      <td>0.038150</td>\n",
       "    </tr>\n",
       "    <tr>\n",
       "      <th>publicSchool</th>\n",
       "      <td>-0.063972</td>\n",
       "      <td>-0.075466</td>\n",
       "      <td>-0.070919</td>\n",
       "      <td>-0.112698</td>\n",
       "      <td>-0.067646</td>\n",
       "      <td>-0.161796</td>\n",
       "      <td>-0.036711</td>\n",
       "      <td>-0.080654</td>\n",
       "      <td>-0.176680</td>\n",
       "      <td>-0.023248</td>\n",
       "      <td>...</td>\n",
       "      <td>-0.042673</td>\n",
       "      <td>-0.074832</td>\n",
       "      <td>0.006983</td>\n",
       "      <td>0.053556</td>\n",
       "      <td>0.081880</td>\n",
       "      <td>0.059391</td>\n",
       "      <td>1.000000</td>\n",
       "      <td>-0.277477</td>\n",
       "      <td>0.234745</td>\n",
       "      <td>-0.133654</td>\n",
       "    </tr>\n",
       "    <tr>\n",
       "      <th>urban</th>\n",
       "      <td>0.076277</td>\n",
       "      <td>0.036377</td>\n",
       "      <td>-0.053684</td>\n",
       "      <td>-0.004022</td>\n",
       "      <td>-0.117988</td>\n",
       "      <td>-0.048131</td>\n",
       "      <td>-0.012350</td>\n",
       "      <td>-0.098083</td>\n",
       "      <td>-0.018506</td>\n",
       "      <td>-0.039698</td>\n",
       "      <td>...</td>\n",
       "      <td>-0.218851</td>\n",
       "      <td>0.020981</td>\n",
       "      <td>0.023078</td>\n",
       "      <td>-0.051268</td>\n",
       "      <td>0.160524</td>\n",
       "      <td>-0.116804</td>\n",
       "      <td>-0.277477</td>\n",
       "      <td>1.000000</td>\n",
       "      <td>0.326483</td>\n",
       "      <td>-0.064194</td>\n",
       "    </tr>\n",
       "    <tr>\n",
       "      <th>schoolSize</th>\n",
       "      <td>0.067454</td>\n",
       "      <td>0.012921</td>\n",
       "      <td>-0.032582</td>\n",
       "      <td>0.016164</td>\n",
       "      <td>-0.084460</td>\n",
       "      <td>-0.011638</td>\n",
       "      <td>-0.039499</td>\n",
       "      <td>-0.080115</td>\n",
       "      <td>0.019602</td>\n",
       "      <td>-0.023414</td>\n",
       "      <td>...</td>\n",
       "      <td>-0.203584</td>\n",
       "      <td>0.067300</td>\n",
       "      <td>-0.011673</td>\n",
       "      <td>0.007183</td>\n",
       "      <td>0.258792</td>\n",
       "      <td>0.037762</td>\n",
       "      <td>0.234745</td>\n",
       "      <td>0.326483</td>\n",
       "      <td>1.000000</td>\n",
       "      <td>0.026948</td>\n",
       "    </tr>\n",
       "    <tr>\n",
       "      <th>readingScore</th>\n",
       "      <td>0.286752</td>\n",
       "      <td>-0.153928</td>\n",
       "      <td>0.040537</td>\n",
       "      <td>0.360144</td>\n",
       "      <td>0.156488</td>\n",
       "      <td>0.214240</td>\n",
       "      <td>0.043401</td>\n",
       "      <td>0.175464</td>\n",
       "      <td>0.266236</td>\n",
       "      <td>0.070423</td>\n",
       "      <td>...</td>\n",
       "      <td>0.126018</td>\n",
       "      <td>0.190425</td>\n",
       "      <td>0.247221</td>\n",
       "      <td>0.067823</td>\n",
       "      <td>0.034653</td>\n",
       "      <td>0.038150</td>\n",
       "      <td>-0.133654</td>\n",
       "      <td>-0.064194</td>\n",
       "      <td>0.026948</td>\n",
       "      <td>1.000000</td>\n",
       "    </tr>\n",
       "  </tbody>\n",
       "</table>\n",
       "<p>23 rows × 23 columns</p>\n",
       "</div>"
      ],
      "text/plain": [
       "                          grade      male  preschool  expectBachelors  \\\n",
       "grade                  1.000000 -0.097677  -0.023262         0.140200   \n",
       "male                  -0.097677  1.000000   0.014807        -0.078029   \n",
       "preschool             -0.023262  0.014807   1.000000         0.076046   \n",
       "expectBachelors        0.140200 -0.078029   0.076046         1.000000   \n",
       "motherHS               0.005461  0.030586   0.141552         0.104886   \n",
       "motherBachelors        0.043171  0.074250   0.151832         0.168330   \n",
       "motherWork             0.019385 -0.011641   0.069249         0.069366   \n",
       "fatherHS               0.046210  0.017784   0.117443         0.156028   \n",
       "fatherBachelors        0.061713  0.076257   0.141418         0.199217   \n",
       "fatherWork             0.012731  0.030614   0.065079         0.003122   \n",
       "selfBornUS            -0.022154  0.022550   0.092893        -0.010330   \n",
       "motherBornUS          -0.072814  0.015107   0.111684         0.012359   \n",
       "fatherBornUS          -0.063530  0.008212   0.112208         0.015281   \n",
       "englishAtHome         -0.025675 -0.009790   0.120480         0.044169   \n",
       "computerForSchoolwork  0.112157 -0.015485   0.076612         0.130413   \n",
       "read30MinsADay         0.065008 -0.220103  -0.008649         0.135002   \n",
       "minutesPerWeekEnglish  0.028157  0.010700  -0.015110         0.018364   \n",
       "studentsInEnglish      0.085289 -0.025404  -0.027114         0.050988   \n",
       "schoolHasLibrary      -0.026542  0.032114   0.036506         0.072164   \n",
       "publicSchool          -0.063972 -0.075466  -0.070919        -0.112698   \n",
       "urban                  0.076277  0.036377  -0.053684        -0.004022   \n",
       "schoolSize             0.067454  0.012921  -0.032582         0.016164   \n",
       "readingScore           0.286752 -0.153928   0.040537         0.360144   \n",
       "\n",
       "                       motherHS  motherBachelors  motherWork  fatherHS  \\\n",
       "grade                  0.005461         0.043171    0.019385  0.046210   \n",
       "male                   0.030586         0.074250   -0.011641  0.017784   \n",
       "preschool              0.141552         0.151832    0.069249  0.117443   \n",
       "expectBachelors        0.104886         0.168330    0.069366  0.156028   \n",
       "motherHS               1.000000         0.252322    0.176354  0.500723   \n",
       "motherBachelors        0.252322         1.000000    0.142306  0.197929   \n",
       "motherWork             0.176354         0.142306    1.000000  0.102632   \n",
       "fatherHS               0.500723         0.197929    0.102632  1.000000   \n",
       "fatherBachelors        0.227148         0.543581    0.057245  0.280287   \n",
       "fatherWork             0.038105         0.071973    0.039578  0.100620   \n",
       "selfBornUS             0.179856         0.044804    0.065549  0.139385   \n",
       "motherBornUS           0.343146         0.146741    0.096057  0.279932   \n",
       "fatherBornUS           0.336373         0.125661    0.096592  0.308128   \n",
       "englishAtHome          0.374486         0.169733    0.128595  0.324131   \n",
       "computerForSchoolwork  0.187951         0.146681    0.083805  0.173284   \n",
       "read30MinsADay         0.011641         0.021138   -0.049956  0.032457   \n",
       "minutesPerWeekEnglish  0.019021         0.023004    0.009103  0.041421   \n",
       "studentsInEnglish     -0.036948        -0.041765   -0.032115 -0.007217   \n",
       "schoolHasLibrary       0.012129         0.022990   -0.011439  0.030027   \n",
       "publicSchool          -0.067646        -0.161796   -0.036711 -0.080654   \n",
       "urban                 -0.117988        -0.048131   -0.012350 -0.098083   \n",
       "schoolSize            -0.084460        -0.011638   -0.039499 -0.080115   \n",
       "readingScore           0.156488         0.214240    0.043401  0.175464   \n",
       "\n",
       "                       fatherBachelors  fatherWork      ...       \\\n",
       "grade                         0.061713    0.012731      ...        \n",
       "male                          0.076257    0.030614      ...        \n",
       "preschool                     0.141418    0.065079      ...        \n",
       "expectBachelors               0.199217    0.003122      ...        \n",
       "motherHS                      0.227148    0.038105      ...        \n",
       "motherBachelors               0.543581    0.071973      ...        \n",
       "motherWork                    0.057245    0.039578      ...        \n",
       "fatherHS                      0.280287    0.100620      ...        \n",
       "fatherBachelors               1.000000    0.106328      ...        \n",
       "fatherWork                    0.106328    1.000000      ...        \n",
       "selfBornUS                    0.011592   -0.028350      ...        \n",
       "motherBornUS                  0.081497   -0.008205      ...        \n",
       "fatherBornUS                  0.091718   -0.004942      ...        \n",
       "englishAtHome                 0.138824    0.022521      ...        \n",
       "computerForSchoolwork         0.174256    0.078806      ...        \n",
       "read30MinsADay                0.047728   -0.012103      ...        \n",
       "minutesPerWeekEnglish         0.007736    0.030462      ...        \n",
       "studentsInEnglish            -0.019529   -0.000204      ...        \n",
       "schoolHasLibrary              0.017605   -0.012325      ...        \n",
       "publicSchool                 -0.176680   -0.023248      ...        \n",
       "urban                        -0.018506   -0.039698      ...        \n",
       "schoolSize                    0.019602   -0.023414      ...        \n",
       "readingScore                  0.266236    0.070423      ...        \n",
       "\n",
       "                       englishAtHome  computerForSchoolwork  read30MinsADay  \\\n",
       "grade                      -0.025675               0.112157        0.065008   \n",
       "male                       -0.009790              -0.015485       -0.220103   \n",
       "preschool                   0.120480               0.076612       -0.008649   \n",
       "expectBachelors             0.044169               0.130413        0.135002   \n",
       "motherHS                    0.374486               0.187951        0.011641   \n",
       "motherBachelors             0.169733               0.146681        0.021138   \n",
       "motherWork                  0.128595               0.083805       -0.049956   \n",
       "fatherHS                    0.324131               0.173284        0.032457   \n",
       "fatherBachelors             0.138824               0.174256        0.047728   \n",
       "fatherWork                  0.022521               0.078806       -0.012103   \n",
       "selfBornUS                  0.456103               0.027402       -0.013808   \n",
       "motherBornUS                0.644713               0.035398       -0.013966   \n",
       "fatherBornUS                0.622450               0.046293        0.002678   \n",
       "englishAtHome               1.000000               0.090044       -0.004536   \n",
       "computerForSchoolwork       0.090044               1.000000       -0.028378   \n",
       "read30MinsADay             -0.004536              -0.028378        1.000000   \n",
       "minutesPerWeekEnglish      -0.011085              -0.001737        0.012495   \n",
       "studentsInEnglish          -0.068254               0.056054        0.006866   \n",
       "schoolHasLibrary           -0.011153              -0.010667        0.021687   \n",
       "publicSchool               -0.042673              -0.074832        0.006983   \n",
       "urban                      -0.218851               0.020981        0.023078   \n",
       "schoolSize                 -0.203584               0.067300       -0.011673   \n",
       "readingScore                0.126018               0.190425        0.247221   \n",
       "\n",
       "                       minutesPerWeekEnglish  studentsInEnglish  \\\n",
       "grade                               0.028157           0.085289   \n",
       "male                                0.010700          -0.025404   \n",
       "preschool                          -0.015110          -0.027114   \n",
       "expectBachelors                     0.018364           0.050988   \n",
       "motherHS                            0.019021          -0.036948   \n",
       "motherBachelors                     0.023004          -0.041765   \n",
       "motherWork                          0.009103          -0.032115   \n",
       "fatherHS                            0.041421          -0.007217   \n",
       "fatherBachelors                     0.007736          -0.019529   \n",
       "fatherWork                          0.030462          -0.000204   \n",
       "selfBornUS                          0.004910          -0.033958   \n",
       "motherBornUS                        0.017809          -0.095075   \n",
       "fatherBornUS                        0.010291          -0.089547   \n",
       "englishAtHome                      -0.011085          -0.068254   \n",
       "computerForSchoolwork              -0.001737           0.056054   \n",
       "read30MinsADay                      0.012495           0.006866   \n",
       "minutesPerWeekEnglish               1.000000           0.050963   \n",
       "studentsInEnglish                   0.050963           1.000000   \n",
       "schoolHasLibrary                   -0.003731           0.078381   \n",
       "publicSchool                        0.053556           0.081880   \n",
       "urban                              -0.051268           0.160524   \n",
       "schoolSize                          0.007183           0.258792   \n",
       "readingScore                        0.067823           0.034653   \n",
       "\n",
       "                       schoolHasLibrary  publicSchool     urban  schoolSize  \\\n",
       "grade                         -0.026542     -0.063972  0.076277    0.067454   \n",
       "male                           0.032114     -0.075466  0.036377    0.012921   \n",
       "preschool                      0.036506     -0.070919 -0.053684   -0.032582   \n",
       "expectBachelors                0.072164     -0.112698 -0.004022    0.016164   \n",
       "motherHS                       0.012129     -0.067646 -0.117988   -0.084460   \n",
       "motherBachelors                0.022990     -0.161796 -0.048131   -0.011638   \n",
       "motherWork                    -0.011439     -0.036711 -0.012350   -0.039499   \n",
       "fatherHS                       0.030027     -0.080654 -0.098083   -0.080115   \n",
       "fatherBachelors                0.017605     -0.176680 -0.018506    0.019602   \n",
       "fatherWork                    -0.012325     -0.023248 -0.039698   -0.023414   \n",
       "selfBornUS                    -0.008027     -0.041606 -0.115689   -0.118054   \n",
       "motherBornUS                  -0.005134      0.012995 -0.279346   -0.246404   \n",
       "fatherBornUS                  -0.001739      0.021946 -0.294307   -0.258301   \n",
       "englishAtHome                 -0.011153     -0.042673 -0.218851   -0.203584   \n",
       "computerForSchoolwork         -0.010667     -0.074832  0.020981    0.067300   \n",
       "read30MinsADay                 0.021687      0.006983  0.023078   -0.011673   \n",
       "minutesPerWeekEnglish         -0.003731      0.053556 -0.051268    0.007183   \n",
       "studentsInEnglish              0.078381      0.081880  0.160524    0.258792   \n",
       "schoolHasLibrary               1.000000      0.059391 -0.116804    0.037762   \n",
       "publicSchool                   0.059391      1.000000 -0.277477    0.234745   \n",
       "urban                         -0.116804     -0.277477  1.000000    0.326483   \n",
       "schoolSize                     0.037762      0.234745  0.326483    1.000000   \n",
       "readingScore                   0.038150     -0.133654 -0.064194    0.026948   \n",
       "\n",
       "                       readingScore  \n",
       "grade                      0.286752  \n",
       "male                      -0.153928  \n",
       "preschool                  0.040537  \n",
       "expectBachelors            0.360144  \n",
       "motherHS                   0.156488  \n",
       "motherBachelors            0.214240  \n",
       "motherWork                 0.043401  \n",
       "fatherHS                   0.175464  \n",
       "fatherBachelors            0.266236  \n",
       "fatherWork                 0.070423  \n",
       "selfBornUS                 0.023530  \n",
       "motherBornUS               0.062846  \n",
       "fatherBornUS               0.088670  \n",
       "englishAtHome              0.126018  \n",
       "computerForSchoolwork      0.190425  \n",
       "read30MinsADay             0.247221  \n",
       "minutesPerWeekEnglish      0.067823  \n",
       "studentsInEnglish          0.034653  \n",
       "schoolHasLibrary           0.038150  \n",
       "publicSchool              -0.133654  \n",
       "urban                     -0.064194  \n",
       "schoolSize                 0.026948  \n",
       "readingScore               1.000000  \n",
       "\n",
       "[23 rows x 23 columns]"
      ]
     },
     "execution_count": 528,
     "metadata": {},
     "output_type": "execute_result"
    }
   ],
   "source": [
    "# correlation\n",
    "corDf = pisaTrain.corr(method='pearson')\n",
    "corDf"
   ]
  },
  {
   "cell_type": "code",
   "execution_count": 529,
   "metadata": {
    "collapsed": false
   },
   "outputs": [
    {
     "data": {
      "text/plain": [
       "[('motherHS', 'fatherHS'),\n",
       " ('motherBachelors', 'fatherBachelors'),\n",
       " ('motherBornUS', 'fatherBornUS'),\n",
       " ('motherBornUS', 'englishAtHome'),\n",
       " ('fatherBornUS', 'englishAtHome')]"
      ]
     },
     "execution_count": 529,
     "metadata": {},
     "output_type": "execute_result"
    }
   ],
   "source": [
    "indices = np.where(corDf > 0.5)\n",
    "indices = [(corDf.index[x], corDf.columns[y]) for x, y in zip(*indices)\n",
    "                                        if x != y and x < y]\n",
    "indices"
   ]
  },
  {
   "cell_type": "markdown",
   "metadata": {},
   "source": [
    "### Exploratory Visualization"
   ]
  },
  {
   "cell_type": "code",
   "execution_count": 530,
   "metadata": {
    "collapsed": true
   },
   "outputs": [],
   "source": [
    "import matplotlib.pyplot as plt\n",
    "import seaborn as sns\n",
    "%matplotlib inline"
   ]
  },
  {
   "cell_type": "code",
   "execution_count": 531,
   "metadata": {
    "collapsed": false
   },
   "outputs": [
    {
     "data": {
      "text/plain": [
       "10    2532\n",
       "11     726\n",
       "9      397\n",
       "12       4\n",
       "8        4\n",
       "Name: grade, dtype: int64"
      ]
     },
     "execution_count": 531,
     "metadata": {},
     "output_type": "execute_result"
    }
   ],
   "source": [
    "pisaTrain['grade'].value_counts()"
   ]
  },
  {
   "cell_type": "code",
   "execution_count": 532,
   "metadata": {
    "collapsed": false
   },
   "outputs": [
    {
     "data": {
      "image/png": "[encoded data removed]",
      "text/plain": [
       "<matplotlib.figure.Figure at 0x3e0219b0>"
      ]
     },
     "metadata": {},
     "output_type": "display_data"
    }
   ],
   "source": [
    "fig, ax = plt.subplots(1,2, figsize=(12, 4))\n",
    "sns.countplot(x='grade', data=pisaTrain, ax=ax[0])\n",
    "sns.boxplot(x='grade', y='readingScore', data=pisaTrain, ax=ax[1])\n",
    "plt.show()"
   ]
  },
  {
   "cell_type": "code",
   "execution_count": 533,
   "metadata": {
    "collapsed": false
   },
   "outputs": [
    {
     "data": {
      "image/png": "[encoded data removed]",
      "text/plain": [
       "<matplotlib.figure.Figure at 0x1494b9b0>"
      ]
     },
     "metadata": {},
     "output_type": "display_data"
    }
   ],
   "source": [
    "fig = plt.figure(figsize=(6, 4))\n",
    "sns.countplot(x='raceeth', data=pisaTrain)\n",
    "a = plt.xticks(rotation = 45)"
   ]
  },
  {
   "cell_type": "code",
   "execution_count": 534,
   "metadata": {
    "collapsed": false
   },
   "outputs": [
    {
     "data": {
      "image/png": "[encoded data removed]",
      "text/plain": [
       "<matplotlib.figure.Figure at 0x4193c978>"
      ]
     },
     "metadata": {},
     "output_type": "display_data"
    }
   ],
   "source": [
    "fig = plt.figure(figsize=(6, 4))\n",
    "sns.boxplot(x='raceeth', y='readingScore', data=pisaTrain)\n",
    "x = plt.xticks(rotation = 45)\n",
    "plt.show()"
   ]
  },
  {
   "cell_type": "code",
   "execution_count": 535,
   "metadata": {
    "collapsed": false
   },
   "outputs": [
    {
     "data": {
      "image/png": "[encoded data removed]",
      "text/plain": [
       "<matplotlib.figure.Figure at 0x41bb0da0>"
      ]
     },
     "metadata": {},
     "output_type": "display_data"
    }
   ],
   "source": [
    "fig, ax = plt.subplots(1,2, figsize=(8, 4))\n",
    "sns.countplot(x='preschool', data=pisaTrain, ax=ax[0])\n",
    "sns.boxplot(x='preschool', y='readingScore', data=pisaTrain, ax=ax[1])\n",
    "plt.show()"
   ]
  },
  {
   "cell_type": "code",
   "execution_count": 536,
   "metadata": {
    "collapsed": false
   },
   "outputs": [
    {
     "data": {
      "image/png": "[encoded data removed]",
      "text/plain": [
       "<matplotlib.figure.Figure at 0x415d4e10>"
      ]
     },
     "metadata": {},
     "output_type": "display_data"
    }
   ],
   "source": [
    "fig, ax = plt.subplots(1,2, figsize=(8, 4))\n",
    "sns.countplot(x='expectBachelors', data=pisaTrain, ax=ax[0])\n",
    "sns.boxplot(x='expectBachelors', y='readingScore', data=pisaTrain, ax=ax[1])\n",
    "plt.show()"
   ]
  },
  {
   "cell_type": "code",
   "execution_count": 537,
   "metadata": {
    "collapsed": false
   },
   "outputs": [
    {
     "data": {
      "image/png": "[encoded data removed]",
      "text/plain": [
       "<matplotlib.figure.Figure at 0x3e0d0198>"
      ]
     },
     "metadata": {},
     "output_type": "display_data"
    }
   ],
   "source": [
    "fig, ax = plt.subplots(1,2, figsize=(8, 4))\n",
    "sns.countplot(x='motherHS', data=pisaTrain, ax=ax[0])\n",
    "sns.boxplot(x='motherHS', y='readingScore', data=pisaTrain, ax=ax[1])\n",
    "plt.show()"
   ]
  },
  {
   "cell_type": "code",
   "execution_count": 538,
   "metadata": {
    "collapsed": false
   },
   "outputs": [
    {
     "data": {
      "image/png": "[encoded data removed]",
      "text/plain": [
       "<matplotlib.figure.Figure at 0x3b7986a0>"
      ]
     },
     "metadata": {},
     "output_type": "display_data"
    }
   ],
   "source": [
    "fig, ax = plt.subplots(1,2, figsize=(8, 4))\n",
    "sns.countplot(x='motherBachelors', data=pisaTrain, ax=ax[0])\n",
    "sns.boxplot(x='motherBachelors', y='readingScore', data=pisaTrain, ax=ax[1])\n",
    "plt.show()"
   ]
  },
  {
   "cell_type": "code",
   "execution_count": 539,
   "metadata": {
    "collapsed": false
   },
   "outputs": [
    {
     "data": {
      "image/png": "[encoded data removed]",
      "text/plain": [
       "<matplotlib.figure.Figure at 0x3aec06d8>"
      ]
     },
     "metadata": {},
     "output_type": "display_data"
    }
   ],
   "source": [
    "fig, ax = plt.subplots(1,2, figsize=(8, 4))\n",
    "sns.countplot(x='motherWork', data=pisaTrain, ax=ax[0])\n",
    "sns.boxplot(x='motherWork', y='readingScore', data=pisaTrain, ax=ax[1])\n",
    "plt.show()"
   ]
  },
  {
   "cell_type": "code",
   "execution_count": 540,
   "metadata": {
    "collapsed": false
   },
   "outputs": [
    {
     "data": {
      "image/png": "[encoded data removed]",
      "text/plain": [
       "<matplotlib.figure.Figure at 0x19ac61d0>"
      ]
     },
     "metadata": {},
     "output_type": "display_data"
    }
   ],
   "source": [
    "fig, ax = plt.subplots(1,2, figsize=(8, 4))\n",
    "sns.countplot(x='fatherWork', data=pisaTrain, ax=ax[0])\n",
    "sns.boxplot(x='fatherWork', y='readingScore', data=pisaTrain, ax=ax[1])\n",
    "plt.show()"
   ]
  },
  {
   "cell_type": "code",
   "execution_count": 541,
   "metadata": {
    "collapsed": false
   },
   "outputs": [
    {
     "data": {
      "image/png": "[encoded data removed]",
      "text/plain": [
       "<matplotlib.figure.Figure at 0x2dd223c8>"
      ]
     },
     "metadata": {},
     "output_type": "display_data"
    }
   ],
   "source": [
    "fig, ax = plt.subplots(1,2, figsize=(8, 4))\n",
    "sns.countplot(x='selfBornUS', data=pisaTrain, ax=ax[0])\n",
    "sns.boxplot(x='selfBornUS', y='readingScore', data=pisaTrain, ax=ax[1])\n",
    "plt.show()"
   ]
  },
  {
   "cell_type": "code",
   "execution_count": 542,
   "metadata": {
    "collapsed": false
   },
   "outputs": [
    {
     "data": {
      "image/png": "[encoded data removed]",
      "text/plain": [
       "<matplotlib.figure.Figure at 0x34096710>"
      ]
     },
     "metadata": {},
     "output_type": "display_data"
    }
   ],
   "source": [
    "fig, ax = plt.subplots(1,2, figsize=(8, 4))\n",
    "sns.countplot(x='motherBornUS', data=pisaTrain, ax=ax[0])\n",
    "sns.boxplot(x='motherBornUS', y='readingScore', data=pisaTrain, ax=ax[1])\n",
    "plt.show()"
   ]
  },
  {
   "cell_type": "code",
   "execution_count": 543,
   "metadata": {
    "collapsed": false
   },
   "outputs": [
    {
     "data": {
      "image/png": "[encoded data removed]",
      "text/plain": [
       "<matplotlib.figure.Figure at 0x31654c50>"
      ]
     },
     "metadata": {},
     "output_type": "display_data"
    }
   ],
   "source": [
    "fig, ax = plt.subplots(1,2, figsize=(8, 4))\n",
    "sns.countplot(x='fatherBornUS', data=pisaTrain, ax=ax[0])\n",
    "sns.boxplot(x='fatherBornUS', y='readingScore', data=pisaTrain, ax=ax[1])\n",
    "plt.show()"
   ]
  },
  {
   "cell_type": "code",
   "execution_count": 544,
   "metadata": {
    "collapsed": false
   },
   "outputs": [
    {
     "data": {
      "image/png": "[encoded data removed]",
      "text/plain": [
       "<matplotlib.figure.Figure at 0x26875780>"
      ]
     },
     "metadata": {},
     "output_type": "display_data"
    }
   ],
   "source": [
    "fig, ax = plt.subplots(1,2, figsize=(8, 4))\n",
    "sns.countplot(x='englishAtHome', data=pisaTrain, ax=ax[0])\n",
    "sns.boxplot(x='englishAtHome', y='readingScore', data=pisaTrain, ax=ax[1])\n",
    "plt.show()"
   ]
  },
  {
   "cell_type": "code",
   "execution_count": 545,
   "metadata": {
    "collapsed": false
   },
   "outputs": [
    {
     "data": {
      "image/png": "[encoded data removed]",
      "text/plain": [
       "<matplotlib.figure.Figure at 0x2a6d5cf8>"
      ]
     },
     "metadata": {},
     "output_type": "display_data"
    }
   ],
   "source": [
    "fig, ax = plt.subplots(1,2, figsize=(8, 4))\n",
    "sns.countplot(x='computerForSchoolwork', data=pisaTrain, ax=ax[0])\n",
    "sns.boxplot(x='computerForSchoolwork', y='readingScore', data=pisaTrain, ax=ax[1])\n",
    "plt.show()"
   ]
  },
  {
   "cell_type": "code",
   "execution_count": 546,
   "metadata": {
    "collapsed": false
   },
   "outputs": [
    {
     "data": {
      "image/png": "[encoded data removed]",
      "text/plain": [
       "<matplotlib.figure.Figure at 0x2a918f60>"
      ]
     },
     "metadata": {},
     "output_type": "display_data"
    }
   ],
   "source": [
    "fig, ax = plt.subplots(1,2, figsize=(8, 4))\n",
    "sns.countplot(x='read30MinsADay', data=pisaTrain, ax=ax[0])\n",
    "sns.boxplot(x='read30MinsADay', y='readingScore', data=pisaTrain, ax=ax[1])\n",
    "plt.show()"
   ]
  },
  {
   "cell_type": "code",
   "execution_count": 547,
   "metadata": {
    "collapsed": false
   },
   "outputs": [
    {
     "data": {
      "image/png": "[encoded data removed]",
      "text/plain": [
       "<matplotlib.figure.Figure at 0x24c9c470>"
      ]
     },
     "metadata": {},
     "output_type": "display_data"
    }
   ],
   "source": [
    "fig, ax = plt.subplots(1,2, figsize=(8, 4))\n",
    "sns.countplot(x='schoolHasLibrary', data=pisaTrain, ax=ax[0])\n",
    "sns.boxplot(x='schoolHasLibrary', y='readingScore', data=pisaTrain, ax=ax[1])\n",
    "plt.show()"
   ]
  },
  {
   "cell_type": "code",
   "execution_count": 548,
   "metadata": {
    "collapsed": false
   },
   "outputs": [
    {
     "data": {
      "image/png": "[encoded data removed]",
      "text/plain": [
       "<matplotlib.figure.Figure at 0x26a3bdd8>"
      ]
     },
     "metadata": {},
     "output_type": "display_data"
    }
   ],
   "source": [
    "fig, ax = plt.subplots(1,2, figsize=(8, 4))\n",
    "sns.countplot(x='publicSchool', data=pisaTrain, ax=ax[0])\n",
    "sns.boxplot(x='publicSchool', y='readingScore', data=pisaTrain, ax=ax[1])\n",
    "plt.show()"
   ]
  },
  {
   "cell_type": "code",
   "execution_count": 549,
   "metadata": {
    "collapsed": false
   },
   "outputs": [
    {
     "data": {
      "image/png": "[encoded data removed]",
      "text/plain": [
       "<matplotlib.figure.Figure at 0x2bf6c860>"
      ]
     },
     "metadata": {},
     "output_type": "display_data"
    }
   ],
   "source": [
    "fig, ax = plt.subplots(1,2, figsize=(8, 4))\n",
    "sns.countplot(x='urban', data=pisaTrain, ax=ax[0])\n",
    "sns.boxplot(x='urban', y='readingScore', data=pisaTrain, ax=ax[1])\n",
    "plt.show()"
   ]
  },
  {
   "cell_type": "code",
   "execution_count": 550,
   "metadata": {
    "collapsed": false
   },
   "outputs": [
    {
     "data": {
      "text/plain": [
       "['minutesPerWeekEnglish', 'studentsInEnglish', 'schoolSize']"
      ]
     },
     "execution_count": 550,
     "metadata": {},
     "output_type": "execute_result"
    }
   ],
   "source": [
    "contFeatures"
   ]
  },
  {
   "cell_type": "code",
   "execution_count": null,
   "metadata": {
    "collapsed": false
   },
   "outputs": [],
   "source": []
  },
  {
   "cell_type": "code",
   "execution_count": 551,
   "metadata": {
    "collapsed": false
   },
   "outputs": [
    {
     "data": {
      "text/html": [
       "<div>\n",
       "<table border=\"1\" class=\"dataframe\">\n",
       "  <thead>\n",
       "    <tr style=\"text-align: right;\">\n",
       "      <th></th>\n",
       "      <th>minutesPerWeekEnglish</th>\n",
       "      <th>studentsInEnglish</th>\n",
       "      <th>schoolSize</th>\n",
       "      <th>male</th>\n",
       "    </tr>\n",
       "  </thead>\n",
       "  <tbody>\n",
       "    <tr>\n",
       "      <th>count</th>\n",
       "      <td>3477.000000</td>\n",
       "      <td>3414.000000</td>\n",
       "      <td>3501.000000</td>\n",
       "      <td>3663.000000</td>\n",
       "    </tr>\n",
       "    <tr>\n",
       "      <th>mean</th>\n",
       "      <td>266.208225</td>\n",
       "      <td>24.499414</td>\n",
       "      <td>1369.316767</td>\n",
       "      <td>0.511057</td>\n",
       "    </tr>\n",
       "    <tr>\n",
       "      <th>std</th>\n",
       "      <td>148.403525</td>\n",
       "      <td>7.184348</td>\n",
       "      <td>869.983618</td>\n",
       "      <td>0.499946</td>\n",
       "    </tr>\n",
       "    <tr>\n",
       "      <th>min</th>\n",
       "      <td>0.000000</td>\n",
       "      <td>1.000000</td>\n",
       "      <td>100.000000</td>\n",
       "      <td>0.000000</td>\n",
       "    </tr>\n",
       "    <tr>\n",
       "      <th>25%</th>\n",
       "      <td>225.000000</td>\n",
       "      <td>20.000000</td>\n",
       "      <td>712.000000</td>\n",
       "      <td>0.000000</td>\n",
       "    </tr>\n",
       "    <tr>\n",
       "      <th>50%</th>\n",
       "      <td>250.000000</td>\n",
       "      <td>25.000000</td>\n",
       "      <td>1212.000000</td>\n",
       "      <td>1.000000</td>\n",
       "    </tr>\n",
       "    <tr>\n",
       "      <th>75%</th>\n",
       "      <td>300.000000</td>\n",
       "      <td>30.000000</td>\n",
       "      <td>1900.000000</td>\n",
       "      <td>1.000000</td>\n",
       "    </tr>\n",
       "    <tr>\n",
       "      <th>max</th>\n",
       "      <td>2400.000000</td>\n",
       "      <td>75.000000</td>\n",
       "      <td>6694.000000</td>\n",
       "      <td>1.000000</td>\n",
       "    </tr>\n",
       "  </tbody>\n",
       "</table>\n",
       "</div>"
      ],
      "text/plain": [
       "       minutesPerWeekEnglish  studentsInEnglish   schoolSize         male\n",
       "count            3477.000000        3414.000000  3501.000000  3663.000000\n",
       "mean              266.208225          24.499414  1369.316767     0.511057\n",
       "std               148.403525           7.184348   869.983618     0.499946\n",
       "min                 0.000000           1.000000   100.000000     0.000000\n",
       "25%               225.000000          20.000000   712.000000     0.000000\n",
       "50%               250.000000          25.000000  1212.000000     1.000000\n",
       "75%               300.000000          30.000000  1900.000000     1.000000\n",
       "max              2400.000000          75.000000  6694.000000     1.000000"
      ]
     },
     "execution_count": 551,
     "metadata": {},
     "output_type": "execute_result"
    }
   ],
   "source": [
    "pisaTrain[contFeatures+['male']].describe()"
   ]
  },
  {
   "cell_type": "code",
   "execution_count": 552,
   "metadata": {
    "collapsed": false
   },
   "outputs": [
    {
     "data": {
      "text/plain": [
       "<seaborn.axisgrid.PairGrid at 0x2ffc1ba8>"
      ]
     },
     "execution_count": 552,
     "metadata": {},
     "output_type": "execute_result"
    },
    {
     "data": {
      "image/png": "[encoded data removed]",
      "text/plain": [
       "<matplotlib.figure.Figure at 0x3fac20b8>"
      ]
     },
     "metadata": {},
     "output_type": "display_data"
    }
   ],
   "source": [
    "sns.pairplot(pisaTrain[contFeatures + ['readingScore']].dropna())"
   ]
  },
  {
   "cell_type": "markdown",
   "metadata": {},
   "source": [
    "The target variable **readingScore** has a normal distribution. The variables **schoolSize** and **minutesPerWeekEnglish** shows some skewness."
   ]
  },
  {
   "cell_type": "code",
   "execution_count": 553,
   "metadata": {
    "collapsed": false
   },
   "outputs": [
    {
     "data": {
      "text/plain": [
       "schoolHasLibrary         0.967614\n",
       "publicSchool             0.933934\n",
       "selfBornUS               0.931274\n",
       "computerForSchoolwork    0.899389\n",
       "motherHS                 0.879978\n",
       "englishAtHome            0.871659\n",
       "fatherHS                 0.859274\n",
       "fatherWork               0.853061\n",
       "expectBachelors          0.785893\n",
       "motherBornUS             0.772550\n",
       "fatherBornUS             0.766761\n",
       "motherWork               0.734454\n",
       "preschool                0.722761\n",
       "male                     0.511057\n",
       "urban                    0.384930\n",
       "motherBachelors          0.348132\n",
       "fatherBachelors          0.331933\n",
       "read30MinsADay           0.289887\n",
       "dtype: float64"
      ]
     },
     "execution_count": 553,
     "metadata": {},
     "output_type": "execute_result"
    }
   ],
   "source": [
    "pisaTrain[binaryFeatures].mean().sort_values(ascending=False)"
   ]
  },
  {
   "cell_type": "code",
   "execution_count": 554,
   "metadata": {
    "collapsed": false
   },
   "outputs": [
    {
     "data": {
      "image/png": "[encoded data removed]",
      "text/plain": [
       "<matplotlib.figure.Figure at 0x38d84710>"
      ]
     },
     "metadata": {},
     "output_type": "display_data"
    }
   ],
   "source": [
    "cont_data_corr = pisaTrain.corr()\n",
    "\n",
    "mask = np.zeros_like(cont_data_corr, dtype=np.bool)\n",
    "mask[np.triu_indices_from(mask)] = True\n",
    "# # Set up the matplotlib figure\n",
    "f, ax = plt.subplots(figsize=(12, 12))\n",
    "#\n",
    "# # Generate a custom diverging colormap\n",
    "#cmap = sns.diverging_palette(220, 10, as_cmap=True)\n",
    "#\n",
    "# # Draw the heatmap with the mask and correct aspect ratio\n",
    "sns.heatmap(cont_data_corr, mask=mask, cmap=cmap,vmax=1,\n",
    "            square=True,linewidths=.5, cbar_kws={\"shrink\": .5}, ax=ax)\n",
    "plt.show()"
   ]
  },
  {
   "cell_type": "code",
   "execution_count": 555,
   "metadata": {
    "collapsed": false
   },
   "outputs": [
    {
     "name": "stdout",
     "output_type": "stream",
     "text": [
      "List the numerical features decendingly by their correlation with Reading Score:\n",
      "\n",
      "      expectBachelors: 0.360\n",
      "                grade: 0.287\n",
      "      fatherBachelors: 0.266\n",
      "       read30MinsADay: 0.247\n",
      "      motherBachelors: 0.214\n",
      "computerForSchoolwork: 0.190\n",
      "             fatherHS: 0.175\n",
      "             motherHS: 0.156\n",
      "                 male: -0.154\n",
      "         publicSchool: -0.134\n",
      "        englishAtHome: 0.126\n",
      "         fatherBornUS: 0.089\n",
      "           fatherWork: 0.070\n",
      "minutesPerWeekEnglish: 0.068\n",
      "                urban: -0.064\n",
      "         motherBornUS: 0.063\n",
      "           motherWork: 0.043\n",
      "            preschool: 0.041\n",
      "     schoolHasLibrary: 0.038\n",
      "    studentsInEnglish: 0.035\n",
      "           schoolSize: 0.027\n",
      "           selfBornUS: 0.024\n"
     ]
    }
   ],
   "source": [
    "cor_dict = corr['readingScore'].to_dict()\n",
    "del cor_dict['readingScore']\n",
    "print(\"List the numerical features decendingly by their correlation with Reading Score:\\n\")\n",
    "for ele in sorted(cor_dict.items(), key = lambda x: -abs(x[1])):\n",
    "    print(\"%21s: %.3f\" %(ele))"
   ]
  },
  {
   "cell_type": "markdown",
   "metadata": {},
   "source": [
    "The dark red color shows positive correlations whereas the dark blue color shows negative correlation.\n",
    "\n",
    "Most correlations observed are:\n",
    "* 'motherHS' and 'fatherHS'\n",
    "* 'motherBachelors' and 'fatherBachelors'\n",
    "* 'motherBornUS' and 'fatherBornUS'\n",
    "* 'motherBornUS' and 'englishAtHome'\n",
    "* 'fatherBornUS' and 'englishAtHome'"
   ]
  },
  {
   "cell_type": "markdown",
   "metadata": {},
   "source": [
    "### Algorithms and Techniques"
   ]
  },
  {
   "cell_type": "code",
   "execution_count": null,
   "metadata": {
    "collapsed": true
   },
   "outputs": [],
   "source": []
  },
  {
   "cell_type": "markdown",
   "metadata": {},
   "source": [
    "### Benchmark"
   ]
  },
  {
   "cell_type": "code",
   "execution_count": 556,
   "metadata": {
    "collapsed": false
   },
   "outputs": [
    {
     "data": {
      "image/png": "[encoded data removed]",
      "text/plain": [
       "<matplotlib.figure.Figure at 0x3a3df898>"
      ]
     },
     "metadata": {},
     "output_type": "display_data"
    }
   ],
   "source": [
    "plt.hist(y_train)\n",
    "plt.show()"
   ]
  },
  {
   "cell_type": "code",
   "execution_count": 557,
   "metadata": {
    "collapsed": false
   },
   "outputs": [
    {
     "name": "stdout",
     "output_type": "stream",
     "text": [
      "mean score: 497.911403221\n",
      "benchmark RMSE using mean: 95.5021145158\n"
     ]
    }
   ],
   "source": [
    "meanScore = np.mean(pisaTrain.readingScore)\n",
    "print 'mean score:', meanScore\n",
    "trainMeanRMSE = np.sqrt(np.mean((meanScore - pisaTrain.readingScore)**2))\n",
    "print 'benchmark RMSE using mean:', trainMeanRMSE"
   ]
  },
  {
   "cell_type": "markdown",
   "metadata": {},
   "source": [
    "## III. Methodology\n",
    "(3-5 pages)"
   ]
  },
  {
   "cell_type": "markdown",
   "metadata": {},
   "source": [
    "### Data Preprocessing"
   ]
  },
  {
   "cell_type": "markdown",
   "metadata": {},
   "source": [
    "#### First model before any processing"
   ]
  },
  {
   "cell_type": "code",
   "execution_count": 558,
   "metadata": {
    "collapsed": false
   },
   "outputs": [
    {
     "name": "stdout",
     "output_type": "stream",
     "text": [
      "LR: 77.005626 (2.299419) r2: 0.247702 (0.050454)\n",
      "LASSO: 77.420180 (2.353156) r2: 0.240048 (0.043700)\n",
      "EN: 82.189403 (2.825104) r2: 0.144828 (0.024379)\n",
      "KNN: 88.123485 (2.657280) r2: 0.014146 (0.074554)\n",
      "CART: 106.867105 (4.009383) r2: -0.461665 (0.155124)\n",
      "SVR: 88.935803 (3.327227) r2: -0.000746 (0.011188)\n"
     ]
    }
   ],
   "source": [
    "# drop all NaN rows\n",
    "df = pisaTrain.dropna()\n",
    "# remove category variable raceeth\n",
    "df = df.drop('raceeth', axis=1)\n",
    "X_train = df.iloc[:,:-1].values\n",
    "y_train = df['readingScore'].values\n",
    "_ = do_cross_validation(X_train, y_train)"
   ]
  },
  {
   "cell_type": "markdown",
   "metadata": {},
   "source": [
    "#### Handling missing values"
   ]
  },
  {
   "cell_type": "code",
   "execution_count": 562,
   "metadata": {
    "collapsed": false
   },
   "outputs": [],
   "source": [
    "pisaTrain = pisaTrain.dropna()\n"
   ]
  },
  {
   "cell_type": "markdown",
   "metadata": {},
   "source": [
    "#### Feature Selection: 1. SelectKBest"
   ]
  },
  {
   "cell_type": "code",
   "execution_count": 638,
   "metadata": {
    "collapsed": false
   },
   "outputs": [
    {
     "name": "stdout",
     "output_type": "stream",
     "text": [
      "324 expectBachelors\n",
      "200 fatherBachelors\n",
      "178 raceeth_White\n",
      "145 grade\n",
      "145 read30MinsADay\n",
      "130 motherBachelors\n",
      "100 raceeth_Black\n",
      " 91 raceeth_Hispanic\n",
      " 81 computerForSchoolwork\n",
      " 70 fatherHS\n",
      " 47 motherHS\n",
      " 40 male\n",
      " 30 publicSchool\n",
      " 28 englishAtHome\n",
      " 14 raceeth_American Indian/Alaska Native\n",
      " 14 fatherWork\n",
      " 12 raceeth_Asian\n",
      " 10 fatherBornUS\n",
      "  6 motherBornUS\n",
      "  6 preschool\n",
      "  3 minutesPerWeekEnglish\n",
      "  1 motherWork\n",
      "  1 schoolHasLibrary\n",
      "  1 schoolSize\n",
      "  0 raceeth_Native Hawaiian/Other Pacific Islander\n",
      "  0 urban\n",
      "  0 selfBornUS\n",
      "  0 studentsInEnglish\n",
      "  0 raceeth_More than one race\n"
     ]
    }
   ],
   "source": [
    "from sklearn.feature_selection import SelectKBest\n",
    "from numpy import set_printoptions\n",
    "from sklearn.feature_selection import f_regression\n",
    "X = pisaTrain.values\n",
    "y = y_train\n",
    "# feature extraction\n",
    "\n",
    "test = SelectKBest(score_func=f_regression, k=23)\n",
    "fit = test.fit(X, y)\n",
    "# summarize scores\n",
    "set_printoptions(precision=3)\n",
    "i = 0\n",
    "KBest_ranking = {}\n",
    "for score in fit.scores_:\n",
    "    KBest_ranking[pisaTrain.columns[i]] = score\n",
    "    i +=1\n",
    "\n",
    "for key in sorted(KBest_ranking, key=KBest_ranking.get, reverse=True):\n",
    "    print \"%3d %s\" % (KBest_ranking[key], key)\n",
    "#features = fit.transform(X)\n",
    "#_ = do_cross_validation(features, y_train)"
   ]
  },
  {
   "cell_type": "markdown",
   "metadata": {},
   "source": [
    "#### Feature Selection: 2. RFE"
   ]
  },
  {
   "cell_type": "code",
   "execution_count": 635,
   "metadata": {
    "collapsed": false
   },
   "outputs": [
    {
     "name": "stdout",
     "output_type": "stream",
     "text": [
      " 1 schoolSize\n",
      " 2 minutesPerWeekEnglish\n",
      " 3 studentsInEnglish\n",
      " 4 expectBachelors\n",
      " 5 grade\n",
      " 6 raceeth_Black\n",
      " 7 raceeth_Hispanic\n",
      " 8 read30MinsADay\n",
      " 9 motherBachelors\n",
      "10 raceeth_White\n",
      "11 computerForSchoolwork\n",
      "12 male\n",
      "13 fatherBachelors\n",
      "14 publicSchool\n",
      "15 motherBornUS\n",
      "16 preschool\n",
      "17 raceeth_Asian\n",
      "18 selfBornUS\n",
      "19 fatherHS\n",
      "20 englishAtHome\n",
      "21 motherHS\n",
      "22 raceeth_American Indian/Alaska Native\n",
      "23 urban\n",
      "24 raceeth_Native Hawaiian/Other Pacific Islander\n",
      "25 motherWork\n",
      "26 schoolHasLibrary\n",
      "27 fatherWork\n",
      "28 fatherBornUS\n",
      "29 raceeth_More than one race\n"
     ]
    }
   ],
   "source": [
    "from sklearn.feature_selection import RFE\n",
    "model = GradientBoostingRegressor()\n",
    "rfe = RFE(model, 1)\n",
    "fit = rfe.fit(X, y)\n",
    "#print(\"Num Features: %d\") % fit.n_features_\n",
    "#print(\"Selected Features: %s\") % fit.support_\n",
    "#print(\"Feature Ranking: %s\") % fit.ranking_\n",
    "#print pisaTrain.columns[fit.support_]\n",
    "RFE_ranking = {}\n",
    "i = 0\n",
    "for rank in fit.ranking_:\n",
    "    RFE_ranking[pisaTrain.columns[i]] = rank\n",
    "    i += 1\n",
    "\n",
    "for key in sorted(RFE_ranking, key=RFE_ranking.get):\n",
    "    print \"%2d %s\" % (RFE_ranking[key], key) "
   ]
  },
  {
   "cell_type": "code",
   "execution_count": 614,
   "metadata": {
    "collapsed": false
   },
   "outputs": [
    {
     "name": "stdout",
     "output_type": "stream",
     "text": [
      "LR: 84.939455 (3.573270) r2: 0.086164 (0.050320)\n",
      "LASSO: 85.541101 (3.734421) r2: 0.073874 (0.039286)\n",
      "EN: 87.671229 (3.421138) r2: 0.027527 (0.017732)\n",
      "KNN: 89.776236 (6.813595) r2: -0.026200 (0.157068)\n",
      "CART: 84.939455 (3.573270) r2: 0.086164 (0.050320)\n",
      "SVR: 85.906425 (3.784334) r2: 0.066237 (0.033386)\n"
     ]
    }
   ],
   "source": [
    "X_train = pisaTrain[pisaTrain.columns[fit.support_]].values\n",
    "_ = do_cross_validation(X_train, y_train)"
   ]
  },
  {
   "cell_type": "markdown",
   "metadata": {},
   "source": [
    "### Feature Selection: 3. Principal Component Analysis"
   ]
  },
  {
   "cell_type": "code",
   "execution_count": 616,
   "metadata": {
    "collapsed": false
   },
   "outputs": [
    {
     "name": "stdout",
     "output_type": "stream",
     "text": [
      "Explained Variance: [  9.729e-01   2.704e-02   6.109e-05   8.632e-07]\n",
      "[[  4.519e-05   6.581e-06  -1.400e-05   1.444e-05  -2.494e-05  -3.976e-06\n",
      "   -2.577e-05  -2.993e-05   5.249e-06  -4.970e-06  -3.421e-05  -1.219e-04\n",
      "   -1.272e-04  -8.063e-05   2.472e-05  -8.584e-06   8.245e-04   2.461e-03\n",
      "    1.564e-05   8.478e-05   1.800e-04   1.000e+00  -5.762e-06   1.841e-05\n",
      "    4.398e-06   1.198e-04  -3.332e-06   1.012e-06  -1.345e-04]\n",
      " [  6.256e-05  -2.702e-05  -9.502e-05   4.610e-05  -1.844e-06   6.531e-05\n",
      "    6.088e-05   2.849e-05  -8.550e-06   1.807e-05  -1.849e-05   3.505e-05\n",
      "    2.654e-05  -3.829e-05  -4.249e-05   1.026e-04   1.000e+00   2.301e-03\n",
      "    1.354e-06   1.258e-04  -1.892e-04  -8.301e-04   6.251e-06   1.502e-05\n",
      "   -5.427e-05  -4.857e-05   1.371e-05  -1.623e-06   6.948e-05]\n",
      " [  3.503e-03  -2.810e-03  -1.151e-03   1.582e-03  -7.032e-04  -3.311e-03\n",
      "   -1.538e-03  -9.792e-05  -2.678e-03  -1.044e-04   8.354e-04  -1.798e-03\n",
      "   -1.215e-03  -1.222e-04   1.522e-03   8.014e-04  -2.302e-03   9.999e-01\n",
      "    1.889e-03   1.117e-03   4.738e-03  -2.461e-03  -4.713e-04   1.974e-03\n",
      "   -1.155e-03  -4.518e-04   9.487e-04   4.286e-04  -1.273e-03]\n",
      " [  7.065e-03  -3.800e-02  -1.478e-01  -7.982e-02  -2.032e-01  -3.033e-01\n",
      "   -1.106e-01  -2.121e-01  -3.045e-01  -4.388e-02  -1.169e-01  -3.546e-01\n",
      "   -3.521e-01  -2.617e-01  -6.535e-02  -4.476e-03   1.162e-04  -4.509e-03\n",
      "   -9.500e-03   1.630e-03   1.712e-01  -2.486e-04   4.301e-03   5.158e-02\n",
      "    2.318e-02   3.501e-01   5.656e-03   5.270e-03  -4.401e-01]]\n"
     ]
    }
   ],
   "source": [
    "from sklearn.decomposition import PCA\n",
    "pca = PCA(n_components=4)\n",
    "fit = pca.fit(X)\n",
    "# summarize components\n",
    "print(\"Explained Variance: %s\") %fit.explained_variance_ratio_\n",
    "print(fit.components_)"
   ]
  },
  {
   "cell_type": "code",
   "execution_count": 618,
   "metadata": {
    "collapsed": false
   },
   "outputs": [
    {
     "name": "stdout",
     "output_type": "stream",
     "text": [
      "LR: 84.939455 (3.573270) r2: 0.086164 (0.050320)\n",
      "LASSO: 85.541101 (3.734421) r2: 0.073874 (0.039286)\n",
      "EN: 87.671229 (3.421138) r2: 0.027527 (0.017732)\n",
      "KNN: 89.776236 (6.813595) r2: -0.026200 (0.157068)\n",
      "CART: 84.939455 (3.573270) r2: 0.086164 (0.050320)\n",
      "SVR: 85.906425 (3.784334) r2: 0.066237 (0.033386)\n"
     ]
    }
   ],
   "source": [
    "Xpca = pca.transform(X)\n",
    "_=do_cross_validation(Xpca, y_train)"
   ]
  },
  {
   "cell_type": "markdown",
   "metadata": {},
   "source": [
    "### Feature Selection: 4. Feature Importance"
   ]
  },
  {
   "cell_type": "code",
   "execution_count": 639,
   "metadata": {
    "collapsed": false
   },
   "outputs": [
    {
     "name": "stdout",
     "output_type": "stream",
     "text": [
      "0.1189 expectBachelors\n",
      "0.1123 schoolSize\n",
      "0.1053 minutesPerWeekEnglish\n",
      "0.1031 studentsInEnglish\n",
      "0.0669 grade\n",
      "0.0597 raceeth_White\n",
      "0.0422 read30MinsADay\n",
      "0.0342 motherBachelors\n",
      "0.0327 male\n",
      "0.0322 motherWork\n",
      "0.0313 urban\n",
      "0.0309 preschool\n",
      "0.0294 fatherBachelors\n",
      "0.0219 fatherWork\n",
      "0.0186 motherBornUS\n",
      "0.0180 motherHS\n",
      "0.0175 fatherBornUS\n",
      "0.0171 publicSchool\n",
      "0.0159 fatherHS\n",
      "0.0151 computerForSchoolwork\n",
      "0.0136 selfBornUS\n",
      "0.0135 raceeth_Black\n",
      "0.0121 raceeth_Asian\n",
      "0.0115 schoolHasLibrary\n",
      "0.0111 englishAtHome\n",
      "0.0089 raceeth_Hispanic\n",
      "0.0036 raceeth_More than one race\n",
      "0.0014 raceeth_American Indian/Alaska Native\n",
      "0.0013 raceeth_Native Hawaiian/Other Pacific Islander\n"
     ]
    }
   ],
   "source": [
    "from sklearn.ensemble import ExtraTreesRegressor\n",
    "model = ExtraTreesRegressor()\n",
    "model.fit(X, y)\n",
    "#print(model.feature_importances_)\n",
    "i = 0\n",
    "res_dict = {}\n",
    "for f in model.feature_importances_:\n",
    "    res_dict[pisaTrain.columns[i]] = f\n",
    "    i += 1\n",
    "    \n",
    "#for key, value in sorted(res_dict.iteritems(), key=lambda(k,v): (v,k)):\n",
    "#    print \"%f %s\" % (value, key)\n",
    "\n",
    "for key in sorted(res_dict, key=res_dict.get, reverse=True):\n",
    "    print \"%.4f %s\" % (res_dict[key], key)\n"
   ]
  },
  {
   "cell_type": "code",
   "execution_count": null,
   "metadata": {
    "collapsed": true
   },
   "outputs": [],
   "source": []
  },
  {
   "cell_type": "code",
   "execution_count": 598,
   "metadata": {
    "collapsed": false
   },
   "outputs": [
    {
     "name": "stdout",
     "output_type": "stream",
     "text": [
      "Gradient Boosing Regressor RMSE: 74.498045 (2.735097)\n",
      "Gradient Boosing Regressor R2: 0.295644 (0.054933)\n"
     ]
    }
   ],
   "source": [
    "model = GradientBoostingRegressor(n_estimators=150, random_state=seed)\n",
    "kfold = KFold(n_splits=num_folds, random_state=seed)\n",
    "\n",
    "cv_results = np.sqrt(-cross_val_score(model, features, y_train, scoring=scoring, cv=kfold))\n",
    "cv_r2 = cross_val_score(model, features, y_train, scoring='r2', cv=kfold)\n",
    "\n",
    "print  \"Gradient Boosing Regressor RMSE: %f (%f)\" % (cv_results.mean(), cv_results.std())\n",
    "print  \"Gradient Boosing Regressor R2: %f (%f)\" % (cv_r2.mean(), cv_r2.std())"
   ]
  },
  {
   "cell_type": "code",
   "execution_count": 513,
   "metadata": {
    "collapsed": false
   },
   "outputs": [],
   "source": [
    "# For continuous variables replace the missing data with average of columns\n",
    "#minutesPerWeekEnglish\n",
    "#studentsInEnglish\n",
    "#schoolSize\n",
    "\n",
    "pisaTrain['minutesPerWeekEnglish'].fillna(int(pisaTrain['minutesPerWeekEnglish'].mean()), inplace=True)\n",
    "pisaTrain['studentsInEnglish'].fillna(int(pisaTrain['studentsInEnglish'].mean()), inplace=True)\n",
    "pisaTrain['schoolSize'].fillna(int(pisaTrain['schoolSize'].mean()), inplace=True)"
   ]
  },
  {
   "cell_type": "code",
   "execution_count": 514,
   "metadata": {
    "collapsed": false
   },
   "outputs": [],
   "source": [
    "# fill every column with its own most frequent value\n",
    "pisaTrain = pisaTrain.apply(lambda x:x.fillna(x.value_counts().index[0]))"
   ]
  },
  {
   "cell_type": "code",
   "execution_count": 561,
   "metadata": {
    "collapsed": false
   },
   "outputs": [
    {
     "data": {
      "text/plain": [
       "(2414, 24)"
      ]
     },
     "execution_count": 561,
     "metadata": {},
     "output_type": "execute_result"
    }
   ],
   "source": [
    "pisaTrain.dropna().shape"
   ]
  },
  {
   "cell_type": "markdown",
   "metadata": {},
   "source": [
    "#### Model after imputing missing values"
   ]
  },
  {
   "cell_type": "code",
   "execution_count": 563,
   "metadata": {
    "collapsed": false
   },
   "outputs": [],
   "source": [
    "X_train = pisaTrain.drop(['raceeth', 'readingScore'], axis=1).values\n",
    "y_train = pisaTrain['readingScore'].values"
   ]
  },
  {
   "cell_type": "code",
   "execution_count": 564,
   "metadata": {
    "collapsed": false
   },
   "outputs": [
    {
     "name": "stdout",
     "output_type": "stream",
     "text": [
      "LR: 77.005626 (2.299419) r2: 0.247702 (0.050454)\n",
      "LASSO: 77.420180 (2.353156) r2: 0.240048 (0.043700)\n",
      "EN: 82.189403 (2.825104) r2: 0.144828 (0.024379)\n",
      "KNN: 88.123485 (2.657280) r2: 0.014146 (0.074554)\n",
      "CART: 107.295851 (4.560908) r2: -0.461299 (0.147174)\n",
      "SVR: 88.935803 (3.327227) r2: -0.000746 (0.011188)\n"
     ]
    }
   ],
   "source": [
    "_ = do_cross_validation(X_train, y_train)"
   ]
  },
  {
   "cell_type": "code",
   "execution_count": null,
   "metadata": {
    "collapsed": false
   },
   "outputs": [],
   "source": []
  },
  {
   "cell_type": "code",
   "execution_count": null,
   "metadata": {
    "collapsed": true
   },
   "outputs": [],
   "source": []
  },
  {
   "cell_type": "markdown",
   "metadata": {},
   "source": [
    "#### Create dummy variables for category fields"
   ]
  },
  {
   "cell_type": "code",
   "execution_count": 565,
   "metadata": {
    "collapsed": false
   },
   "outputs": [],
   "source": [
    "raceeth = pd.get_dummies(pisaTrain['raceeth'], 'raceeth')\n",
    "pisaTrain = pd.concat([pisaTrain, raceeth], axis=1)\n",
    "pisaTrain = pisaTrain.drop('raceeth', axis=1)"
   ]
  },
  {
   "cell_type": "code",
   "execution_count": 566,
   "metadata": {
    "collapsed": false
   },
   "outputs": [
    {
     "name": "stdout",
     "output_type": "stream",
     "text": [
      "LR: 74.194921 (2.698990) r2: 0.301097 (0.057808)\n",
      "LASSO: 74.625365 (2.816938) r2: 0.293726 (0.049083)\n",
      "EN: 80.541276 (2.997608) r2: 0.178793 (0.028290)\n",
      "KNN: 88.286724 (2.692248) r2: 0.010679 (0.072382)\n",
      "CART: 106.744246 (2.620892) r2: -0.445508 (0.065589)\n",
      "SVR: 88.894396 (3.327829) r2: 0.000187 (0.011207)\n"
     ]
    }
   ],
   "source": [
    "pisaTrain = pisaTrain.drop('readingScore', axis=1)\n",
    "X_train = pisaTrain.values\n",
    "\n",
    "_ = do_cross_validation(X_train, y_train)"
   ]
  },
  {
   "cell_type": "markdown",
   "metadata": {},
   "source": [
    "#### Data transformations"
   ]
  },
  {
   "cell_type": "code",
   "execution_count": 567,
   "metadata": {
    "collapsed": false
   },
   "outputs": [
    {
     "data": {
      "text/plain": [
       "array([[<matplotlib.axes._subplots.AxesSubplot object at 0x0000000039DC2048>,\n",
       "        <matplotlib.axes._subplots.AxesSubplot object at 0x0000000039166D68>],\n",
       "       [<matplotlib.axes._subplots.AxesSubplot object at 0x00000000383CED68>,\n",
       "        <matplotlib.axes._subplots.AxesSubplot object at 0x0000000039619CF8>]], dtype=object)"
      ]
     },
     "execution_count": 567,
     "metadata": {},
     "output_type": "execute_result"
    },
    {
     "data": {
      "image/png": "[encoded data removed]",
      "text/plain": [
       "<matplotlib.figure.Figure at 0x39db3278>"
      ]
     },
     "metadata": {},
     "output_type": "display_data"
    }
   ],
   "source": [
    "pisaTrain[contFeatures].hist()"
   ]
  },
  {
   "cell_type": "code",
   "execution_count": 237,
   "metadata": {
    "collapsed": false
   },
   "outputs": [],
   "source": [
    "# log transformations - No improvements\n",
    "#np.log(allData['schoolSize']).hist()\n",
    "#allData['schoolSize'] = np.log(allData['schoolSize'])\n",
    "#np.log1p(allData['minutesPerWeekEnglish']).hist()\n",
    "#allData['minutesPerWeekEnglish'] = np.log1p(allData['minutesPerWeekEnglish'])"
   ]
  },
  {
   "cell_type": "markdown",
   "metadata": {},
   "source": [
    "### Implementation"
   ]
  },
  {
   "cell_type": "code",
   "execution_count": 568,
   "metadata": {
    "collapsed": false
   },
   "outputs": [
    {
     "name": "stdout",
     "output_type": "stream",
     "text": [
      "ScaledLR: 76.944864 (7.118527)\n",
      "ScaledLASSO: 74.203522 (2.777269)\n",
      "ScaledEN: 75.031366 (2.712704)\n",
      "ScaledKNN: 81.794770 (2.605510)\n",
      "ScaledCART: 106.932101 (3.855188)\n",
      "ScaledSVR: 80.833584 (2.972799)\n"
     ]
    }
   ],
   "source": [
    "# Standardize the dataset\n",
    "from sklearn.pipeline import Pipeline\n",
    "from sklearn.preprocessing import StandardScaler\n",
    "from sklearn.preprocessing import MinMaxScaler\n",
    "pipelines = []\n",
    "pipelines.append(('ScaledLR', Pipeline([('Scaler', MinMaxScaler()),('LR', LinearRegression())])))\n",
    "pipelines.append(('ScaledLASSO', Pipeline([('Scaler', StandardScaler()),('LASSO', Lasso())])))\n",
    "pipelines.append(('ScaledEN', Pipeline([('Scaler', StandardScaler()),('EN', ElasticNet())])))\n",
    "pipelines.append(('ScaledKNN', Pipeline([('Scaler', StandardScaler()),('KNN', KNeighborsRegressor())])))\n",
    "pipelines.append(('ScaledCART', Pipeline([('Scaler', StandardScaler()),('CART', DecisionTreeRegressor())])))\n",
    "pipelines.append(('ScaledSVR', Pipeline([('Scaler', StandardScaler()),('SVR', SVR())])))\n",
    "results = []\n",
    "names = []\n",
    "for name, model in pipelines:\n",
    "    kfold = KFold(n_splits=num_folds, random_state=seed)\n",
    "    cv_results = np.sqrt(-cross_val_score(model, X_train, y_train, cv=kfold, scoring='neg_mean_squared_error'))\n",
    "    results.append(cv_results)\n",
    "    names.append(name)\n",
    "    msg = \"%s: %f (%f)\" % (name, cv_results.mean(), cv_results.std())\n",
    "    print(msg)"
   ]
  },
  {
   "cell_type": "markdown",
   "metadata": {},
   "source": [
    "#### Ensemble methods"
   ]
  },
  {
   "cell_type": "code",
   "execution_count": 569,
   "metadata": {
    "collapsed": false
   },
   "outputs": [
    {
     "name": "stdout",
     "output_type": "stream",
     "text": [
      "ScaledAB: 76.845065 (2.130382)\n",
      "ScaledGBM: 72.636199 (2.421526)\n",
      "ScaledRF: 79.934657 (2.971468)\n",
      "ScaledET: 87.737101 (3.817180)\n"
     ]
    }
   ],
   "source": [
    "from sklearn.ensemble import RandomForestRegressor\n",
    "from sklearn.ensemble import GradientBoostingRegressor\n",
    "from sklearn.ensemble import ExtraTreesRegressor\n",
    "from sklearn.ensemble import AdaBoostRegressor\n",
    "# ensembles\n",
    "ensembles = []\n",
    "ensembles.append(('ScaledAB', Pipeline([('Scaler', StandardScaler()),('AB', AdaBoostRegressor())])))\n",
    "ensembles.append(('ScaledGBM', Pipeline([('Scaler', StandardScaler()),('GBM', GradientBoostingRegressor())])))\n",
    "ensembles.append(('ScaledRF', Pipeline([('Scaler', StandardScaler()),('RF', RandomForestRegressor())])))\n",
    "ensembles.append(('ScaledET', Pipeline([('Scaler', StandardScaler()),('ET', ExtraTreesRegressor())])))\n",
    "results = []\n",
    "names = []\n",
    "for name, model in ensembles:\n",
    "    kfold = KFold(n_splits=num_folds, random_state=seed)\n",
    "    cv_results = np.sqrt(-cross_val_score(model, X_train, y_train, cv=kfold, scoring=scoring))\n",
    "    results.append(cv_results)\n",
    "    names.append(name)\n",
    "    msg = \"%s: %f (%f)\" % (name, cv_results.mean(), cv_results.std())\n",
    "    print(msg)"
   ]
  },
  {
   "cell_type": "code",
   "execution_count": 319,
   "metadata": {
    "collapsed": false
   },
   "outputs": [
    {
     "data": {
      "image/png": "[encoded data removed]",
      "text/plain": [
       "<matplotlib.figure.Figure at 0x24830860>"
      ]
     },
     "metadata": {},
     "output_type": "display_data"
    }
   ],
   "source": [
    "# Compare Algorithms\n",
    "fig = plt.figure()\n",
    "fig.suptitle('Scaled Algorithm Comparison')\n",
    "ax = fig.add_subplot(111)\n",
    "plt.boxplot(results)\n",
    "ax.set_xticklabels(names)\n",
    "plt.show()"
   ]
  },
  {
   "cell_type": "code",
   "execution_count": 282,
   "metadata": {
    "collapsed": false
   },
   "outputs": [
    {
     "name": "stdout",
     "output_type": "stream",
     "text": [
      "74.5031653788\n"
     ]
    }
   ],
   "source": []
  },
  {
   "cell_type": "code",
   "execution_count": null,
   "metadata": {
    "collapsed": true
   },
   "outputs": [],
   "source": []
  },
  {
   "cell_type": "code",
   "execution_count": 570,
   "metadata": {
    "collapsed": false
   },
   "outputs": [
    {
     "data": {
      "text/plain": [
       "0.9589629149446891"
      ]
     },
     "execution_count": 570,
     "metadata": {},
     "output_type": "execute_result"
    }
   ],
   "source": [
    "from sklearn.metrics import r2_score\n",
    "R2 = r2_score(y_test, y_pred)\n",
    "R2"
   ]
  },
  {
   "cell_type": "code",
   "execution_count": null,
   "metadata": {
    "collapsed": true
   },
   "outputs": [],
   "source": []
  },
  {
   "cell_type": "markdown",
   "metadata": {},
   "source": [
    "### Refinement"
   ]
  },
  {
   "cell_type": "code",
   "execution_count": 571,
   "metadata": {
    "collapsed": false
   },
   "outputs": [],
   "source": [
    "from sklearn.model_selection import GridSearchCV\n",
    "# Tune scaled GBM\n",
    "scaler = StandardScaler().fit(X_train)\n",
    "rescaledX = scaler.transform(X_train)\n",
    "param_grid = dict(n_estimators=np.array([50,100,150,200,250,300,350,400]))\n",
    "model = GradientBoostingRegressor(random_state=seed)\n",
    "kfold = KFold(n_splits=num_folds, random_state=seed)\n",
    "grid = GridSearchCV(estimator=model, param_grid=param_grid, scoring=scoring, cv=kfold)\n",
    "grid_result = grid.fit(rescaledX, y_train)"
   ]
  },
  {
   "cell_type": "code",
   "execution_count": 572,
   "metadata": {
    "collapsed": false
   },
   "outputs": [
    {
     "name": "stdout",
     "output_type": "stream",
     "text": [
      "Best: -5286.431538 using {'n_estimators': 100}\n",
      "-5384.177425 (381.896429) with: {'n_estimators': 50}\n",
      "-5286.431538 (356.165545) with: {'n_estimators': 100}\n",
      "-5298.556481 (333.280794) with: {'n_estimators': 150}\n",
      "-5343.473388 (330.601687) with: {'n_estimators': 200}\n",
      "-5378.166911 (332.341387) with: {'n_estimators': 250}\n",
      "-5429.598484 (339.901512) with: {'n_estimators': 300}\n",
      "-5474.953629 (347.164762) with: {'n_estimators': 350}\n",
      "-5533.853026 (355.519936) with: {'n_estimators': 400}\n"
     ]
    }
   ],
   "source": [
    "print(\"Best: %f using %s\" % (grid_result.best_score_, grid_result.best_params_))\n",
    "means = grid_result.cv_results_['mean_test_score']\n",
    "stds = grid_result.cv_results_['std_test_score']\n",
    "params = grid_result.cv_results_['params']\n",
    "for mean, stdev, param in zip(means, stds, params):\n",
    "    print(\"%f (%f) with: %r\" % (mean, stdev, param))"
   ]
  },
  {
   "cell_type": "code",
   "execution_count": 573,
   "metadata": {
    "collapsed": false
   },
   "outputs": [
    {
     "name": "stdout",
     "output_type": "stream",
     "text": [
      "Gradient Boosing Regressor RMSE: 72.755908 (2.303413)\n",
      "Gradient Boosing Regressor R2: 0.328018 (0.052865)\n"
     ]
    }
   ],
   "source": [
    "scaler = StandardScaler().fit(X_train)\n",
    "rescaledX = scaler.transform(X_train)\n",
    "model = GradientBoostingRegressor(n_estimators=150, random_state=seed)\n",
    "kfold = KFold(n_splits=num_folds, random_state=seed)\n",
    "\n",
    "cv_results = np.sqrt(-cross_val_score(model, rescaledX, y_train, scoring=scoring, cv=kfold))\n",
    "cv_r2 = cross_val_score(model, rescaledX, y_train, scoring='r2', cv=kfold)\n",
    "\n",
    "print  \"Gradient Boosing Regressor RMSE: %f (%f)\" % (cv_results.mean(), cv_results.std())\n",
    "print  \"Gradient Boosing Regressor R2: %f (%f)\" % (cv_r2.mean(), cv_r2.std())"
   ]
  },
  {
   "cell_type": "markdown",
   "metadata": {},
   "source": [
    "## IV. Results\n",
    "(2-3 pages)"
   ]
  },
  {
   "cell_type": "markdown",
   "metadata": {},
   "source": [
    "### Model Evaluation and Validation"
   ]
  },
  {
   "cell_type": "markdown",
   "metadata": {},
   "source": [
    "### Justification"
   ]
  },
  {
   "cell_type": "code",
   "execution_count": null,
   "metadata": {
    "collapsed": false
   },
   "outputs": [],
   "source": []
  },
  {
   "cell_type": "markdown",
   "metadata": {},
   "source": [
    "## V. Conclusion\n",
    "(1-2 pages)"
   ]
  },
  {
   "cell_type": "markdown",
   "metadata": {},
   "source": [
    "### Free-Form Visualization"
   ]
  },
  {
   "cell_type": "markdown",
   "metadata": {},
   "source": [
    "### Reflection"
   ]
  },
  {
   "cell_type": "markdown",
   "metadata": {},
   "source": [
    "### Improvement"
   ]
  },
  {
   "cell_type": "markdown",
   "metadata": {},
   "source": [
    "### References\n",
    "[1] Berger, Kathleen. Invitation to The Life Span (second ed.). worth. ISBN 978-1-4641-7205-2."
   ]
  }
 ],
 "metadata": {
  "kernelspec": {
   "display_name": "Python 2",
   "language": "python",
   "name": "python2"
  },
  "language_info": {
   "codemirror_mode": {
    "name": "ipython",
    "version": 2
   },
   "file_extension": ".py",
   "mimetype": "text/x-python",
   "name": "python",
   "nbconvert_exporter": "python",
   "pygments_lexer": "ipython2",
   "version": "2.7.11"
  }
 },
 "nbformat": 4,
 "nbformat_minor": 0
}
