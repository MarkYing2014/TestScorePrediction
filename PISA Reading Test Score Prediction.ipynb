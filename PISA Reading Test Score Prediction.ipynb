{
 "cells": [
  {
   "cell_type": "markdown",
   "metadata": {},
   "source": [
    "# Test Score Prediction - PISA 2009\n",
    "\n",
    "Shinto Theruvil Manuel\n",
    "\n",
    "December 2016"
   ]
  },
  {
   "cell_type": "markdown",
   "metadata": {},
   "source": [
    "## I. Definition\n",
    "(1-2 pages)\n",
    "### Project Overview"
   ]
  },
  {
   "cell_type": "markdown",
   "metadata": {},
   "source": [
    "## II. Analysis \n",
    "(2-4 pages)\n",
    "### Data Exploration"
   ]
  },
  {
   "cell_type": "markdown",
   "metadata": {},
   "source": [
    "The datasets **pisa2009train.csv** and **pisa2009test.csv** contain information about the demographics\n",
    "and schools for American students taking the exam, derived from 2009 PISA Public-Use Data Files\n",
    "distributed by the United States National Center for Education Statistics (NCES). While the datasets\n",
    "are not supposed to contain identifying information about students taking the test, by using the\n",
    "data you are bound by the NCES data use agreement, which prohibits any attempt to determine\n",
    "the identity of any student in the datasets.\n"
   ]
  },
  {
   "cell_type": "markdown",
   "metadata": {},
   "source": [
    "#### Fields\n",
    "The datasets have the following variables:\n",
    "* **grade**: The grade in school of the student (most 15-year-olds in America are in 10th grade)\n",
    "* **male**: Whether the student is male (1/0)\n",
    "* **raceeth**: The race/ethnicity composite of the student\n",
    "* **preschool**: Whether the student attended preschool (1/0)\n",
    "* **expectBachelors**: Whether the student expects to obtain a bachelor's degree (1/0)\n",
    "* **motherHS**: Whether the student's mother completed high school (1/0)\n",
    "* **motherBachelors**: Whether the student's mother obtained a bachelor's degree (1/0)\n",
    "* **motherWork**: Whether the student's mother has part-time or full-time work (1/0)\n",
    "* **fatherHS**: Whether the student's father completed high school (1/0)\n",
    "* **fatherBachelors**: Whether the student's father obtained a bachelor's degree (1/0)\n",
    "* **fatherWork**: Whether the student's father has part-time or full-time work (1/0)\n",
    "* **selfBornUS**: Whether the student was born in the United States of America (1/0)\n",
    "* **motherBornUS**: Whether the student's mother was born in the United States of America (1/0)\n",
    "* **fatherBornUS**: Whether the student's father was born in the United States of America (1/0)\n",
    "* **englishAtHome**: Whether the student speaks English at home (1/0)\n",
    "* **computerForSchoolwork**: Whether the student has access to a computer for schoolwork (1/0)\n",
    "* **read30MinsADay**: Whether the student reads for pleasure for 30 minutes/day (1/0)\n",
    "* **minutesPerWeekEnglish**: The number of minutes per week the student spend in English class\n",
    "* **studentsInEnglish**: The number of students in this student's English class at school\n",
    "* **schoolHasLibrary**: Whether this student's school has a library (1/0)\n",
    "* **publicSchool**: Whether this student attends a public school (1/0)\n",
    "* **urban**: Whether this student's school is in an urban area (1/0)\n",
    "* **schoolSize**: The number of students in this student's school\n",
    "* **readingScore**: The student's reading score, on a 1000-point scale (This is the **target** variable)"
   ]
  },
  {
   "cell_type": "markdown",
   "metadata": {},
   "source": [
    "Lets examine the predictor variables:\n",
    "\n",
    "** Categorical fields with order**\n",
    "* grade \n",
    "\n",
    "**Categorical fields without order**\n",
    "* raceeth\n",
    "\n",
    "**Conitnueous variables**\n",
    "* studentsInEnglish\n",
    "* minutesPerWeekEnglish\n",
    "* schoolSize\n",
    "\n",
    "**Binary varibles**\n",
    "* male\n",
    "* preschool\n",
    "* expectBachelors\n",
    "* motherHS\n",
    "* motherWork\n",
    "* fatherHS\n",
    "* fatherBachelors\n",
    "* fatherWork\n",
    "* selfBornUS\n",
    "* englishAtHome\n",
    "* computerForSchoolwork\n",
    "* read30MinsADay\n",
    "* schoolHasLibrary\n",
    "* publicSchool\n",
    "* urban"
   ]
  },
  {
   "cell_type": "code",
   "execution_count": 332,
   "metadata": {
    "collapsed": true
   },
   "outputs": [],
   "source": [
    "# import all required libraries\n",
    "import pandas as pd\n",
    "import numpy as np\n",
    "from sklearn.model_selection import KFold\n",
    "from sklearn.model_selection import cross_val_score\n",
    "from sklearn.model_selection import GridSearchCV\n",
    "from sklearn.linear_model import LinearRegression\n",
    "from sklearn.linear_model import Lasso\n",
    "from sklearn.linear_model import ElasticNet\n",
    "from sklearn.tree import DecisionTreeRegressor\n",
    "from sklearn.neighbors import KNeighborsRegressor\n",
    "from sklearn.svm import SVR"
   ]
  },
  {
   "cell_type": "code",
   "execution_count": 333,
   "metadata": {
    "collapsed": false
   },
   "outputs": [],
   "source": [
    "# Cross validation framework\n",
    "def do_cross_validation(X, y, scoring = 'neg_mean_squared_error'):\n",
    "    models = []\n",
    "    models.append(('LR', LinearRegression()))\n",
    "    models.append(('LASSO', Lasso()))\n",
    "    models.append(('EN', ElasticNet()))\n",
    "    models.append(('KNN', KNeighborsRegressor()))\n",
    "    models.append(('CART', DecisionTreeRegressor()))\n",
    "    models.append(('SVR', SVR()))\n",
    "    results = []\n",
    "    results_r2 = []\n",
    "    names = []\n",
    "    for name, model in models:\n",
    "        kfold = KFold(n_splits=10, random_state=7)\n",
    "        cv_results = np.sqrt(-cross_val_score(model, X_train, y_train, cv=kfold, scoring=scoring))\n",
    "        cv_results_r2 = cross_val_score(model, X_train, y_train, cv=kfold, scoring='r2')\n",
    "        results.append(cv_results)\n",
    "        names.append(name)\n",
    "        msg = \"%s: %f (%f) r2: %f (%f)\" % \\\n",
    "        (name, cv_results.mean(), cv_results.std(), cv_results_r2.mean(), cv_results_r2.std())\n",
    "        print(msg)\n",
    "    return results, names\n"
   ]
  },
  {
   "cell_type": "markdown",
   "metadata": {},
   "source": [
    "#### Dataset Size\n"
   ]
  },
  {
   "cell_type": "code",
   "execution_count": 334,
   "metadata": {
    "collapsed": false
   },
   "outputs": [
    {
     "name": "stdout",
     "output_type": "stream",
     "text": [
      "('Shape of training set: ', (3663, 24))\n",
      "('Shape of test set: ', (1570, 24))\n"
     ]
    }
   ],
   "source": [
    "pisaTrain = pd.read_csv('pisa2009train.csv')\n",
    "pisaTest = pd.read_csv('pisa2009test.csv')\n",
    "print('Shape of training set: ',pisaTrain.shape)\n",
    "print('Shape of test set: ', pisaTest.shape)"
   ]
  },
  {
   "cell_type": "markdown",
   "metadata": {},
   "source": [
    "#### Preview of dataset"
   ]
  },
  {
   "cell_type": "code",
   "execution_count": 335,
   "metadata": {
    "collapsed": false,
    "scrolled": true
   },
   "outputs": [
    {
     "data": {
      "text/html": [
       "<div>\n",
       "<table border=\"1\" class=\"dataframe\">\n",
       "  <thead>\n",
       "    <tr style=\"text-align: right;\">\n",
       "      <th></th>\n",
       "      <th>grade</th>\n",
       "      <th>male</th>\n",
       "      <th>raceeth</th>\n",
       "      <th>preschool</th>\n",
       "      <th>expectBachelors</th>\n",
       "      <th>motherHS</th>\n",
       "      <th>motherBachelors</th>\n",
       "      <th>motherWork</th>\n",
       "      <th>fatherHS</th>\n",
       "      <th>fatherBachelors</th>\n",
       "      <th>...</th>\n",
       "      <th>englishAtHome</th>\n",
       "      <th>computerForSchoolwork</th>\n",
       "      <th>read30MinsADay</th>\n",
       "      <th>minutesPerWeekEnglish</th>\n",
       "      <th>studentsInEnglish</th>\n",
       "      <th>schoolHasLibrary</th>\n",
       "      <th>publicSchool</th>\n",
       "      <th>urban</th>\n",
       "      <th>schoolSize</th>\n",
       "      <th>readingScore</th>\n",
       "    </tr>\n",
       "  </thead>\n",
       "  <tbody>\n",
       "    <tr>\n",
       "      <th>0</th>\n",
       "      <td>11</td>\n",
       "      <td>1</td>\n",
       "      <td>NaN</td>\n",
       "      <td>NaN</td>\n",
       "      <td>0.0</td>\n",
       "      <td>NaN</td>\n",
       "      <td>NaN</td>\n",
       "      <td>1.0</td>\n",
       "      <td>NaN</td>\n",
       "      <td>NaN</td>\n",
       "      <td>...</td>\n",
       "      <td>0.0</td>\n",
       "      <td>1.0</td>\n",
       "      <td>0.0</td>\n",
       "      <td>225.0</td>\n",
       "      <td>NaN</td>\n",
       "      <td>1.0</td>\n",
       "      <td>1</td>\n",
       "      <td>1</td>\n",
       "      <td>673.0</td>\n",
       "      <td>476.00</td>\n",
       "    </tr>\n",
       "    <tr>\n",
       "      <th>1</th>\n",
       "      <td>11</td>\n",
       "      <td>1</td>\n",
       "      <td>White</td>\n",
       "      <td>0.0</td>\n",
       "      <td>0.0</td>\n",
       "      <td>1.0</td>\n",
       "      <td>1.0</td>\n",
       "      <td>1.0</td>\n",
       "      <td>1.0</td>\n",
       "      <td>0.0</td>\n",
       "      <td>...</td>\n",
       "      <td>1.0</td>\n",
       "      <td>1.0</td>\n",
       "      <td>1.0</td>\n",
       "      <td>450.0</td>\n",
       "      <td>25.0</td>\n",
       "      <td>1.0</td>\n",
       "      <td>1</td>\n",
       "      <td>0</td>\n",
       "      <td>1173.0</td>\n",
       "      <td>575.01</td>\n",
       "    </tr>\n",
       "    <tr>\n",
       "      <th>2</th>\n",
       "      <td>9</td>\n",
       "      <td>1</td>\n",
       "      <td>White</td>\n",
       "      <td>1.0</td>\n",
       "      <td>1.0</td>\n",
       "      <td>1.0</td>\n",
       "      <td>1.0</td>\n",
       "      <td>1.0</td>\n",
       "      <td>1.0</td>\n",
       "      <td>NaN</td>\n",
       "      <td>...</td>\n",
       "      <td>1.0</td>\n",
       "      <td>1.0</td>\n",
       "      <td>0.0</td>\n",
       "      <td>250.0</td>\n",
       "      <td>28.0</td>\n",
       "      <td>1.0</td>\n",
       "      <td>1</td>\n",
       "      <td>0</td>\n",
       "      <td>1233.0</td>\n",
       "      <td>554.81</td>\n",
       "    </tr>\n",
       "    <tr>\n",
       "      <th>3</th>\n",
       "      <td>10</td>\n",
       "      <td>0</td>\n",
       "      <td>Black</td>\n",
       "      <td>1.0</td>\n",
       "      <td>1.0</td>\n",
       "      <td>0.0</td>\n",
       "      <td>0.0</td>\n",
       "      <td>1.0</td>\n",
       "      <td>1.0</td>\n",
       "      <td>0.0</td>\n",
       "      <td>...</td>\n",
       "      <td>1.0</td>\n",
       "      <td>1.0</td>\n",
       "      <td>1.0</td>\n",
       "      <td>200.0</td>\n",
       "      <td>23.0</td>\n",
       "      <td>1.0</td>\n",
       "      <td>1</td>\n",
       "      <td>1</td>\n",
       "      <td>2640.0</td>\n",
       "      <td>458.11</td>\n",
       "    </tr>\n",
       "    <tr>\n",
       "      <th>4</th>\n",
       "      <td>10</td>\n",
       "      <td>1</td>\n",
       "      <td>Hispanic</td>\n",
       "      <td>1.0</td>\n",
       "      <td>0.0</td>\n",
       "      <td>1.0</td>\n",
       "      <td>0.0</td>\n",
       "      <td>1.0</td>\n",
       "      <td>1.0</td>\n",
       "      <td>0.0</td>\n",
       "      <td>...</td>\n",
       "      <td>1.0</td>\n",
       "      <td>1.0</td>\n",
       "      <td>1.0</td>\n",
       "      <td>250.0</td>\n",
       "      <td>35.0</td>\n",
       "      <td>1.0</td>\n",
       "      <td>1</td>\n",
       "      <td>1</td>\n",
       "      <td>1095.0</td>\n",
       "      <td>613.89</td>\n",
       "    </tr>\n",
       "  </tbody>\n",
       "</table>\n",
       "<p>5 rows × 24 columns</p>\n",
       "</div>"
      ],
      "text/plain": [
       "   grade  male   raceeth  preschool  expectBachelors  motherHS  \\\n",
       "0     11     1       NaN        NaN              0.0       NaN   \n",
       "1     11     1     White        0.0              0.0       1.0   \n",
       "2      9     1     White        1.0              1.0       1.0   \n",
       "3     10     0     Black        1.0              1.0       0.0   \n",
       "4     10     1  Hispanic        1.0              0.0       1.0   \n",
       "\n",
       "   motherBachelors  motherWork  fatherHS  fatherBachelors      ...       \\\n",
       "0              NaN         1.0       NaN              NaN      ...        \n",
       "1              1.0         1.0       1.0              0.0      ...        \n",
       "2              1.0         1.0       1.0              NaN      ...        \n",
       "3              0.0         1.0       1.0              0.0      ...        \n",
       "4              0.0         1.0       1.0              0.0      ...        \n",
       "\n",
       "   englishAtHome  computerForSchoolwork  read30MinsADay  \\\n",
       "0            0.0                    1.0             0.0   \n",
       "1            1.0                    1.0             1.0   \n",
       "2            1.0                    1.0             0.0   \n",
       "3            1.0                    1.0             1.0   \n",
       "4            1.0                    1.0             1.0   \n",
       "\n",
       "   minutesPerWeekEnglish  studentsInEnglish  schoolHasLibrary  publicSchool  \\\n",
       "0                  225.0                NaN               1.0             1   \n",
       "1                  450.0               25.0               1.0             1   \n",
       "2                  250.0               28.0               1.0             1   \n",
       "3                  200.0               23.0               1.0             1   \n",
       "4                  250.0               35.0               1.0             1   \n",
       "\n",
       "   urban  schoolSize  readingScore  \n",
       "0      1       673.0        476.00  \n",
       "1      0      1173.0        575.01  \n",
       "2      0      1233.0        554.81  \n",
       "3      1      2640.0        458.11  \n",
       "4      1      1095.0        613.89  \n",
       "\n",
       "[5 rows x 24 columns]"
      ]
     },
     "execution_count": 335,
     "metadata": {},
     "output_type": "execute_result"
    }
   ],
   "source": [
    "#allData = pd.concat([pisaTrain, pisaTest],  ignore_index=True)\n",
    "#print(allData.shape)\n",
    "#allData.head()\n",
    "pisaTrain.head()"
   ]
  },
  {
   "cell_type": "markdown",
   "metadata": {},
   "source": [
    "It look like  there are some missing values. The missing values are shown in the above table as NaN. We will deal with missing values in preprocessing stage."
   ]
  },
  {
   "cell_type": "code",
   "execution_count": 336,
   "metadata": {
    "collapsed": true
   },
   "outputs": [],
   "source": [
    "# Continuous Features\n",
    "contFeatures = ['minutesPerWeekEnglish','studentsInEnglish','schoolSize']\n",
    "binaryFeatures = ['male',  'preschool', 'expectBachelors',\n",
    "       'motherHS', 'motherBachelors', 'motherWork', 'fatherHS',\n",
    "       'fatherBachelors', 'fatherWork', 'selfBornUS', 'motherBornUS',\n",
    "       'fatherBornUS', 'englishAtHome', 'computerForSchoolwork',\n",
    "       'read30MinsADay','schoolHasLibrary', 'publicSchool', 'urban' ]"
   ]
  },
  {
   "cell_type": "markdown",
   "metadata": {},
   "source": [
    "#### Distribution of continous variables"
   ]
  },
  {
   "cell_type": "code",
   "execution_count": 337,
   "metadata": {
    "collapsed": false
   },
   "outputs": [
    {
     "data": {
      "text/html": [
       "<div>\n",
       "<table border=\"1\" class=\"dataframe\">\n",
       "  <thead>\n",
       "    <tr style=\"text-align: right;\">\n",
       "      <th></th>\n",
       "      <th>minutesPerWeekEnglish</th>\n",
       "      <th>studentsInEnglish</th>\n",
       "      <th>schoolSize</th>\n",
       "    </tr>\n",
       "  </thead>\n",
       "  <tbody>\n",
       "    <tr>\n",
       "      <th>count</th>\n",
       "      <td>3477.000000</td>\n",
       "      <td>3414.000000</td>\n",
       "      <td>3501.000000</td>\n",
       "    </tr>\n",
       "    <tr>\n",
       "      <th>mean</th>\n",
       "      <td>266.208225</td>\n",
       "      <td>24.499414</td>\n",
       "      <td>1369.316767</td>\n",
       "    </tr>\n",
       "    <tr>\n",
       "      <th>std</th>\n",
       "      <td>148.403525</td>\n",
       "      <td>7.184348</td>\n",
       "      <td>869.983618</td>\n",
       "    </tr>\n",
       "    <tr>\n",
       "      <th>min</th>\n",
       "      <td>0.000000</td>\n",
       "      <td>1.000000</td>\n",
       "      <td>100.000000</td>\n",
       "    </tr>\n",
       "    <tr>\n",
       "      <th>25%</th>\n",
       "      <td>225.000000</td>\n",
       "      <td>20.000000</td>\n",
       "      <td>712.000000</td>\n",
       "    </tr>\n",
       "    <tr>\n",
       "      <th>50%</th>\n",
       "      <td>250.000000</td>\n",
       "      <td>25.000000</td>\n",
       "      <td>1212.000000</td>\n",
       "    </tr>\n",
       "    <tr>\n",
       "      <th>75%</th>\n",
       "      <td>300.000000</td>\n",
       "      <td>30.000000</td>\n",
       "      <td>1900.000000</td>\n",
       "    </tr>\n",
       "    <tr>\n",
       "      <th>max</th>\n",
       "      <td>2400.000000</td>\n",
       "      <td>75.000000</td>\n",
       "      <td>6694.000000</td>\n",
       "    </tr>\n",
       "  </tbody>\n",
       "</table>\n",
       "</div>"
      ],
      "text/plain": [
       "       minutesPerWeekEnglish  studentsInEnglish   schoolSize\n",
       "count            3477.000000        3414.000000  3501.000000\n",
       "mean              266.208225          24.499414  1369.316767\n",
       "std               148.403525           7.184348   869.983618\n",
       "min                 0.000000           1.000000   100.000000\n",
       "25%               225.000000          20.000000   712.000000\n",
       "50%               250.000000          25.000000  1212.000000\n",
       "75%               300.000000          30.000000  1900.000000\n",
       "max              2400.000000          75.000000  6694.000000"
      ]
     },
     "execution_count": 337,
     "metadata": {},
     "output_type": "execute_result"
    }
   ],
   "source": [
    "\n",
    "pisaTrain[contFeatures].describe()"
   ]
  },
  {
   "cell_type": "markdown",
   "metadata": {},
   "source": [
    "The min and max values as well are the means vary a lot for the continueous variables. We are likely going to get better results by rescaling the data in some way in the preprocessing stage."
   ]
  },
  {
   "cell_type": "code",
   "execution_count": 338,
   "metadata": {
    "collapsed": false
   },
   "outputs": [
    {
     "data": {
      "text/html": [
       "<div>\n",
       "<table border=\"1\" class=\"dataframe\">\n",
       "  <thead>\n",
       "    <tr style=\"text-align: right;\">\n",
       "      <th></th>\n",
       "      <th>grade</th>\n",
       "      <th>male</th>\n",
       "      <th>preschool</th>\n",
       "      <th>expectBachelors</th>\n",
       "      <th>motherHS</th>\n",
       "      <th>motherBachelors</th>\n",
       "      <th>motherWork</th>\n",
       "      <th>fatherHS</th>\n",
       "      <th>fatherBachelors</th>\n",
       "      <th>fatherWork</th>\n",
       "      <th>...</th>\n",
       "      <th>englishAtHome</th>\n",
       "      <th>computerForSchoolwork</th>\n",
       "      <th>read30MinsADay</th>\n",
       "      <th>minutesPerWeekEnglish</th>\n",
       "      <th>studentsInEnglish</th>\n",
       "      <th>schoolHasLibrary</th>\n",
       "      <th>publicSchool</th>\n",
       "      <th>urban</th>\n",
       "      <th>schoolSize</th>\n",
       "      <th>readingScore</th>\n",
       "    </tr>\n",
       "  </thead>\n",
       "  <tbody>\n",
       "    <tr>\n",
       "      <th>grade</th>\n",
       "      <td>1.000000</td>\n",
       "      <td>-0.097677</td>\n",
       "      <td>-0.023262</td>\n",
       "      <td>0.140200</td>\n",
       "      <td>0.005461</td>\n",
       "      <td>0.043171</td>\n",
       "      <td>0.019385</td>\n",
       "      <td>0.046210</td>\n",
       "      <td>0.061713</td>\n",
       "      <td>0.012731</td>\n",
       "      <td>...</td>\n",
       "      <td>-0.025675</td>\n",
       "      <td>0.112157</td>\n",
       "      <td>0.065008</td>\n",
       "      <td>0.028157</td>\n",
       "      <td>0.085289</td>\n",
       "      <td>-0.026542</td>\n",
       "      <td>-0.063972</td>\n",
       "      <td>0.076277</td>\n",
       "      <td>0.067454</td>\n",
       "      <td>0.286752</td>\n",
       "    </tr>\n",
       "    <tr>\n",
       "      <th>male</th>\n",
       "      <td>-0.097677</td>\n",
       "      <td>1.000000</td>\n",
       "      <td>0.014807</td>\n",
       "      <td>-0.078029</td>\n",
       "      <td>0.030586</td>\n",
       "      <td>0.074250</td>\n",
       "      <td>-0.011641</td>\n",
       "      <td>0.017784</td>\n",
       "      <td>0.076257</td>\n",
       "      <td>0.030614</td>\n",
       "      <td>...</td>\n",
       "      <td>-0.009790</td>\n",
       "      <td>-0.015485</td>\n",
       "      <td>-0.220103</td>\n",
       "      <td>0.010700</td>\n",
       "      <td>-0.025404</td>\n",
       "      <td>0.032114</td>\n",
       "      <td>-0.075466</td>\n",
       "      <td>0.036377</td>\n",
       "      <td>0.012921</td>\n",
       "      <td>-0.153928</td>\n",
       "    </tr>\n",
       "    <tr>\n",
       "      <th>preschool</th>\n",
       "      <td>-0.023262</td>\n",
       "      <td>0.014807</td>\n",
       "      <td>1.000000</td>\n",
       "      <td>0.076046</td>\n",
       "      <td>0.141552</td>\n",
       "      <td>0.151832</td>\n",
       "      <td>0.069249</td>\n",
       "      <td>0.117443</td>\n",
       "      <td>0.141418</td>\n",
       "      <td>0.065079</td>\n",
       "      <td>...</td>\n",
       "      <td>0.120480</td>\n",
       "      <td>0.076612</td>\n",
       "      <td>-0.008649</td>\n",
       "      <td>-0.015110</td>\n",
       "      <td>-0.027114</td>\n",
       "      <td>0.036506</td>\n",
       "      <td>-0.070919</td>\n",
       "      <td>-0.053684</td>\n",
       "      <td>-0.032582</td>\n",
       "      <td>0.040537</td>\n",
       "    </tr>\n",
       "    <tr>\n",
       "      <th>expectBachelors</th>\n",
       "      <td>0.140200</td>\n",
       "      <td>-0.078029</td>\n",
       "      <td>0.076046</td>\n",
       "      <td>1.000000</td>\n",
       "      <td>0.104886</td>\n",
       "      <td>0.168330</td>\n",
       "      <td>0.069366</td>\n",
       "      <td>0.156028</td>\n",
       "      <td>0.199217</td>\n",
       "      <td>0.003122</td>\n",
       "      <td>...</td>\n",
       "      <td>0.044169</td>\n",
       "      <td>0.130413</td>\n",
       "      <td>0.135002</td>\n",
       "      <td>0.018364</td>\n",
       "      <td>0.050988</td>\n",
       "      <td>0.072164</td>\n",
       "      <td>-0.112698</td>\n",
       "      <td>-0.004022</td>\n",
       "      <td>0.016164</td>\n",
       "      <td>0.360144</td>\n",
       "    </tr>\n",
       "    <tr>\n",
       "      <th>motherHS</th>\n",
       "      <td>0.005461</td>\n",
       "      <td>0.030586</td>\n",
       "      <td>0.141552</td>\n",
       "      <td>0.104886</td>\n",
       "      <td>1.000000</td>\n",
       "      <td>0.252322</td>\n",
       "      <td>0.176354</td>\n",
       "      <td>0.500723</td>\n",
       "      <td>0.227148</td>\n",
       "      <td>0.038105</td>\n",
       "      <td>...</td>\n",
       "      <td>0.374486</td>\n",
       "      <td>0.187951</td>\n",
       "      <td>0.011641</td>\n",
       "      <td>0.019021</td>\n",
       "      <td>-0.036948</td>\n",
       "      <td>0.012129</td>\n",
       "      <td>-0.067646</td>\n",
       "      <td>-0.117988</td>\n",
       "      <td>-0.084460</td>\n",
       "      <td>0.156488</td>\n",
       "    </tr>\n",
       "    <tr>\n",
       "      <th>motherBachelors</th>\n",
       "      <td>0.043171</td>\n",
       "      <td>0.074250</td>\n",
       "      <td>0.151832</td>\n",
       "      <td>0.168330</td>\n",
       "      <td>0.252322</td>\n",
       "      <td>1.000000</td>\n",
       "      <td>0.142306</td>\n",
       "      <td>0.197929</td>\n",
       "      <td>0.543581</td>\n",
       "      <td>0.071973</td>\n",
       "      <td>...</td>\n",
       "      <td>0.169733</td>\n",
       "      <td>0.146681</td>\n",
       "      <td>0.021138</td>\n",
       "      <td>0.023004</td>\n",
       "      <td>-0.041765</td>\n",
       "      <td>0.022990</td>\n",
       "      <td>-0.161796</td>\n",
       "      <td>-0.048131</td>\n",
       "      <td>-0.011638</td>\n",
       "      <td>0.214240</td>\n",
       "    </tr>\n",
       "    <tr>\n",
       "      <th>motherWork</th>\n",
       "      <td>0.019385</td>\n",
       "      <td>-0.011641</td>\n",
       "      <td>0.069249</td>\n",
       "      <td>0.069366</td>\n",
       "      <td>0.176354</td>\n",
       "      <td>0.142306</td>\n",
       "      <td>1.000000</td>\n",
       "      <td>0.102632</td>\n",
       "      <td>0.057245</td>\n",
       "      <td>0.039578</td>\n",
       "      <td>...</td>\n",
       "      <td>0.128595</td>\n",
       "      <td>0.083805</td>\n",
       "      <td>-0.049956</td>\n",
       "      <td>0.009103</td>\n",
       "      <td>-0.032115</td>\n",
       "      <td>-0.011439</td>\n",
       "      <td>-0.036711</td>\n",
       "      <td>-0.012350</td>\n",
       "      <td>-0.039499</td>\n",
       "      <td>0.043401</td>\n",
       "    </tr>\n",
       "    <tr>\n",
       "      <th>fatherHS</th>\n",
       "      <td>0.046210</td>\n",
       "      <td>0.017784</td>\n",
       "      <td>0.117443</td>\n",
       "      <td>0.156028</td>\n",
       "      <td>0.500723</td>\n",
       "      <td>0.197929</td>\n",
       "      <td>0.102632</td>\n",
       "      <td>1.000000</td>\n",
       "      <td>0.280287</td>\n",
       "      <td>0.100620</td>\n",
       "      <td>...</td>\n",
       "      <td>0.324131</td>\n",
       "      <td>0.173284</td>\n",
       "      <td>0.032457</td>\n",
       "      <td>0.041421</td>\n",
       "      <td>-0.007217</td>\n",
       "      <td>0.030027</td>\n",
       "      <td>-0.080654</td>\n",
       "      <td>-0.098083</td>\n",
       "      <td>-0.080115</td>\n",
       "      <td>0.175464</td>\n",
       "    </tr>\n",
       "    <tr>\n",
       "      <th>fatherBachelors</th>\n",
       "      <td>0.061713</td>\n",
       "      <td>0.076257</td>\n",
       "      <td>0.141418</td>\n",
       "      <td>0.199217</td>\n",
       "      <td>0.227148</td>\n",
       "      <td>0.543581</td>\n",
       "      <td>0.057245</td>\n",
       "      <td>0.280287</td>\n",
       "      <td>1.000000</td>\n",
       "      <td>0.106328</td>\n",
       "      <td>...</td>\n",
       "      <td>0.138824</td>\n",
       "      <td>0.174256</td>\n",
       "      <td>0.047728</td>\n",
       "      <td>0.007736</td>\n",
       "      <td>-0.019529</td>\n",
       "      <td>0.017605</td>\n",
       "      <td>-0.176680</td>\n",
       "      <td>-0.018506</td>\n",
       "      <td>0.019602</td>\n",
       "      <td>0.266236</td>\n",
       "    </tr>\n",
       "    <tr>\n",
       "      <th>fatherWork</th>\n",
       "      <td>0.012731</td>\n",
       "      <td>0.030614</td>\n",
       "      <td>0.065079</td>\n",
       "      <td>0.003122</td>\n",
       "      <td>0.038105</td>\n",
       "      <td>0.071973</td>\n",
       "      <td>0.039578</td>\n",
       "      <td>0.100620</td>\n",
       "      <td>0.106328</td>\n",
       "      <td>1.000000</td>\n",
       "      <td>...</td>\n",
       "      <td>0.022521</td>\n",
       "      <td>0.078806</td>\n",
       "      <td>-0.012103</td>\n",
       "      <td>0.030462</td>\n",
       "      <td>-0.000204</td>\n",
       "      <td>-0.012325</td>\n",
       "      <td>-0.023248</td>\n",
       "      <td>-0.039698</td>\n",
       "      <td>-0.023414</td>\n",
       "      <td>0.070423</td>\n",
       "    </tr>\n",
       "    <tr>\n",
       "      <th>selfBornUS</th>\n",
       "      <td>-0.022154</td>\n",
       "      <td>0.022550</td>\n",
       "      <td>0.092893</td>\n",
       "      <td>-0.010330</td>\n",
       "      <td>0.179856</td>\n",
       "      <td>0.044804</td>\n",
       "      <td>0.065549</td>\n",
       "      <td>0.139385</td>\n",
       "      <td>0.011592</td>\n",
       "      <td>-0.028350</td>\n",
       "      <td>...</td>\n",
       "      <td>0.456103</td>\n",
       "      <td>0.027402</td>\n",
       "      <td>-0.013808</td>\n",
       "      <td>0.004910</td>\n",
       "      <td>-0.033958</td>\n",
       "      <td>-0.008027</td>\n",
       "      <td>-0.041606</td>\n",
       "      <td>-0.115689</td>\n",
       "      <td>-0.118054</td>\n",
       "      <td>0.023530</td>\n",
       "    </tr>\n",
       "    <tr>\n",
       "      <th>motherBornUS</th>\n",
       "      <td>-0.072814</td>\n",
       "      <td>0.015107</td>\n",
       "      <td>0.111684</td>\n",
       "      <td>0.012359</td>\n",
       "      <td>0.343146</td>\n",
       "      <td>0.146741</td>\n",
       "      <td>0.096057</td>\n",
       "      <td>0.279932</td>\n",
       "      <td>0.081497</td>\n",
       "      <td>-0.008205</td>\n",
       "      <td>...</td>\n",
       "      <td>0.644713</td>\n",
       "      <td>0.035398</td>\n",
       "      <td>-0.013966</td>\n",
       "      <td>0.017809</td>\n",
       "      <td>-0.095075</td>\n",
       "      <td>-0.005134</td>\n",
       "      <td>0.012995</td>\n",
       "      <td>-0.279346</td>\n",
       "      <td>-0.246404</td>\n",
       "      <td>0.062846</td>\n",
       "    </tr>\n",
       "    <tr>\n",
       "      <th>fatherBornUS</th>\n",
       "      <td>-0.063530</td>\n",
       "      <td>0.008212</td>\n",
       "      <td>0.112208</td>\n",
       "      <td>0.015281</td>\n",
       "      <td>0.336373</td>\n",
       "      <td>0.125661</td>\n",
       "      <td>0.096592</td>\n",
       "      <td>0.308128</td>\n",
       "      <td>0.091718</td>\n",
       "      <td>-0.004942</td>\n",
       "      <td>...</td>\n",
       "      <td>0.622450</td>\n",
       "      <td>0.046293</td>\n",
       "      <td>0.002678</td>\n",
       "      <td>0.010291</td>\n",
       "      <td>-0.089547</td>\n",
       "      <td>-0.001739</td>\n",
       "      <td>0.021946</td>\n",
       "      <td>-0.294307</td>\n",
       "      <td>-0.258301</td>\n",
       "      <td>0.088670</td>\n",
       "    </tr>\n",
       "    <tr>\n",
       "      <th>englishAtHome</th>\n",
       "      <td>-0.025675</td>\n",
       "      <td>-0.009790</td>\n",
       "      <td>0.120480</td>\n",
       "      <td>0.044169</td>\n",
       "      <td>0.374486</td>\n",
       "      <td>0.169733</td>\n",
       "      <td>0.128595</td>\n",
       "      <td>0.324131</td>\n",
       "      <td>0.138824</td>\n",
       "      <td>0.022521</td>\n",
       "      <td>...</td>\n",
       "      <td>1.000000</td>\n",
       "      <td>0.090044</td>\n",
       "      <td>-0.004536</td>\n",
       "      <td>-0.011085</td>\n",
       "      <td>-0.068254</td>\n",
       "      <td>-0.011153</td>\n",
       "      <td>-0.042673</td>\n",
       "      <td>-0.218851</td>\n",
       "      <td>-0.203584</td>\n",
       "      <td>0.126018</td>\n",
       "    </tr>\n",
       "    <tr>\n",
       "      <th>computerForSchoolwork</th>\n",
       "      <td>0.112157</td>\n",
       "      <td>-0.015485</td>\n",
       "      <td>0.076612</td>\n",
       "      <td>0.130413</td>\n",
       "      <td>0.187951</td>\n",
       "      <td>0.146681</td>\n",
       "      <td>0.083805</td>\n",
       "      <td>0.173284</td>\n",
       "      <td>0.174256</td>\n",
       "      <td>0.078806</td>\n",
       "      <td>...</td>\n",
       "      <td>0.090044</td>\n",
       "      <td>1.000000</td>\n",
       "      <td>-0.028378</td>\n",
       "      <td>-0.001737</td>\n",
       "      <td>0.056054</td>\n",
       "      <td>-0.010667</td>\n",
       "      <td>-0.074832</td>\n",
       "      <td>0.020981</td>\n",
       "      <td>0.067300</td>\n",
       "      <td>0.190425</td>\n",
       "    </tr>\n",
       "    <tr>\n",
       "      <th>read30MinsADay</th>\n",
       "      <td>0.065008</td>\n",
       "      <td>-0.220103</td>\n",
       "      <td>-0.008649</td>\n",
       "      <td>0.135002</td>\n",
       "      <td>0.011641</td>\n",
       "      <td>0.021138</td>\n",
       "      <td>-0.049956</td>\n",
       "      <td>0.032457</td>\n",
       "      <td>0.047728</td>\n",
       "      <td>-0.012103</td>\n",
       "      <td>...</td>\n",
       "      <td>-0.004536</td>\n",
       "      <td>-0.028378</td>\n",
       "      <td>1.000000</td>\n",
       "      <td>0.012495</td>\n",
       "      <td>0.006866</td>\n",
       "      <td>0.021687</td>\n",
       "      <td>0.006983</td>\n",
       "      <td>0.023078</td>\n",
       "      <td>-0.011673</td>\n",
       "      <td>0.247221</td>\n",
       "    </tr>\n",
       "    <tr>\n",
       "      <th>minutesPerWeekEnglish</th>\n",
       "      <td>0.028157</td>\n",
       "      <td>0.010700</td>\n",
       "      <td>-0.015110</td>\n",
       "      <td>0.018364</td>\n",
       "      <td>0.019021</td>\n",
       "      <td>0.023004</td>\n",
       "      <td>0.009103</td>\n",
       "      <td>0.041421</td>\n",
       "      <td>0.007736</td>\n",
       "      <td>0.030462</td>\n",
       "      <td>...</td>\n",
       "      <td>-0.011085</td>\n",
       "      <td>-0.001737</td>\n",
       "      <td>0.012495</td>\n",
       "      <td>1.000000</td>\n",
       "      <td>0.050963</td>\n",
       "      <td>-0.003731</td>\n",
       "      <td>0.053556</td>\n",
       "      <td>-0.051268</td>\n",
       "      <td>0.007183</td>\n",
       "      <td>0.067823</td>\n",
       "    </tr>\n",
       "    <tr>\n",
       "      <th>studentsInEnglish</th>\n",
       "      <td>0.085289</td>\n",
       "      <td>-0.025404</td>\n",
       "      <td>-0.027114</td>\n",
       "      <td>0.050988</td>\n",
       "      <td>-0.036948</td>\n",
       "      <td>-0.041765</td>\n",
       "      <td>-0.032115</td>\n",
       "      <td>-0.007217</td>\n",
       "      <td>-0.019529</td>\n",
       "      <td>-0.000204</td>\n",
       "      <td>...</td>\n",
       "      <td>-0.068254</td>\n",
       "      <td>0.056054</td>\n",
       "      <td>0.006866</td>\n",
       "      <td>0.050963</td>\n",
       "      <td>1.000000</td>\n",
       "      <td>0.078381</td>\n",
       "      <td>0.081880</td>\n",
       "      <td>0.160524</td>\n",
       "      <td>0.258792</td>\n",
       "      <td>0.034653</td>\n",
       "    </tr>\n",
       "    <tr>\n",
       "      <th>schoolHasLibrary</th>\n",
       "      <td>-0.026542</td>\n",
       "      <td>0.032114</td>\n",
       "      <td>0.036506</td>\n",
       "      <td>0.072164</td>\n",
       "      <td>0.012129</td>\n",
       "      <td>0.022990</td>\n",
       "      <td>-0.011439</td>\n",
       "      <td>0.030027</td>\n",
       "      <td>0.017605</td>\n",
       "      <td>-0.012325</td>\n",
       "      <td>...</td>\n",
       "      <td>-0.011153</td>\n",
       "      <td>-0.010667</td>\n",
       "      <td>0.021687</td>\n",
       "      <td>-0.003731</td>\n",
       "      <td>0.078381</td>\n",
       "      <td>1.000000</td>\n",
       "      <td>0.059391</td>\n",
       "      <td>-0.116804</td>\n",
       "      <td>0.037762</td>\n",
       "      <td>0.038150</td>\n",
       "    </tr>\n",
       "    <tr>\n",
       "      <th>publicSchool</th>\n",
       "      <td>-0.063972</td>\n",
       "      <td>-0.075466</td>\n",
       "      <td>-0.070919</td>\n",
       "      <td>-0.112698</td>\n",
       "      <td>-0.067646</td>\n",
       "      <td>-0.161796</td>\n",
       "      <td>-0.036711</td>\n",
       "      <td>-0.080654</td>\n",
       "      <td>-0.176680</td>\n",
       "      <td>-0.023248</td>\n",
       "      <td>...</td>\n",
       "      <td>-0.042673</td>\n",
       "      <td>-0.074832</td>\n",
       "      <td>0.006983</td>\n",
       "      <td>0.053556</td>\n",
       "      <td>0.081880</td>\n",
       "      <td>0.059391</td>\n",
       "      <td>1.000000</td>\n",
       "      <td>-0.277477</td>\n",
       "      <td>0.234745</td>\n",
       "      <td>-0.133654</td>\n",
       "    </tr>\n",
       "    <tr>\n",
       "      <th>urban</th>\n",
       "      <td>0.076277</td>\n",
       "      <td>0.036377</td>\n",
       "      <td>-0.053684</td>\n",
       "      <td>-0.004022</td>\n",
       "      <td>-0.117988</td>\n",
       "      <td>-0.048131</td>\n",
       "      <td>-0.012350</td>\n",
       "      <td>-0.098083</td>\n",
       "      <td>-0.018506</td>\n",
       "      <td>-0.039698</td>\n",
       "      <td>...</td>\n",
       "      <td>-0.218851</td>\n",
       "      <td>0.020981</td>\n",
       "      <td>0.023078</td>\n",
       "      <td>-0.051268</td>\n",
       "      <td>0.160524</td>\n",
       "      <td>-0.116804</td>\n",
       "      <td>-0.277477</td>\n",
       "      <td>1.000000</td>\n",
       "      <td>0.326483</td>\n",
       "      <td>-0.064194</td>\n",
       "    </tr>\n",
       "    <tr>\n",
       "      <th>schoolSize</th>\n",
       "      <td>0.067454</td>\n",
       "      <td>0.012921</td>\n",
       "      <td>-0.032582</td>\n",
       "      <td>0.016164</td>\n",
       "      <td>-0.084460</td>\n",
       "      <td>-0.011638</td>\n",
       "      <td>-0.039499</td>\n",
       "      <td>-0.080115</td>\n",
       "      <td>0.019602</td>\n",
       "      <td>-0.023414</td>\n",
       "      <td>...</td>\n",
       "      <td>-0.203584</td>\n",
       "      <td>0.067300</td>\n",
       "      <td>-0.011673</td>\n",
       "      <td>0.007183</td>\n",
       "      <td>0.258792</td>\n",
       "      <td>0.037762</td>\n",
       "      <td>0.234745</td>\n",
       "      <td>0.326483</td>\n",
       "      <td>1.000000</td>\n",
       "      <td>0.026948</td>\n",
       "    </tr>\n",
       "    <tr>\n",
       "      <th>readingScore</th>\n",
       "      <td>0.286752</td>\n",
       "      <td>-0.153928</td>\n",
       "      <td>0.040537</td>\n",
       "      <td>0.360144</td>\n",
       "      <td>0.156488</td>\n",
       "      <td>0.214240</td>\n",
       "      <td>0.043401</td>\n",
       "      <td>0.175464</td>\n",
       "      <td>0.266236</td>\n",
       "      <td>0.070423</td>\n",
       "      <td>...</td>\n",
       "      <td>0.126018</td>\n",
       "      <td>0.190425</td>\n",
       "      <td>0.247221</td>\n",
       "      <td>0.067823</td>\n",
       "      <td>0.034653</td>\n",
       "      <td>0.038150</td>\n",
       "      <td>-0.133654</td>\n",
       "      <td>-0.064194</td>\n",
       "      <td>0.026948</td>\n",
       "      <td>1.000000</td>\n",
       "    </tr>\n",
       "  </tbody>\n",
       "</table>\n",
       "<p>23 rows × 23 columns</p>\n",
       "</div>"
      ],
      "text/plain": [
       "                          grade      male  preschool  expectBachelors  \\\n",
       "grade                  1.000000 -0.097677  -0.023262         0.140200   \n",
       "male                  -0.097677  1.000000   0.014807        -0.078029   \n",
       "preschool             -0.023262  0.014807   1.000000         0.076046   \n",
       "expectBachelors        0.140200 -0.078029   0.076046         1.000000   \n",
       "motherHS               0.005461  0.030586   0.141552         0.104886   \n",
       "motherBachelors        0.043171  0.074250   0.151832         0.168330   \n",
       "motherWork             0.019385 -0.011641   0.069249         0.069366   \n",
       "fatherHS               0.046210  0.017784   0.117443         0.156028   \n",
       "fatherBachelors        0.061713  0.076257   0.141418         0.199217   \n",
       "fatherWork             0.012731  0.030614   0.065079         0.003122   \n",
       "selfBornUS            -0.022154  0.022550   0.092893        -0.010330   \n",
       "motherBornUS          -0.072814  0.015107   0.111684         0.012359   \n",
       "fatherBornUS          -0.063530  0.008212   0.112208         0.015281   \n",
       "englishAtHome         -0.025675 -0.009790   0.120480         0.044169   \n",
       "computerForSchoolwork  0.112157 -0.015485   0.076612         0.130413   \n",
       "read30MinsADay         0.065008 -0.220103  -0.008649         0.135002   \n",
       "minutesPerWeekEnglish  0.028157  0.010700  -0.015110         0.018364   \n",
       "studentsInEnglish      0.085289 -0.025404  -0.027114         0.050988   \n",
       "schoolHasLibrary      -0.026542  0.032114   0.036506         0.072164   \n",
       "publicSchool          -0.063972 -0.075466  -0.070919        -0.112698   \n",
       "urban                  0.076277  0.036377  -0.053684        -0.004022   \n",
       "schoolSize             0.067454  0.012921  -0.032582         0.016164   \n",
       "readingScore           0.286752 -0.153928   0.040537         0.360144   \n",
       "\n",
       "                       motherHS  motherBachelors  motherWork  fatherHS  \\\n",
       "grade                  0.005461         0.043171    0.019385  0.046210   \n",
       "male                   0.030586         0.074250   -0.011641  0.017784   \n",
       "preschool              0.141552         0.151832    0.069249  0.117443   \n",
       "expectBachelors        0.104886         0.168330    0.069366  0.156028   \n",
       "motherHS               1.000000         0.252322    0.176354  0.500723   \n",
       "motherBachelors        0.252322         1.000000    0.142306  0.197929   \n",
       "motherWork             0.176354         0.142306    1.000000  0.102632   \n",
       "fatherHS               0.500723         0.197929    0.102632  1.000000   \n",
       "fatherBachelors        0.227148         0.543581    0.057245  0.280287   \n",
       "fatherWork             0.038105         0.071973    0.039578  0.100620   \n",
       "selfBornUS             0.179856         0.044804    0.065549  0.139385   \n",
       "motherBornUS           0.343146         0.146741    0.096057  0.279932   \n",
       "fatherBornUS           0.336373         0.125661    0.096592  0.308128   \n",
       "englishAtHome          0.374486         0.169733    0.128595  0.324131   \n",
       "computerForSchoolwork  0.187951         0.146681    0.083805  0.173284   \n",
       "read30MinsADay         0.011641         0.021138   -0.049956  0.032457   \n",
       "minutesPerWeekEnglish  0.019021         0.023004    0.009103  0.041421   \n",
       "studentsInEnglish     -0.036948        -0.041765   -0.032115 -0.007217   \n",
       "schoolHasLibrary       0.012129         0.022990   -0.011439  0.030027   \n",
       "publicSchool          -0.067646        -0.161796   -0.036711 -0.080654   \n",
       "urban                 -0.117988        -0.048131   -0.012350 -0.098083   \n",
       "schoolSize            -0.084460        -0.011638   -0.039499 -0.080115   \n",
       "readingScore           0.156488         0.214240    0.043401  0.175464   \n",
       "\n",
       "                       fatherBachelors  fatherWork      ...       \\\n",
       "grade                         0.061713    0.012731      ...        \n",
       "male                          0.076257    0.030614      ...        \n",
       "preschool                     0.141418    0.065079      ...        \n",
       "expectBachelors               0.199217    0.003122      ...        \n",
       "motherHS                      0.227148    0.038105      ...        \n",
       "motherBachelors               0.543581    0.071973      ...        \n",
       "motherWork                    0.057245    0.039578      ...        \n",
       "fatherHS                      0.280287    0.100620      ...        \n",
       "fatherBachelors               1.000000    0.106328      ...        \n",
       "fatherWork                    0.106328    1.000000      ...        \n",
       "selfBornUS                    0.011592   -0.028350      ...        \n",
       "motherBornUS                  0.081497   -0.008205      ...        \n",
       "fatherBornUS                  0.091718   -0.004942      ...        \n",
       "englishAtHome                 0.138824    0.022521      ...        \n",
       "computerForSchoolwork         0.174256    0.078806      ...        \n",
       "read30MinsADay                0.047728   -0.012103      ...        \n",
       "minutesPerWeekEnglish         0.007736    0.030462      ...        \n",
       "studentsInEnglish            -0.019529   -0.000204      ...        \n",
       "schoolHasLibrary              0.017605   -0.012325      ...        \n",
       "publicSchool                 -0.176680   -0.023248      ...        \n",
       "urban                        -0.018506   -0.039698      ...        \n",
       "schoolSize                    0.019602   -0.023414      ...        \n",
       "readingScore                  0.266236    0.070423      ...        \n",
       "\n",
       "                       englishAtHome  computerForSchoolwork  read30MinsADay  \\\n",
       "grade                      -0.025675               0.112157        0.065008   \n",
       "male                       -0.009790              -0.015485       -0.220103   \n",
       "preschool                   0.120480               0.076612       -0.008649   \n",
       "expectBachelors             0.044169               0.130413        0.135002   \n",
       "motherHS                    0.374486               0.187951        0.011641   \n",
       "motherBachelors             0.169733               0.146681        0.021138   \n",
       "motherWork                  0.128595               0.083805       -0.049956   \n",
       "fatherHS                    0.324131               0.173284        0.032457   \n",
       "fatherBachelors             0.138824               0.174256        0.047728   \n",
       "fatherWork                  0.022521               0.078806       -0.012103   \n",
       "selfBornUS                  0.456103               0.027402       -0.013808   \n",
       "motherBornUS                0.644713               0.035398       -0.013966   \n",
       "fatherBornUS                0.622450               0.046293        0.002678   \n",
       "englishAtHome               1.000000               0.090044       -0.004536   \n",
       "computerForSchoolwork       0.090044               1.000000       -0.028378   \n",
       "read30MinsADay             -0.004536              -0.028378        1.000000   \n",
       "minutesPerWeekEnglish      -0.011085              -0.001737        0.012495   \n",
       "studentsInEnglish          -0.068254               0.056054        0.006866   \n",
       "schoolHasLibrary           -0.011153              -0.010667        0.021687   \n",
       "publicSchool               -0.042673              -0.074832        0.006983   \n",
       "urban                      -0.218851               0.020981        0.023078   \n",
       "schoolSize                 -0.203584               0.067300       -0.011673   \n",
       "readingScore                0.126018               0.190425        0.247221   \n",
       "\n",
       "                       minutesPerWeekEnglish  studentsInEnglish  \\\n",
       "grade                               0.028157           0.085289   \n",
       "male                                0.010700          -0.025404   \n",
       "preschool                          -0.015110          -0.027114   \n",
       "expectBachelors                     0.018364           0.050988   \n",
       "motherHS                            0.019021          -0.036948   \n",
       "motherBachelors                     0.023004          -0.041765   \n",
       "motherWork                          0.009103          -0.032115   \n",
       "fatherHS                            0.041421          -0.007217   \n",
       "fatherBachelors                     0.007736          -0.019529   \n",
       "fatherWork                          0.030462          -0.000204   \n",
       "selfBornUS                          0.004910          -0.033958   \n",
       "motherBornUS                        0.017809          -0.095075   \n",
       "fatherBornUS                        0.010291          -0.089547   \n",
       "englishAtHome                      -0.011085          -0.068254   \n",
       "computerForSchoolwork              -0.001737           0.056054   \n",
       "read30MinsADay                      0.012495           0.006866   \n",
       "minutesPerWeekEnglish               1.000000           0.050963   \n",
       "studentsInEnglish                   0.050963           1.000000   \n",
       "schoolHasLibrary                   -0.003731           0.078381   \n",
       "publicSchool                        0.053556           0.081880   \n",
       "urban                              -0.051268           0.160524   \n",
       "schoolSize                          0.007183           0.258792   \n",
       "readingScore                        0.067823           0.034653   \n",
       "\n",
       "                       schoolHasLibrary  publicSchool     urban  schoolSize  \\\n",
       "grade                         -0.026542     -0.063972  0.076277    0.067454   \n",
       "male                           0.032114     -0.075466  0.036377    0.012921   \n",
       "preschool                      0.036506     -0.070919 -0.053684   -0.032582   \n",
       "expectBachelors                0.072164     -0.112698 -0.004022    0.016164   \n",
       "motherHS                       0.012129     -0.067646 -0.117988   -0.084460   \n",
       "motherBachelors                0.022990     -0.161796 -0.048131   -0.011638   \n",
       "motherWork                    -0.011439     -0.036711 -0.012350   -0.039499   \n",
       "fatherHS                       0.030027     -0.080654 -0.098083   -0.080115   \n",
       "fatherBachelors                0.017605     -0.176680 -0.018506    0.019602   \n",
       "fatherWork                    -0.012325     -0.023248 -0.039698   -0.023414   \n",
       "selfBornUS                    -0.008027     -0.041606 -0.115689   -0.118054   \n",
       "motherBornUS                  -0.005134      0.012995 -0.279346   -0.246404   \n",
       "fatherBornUS                  -0.001739      0.021946 -0.294307   -0.258301   \n",
       "englishAtHome                 -0.011153     -0.042673 -0.218851   -0.203584   \n",
       "computerForSchoolwork         -0.010667     -0.074832  0.020981    0.067300   \n",
       "read30MinsADay                 0.021687      0.006983  0.023078   -0.011673   \n",
       "minutesPerWeekEnglish         -0.003731      0.053556 -0.051268    0.007183   \n",
       "studentsInEnglish              0.078381      0.081880  0.160524    0.258792   \n",
       "schoolHasLibrary               1.000000      0.059391 -0.116804    0.037762   \n",
       "publicSchool                   0.059391      1.000000 -0.277477    0.234745   \n",
       "urban                         -0.116804     -0.277477  1.000000    0.326483   \n",
       "schoolSize                     0.037762      0.234745  0.326483    1.000000   \n",
       "readingScore                   0.038150     -0.133654 -0.064194    0.026948   \n",
       "\n",
       "                       readingScore  \n",
       "grade                      0.286752  \n",
       "male                      -0.153928  \n",
       "preschool                  0.040537  \n",
       "expectBachelors            0.360144  \n",
       "motherHS                   0.156488  \n",
       "motherBachelors            0.214240  \n",
       "motherWork                 0.043401  \n",
       "fatherHS                   0.175464  \n",
       "fatherBachelors            0.266236  \n",
       "fatherWork                 0.070423  \n",
       "selfBornUS                 0.023530  \n",
       "motherBornUS               0.062846  \n",
       "fatherBornUS               0.088670  \n",
       "englishAtHome              0.126018  \n",
       "computerForSchoolwork      0.190425  \n",
       "read30MinsADay             0.247221  \n",
       "minutesPerWeekEnglish      0.067823  \n",
       "studentsInEnglish          0.034653  \n",
       "schoolHasLibrary           0.038150  \n",
       "publicSchool              -0.133654  \n",
       "urban                     -0.064194  \n",
       "schoolSize                 0.026948  \n",
       "readingScore               1.000000  \n",
       "\n",
       "[23 rows x 23 columns]"
      ]
     },
     "execution_count": 338,
     "metadata": {},
     "output_type": "execute_result"
    }
   ],
   "source": [
    "# correlation\n",
    "corDf = pisaTrain.corr(method='pearson')\n",
    "corDf"
   ]
  },
  {
   "cell_type": "code",
   "execution_count": 339,
   "metadata": {
    "collapsed": false
   },
   "outputs": [
    {
     "data": {
      "text/plain": [
       "[('motherHS', 'fatherHS'),\n",
       " ('motherBachelors', 'fatherBachelors'),\n",
       " ('motherBornUS', 'fatherBornUS'),\n",
       " ('motherBornUS', 'englishAtHome'),\n",
       " ('fatherBornUS', 'englishAtHome')]"
      ]
     },
     "execution_count": 339,
     "metadata": {},
     "output_type": "execute_result"
    }
   ],
   "source": [
    "indices = np.where(corDf > 0.5)\n",
    "indices = [(corDf.index[x], corDf.columns[y]) for x, y in zip(*indices)\n",
    "                                        if x != y and x < y]\n",
    "indices"
   ]
  },
  {
   "cell_type": "markdown",
   "metadata": {},
   "source": [
    "### Exploratory Visualization"
   ]
  },
  {
   "cell_type": "code",
   "execution_count": 340,
   "metadata": {
    "collapsed": true
   },
   "outputs": [],
   "source": [
    "import matplotlib.pyplot as plt\n",
    "import seaborn as sns\n",
    "%matplotlib inline"
   ]
  },
  {
   "cell_type": "markdown",
   "metadata": {},
   "source": [
    "### Reading Score - The target variable \n",
    "Shows normal distribution"
   ]
  },
  {
   "cell_type": "code",
   "execution_count": 367,
   "metadata": {
    "collapsed": false
   },
   "outputs": [
    {
     "data": {
      "text/plain": [
       "<matplotlib.axes._subplots.AxesSubplot at 0x289252b0>"
      ]
     },
     "execution_count": 367,
     "metadata": {},
     "output_type": "execute_result"
    },
    {
     "data": {
      "image/png": "[encoded data removed]",
      "text/plain": [
       "<matplotlib.figure.Figure at 0x289c6b70>"
      ]
     },
     "metadata": {},
     "output_type": "display_data"
    }
   ],
   "source": [
    "pisaTrain['readingScore'].hist()"
   ]
  },
  {
   "cell_type": "markdown",
   "metadata": {},
   "source": [
    "#### Unimodal Data Visualizations\n",
    "Histograms of each attribute toget a sense of the data distributions."
   ]
  },
  {
   "cell_type": "code",
   "execution_count": null,
   "metadata": {
    "collapsed": false
   },
   "outputs": [],
   "source": [
    "\n"
   ]
  },
  {
   "cell_type": "code",
   "execution_count": 341,
   "metadata": {
    "collapsed": false
   },
   "outputs": [
    {
     "data": {
      "image/png": "[encoded data removed]",
      "text/plain": [
       "<matplotlib.figure.Figure at 0x23043da0>"
      ]
     },
     "metadata": {},
     "output_type": "display_data"
    },
    {
     "data": {
      "image/png": "[encoded data removed]",
      "text/plain": [
       "<matplotlib.figure.Figure at 0x21d5efd0>"
      ]
     },
     "metadata": {},
     "output_type": "display_data"
    },
    {
     "data": {
      "image/png": "[encoded data removed]",
      "text/plain": [
       "<matplotlib.figure.Figure at 0x148cc2e8>"
      ]
     },
     "metadata": {},
     "output_type": "display_data"
    },
    {
     "data": {
      "image/png": "[encoded data removed]",
      "text/plain": [
       "<matplotlib.figure.Figure at 0x214ec630>"
      ]
     },
     "metadata": {},
     "output_type": "display_data"
    }
   ],
   "source": [
    "### Unimodal Data Visualizations\n",
    "pisaTrain['readingScore'].hist()\n",
    "pisaTrain[contFeatures].hist(sharex=False, sharey=False, xlabelsize=1, ylabelsize=1)\n",
    "pisaTrain[binaryFeatures[:9]].hist(sharex=False, sharey=False, xlabelsize=1, ylabelsize=1)\n",
    "pisaTrain[binaryFeatures[9:]].hist(sharex=False, sharey=False, xlabelsize=1, ylabelsize=1)\n",
    "\n",
    "plt.show()"
   ]
  },
  {
   "cell_type": "markdown",
   "metadata": {},
   "source": [
    "The target variable **readingScore** has a normal distribution. The variables **schoolSize** and **minutesPerWeekEnglish** shows some skewness."
   ]
  },
  {
   "cell_type": "code",
   "execution_count": 342,
   "metadata": {
    "collapsed": false
   },
   "outputs": [
    {
     "name": "stderr",
     "output_type": "stream",
     "text": [
      "C:\\Users\\Shinto\\Anaconda2\\lib\\site-packages\\ipykernel\\__main__.py:1: FutureWarning: order is deprecated, use sort_values(...)\n",
      "  if __name__ == '__main__':\n"
     ]
    },
    {
     "data": {
      "text/plain": [
       "schoolHasLibrary         0.967614\n",
       "publicSchool             0.933934\n",
       "selfBornUS               0.931274\n",
       "computerForSchoolwork    0.899389\n",
       "motherHS                 0.879978\n",
       "englishAtHome            0.871659\n",
       "fatherHS                 0.859274\n",
       "fatherWork               0.853061\n",
       "expectBachelors          0.785893\n",
       "motherBornUS             0.772550\n",
       "fatherBornUS             0.766761\n",
       "motherWork               0.734454\n",
       "preschool                0.722761\n",
       "male                     0.511057\n",
       "urban                    0.384930\n",
       "motherBachelors          0.348132\n",
       "fatherBachelors          0.331933\n",
       "read30MinsADay           0.289887\n",
       "dtype: float64"
      ]
     },
     "execution_count": 342,
     "metadata": {},
     "output_type": "execute_result"
    }
   ],
   "source": [
    "pisaTrain[binaryFeatures].mean().order(ascending=False)"
   ]
  },
  {
   "cell_type": "code",
   "execution_count": 373,
   "metadata": {
    "collapsed": false
   },
   "outputs": [
    {
     "data": {
      "image/png": "[encoded data removed]",
      "text/plain": [
       "<matplotlib.figure.Figure at 0x2a45c8d0>"
      ]
     },
     "metadata": {},
     "output_type": "display_data"
    }
   ],
   "source": [
    "plt.figure(figsize=(8,4))\n",
    "sns.boxplot(x='raceeth', y='readingScore', data=pisaTrain)\n",
    "xt = plt.xticks(rotation=45)"
   ]
  },
  {
   "cell_type": "code",
   "execution_count": 374,
   "metadata": {
    "collapsed": false
   },
   "outputs": [
    {
     "data": {
      "image/png": "[encoded data removed]",
      "text/plain": [
       "<matplotlib.figure.Figure at 0x2a922240>"
      ]
     },
     "metadata": {},
     "output_type": "display_data"
    }
   ],
   "source": [
    "plt.figure(figsize = (8, 4))\n",
    "sns.countplot(x = 'raceeth', data = pisaTrain)\n",
    "xt = plt.xticks(rotation=45)"
   ]
  },
  {
   "cell_type": "code",
   "execution_count": 375,
   "metadata": {
    "collapsed": false
   },
   "outputs": [
    {
     "data": {
      "image/png": "[encoded data removed]",
      "text/plain": [
       "<matplotlib.figure.Figure at 0x288e2a58>"
      ]
     },
     "metadata": {},
     "output_type": "display_data"
    }
   ],
   "source": [
    "plt.figure(figsize=(8,4))\n",
    "sns.boxplot(x='grade', y='readingScore', data=pisaTrain)\n",
    "xt = plt.xticks(rotation=45)"
   ]
  },
  {
   "cell_type": "code",
   "execution_count": 376,
   "metadata": {
    "collapsed": false
   },
   "outputs": [
    {
     "data": {
      "image/png": "[encoded data removed]",
      "text/plain": [
       "<matplotlib.figure.Figure at 0x2ab4e0b8>"
      ]
     },
     "metadata": {},
     "output_type": "display_data"
    }
   ],
   "source": [
    "plt.figure(figsize = (8, 4))\n",
    "sns.countplot(x = 'grade', data = pisaTrain)\n",
    "xt = plt.xticks(rotation=45)"
   ]
  },
  {
   "cell_type": "code",
   "execution_count": 377,
   "metadata": {
    "collapsed": false
   },
   "outputs": [
    {
     "data": {
      "image/png": "[encoded data removed]",
      "text/plain": [
       "<matplotlib.figure.Figure at 0x2b0f0f28>"
      ]
     },
     "metadata": {},
     "output_type": "display_data"
    }
   ],
   "source": [
    "plt.figure(figsize=(6,4))\n",
    "sns.boxplot(x='preschool', y='readingScore', data=pisaTrain)\n",
    "xt = plt.xticks(rotation=45)"
   ]
  },
  {
   "cell_type": "code",
   "execution_count": 378,
   "metadata": {
    "collapsed": false
   },
   "outputs": [
    {
     "data": {
      "image/png": "[encoded data removed]",
      "text/plain": [
       "<matplotlib.figure.Figure at 0x2b37df98>"
      ]
     },
     "metadata": {},
     "output_type": "display_data"
    }
   ],
   "source": [
    "plt.figure(figsize = (6, 4))\n",
    "sns.countplot(x = 'preschool', data = pisaTrain)\n",
    "xt = plt.xticks(rotation=45)"
   ]
  },
  {
   "cell_type": "code",
   "execution_count": 364,
   "metadata": {
    "collapsed": false
   },
   "outputs": [
    {
     "data": {
      "image/png": "[encoded data removed]",
      "text/plain": [
       "<matplotlib.figure.Figure at 0x26238828>"
      ]
     },
     "metadata": {},
     "output_type": "display_data"
    }
   ],
   "source": [
    "fig, ax = plt.subplots(1, 2, figsize = (10, 4))\n",
    "sns.boxplot(x = 'minutesPerWeekEnglish', y = 'readingScore', data = pisaTrain, ax = ax[0])\n",
    "sns.boxplot(x = 'expectBachelors', y = 'readingScore', data = pisaTrain, ax = ax[1])\n",
    "plt.tight_layout()"
   ]
  },
  {
   "cell_type": "code",
   "execution_count": 343,
   "metadata": {
    "collapsed": false
   },
   "outputs": [
    {
     "data": {
      "image/png": "[encoded data removed]",
      "text/plain": [
       "<matplotlib.figure.Figure at 0x22b4bda0>"
      ]
     },
     "metadata": {},
     "output_type": "display_data"
    }
   ],
   "source": [
    "# box and whisker plots\n",
    "pisaTrain[contFeatures].plot(kind='box', subplots=True, layout=(2,2), sharex=False, sharey=False,\n",
    "fontsize=8)\n",
    "plt.show()"
   ]
  },
  {
   "cell_type": "markdown",
   "metadata": {},
   "source": [
    "The box and whisker plots helps to see the outliers"
   ]
  },
  {
   "cell_type": "code",
   "execution_count": 370,
   "metadata": {
    "collapsed": false
   },
   "outputs": [
    {
     "data": {
      "text/plain": [
       "<matplotlib.axes._subplots.AxesSubplot at 0x29c8d198>"
      ]
     },
     "execution_count": 370,
     "metadata": {},
     "output_type": "execute_result"
    },
    {
     "data": {
      "image/png": "[encoded data removed]",
      "text/plain": [
       "<matplotlib.figure.Figure at 0x2a0aa320>"
      ]
     },
     "metadata": {},
     "output_type": "display_data"
    }
   ],
   "source": [
    "corr = pisaTrain.corr()\n",
    "plt.figure(figsize=(12, 12))\n",
    "sns.heatmap(corr, vmax=1, square=True)"
   ]
  },
  {
   "cell_type": "code",
   "execution_count": 347,
   "metadata": {
    "collapsed": false
   },
   "outputs": [
    {
     "data": {
      "image/png": "[encoded data removed]",
      "text/plain": [
       "<matplotlib.figure.Figure at 0x27c51b00>"
      ]
     },
     "metadata": {},
     "output_type": "display_data"
    }
   ],
   "source": [
    "cont_data_corr = pisaTrain.corr()\n",
    "\n",
    "mask = np.zeros_like(cont_data_corr, dtype=np.bool)\n",
    "mask[np.triu_indices_from(mask)] = True\n",
    "# # Set up the matplotlib figure\n",
    "f, ax = plt.subplots(figsize=(12, 12))\n",
    "#\n",
    "# # Generate a custom diverging colormap\n",
    "#cmap = sns.diverging_palette(220, 10, as_cmap=True)\n",
    "#\n",
    "# # Draw the heatmap with the mask and correct aspect ratio\n",
    "sns.heatmap(cont_data_corr, mask=mask, cmap=cmap,vmax=1,\n",
    "            square=True,linewidths=.5, cbar_kws={\"shrink\": .5}, ax=ax)\n",
    "plt.show()"
   ]
  },
  {
   "cell_type": "markdown",
   "metadata": {},
   "source": [
    "The dark red color shows positive correlations whereas the dark blue color shows negative correlation.\n",
    "\n",
    "Most correlations observed are:\n",
    "* 'motherHS' and 'fatherHS'\n",
    "* 'motherBachelors' and 'fatherBachelors'\n",
    "* 'motherBornUS' and 'fatherBornUS'\n",
    "* 'motherBornUS' and 'englishAtHome'\n",
    "* 'fatherBornUS' and 'englishAtHome'"
   ]
  },
  {
   "cell_type": "markdown",
   "metadata": {},
   "source": [
    "### Algorithms and Techniques"
   ]
  },
  {
   "cell_type": "code",
   "execution_count": null,
   "metadata": {
    "collapsed": true
   },
   "outputs": [],
   "source": []
  },
  {
   "cell_type": "markdown",
   "metadata": {},
   "source": [
    "### Benchmark"
   ]
  },
  {
   "cell_type": "code",
   "execution_count": 328,
   "metadata": {
    "collapsed": false
   },
   "outputs": [
    {
     "data": {
      "image/png": "[encoded data removed]",
      "text/plain": [
       "<matplotlib.figure.Figure at 0x24486f98>"
      ]
     },
     "metadata": {},
     "output_type": "display_data"
    }
   ],
   "source": [
    "plt.hist(y_train)\n",
    "plt.show()"
   ]
  },
  {
   "cell_type": "code",
   "execution_count": 251,
   "metadata": {
    "collapsed": false
   },
   "outputs": [
    {
     "name": "stdout",
     "output_type": "stream",
     "text": [
      "mean score: 497.911403221\n",
      "train benchmark RMSE using mean: 95.5021145158\n"
     ]
    }
   ],
   "source": [
    "meanScore = np.mean(pisaTrain.readingScore)\n",
    "print 'mean score:', meanScore\n",
    "trainMeanRMSE = np.sqrt(np.mean((meanScore - pisaTrain.readingScore)**2))\n",
    "print 'train benchmark RMSE using mean:', trainMeanRMSE"
   ]
  },
  {
   "cell_type": "code",
   "execution_count": 299,
   "metadata": {
    "collapsed": false
   },
   "outputs": [
    {
     "name": "stdout",
     "output_type": "stream",
     "text": [
      "median score: 499.66\n",
      "benchmark RMSE using meadian: 95.5181211482\n"
     ]
    }
   ],
   "source": [
    "medianScore = np.median(pisaTrain.readingScore)\n",
    "print 'median score:', medianScore\n",
    "medianRMSE = np.sqrt(np.mean((pisaTrain.readingScore - medianScore)**2))\n",
    "print 'benchmark RMSE using meadian:', medianRMSE"
   ]
  },
  {
   "cell_type": "markdown",
   "metadata": {},
   "source": [
    "## III. Methodology\n",
    "(3-5 pages)"
   ]
  },
  {
   "cell_type": "markdown",
   "metadata": {},
   "source": [
    "### Data Preprocessing"
   ]
  },
  {
   "cell_type": "markdown",
   "metadata": {},
   "source": [
    "#### Handling missing values"
   ]
  },
  {
   "cell_type": "code",
   "execution_count": 300,
   "metadata": {
    "collapsed": false
   },
   "outputs": [
    {
     "data": {
      "text/plain": [
       "grade                      0\n",
       "male                       0\n",
       "raceeth                   35\n",
       "preschool                 56\n",
       "expectBachelors           62\n",
       "motherHS                  97\n",
       "motherBachelors          397\n",
       "motherWork                93\n",
       "fatherHS                 245\n",
       "fatherBachelors          569\n",
       "fatherWork               233\n",
       "selfBornUS                69\n",
       "motherBornUS              71\n",
       "fatherBornUS             113\n",
       "englishAtHome             71\n",
       "computerForSchoolwork     65\n",
       "read30MinsADay            34\n",
       "minutesPerWeekEnglish    186\n",
       "studentsInEnglish        249\n",
       "schoolHasLibrary         143\n",
       "publicSchool               0\n",
       "urban                      0\n",
       "schoolSize               162\n",
       "readingScore               0\n",
       "dtype: int64"
      ]
     },
     "execution_count": 300,
     "metadata": {},
     "output_type": "execute_result"
    }
   ],
   "source": [
    "pisaTrain.isnull().sum()"
   ]
  },
  {
   "cell_type": "code",
   "execution_count": 301,
   "metadata": {
    "collapsed": false
   },
   "outputs": [],
   "source": [
    "# For continuous variables replace the missing data with average of columns\n",
    "#minutesPerWeekEnglish\n",
    "#studentsInEnglish\n",
    "#schoolSize\n",
    "\n",
    "pisaTrain['minutesPerWeekEnglish'].fillna(int(pisaTrain['minutesPerWeekEnglish'].mean()), inplace=True)\n",
    "pisaTrain['studentsInEnglish'].fillna(int(pisaTrain['studentsInEnglish'].mean()), inplace=True)\n",
    "pisaTrain['schoolSize'].fillna(int(pisaTrain['schoolSize'].mean()), inplace=True)"
   ]
  },
  {
   "cell_type": "code",
   "execution_count": null,
   "metadata": {
    "collapsed": true
   },
   "outputs": [],
   "source": []
  },
  {
   "cell_type": "code",
   "execution_count": 302,
   "metadata": {
    "collapsed": false
   },
   "outputs": [
    {
     "data": {
      "text/plain": [
       "White                                     2015\n",
       "Hispanic                                   834\n",
       "Black                                      444\n",
       "Asian                                      143\n",
       "More than one race                         124\n",
       "American Indian/Alaska Native               37\n",
       "Native Hawaiian/Other Pacific Islander      31\n",
       "Name: raceeth, dtype: int64"
      ]
     },
     "execution_count": 302,
     "metadata": {},
     "output_type": "execute_result"
    }
   ],
   "source": [
    "pisaTrain['raceeth'].value_counts()"
   ]
  },
  {
   "cell_type": "code",
   "execution_count": 304,
   "metadata": {
    "collapsed": false
   },
   "outputs": [],
   "source": [
    "pisaTrain['raceeth'].fillna('White', inplace=True)\n",
    "# fill every column with its own most frequent value\n",
    "pisaTrain = pisaTrain.apply(lambda x:x.fillna(x.value_counts().index[0]))"
   ]
  },
  {
   "cell_type": "code",
   "execution_count": 305,
   "metadata": {
    "collapsed": false
   },
   "outputs": [
    {
     "data": {
      "text/plain": [
       "grade                    0\n",
       "male                     0\n",
       "raceeth                  0\n",
       "preschool                0\n",
       "expectBachelors          0\n",
       "motherHS                 0\n",
       "motherBachelors          0\n",
       "motherWork               0\n",
       "fatherHS                 0\n",
       "fatherBachelors          0\n",
       "fatherWork               0\n",
       "selfBornUS               0\n",
       "motherBornUS             0\n",
       "fatherBornUS             0\n",
       "englishAtHome            0\n",
       "computerForSchoolwork    0\n",
       "read30MinsADay           0\n",
       "minutesPerWeekEnglish    0\n",
       "studentsInEnglish        0\n",
       "schoolHasLibrary         0\n",
       "publicSchool             0\n",
       "urban                    0\n",
       "schoolSize               0\n",
       "readingScore             0\n",
       "dtype: int64"
      ]
     },
     "execution_count": 305,
     "metadata": {},
     "output_type": "execute_result"
    }
   ],
   "source": [
    "pisaTrain.isnull().sum()"
   ]
  },
  {
   "cell_type": "markdown",
   "metadata": {},
   "source": [
    "#### First model"
   ]
  },
  {
   "cell_type": "code",
   "execution_count": 306,
   "metadata": {
    "collapsed": false
   },
   "outputs": [],
   "source": [
    "y_train = pisaTrain['readingScore'].values\n",
    "pisaTrain = pisaTrain.drop('readingScore', axis=1)"
   ]
  },
  {
   "cell_type": "code",
   "execution_count": 308,
   "metadata": {
    "collapsed": false
   },
   "outputs": [
    {
     "name": "stdout",
     "output_type": "stream",
     "text": [
      "LR: 95.322640 (2.140488) r2: 0.000552 (0.010650)\n",
      "LASSO: 95.322883 (2.136823) r2: 0.000546 (0.010571)\n",
      "EN: 95.322372 (2.137799) r2: 0.000557 (0.010594)\n",
      "KNN: 93.012032 (2.526056) r2: 0.048058 (0.035064)\n",
      "CART: 113.007718 (4.250342) r2: -0.396179 (0.092409)\n",
      "SVR: 95.182859 (1.937923) r2: 0.003432 (0.005796)\n"
     ]
    }
   ],
   "source": [
    "X_train = pisaTrain[contFeatures].values\n",
    "#X_train = subset.iloc[:,:-1].values\n",
    "\n",
    "_ = do_cross_validation(X_train, y_train)"
   ]
  },
  {
   "cell_type": "code",
   "execution_count": 310,
   "metadata": {
    "collapsed": false
   },
   "outputs": [
    {
     "name": "stdout",
     "output_type": "stream",
     "text": [
      "LR: 82.267898 (1.289321) r2: 0.255099 (0.021556)\n",
      "LASSO: 82.687849 (1.175176) r2: 0.247579 (0.016341)\n",
      "EN: 88.156052 (1.658323) r2: 0.145046 (0.009998)\n",
      "KNN: 92.581093 (2.185604) r2: 0.056877 (0.028875)\n",
      "CART: 113.704099 (3.897834) r2: -0.415865 (0.102244)\n",
      "SVR: 95.022893 (1.931864) r2: 0.006778 (0.005638)\n"
     ]
    }
   ],
   "source": [
    "X_train = pisaTrain[contFeatures+binaryFeatures].values\n",
    "#X_train = subset.iloc[:pisaTrain.shape[0],:].values\n",
    "\n",
    "_ = do_cross_validation(X_train, y_train)"
   ]
  },
  {
   "cell_type": "code",
   "execution_count": null,
   "metadata": {
    "collapsed": true
   },
   "outputs": [],
   "source": []
  },
  {
   "cell_type": "markdown",
   "metadata": {},
   "source": [
    "#### Create dummy variables for category fields"
   ]
  },
  {
   "cell_type": "code",
   "execution_count": 312,
   "metadata": {
    "collapsed": false
   },
   "outputs": [],
   "source": [
    "raceeth = pd.get_dummies(pisaTrain['raceeth'], 'raceeth')\n",
    "pisaTrain = pd.concat([pisaTrain, raceeth], axis=1)\n",
    "pisaTrain = pisaTrain.drop('raceeth', axis=1)"
   ]
  },
  {
   "cell_type": "code",
   "execution_count": 315,
   "metadata": {
    "collapsed": false
   },
   "outputs": [
    {
     "name": "stdout",
     "output_type": "stream",
     "text": [
      "LR: 76.630958 (1.977856) r2: 0.352787 (0.043352)\n",
      "LASSO: 77.259871 (1.530608) r2: 0.342418 (0.036212)\n",
      "EN: 84.146083 (1.387244) r2: 0.220843 (0.017840)\n",
      "KNN: 92.421983 (2.142850) r2: 0.059998 (0.031892)\n",
      "CART: 107.047032 (3.263694) r2: -0.276501 (0.142122)\n",
      "SVR: 94.963142 (1.934781) r2: 0.008029 (0.005558)\n"
     ]
    }
   ],
   "source": [
    "\n",
    "X_train = pisaTrain.values\n",
    "\n",
    "_ = do_cross_validation(X_train, y_train)"
   ]
  },
  {
   "cell_type": "markdown",
   "metadata": {},
   "source": [
    "#### Data transformations"
   ]
  },
  {
   "cell_type": "code",
   "execution_count": 348,
   "metadata": {
    "collapsed": false
   },
   "outputs": [
    {
     "data": {
      "text/plain": [
       "array([[<matplotlib.axes._subplots.AxesSubplot object at 0x0000000027D9B208>,\n",
       "        <matplotlib.axes._subplots.AxesSubplot object at 0x0000000026635A58>],\n",
       "       [<matplotlib.axes._subplots.AxesSubplot object at 0x0000000026203198>,\n",
       "        <matplotlib.axes._subplots.AxesSubplot object at 0x0000000025F411D0>]], dtype=object)"
      ]
     },
     "execution_count": 348,
     "metadata": {},
     "output_type": "execute_result"
    },
    {
     "data": {
      "image/png": "[encoded data removed]",
      "text/plain": [
       "<matplotlib.figure.Figure at 0x27d8fe80>"
      ]
     },
     "metadata": {},
     "output_type": "display_data"
    }
   ],
   "source": [
    "pisaTrain[contFeatures].hist()"
   ]
  },
  {
   "cell_type": "code",
   "execution_count": 237,
   "metadata": {
    "collapsed": false
   },
   "outputs": [],
   "source": [
    "# log transformations - No improvements\n",
    "#np.log(allData['schoolSize']).hist()\n",
    "#allData['schoolSize'] = np.log(allData['schoolSize'])\n",
    "#np.log1p(allData['minutesPerWeekEnglish']).hist()\n",
    "#allData['minutesPerWeekEnglish'] = np.log1p(allData['minutesPerWeekEnglish'])"
   ]
  },
  {
   "cell_type": "markdown",
   "metadata": {},
   "source": [
    "### Implementation"
   ]
  },
  {
   "cell_type": "code",
   "execution_count": 317,
   "metadata": {
    "collapsed": false
   },
   "outputs": [
    {
     "name": "stdout",
     "output_type": "stream",
     "text": [
      "ScaledLR: 76.633001 (1.978370)\n",
      "ScaledLASSO: 76.665673 (1.783114)\n",
      "ScaledEN: 77.811190 (1.380990)\n",
      "ScaledKNN: 83.909038 (1.192058)\n",
      "ScaledCART: 107.305739 (3.875927)\n",
      "ScaledSVR: 83.631749 (1.520137)\n"
     ]
    }
   ],
   "source": [
    "# Standardize the dataset\n",
    "from sklearn.pipeline import Pipeline\n",
    "from sklearn.preprocessing import StandardScaler\n",
    "pipelines = []\n",
    "pipelines.append(('ScaledLR', Pipeline([('Scaler', StandardScaler()),('LR', LinearRegression())])))\n",
    "pipelines.append(('ScaledLASSO', Pipeline([('Scaler', StandardScaler()),('LASSO', Lasso())])))\n",
    "pipelines.append(('ScaledEN', Pipeline([('Scaler', StandardScaler()),('EN', ElasticNet())])))\n",
    "pipelines.append(('ScaledKNN', Pipeline([('Scaler', StandardScaler()),('KNN', KNeighborsRegressor())])))\n",
    "pipelines.append(('ScaledCART', Pipeline([('Scaler', StandardScaler()),('CART', DecisionTreeRegressor())])))\n",
    "pipelines.append(('ScaledSVR', Pipeline([('Scaler', StandardScaler()),('SVR', SVR())])))\n",
    "results = []\n",
    "names = []\n",
    "for name, model in pipelines:\n",
    "    kfold = KFold(n_splits=num_folds, random_state=seed)\n",
    "    cv_results = np.sqrt(-cross_val_score(model, X_train, y_train, cv=kfold, scoring='neg_mean_squared_error'))\n",
    "    results.append(cv_results)\n",
    "    names.append(name)\n",
    "    msg = \"%s: %f (%f)\" % (name, cv_results.mean(), cv_results.std())\n",
    "    print(msg)"
   ]
  },
  {
   "cell_type": "markdown",
   "metadata": {},
   "source": [
    "#### Ensemble methods"
   ]
  },
  {
   "cell_type": "code",
   "execution_count": 318,
   "metadata": {
    "collapsed": false
   },
   "outputs": [
    {
     "name": "stdout",
     "output_type": "stream",
     "text": [
      "ScaledAB: 78.476176 (1.386876)\n",
      "ScaledGBM: 73.836494 (1.723019)\n",
      "ScaledRF: 81.652378 (2.262443)\n",
      "ScaledET: 89.376582 (2.064970)\n"
     ]
    }
   ],
   "source": [
    "from sklearn.ensemble import RandomForestRegressor\n",
    "from sklearn.ensemble import GradientBoostingRegressor\n",
    "from sklearn.ensemble import ExtraTreesRegressor\n",
    "from sklearn.ensemble import AdaBoostRegressor\n",
    "# ensembles\n",
    "ensembles = []\n",
    "ensembles.append(('ScaledAB', Pipeline([('Scaler', StandardScaler()),('AB', AdaBoostRegressor())])))\n",
    "ensembles.append(('ScaledGBM', Pipeline([('Scaler', StandardScaler()),('GBM', GradientBoostingRegressor())])))\n",
    "ensembles.append(('ScaledRF', Pipeline([('Scaler', StandardScaler()),('RF', RandomForestRegressor())])))\n",
    "ensembles.append(('ScaledET', Pipeline([('Scaler', StandardScaler()),('ET', ExtraTreesRegressor())])))\n",
    "results = []\n",
    "names = []\n",
    "for name, model in ensembles:\n",
    "    kfold = KFold(n_splits=num_folds, random_state=seed)\n",
    "    cv_results = np.sqrt(-cross_val_score(model, X_train, y_train, cv=kfold, scoring=scoring))\n",
    "    results.append(cv_results)\n",
    "    names.append(name)\n",
    "    msg = \"%s: %f (%f)\" % (name, cv_results.mean(), cv_results.std())\n",
    "    print(msg)"
   ]
  },
  {
   "cell_type": "code",
   "execution_count": 319,
   "metadata": {
    "collapsed": false
   },
   "outputs": [
    {
     "data": {
      "image/png": "[encoded data removed]",
      "text/plain": [
       "<matplotlib.figure.Figure at 0x24830860>"
      ]
     },
     "metadata": {},
     "output_type": "display_data"
    }
   ],
   "source": [
    "# Compare Algorithms\n",
    "fig = plt.figure()\n",
    "fig.suptitle('Scaled Algorithm Comparison')\n",
    "ax = fig.add_subplot(111)\n",
    "plt.boxplot(results)\n",
    "ax.set_xticklabels(names)\n",
    "plt.show()"
   ]
  },
  {
   "cell_type": "code",
   "execution_count": 282,
   "metadata": {
    "collapsed": false
   },
   "outputs": [
    {
     "name": "stdout",
     "output_type": "stream",
     "text": [
      "74.5031653788\n"
     ]
    }
   ],
   "source": []
  },
  {
   "cell_type": "code",
   "execution_count": null,
   "metadata": {
    "collapsed": true
   },
   "outputs": [],
   "source": []
  },
  {
   "cell_type": "code",
   "execution_count": 119,
   "metadata": {
    "collapsed": false
   },
   "outputs": [
    {
     "data": {
      "text/plain": [
       "0.9589629149446891"
      ]
     },
     "execution_count": 119,
     "metadata": {},
     "output_type": "execute_result"
    }
   ],
   "source": [
    "from sklearn.metrics import r2_score\n",
    "R2 = r2_score(y_test, y_pred)\n",
    "R2"
   ]
  },
  {
   "cell_type": "code",
   "execution_count": null,
   "metadata": {
    "collapsed": true
   },
   "outputs": [],
   "source": []
  },
  {
   "cell_type": "markdown",
   "metadata": {},
   "source": [
    "### Refinement"
   ]
  },
  {
   "cell_type": "code",
   "execution_count": 276,
   "metadata": {
    "collapsed": false
   },
   "outputs": [],
   "source": [
    "from sklearn.model_selection import GridSearchCV\n",
    "# Tune scaled GBM\n",
    "scaler = StandardScaler().fit(X_train)\n",
    "rescaledX = scaler.transform(X_train)\n",
    "param_grid = dict(n_estimators=np.array([50,100,150,200,250,300,350,400]))\n",
    "model = GradientBoostingRegressor(random_state=seed)\n",
    "kfold = KFold(n_splits=num_folds, random_state=seed)\n",
    "grid = GridSearchCV(estimator=model, param_grid=param_grid, scoring=scoring, cv=kfold)\n",
    "grid_result = grid.fit(rescaledX, y_train)"
   ]
  },
  {
   "cell_type": "code",
   "execution_count": 278,
   "metadata": {
    "collapsed": false
   },
   "outputs": [
    {
     "name": "stdout",
     "output_type": "stream",
     "text": [
      "Best: -5411.035078 using {'n_estimators': 150}\n",
      "-5643.057173 (246.481605) with: {'n_estimators': 50}\n",
      "-5456.642265 (246.207844) with: {'n_estimators': 100}\n",
      "-5411.035078 (246.818366) with: {'n_estimators': 150}\n",
      "-5421.718083 (251.228407) with: {'n_estimators': 200}\n",
      "-5429.752125 (253.638443) with: {'n_estimators': 250}\n",
      "-5454.192417 (261.012547) with: {'n_estimators': 300}\n",
      "-5469.757398 (254.138229) with: {'n_estimators': 350}\n",
      "-5500.226638 (257.899595) with: {'n_estimators': 400}\n"
     ]
    }
   ],
   "source": [
    "print(\"Best: %f using %s\" % (grid_result.best_score_, grid_result.best_params_))\n",
    "means = grid_result.cv_results_['mean_test_score']\n",
    "stds = grid_result.cv_results_['std_test_score']\n",
    "params = grid_result.cv_results_['params']\n",
    "for mean, stdev, param in zip(means, stds, params):\n",
    "    print(\"%f (%f) with: %r\" % (mean, stdev, param))"
   ]
  },
  {
   "cell_type": "code",
   "execution_count": 322,
   "metadata": {
    "collapsed": false
   },
   "outputs": [
    {
     "name": "stdout",
     "output_type": "stream",
     "text": [
      "Gradient Boosing Regressor RMSE: 73.579463 (1.773714)\n",
      "Gradient Boosing Regressor R2: 0.403320 (0.038677)\n"
     ]
    }
   ],
   "source": [
    "scaler = StandardScaler().fit(X_train)\n",
    "rescaledX = scaler.transform(X_train)\n",
    "model = GradientBoostingRegressor(n_estimators=150, random_state=seed)\n",
    "kfold = KFold(n_splits=num_folds, random_state=seed)\n",
    "\n",
    "cv_results = np.sqrt(-cross_val_score(model, rescaledX, y_train, scoring=scoring, cv=kfold))\n",
    "cv_r2 = cross_val_score(model, rescaledX, y_train, scoring='r2', cv=kfold)\n",
    "\n",
    "print  \"Gradient Boosing Regressor RMSE: %f (%f)\" % (cv_results.mean(), cv_results.std())\n",
    "print  \"Gradient Boosing Regressor R2: %f (%f)\" % (cv_r2.mean(), cv_r2.std())"
   ]
  },
  {
   "cell_type": "markdown",
   "metadata": {},
   "source": [
    "## IV. Results\n",
    "(2-3 pages)"
   ]
  },
  {
   "cell_type": "markdown",
   "metadata": {},
   "source": [
    "### Model Evaluation and Validation"
   ]
  },
  {
   "cell_type": "markdown",
   "metadata": {},
   "source": [
    "### Justification"
   ]
  },
  {
   "cell_type": "code",
   "execution_count": 283,
   "metadata": {
    "collapsed": false
   },
   "outputs": [
    {
     "name": "stdout",
     "output_type": "stream",
     "text": [
      "74.5031653788\n"
     ]
    }
   ],
   "source": [
    "# prepare the model\n",
    "scaler = StandardScaler().fit(X_train)\n",
    "rescaledX = scaler.transform(X_train)\n",
    "model = GradientBoostingRegressor(random_state=seed, n_estimators=150)\n",
    "model.fit(rescaledX, y_train)\n",
    "\n",
    "X_test = allData.iloc[pisaTrain.shape[0]:, :]\n",
    "# transform the validation dataset\n",
    "rescaledTestX = scaler.transform(X_test)\n",
    "predictions = model.predict(rescaledTestX)\n",
    "print(mean_squared_error(y_test, predictions)**0.5)"
   ]
  },
  {
   "cell_type": "markdown",
   "metadata": {},
   "source": [
    "## V. Conclusion\n",
    "(1-2 pages)"
   ]
  },
  {
   "cell_type": "markdown",
   "metadata": {},
   "source": [
    "### Free-Form Visualization"
   ]
  },
  {
   "cell_type": "markdown",
   "metadata": {},
   "source": [
    "### Reflection"
   ]
  },
  {
   "cell_type": "markdown",
   "metadata": {},
   "source": [
    "### Improvement"
   ]
  },
  {
   "cell_type": "markdown",
   "metadata": {},
   "source": [
    "### References\n",
    "[1] Berger, Kathleen. Invitation to The Life Span (second ed.). worth. ISBN 978-1-4641-7205-2."
   ]
  }
 ],
 "metadata": {
  "kernelspec": {
   "display_name": "Python 2",
   "language": "python",
   "name": "python2"
  },
  "language_info": {
   "codemirror_mode": {
    "name": "ipython",
    "version": 2
   },
   "file_extension": ".py",
   "mimetype": "text/x-python",
   "name": "python",
   "nbconvert_exporter": "python",
   "pygments_lexer": "ipython2",
   "version": "2.7.11"
  }
 },
 "nbformat": 4,
 "nbformat_minor": 0
}
