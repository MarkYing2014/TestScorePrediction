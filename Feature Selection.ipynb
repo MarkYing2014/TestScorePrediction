{
 "cells": [
  {
   "cell_type": "code",
   "execution_count": 1,
   "metadata": {
    "collapsed": true
   },
   "outputs": [],
   "source": [
    "import pandas as pd\n",
    "import numpy as np\n",
    "from sklearn.model_selection import train_test_split\n",
    "import matplotlib.pyplot as plt\n",
    "import seaborn as sns\n",
    "%matplotlib inline"
   ]
  },
  {
   "cell_type": "code",
   "execution_count": 2,
   "metadata": {
    "collapsed": true
   },
   "outputs": [],
   "source": [
    "seed = 7\n",
    "scoring = 'neg_mean_squared_error'\n",
    "\n",
    "pisa = pd.read_csv('pisa2009.csv')\n",
    "y = pisa['readingScore']\n",
    "pisa = pisa.drop('readingScore', axis=1)\n",
    "\n",
    "# Missing values\n",
    "# For continuous variables replace the missing data with average of columns\n",
    "pisa['minutesPerWeekEnglish'].fillna(int(pisa['minutesPerWeekEnglish'].mean()), inplace=True)\n",
    "pisa['studentsInEnglish'].fillna(int(pisa['studentsInEnglish'].mean()), inplace=True)\n",
    "pisa['schoolSize'].fillna(int(pisa['schoolSize'].mean()), inplace=True)\n",
    "\n",
    "# For 'raceeth' use 'missing' replacement\n",
    "pisa['raceeth'].fillna('NoRace', inplace=True)\n",
    "# For binary variable use 0.5 in place of missing value\n",
    "\n",
    "pisa = pisa.apply(lambda x:x.fillna(0.5))\n",
    "\n",
    "# Encode categorical data\n",
    "raceeth = pd.get_dummies(pisa['raceeth'], 'raceeth')\n",
    "pisa = pd.concat([pisa, raceeth], axis=1)\n",
    "pisa = pisa.drop('raceeth', axis=1)\n",
    "\n",
    "# remove multicolinearity\n",
    "pisa = pisa.drop(['motherBachelors','motherBornUS', 'fatherBornUS'], axis=1)\n",
    "\n",
    "X = pisa\n",
    "\n",
    "X_train, X_test, y_train, y_test = train_test_split(X, y, test_size=0.2, random_state=seed)"
   ]
  },
  {
   "cell_type": "code",
   "execution_count": 3,
   "metadata": {
    "collapsed": true
   },
   "outputs": [],
   "source": [
    "\n",
    "# Cross validation framework\n",
    "\n",
    "from sklearn.model_selection import KFold\n",
    "from sklearn.model_selection import cross_val_score\n",
    "from sklearn.model_selection import GridSearchCV\n",
    "from sklearn.linear_model import LinearRegression\n",
    "from sklearn.ensemble import GradientBoostingRegressor\n",
    "\n",
    "\n",
    "def do_cross_validation(X, y, scoring = 'neg_mean_squared_error'):\n",
    "    print(X.shape)\n",
    "    models = []\n",
    "    models.append(('LR', LinearRegression()))\n",
    "    models.append(('GB', GradientBoostingRegressor() ))\n",
    "    \n",
    "    results_rmse = []\n",
    "    results_r2 = []\n",
    "    names = []\n",
    "    for name, model in models:\n",
    "        kfold = KFold(n_splits=10, random_state=7)\n",
    "        cv_results = np.sqrt(-cross_val_score(model, X_train, y_train, cv=kfold, scoring=scoring))\n",
    "        cv_results_r2 = cross_val_score(model, X_train, y_train, cv=kfold, scoring='r2')\n",
    "        results_rmse.append(cv_results)\n",
    "        results_r2.append(cv_results_r2)\n",
    "        names.append(name)\n",
    "        msg = \"%3s: %.3f (%.3f) r2: %.3f (%.3f)\" % \\\n",
    "        (name, cv_results.mean(), cv_results.std(), cv_results_r2.mean(), cv_results_r2.std())\n",
    "        print(msg)\n",
    "    return results_rmse, results_r2, names"
   ]
  },
  {
   "cell_type": "markdown",
   "metadata": {},
   "source": [
    "### Baseline before feature selection"
   ]
  },
  {
   "cell_type": "code",
   "execution_count": 4,
   "metadata": {
    "collapsed": false
   },
   "outputs": [
    {
     "name": "stdout",
     "output_type": "stream",
     "text": [
      "(4186, 27)\n",
      " LR: 77.638 (2.122) r2: 0.341 (0.035)\n",
      " GB: 74.311 (2.130) r2: 0.396 (0.038)\n"
     ]
    }
   ],
   "source": [
    "rmse, r2, names = do_cross_validation(X_train, y_train)"
   ]
  },
  {
   "cell_type": "markdown",
   "metadata": {},
   "source": [
    "## Feature selection 1. SelectKBest"
   ]
  },
  {
   "cell_type": "code",
   "execution_count": 5,
   "metadata": {
    "collapsed": false
   },
   "outputs": [
    {
     "name": "stdout",
     "output_type": "stream",
     "text": [
      "645 expectBachelors\n",
      "385 raceeth_White\n",
      "354 grade\n",
      "252 read30MinsADay\n",
      "223 raceeth_Black\n",
      "204 fatherHS\n",
      "174 fatherBachelors\n",
      "172 computerForSchoolwork\n",
      "141 raceeth_Hispanic\n",
      "116 motherHS\n",
      " 94 male\n",
      " 74 publicSchool\n",
      " 74 englishAtHome\n",
      " 40 fatherWork\n",
      " 32 raceeth_Asian\n",
      " 29 schoolHasLibrary\n",
      " 19 urban\n",
      " 17 selfBornUS\n",
      " 17 minutesPerWeekEnglish\n",
      " 14 raceeth_American Indian/Alaska Native\n",
      " 13 preschool\n",
      " 11 raceeth_NoRace\n",
      "  8 motherWork\n",
      "  6 studentsInEnglish\n",
      "  3 schoolSize\n",
      "  0 raceeth_More than one race\n",
      "  0 raceeth_Native Hawaiian/Other Pacific Islander\n"
     ]
    }
   ],
   "source": [
    "from sklearn.feature_selection import SelectKBest\n",
    "from numpy import set_printoptions\n",
    "from sklearn.feature_selection import f_regression\n",
    "\n",
    "# feature extraction\n",
    "\n",
    "test = SelectKBest(score_func=f_regression, k=2)\n",
    "fit = test.fit(X_train, y_train)\n",
    "# summarize scores\n",
    "set_printoptions(precision=3)\n",
    "i = 0\n",
    "KBest_ranking = {}\n",
    "for score in fit.scores_:\n",
    "    KBest_ranking[pisa.columns[i]] = score\n",
    "    i +=1\n",
    "\n",
    "for key in sorted(KBest_ranking, key=KBest_ranking.get, reverse=True):\n",
    "    print \"%3d %s\" % (KBest_ranking[key], key)"
   ]
  },
  {
   "cell_type": "code",
   "execution_count": 6,
   "metadata": {
    "collapsed": false
   },
   "outputs": [
    {
     "name": "stdout",
     "output_type": "stream",
     "text": [
      "(4186L, 2L)\n",
      " LR: 77.638 (2.122) r2: 0.341 (0.035)\n",
      " GB: 74.314 (2.137) r2: 0.396 (0.037)\n"
     ]
    }
   ],
   "source": [
    "features = fit.transform(X_train)\n",
    "_ = do_cross_validation(features, y_train)"
   ]
  },
  {
   "cell_type": "markdown",
   "metadata": {},
   "source": [
    "No improvement with selectKBest"
   ]
  },
  {
   "cell_type": "markdown",
   "metadata": {},
   "source": [
    "### Feature selection 2. RFE"
   ]
  },
  {
   "cell_type": "code",
   "execution_count": 15,
   "metadata": {
    "collapsed": false
   },
   "outputs": [
    {
     "name": "stdout",
     "output_type": "stream",
     "text": [
      " 1 minutesPerWeekEnglish\n",
      " 1 schoolSize\n",
      " 2 studentsInEnglish\n",
      " 3 expectBachelors\n",
      " 4 grade\n",
      " 5 read30MinsADay\n",
      " 6 raceeth_White\n",
      " 7 fatherBachelors\n",
      " 8 schoolHasLibrary\n",
      " 9 computerForSchoolwork\n",
      "10 publicSchool\n",
      "11 raceeth_Black\n",
      "12 male\n",
      "13 englishAtHome\n",
      "14 urban\n",
      "15 raceeth_Asian\n",
      "16 fatherHS\n",
      "17 raceeth_More than one race\n",
      "18 motherHS\n",
      "19 motherWork\n",
      "20 selfBornUS\n",
      "21 fatherWork\n",
      "22 preschool\n",
      "23 raceeth_Native Hawaiian/Other Pacific Islander\n",
      "24 raceeth_NoRace\n",
      "25 raceeth_Hispanic\n",
      "26 raceeth_American Indian/Alaska Native\n"
     ]
    }
   ],
   "source": [
    "from sklearn.feature_selection import RFE\n",
    "model = GradientBoostingRegressor()\n",
    "rfe = RFE(model, 2)\n",
    "fit = rfe.fit(X_train, y_train)\n",
    "#print(\"Num Features: %d\") % fit.n_features_\n",
    "#print(\"Selected Features: %s\") % fit.support_\n",
    "#print(\"Feature Ranking: %s\") % fit.ranking_\n",
    "#print pisaTrain.columns[fit.support_]\n",
    "RFE_ranking = {}\n",
    "i = 0\n",
    "for rank in fit.ranking_:\n",
    "    RFE_ranking[pisa.columns[i]] = rank\n",
    "    i += 1\n",
    "\n",
    "for key in sorted(RFE_ranking, key=RFE_ranking.get):\n",
    "    print \"%2d %s\" % (RFE_ranking[key], key) "
   ]
  },
  {
   "cell_type": "code",
   "execution_count": 16,
   "metadata": {
    "collapsed": false
   },
   "outputs": [
    {
     "name": "stdout",
     "output_type": "stream",
     "text": [
      "(4186, 2)\n",
      " LR: 77.638 (2.122) r2: 0.341 (0.035)\n",
      " GB: 74.311 (2.139) r2: 0.396 (0.038)\n"
     ]
    }
   ],
   "source": [
    "selected = X_train[X_train.columns[fit.support_]]\n",
    "_ = do_cross_validation(selected, y_train)"
   ]
  },
  {
   "cell_type": "code",
   "execution_count": 17,
   "metadata": {
    "collapsed": false
   },
   "outputs": [
    {
     "data": {
      "text/plain": [
       "(4186, 2)"
      ]
     },
     "execution_count": 17,
     "metadata": {},
     "output_type": "execute_result"
    }
   ],
   "source": [
    "selected.shape"
   ]
  },
  {
   "cell_type": "markdown",
   "metadata": {},
   "source": [
    "### Feature selection 2. Principal Component Analysis"
   ]
  },
  {
   "cell_type": "code",
   "execution_count": 18,
   "metadata": {
    "collapsed": false
   },
   "outputs": [
    {
     "name": "stdout",
     "output_type": "stream",
     "text": [
      "Explained Variance: [  9.718e-01   2.814e-02   6.104e-05   6.315e-07]\n",
      "[[  4.175e-05   3.480e-06  -1.389e-05   1.011e-05  -3.503e-05  -2.329e-05\n",
      "   -3.322e-05   1.945e-05  -9.661e-06  -3.673e-05  -6.874e-05   2.595e-05\n",
      "   -3.361e-06   1.405e-03   1.878e-03   5.220e-06   6.930e-05   1.772e-04\n",
      "    1.000e+00  -6.855e-06   1.547e-05  -2.387e-06   1.122e-04  -2.363e-06\n",
      "    1.704e-06  -1.078e-06  -1.167e-04]\n",
      " [  1.494e-04   1.725e-05  -3.725e-05   3.057e-05   5.046e-05   6.841e-05\n",
      "    7.911e-05   1.940e-05   1.361e-05  -1.424e-05   2.895e-05  -2.095e-05\n",
      "    6.755e-05   1.000e+00   1.777e-03  -2.390e-05   7.587e-05  -1.805e-04\n",
      "   -1.408e-03  -4.276e-07   3.054e-06  -8.981e-05  -5.477e-05   3.340e-06\n",
      "   -5.616e-06   9.229e-06   1.350e-04]\n",
      " [  6.414e-03  -2.787e-03  -1.619e-03   2.719e-03  -1.089e-03   6.070e-04\n",
      "    1.420e-04  -2.132e-03   1.128e-03   4.860e-05  -1.178e-03   1.903e-03\n",
      "   -1.168e-05  -1.780e-03   9.999e-01   1.364e-03   4.820e-04   5.974e-03\n",
      "   -1.877e-03  -5.345e-04   1.581e-03  -1.449e-03   6.128e-04   6.065e-04\n",
      "    2.490e-04   4.866e-05  -1.115e-03]\n",
      " [ -1.000e-01   2.127e-02  -1.837e-01  -1.573e-01  -2.485e-01  -1.405e-01\n",
      "   -2.667e-01  -2.456e-01  -9.482e-02  -1.185e-01  -2.737e-01  -1.135e-01\n",
      "   -2.142e-02   2.305e-04  -2.360e-03  -2.848e-02   2.059e-03   2.900e-01\n",
      "   -1.968e-04   8.165e-03   2.478e-02   7.968e-02   4.329e-01   1.385e-02\n",
      "    3.159e-03   9.566e-03  -5.721e-01]]\n"
     ]
    }
   ],
   "source": [
    "from sklearn.decomposition import PCA\n",
    "pca = PCA(n_components=4)\n",
    "fit = pca.fit(X_train)\n",
    "# summarize components\n",
    "print(\"Explained Variance: %s\") %fit.explained_variance_ratio_\n",
    "print(fit.components_)"
   ]
  },
  {
   "cell_type": "code",
   "execution_count": 19,
   "metadata": {
    "collapsed": false
   },
   "outputs": [
    {
     "name": "stdout",
     "output_type": "stream",
     "text": [
      "(4186L, 4L)\n",
      " LR: 77.638 (2.122) r2: 0.341 (0.035)\n",
      " GB: 74.308 (2.131) r2: 0.396 (0.038)\n"
     ]
    }
   ],
   "source": [
    "Xpca = pca.transform(X_train)\n",
    "_=do_cross_validation(Xpca, y_train)"
   ]
  },
  {
   "cell_type": "markdown",
   "metadata": {},
   "source": [
    "### Feature selection 2. Feature Importance using ExtraTreesRegressor"
   ]
  },
  {
   "cell_type": "code",
   "execution_count": 12,
   "metadata": {
    "collapsed": false
   },
   "outputs": [
    {
     "name": "stdout",
     "output_type": "stream",
     "text": [
      "0.1357 expectBachelors\n",
      "0.1043 schoolSize\n",
      "0.0946 minutesPerWeekEnglish\n",
      "0.0921 studentsInEnglish\n",
      "0.0731 grade\n",
      "0.0700 raceeth_White\n",
      "0.0490 fatherBachelors\n",
      "0.0431 read30MinsADay\n",
      "0.0340 motherWork\n",
      "0.0310 urban\n",
      "0.0302 male\n",
      "0.0293 preschool\n",
      "0.0265 fatherWork\n",
      "0.0246 computerForSchoolwork\n",
      "0.0240 fatherHS\n",
      "0.0213 schoolHasLibrary\n",
      "0.0194 selfBornUS\n",
      "0.0188 motherHS\n",
      "0.0180 englishAtHome\n",
      "0.0172 raceeth_Asian\n",
      "0.0167 publicSchool\n",
      "0.0110 raceeth_Black\n",
      "0.0057 raceeth_Hispanic\n",
      "0.0054 raceeth_More than one race\n",
      "0.0029 raceeth_Native Hawaiian/Other Pacific Islander\n",
      "0.0012 raceeth_American Indian/Alaska Native\n",
      "0.0007 raceeth_NoRace\n"
     ]
    }
   ],
   "source": [
    "from sklearn.ensemble import ExtraTreesRegressor\n",
    "model = ExtraTreesRegressor()\n",
    "model.fit(X_train, y_train)\n",
    "#print(model.feature_importances_)\n",
    "i = 0\n",
    "res_dict = {}\n",
    "for f in model.feature_importances_:\n",
    "    res_dict[pisa.columns[i]] = f\n",
    "    i += 1\n",
    "    \n",
    "#for key, value in sorted(res_dict.iteritems(), key=lambda(k,v): (v,k)):\n",
    "#    print \"%f %s\" % (value, key)\n",
    "featuresSorted = []\n",
    "for key in sorted(res_dict, key=res_dict.get, reverse=True):\n",
    "    print \"%.4f %s\" % (res_dict[key], key)\n",
    "    featuresSorted.append(key)"
   ]
  },
  {
   "cell_type": "code",
   "execution_count": 13,
   "metadata": {
    "collapsed": false
   },
   "outputs": [
    {
     "data": {
      "text/plain": [
       "['expectBachelors',\n",
       " 'schoolSize',\n",
       " 'minutesPerWeekEnglish',\n",
       " 'studentsInEnglish',\n",
       " 'grade']"
      ]
     },
     "execution_count": 13,
     "metadata": {},
     "output_type": "execute_result"
    }
   ],
   "source": [
    "#top 10 columns\n",
    "featuresSorted[:5]"
   ]
  },
  {
   "cell_type": "code",
   "execution_count": 14,
   "metadata": {
    "collapsed": false
   },
   "outputs": [
    {
     "name": "stdout",
     "output_type": "stream",
     "text": [
      "(4186, 1)\n",
      " LR: 77.638 (2.122) r2: 0.341 (0.035)\n",
      " GB: 74.303 (2.130) r2: 0.396 (0.037)\n"
     ]
    }
   ],
   "source": [
    "_ = do_cross_validation(X_train[featuresSorted[:1]], y_train)"
   ]
  },
  {
   "cell_type": "code",
   "execution_count": null,
   "metadata": {
    "collapsed": true
   },
   "outputs": [],
   "source": []
  }
 ],
 "metadata": {
  "kernelspec": {
   "display_name": "Python 2",
   "language": "python",
   "name": "python2"
  },
  "language_info": {
   "codemirror_mode": {
    "name": "ipython",
    "version": 2
   },
   "file_extension": ".py",
   "mimetype": "text/x-python",
   "name": "python",
   "nbconvert_exporter": "python",
   "pygments_lexer": "ipython2",
   "version": "2.7.11"
  }
 },
 "nbformat": 4,
 "nbformat_minor": 0
}
