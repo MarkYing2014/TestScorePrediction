{
 "cells": [
  {
   "cell_type": "markdown",
   "metadata": {},
   "source": [
    "# 1. Definition"
   ]
  },
  {
   "cell_type": "markdown",
   "metadata": {},
   "source": [
    "## 1.1 Project Overiview\n",
    "\n",
    "The Programme for International Student Assessment (PISA) is a worldwide study of 15-year-old school pupils' scholastic performance on mathematics, science, and reading.\n",
    "\n",
    "In this project, we will predict the reading scores of students using the background information such as parents education, school size, using computer for homework, etc., provided by student and the School. We use PISA 2009 dataset as reading literacy was the main domain assessed in 2009.\n"
   ]
  },
  {
   "cell_type": "markdown",
   "metadata": {},
   "source": [
    "## 1.2 Problem Statement\n",
    "\n",
    "The goal is to train a model to predict the reading score of student using their demographical information. Since this is a problem of supervised learning of type regression. Several regression algorithms will be explored, as discussed in Phase II, Analysis."
   ]
  },
  {
   "cell_type": "markdown",
   "metadata": {},
   "source": [
    "## 1.3 Metrics\n",
    "\n",
    "We will use two metrics:\n",
    "* RMSE(Root Mean Squared Error)\n",
    "* R^2(R-squared)"
   ]
  },
  {
   "cell_type": "markdown",
   "metadata": {},
   "source": [
    "# 2. Analysis"
   ]
  },
  {
   "cell_type": "markdown",
   "metadata": {},
   "source": [
    "## 2.1 Data Exploration"
   ]
  },
  {
   "cell_type": "markdown",
   "metadata": {},
   "source": [
    "### Load the dataset"
   ]
  },
  {
   "cell_type": "code",
   "execution_count": 49,
   "metadata": {
    "collapsed": false
   },
   "outputs": [],
   "source": [
    "# import all required libraries\n",
    "import pandas as pd\n",
    "import numpy as np\n",
    "import matplotlib.pyplot as plt\n",
    "%matplotlib inline\n",
    "import seaborn as sns\n",
    "import timeit\n",
    "\n",
    "# Use average of scores as benchmark\n",
    "from sklearn.metrics import mean_absolute_error\n",
    "from sklearn.metrics import r2_score\n",
    "from sklearn import model_selection\n",
    "\n",
    "\n",
    "from sklearn.linear_model import LinearRegression\n",
    "from sklearn.model_selection import KFold\n",
    "from sklearn.model_selection import cross_val_score\n",
    "from sklearn.model_selection import GridSearchCV\n",
    "from sklearn.model_selection import ShuffleSplit\n",
    "\n",
    "\n",
    "from sklearn.tree import DecisionTreeRegressor\n",
    "from sklearn.model_selection import train_test_split\n",
    "from sklearn.ensemble import GradientBoostingRegressor\n",
    "from sklearn.ensemble import RandomForestRegressor\n"
   ]
  },
  {
   "cell_type": "code",
   "execution_count": 50,
   "metadata": {
    "collapsed": false
   },
   "outputs": [
    {
     "name": "stdout",
     "output_type": "stream",
     "text": [
      "('Shape of dataset: ', (5233, 24))\n"
     ]
    }
   ],
   "source": [
    "pisa = pd.read_csv('pisa2009.csv')\n",
    "print('Shape of dataset: ',pisa.shape)"
   ]
  },
  {
   "cell_type": "markdown",
   "metadata": {},
   "source": [
    "## 2.2 Exploratory Visualization"
   ]
  },
  {
   "cell_type": "code",
   "execution_count": 51,
   "metadata": {
    "collapsed": false
   },
   "outputs": [
    {
     "data": {
      "text/plain": [
       "grade                      int64\n",
       "male                       int64\n",
       "raceeth                   object\n",
       "preschool                float64\n",
       "expectBachelors          float64\n",
       "motherHS                 float64\n",
       "motherBachelors          float64\n",
       "motherWork               float64\n",
       "fatherHS                 float64\n",
       "fatherBachelors          float64\n",
       "fatherWork               float64\n",
       "selfBornUS               float64\n",
       "motherBornUS             float64\n",
       "fatherBornUS             float64\n",
       "englishAtHome            float64\n",
       "computerForSchoolwork    float64\n",
       "read30MinsADay           float64\n",
       "minutesPerWeekEnglish    float64\n",
       "studentsInEnglish        float64\n",
       "schoolHasLibrary         float64\n",
       "publicSchool               int64\n",
       "urban                      int64\n",
       "schoolSize               float64\n",
       "readingScore             float64\n",
       "dtype: object"
      ]
     },
     "execution_count": 51,
     "metadata": {},
     "output_type": "execute_result"
    }
   ],
   "source": [
    "pisa.dtypes"
   ]
  },
  {
   "cell_type": "code",
   "execution_count": 52,
   "metadata": {
    "collapsed": false
   },
   "outputs": [
    {
     "data": {
      "text/html": [
       "<div>\n",
       "<table border=\"1\" class=\"dataframe\">\n",
       "  <thead>\n",
       "    <tr style=\"text-align: right;\">\n",
       "      <th></th>\n",
       "      <th>grade</th>\n",
       "      <th>male</th>\n",
       "      <th>raceeth</th>\n",
       "      <th>preschool</th>\n",
       "      <th>expectBachelors</th>\n",
       "      <th>motherHS</th>\n",
       "      <th>motherBachelors</th>\n",
       "      <th>motherWork</th>\n",
       "      <th>fatherHS</th>\n",
       "      <th>fatherBachelors</th>\n",
       "      <th>...</th>\n",
       "      <th>englishAtHome</th>\n",
       "      <th>computerForSchoolwork</th>\n",
       "      <th>read30MinsADay</th>\n",
       "      <th>minutesPerWeekEnglish</th>\n",
       "      <th>studentsInEnglish</th>\n",
       "      <th>schoolHasLibrary</th>\n",
       "      <th>publicSchool</th>\n",
       "      <th>urban</th>\n",
       "      <th>schoolSize</th>\n",
       "      <th>readingScore</th>\n",
       "    </tr>\n",
       "  </thead>\n",
       "  <tbody>\n",
       "    <tr>\n",
       "      <th>0</th>\n",
       "      <td>11</td>\n",
       "      <td>1</td>\n",
       "      <td>NaN</td>\n",
       "      <td>NaN</td>\n",
       "      <td>0.0</td>\n",
       "      <td>NaN</td>\n",
       "      <td>NaN</td>\n",
       "      <td>1.0</td>\n",
       "      <td>NaN</td>\n",
       "      <td>NaN</td>\n",
       "      <td>...</td>\n",
       "      <td>0.0</td>\n",
       "      <td>1.0</td>\n",
       "      <td>0.0</td>\n",
       "      <td>225.0</td>\n",
       "      <td>NaN</td>\n",
       "      <td>1.0</td>\n",
       "      <td>1</td>\n",
       "      <td>1</td>\n",
       "      <td>673.0</td>\n",
       "      <td>476.00</td>\n",
       "    </tr>\n",
       "    <tr>\n",
       "      <th>1</th>\n",
       "      <td>11</td>\n",
       "      <td>1</td>\n",
       "      <td>White</td>\n",
       "      <td>0.0</td>\n",
       "      <td>0.0</td>\n",
       "      <td>1.0</td>\n",
       "      <td>1.0</td>\n",
       "      <td>1.0</td>\n",
       "      <td>1.0</td>\n",
       "      <td>0.0</td>\n",
       "      <td>...</td>\n",
       "      <td>1.0</td>\n",
       "      <td>1.0</td>\n",
       "      <td>1.0</td>\n",
       "      <td>450.0</td>\n",
       "      <td>25.0</td>\n",
       "      <td>1.0</td>\n",
       "      <td>1</td>\n",
       "      <td>0</td>\n",
       "      <td>1173.0</td>\n",
       "      <td>575.01</td>\n",
       "    </tr>\n",
       "    <tr>\n",
       "      <th>2</th>\n",
       "      <td>9</td>\n",
       "      <td>1</td>\n",
       "      <td>White</td>\n",
       "      <td>1.0</td>\n",
       "      <td>1.0</td>\n",
       "      <td>1.0</td>\n",
       "      <td>1.0</td>\n",
       "      <td>1.0</td>\n",
       "      <td>1.0</td>\n",
       "      <td>NaN</td>\n",
       "      <td>...</td>\n",
       "      <td>1.0</td>\n",
       "      <td>1.0</td>\n",
       "      <td>0.0</td>\n",
       "      <td>250.0</td>\n",
       "      <td>28.0</td>\n",
       "      <td>1.0</td>\n",
       "      <td>1</td>\n",
       "      <td>0</td>\n",
       "      <td>1233.0</td>\n",
       "      <td>554.81</td>\n",
       "    </tr>\n",
       "    <tr>\n",
       "      <th>3</th>\n",
       "      <td>10</td>\n",
       "      <td>0</td>\n",
       "      <td>Black</td>\n",
       "      <td>1.0</td>\n",
       "      <td>1.0</td>\n",
       "      <td>0.0</td>\n",
       "      <td>0.0</td>\n",
       "      <td>1.0</td>\n",
       "      <td>1.0</td>\n",
       "      <td>0.0</td>\n",
       "      <td>...</td>\n",
       "      <td>1.0</td>\n",
       "      <td>1.0</td>\n",
       "      <td>1.0</td>\n",
       "      <td>200.0</td>\n",
       "      <td>23.0</td>\n",
       "      <td>1.0</td>\n",
       "      <td>1</td>\n",
       "      <td>1</td>\n",
       "      <td>2640.0</td>\n",
       "      <td>458.11</td>\n",
       "    </tr>\n",
       "    <tr>\n",
       "      <th>4</th>\n",
       "      <td>10</td>\n",
       "      <td>1</td>\n",
       "      <td>Hispanic</td>\n",
       "      <td>1.0</td>\n",
       "      <td>0.0</td>\n",
       "      <td>1.0</td>\n",
       "      <td>0.0</td>\n",
       "      <td>1.0</td>\n",
       "      <td>1.0</td>\n",
       "      <td>0.0</td>\n",
       "      <td>...</td>\n",
       "      <td>1.0</td>\n",
       "      <td>1.0</td>\n",
       "      <td>1.0</td>\n",
       "      <td>250.0</td>\n",
       "      <td>35.0</td>\n",
       "      <td>1.0</td>\n",
       "      <td>1</td>\n",
       "      <td>1</td>\n",
       "      <td>1095.0</td>\n",
       "      <td>613.89</td>\n",
       "    </tr>\n",
       "  </tbody>\n",
       "</table>\n",
       "<p>5 rows × 24 columns</p>\n",
       "</div>"
      ],
      "text/plain": [
       "   grade  male   raceeth  preschool  expectBachelors  motherHS  \\\n",
       "0     11     1       NaN        NaN              0.0       NaN   \n",
       "1     11     1     White        0.0              0.0       1.0   \n",
       "2      9     1     White        1.0              1.0       1.0   \n",
       "3     10     0     Black        1.0              1.0       0.0   \n",
       "4     10     1  Hispanic        1.0              0.0       1.0   \n",
       "\n",
       "   motherBachelors  motherWork  fatherHS  fatherBachelors      ...       \\\n",
       "0              NaN         1.0       NaN              NaN      ...        \n",
       "1              1.0         1.0       1.0              0.0      ...        \n",
       "2              1.0         1.0       1.0              NaN      ...        \n",
       "3              0.0         1.0       1.0              0.0      ...        \n",
       "4              0.0         1.0       1.0              0.0      ...        \n",
       "\n",
       "   englishAtHome  computerForSchoolwork  read30MinsADay  \\\n",
       "0            0.0                    1.0             0.0   \n",
       "1            1.0                    1.0             1.0   \n",
       "2            1.0                    1.0             0.0   \n",
       "3            1.0                    1.0             1.0   \n",
       "4            1.0                    1.0             1.0   \n",
       "\n",
       "   minutesPerWeekEnglish  studentsInEnglish  schoolHasLibrary  publicSchool  \\\n",
       "0                  225.0                NaN               1.0             1   \n",
       "1                  450.0               25.0               1.0             1   \n",
       "2                  250.0               28.0               1.0             1   \n",
       "3                  200.0               23.0               1.0             1   \n",
       "4                  250.0               35.0               1.0             1   \n",
       "\n",
       "   urban  schoolSize  readingScore  \n",
       "0      1       673.0        476.00  \n",
       "1      0      1173.0        575.01  \n",
       "2      0      1233.0        554.81  \n",
       "3      1      2640.0        458.11  \n",
       "4      1      1095.0        613.89  \n",
       "\n",
       "[5 rows x 24 columns]"
      ]
     },
     "execution_count": 52,
     "metadata": {},
     "output_type": "execute_result"
    }
   ],
   "source": [
    "pisa.head()"
   ]
  },
  {
   "cell_type": "markdown",
   "metadata": {
    "collapsed": true
   },
   "source": [
    "### Missing Values"
   ]
  },
  {
   "cell_type": "code",
   "execution_count": 53,
   "metadata": {
    "collapsed": false
   },
   "outputs": [
    {
     "data": {
      "image/png": "[encoded data removed]",
      "text/plain": [
       "<matplotlib.figure.Figure at 0xf2156d8>"
      ]
     },
     "metadata": {},
     "output_type": "display_data"
    }
   ],
   "source": [
    "fig = plt.figure(figsize=(8, 8))\n",
    "fig.suptitle('Count of missing values', fontsize=14, fontweight='bold')\n",
    "null_data = pisa.isnull().sum()\n",
    "ax = sns.barplot(x = null_data.values, y=null_data.index, color=\"m\" )\n",
    "i = 0\n",
    "for p in ax.patches:\n",
    "    width = p.get_width()\n",
    "    ax.text(width + 3, p.get_y() + 0.5, null_data.values[i])\n",
    "    i += 1"
   ]
  },
  {
   "cell_type": "code",
   "execution_count": 54,
   "metadata": {
    "collapsed": false
   },
   "outputs": [
    {
     "data": {
      "text/html": [
       "<div>\n",
       "<table border=\"1\" class=\"dataframe\">\n",
       "  <thead>\n",
       "    <tr style=\"text-align: right;\">\n",
       "      <th></th>\n",
       "      <th>minutesPerWeekEnglish</th>\n",
       "      <th>studentsInEnglish</th>\n",
       "      <th>schoolSize</th>\n",
       "    </tr>\n",
       "  </thead>\n",
       "  <tbody>\n",
       "    <tr>\n",
       "      <th>count</th>\n",
       "      <td>4944.000000</td>\n",
       "      <td>4870.000000</td>\n",
       "      <td>5002.000000</td>\n",
       "    </tr>\n",
       "    <tr>\n",
       "      <th>mean</th>\n",
       "      <td>265.717840</td>\n",
       "      <td>24.559754</td>\n",
       "      <td>1374.367653</td>\n",
       "    </tr>\n",
       "    <tr>\n",
       "      <th>std</th>\n",
       "      <td>149.591118</td>\n",
       "      <td>7.139661</td>\n",
       "      <td>870.424790</td>\n",
       "    </tr>\n",
       "    <tr>\n",
       "      <th>min</th>\n",
       "      <td>0.000000</td>\n",
       "      <td>1.000000</td>\n",
       "      <td>100.000000</td>\n",
       "    </tr>\n",
       "    <tr>\n",
       "      <th>25%</th>\n",
       "      <td>225.000000</td>\n",
       "      <td>20.000000</td>\n",
       "      <td>712.000000</td>\n",
       "    </tr>\n",
       "    <tr>\n",
       "      <th>50%</th>\n",
       "      <td>250.000000</td>\n",
       "      <td>25.000000</td>\n",
       "      <td>1233.000000</td>\n",
       "    </tr>\n",
       "    <tr>\n",
       "      <th>75%</th>\n",
       "      <td>300.000000</td>\n",
       "      <td>30.000000</td>\n",
       "      <td>1900.000000</td>\n",
       "    </tr>\n",
       "    <tr>\n",
       "      <th>max</th>\n",
       "      <td>2400.000000</td>\n",
       "      <td>90.000000</td>\n",
       "      <td>6694.000000</td>\n",
       "    </tr>\n",
       "  </tbody>\n",
       "</table>\n",
       "</div>"
      ],
      "text/plain": [
       "       minutesPerWeekEnglish  studentsInEnglish   schoolSize\n",
       "count            4944.000000        4870.000000  5002.000000\n",
       "mean              265.717840          24.559754  1374.367653\n",
       "std               149.591118           7.139661   870.424790\n",
       "min                 0.000000           1.000000   100.000000\n",
       "25%               225.000000          20.000000   712.000000\n",
       "50%               250.000000          25.000000  1233.000000\n",
       "75%               300.000000          30.000000  1900.000000\n",
       "max              2400.000000          90.000000  6694.000000"
      ]
     },
     "execution_count": 54,
     "metadata": {},
     "output_type": "execute_result"
    }
   ],
   "source": [
    "# Continuous Features\n",
    "contFeatures = ['minutesPerWeekEnglish','studentsInEnglish','schoolSize']\n",
    "pisa[contFeatures].describe()"
   ]
  },
  {
   "cell_type": "markdown",
   "metadata": {},
   "source": [
    "The max value of * minutesPerWeekEnglish * is very fary from the 75th percentile"
   ]
  },
  {
   "cell_type": "markdown",
   "metadata": {},
   "source": [
    "### Outliers"
   ]
  },
  {
   "cell_type": "code",
   "execution_count": 55,
   "metadata": {
    "collapsed": false
   },
   "outputs": [
    {
     "data": {
      "text/plain": [
       "<matplotlib.axes._subplots.AxesSubplot at 0xe3b5b00>"
      ]
     },
     "execution_count": 55,
     "metadata": {},
     "output_type": "execute_result"
    },
    {
     "data": {
      "image/png": "[encoded data removed]",
      "text/plain": [
       "<matplotlib.figure.Figure at 0xf1b4c88>"
      ]
     },
     "metadata": {},
     "output_type": "display_data"
    }
   ],
   "source": [
    "sns.boxplot(y=pisa[\"minutesPerWeekEnglish\"])"
   ]
  },
  {
   "cell_type": "code",
   "execution_count": 56,
   "metadata": {
    "collapsed": false
   },
   "outputs": [
    {
     "data": {
      "text/plain": [
       "count    4944.000000\n",
       "mean      265.717840\n",
       "std       149.591118\n",
       "min         0.000000\n",
       "25%       225.000000\n",
       "50%       250.000000\n",
       "75%       300.000000\n",
       "max      2400.000000\n",
       "Name: minutesPerWeekEnglish, dtype: float64"
      ]
     },
     "execution_count": 56,
     "metadata": {},
     "output_type": "execute_result"
    }
   ],
   "source": [
    "pisa['minutesPerWeekEnglish'].describe()"
   ]
  },
  {
   "cell_type": "markdown",
   "metadata": {},
   "source": [
    "The boxplot confirms the outlier.  The max value is 2400 minutes (40 hours) per week of English classes. It's not normal as students has other classes to attend."
   ]
  },
  {
   "cell_type": "code",
   "execution_count": 57,
   "metadata": {
    "collapsed": false
   },
   "outputs": [
    {
     "data": {
      "text/plain": [
       "<matplotlib.axes._subplots.AxesSubplot at 0x105a07b8>"
      ]
     },
     "execution_count": 57,
     "metadata": {},
     "output_type": "execute_result"
    },
    {
     "data": {
      "image/png": "[encoded data removed]",
      "text/plain": [
       "<matplotlib.figure.Figure at 0x11fcc240>"
      ]
     },
     "metadata": {},
     "output_type": "display_data"
    }
   ],
   "source": [
    "fig, ax = plt.subplots(1,2, figsize=(15, 5))\n",
    "\n",
    "sns.boxplot(y= pisa[\"studentsInEnglish\"], ax=ax[0])\n",
    "sns.boxplot(y= pisa[\"schoolSize\"], ax=ax[1])"
   ]
  },
  {
   "cell_type": "markdown",
   "metadata": {},
   "source": [
    "For 'studentsInEnglish' and 'schoolSize', the outliers are not a big  concern here as both min and max values are in acceptable range for the number of students in the class and school."
   ]
  },
  {
   "cell_type": "markdown",
   "metadata": {},
   "source": [
    "### Bivariate plots on continuous predictors"
   ]
  },
  {
   "cell_type": "code",
   "execution_count": 58,
   "metadata": {
    "collapsed": false
   },
   "outputs": [
    {
     "data": {
      "image/png": "[encoded data removed]",
      "text/plain": [
       "<matplotlib.figure.Figure at 0xdf91dd8>"
      ]
     },
     "metadata": {},
     "output_type": "display_data"
    }
   ],
   "source": [
    "_ = sns.pairplot(pisa[contFeatures + ['readingScore']].dropna())"
   ]
  },
  {
   "cell_type": "markdown",
   "metadata": {},
   "source": [
    "The target variable, 'readingScore' shows a normal distribution. So it does not require any transformation. Two predictors, 'minutesPerWeekEnglish' and 'schoolSize' show skewness. For these two some transformations (e.g., log transform) can make it close to normal distribution."
   ]
  },
  {
   "cell_type": "markdown",
   "metadata": {},
   "source": [
    "### Correlation"
   ]
  },
  {
   "cell_type": "code",
   "execution_count": 59,
   "metadata": {
    "collapsed": false
   },
   "outputs": [
    {
     "data": {
      "text/html": [
       "<div>\n",
       "<table border=\"1\" class=\"dataframe\">\n",
       "  <thead>\n",
       "    <tr style=\"text-align: right;\">\n",
       "      <th></th>\n",
       "      <th>grade</th>\n",
       "      <th>male</th>\n",
       "      <th>preschool</th>\n",
       "      <th>expectBachelors</th>\n",
       "      <th>motherHS</th>\n",
       "      <th>motherBachelors</th>\n",
       "      <th>motherWork</th>\n",
       "      <th>fatherHS</th>\n",
       "      <th>fatherBachelors</th>\n",
       "      <th>fatherWork</th>\n",
       "      <th>selfBornUS</th>\n",
       "      <th>motherBornUS</th>\n",
       "      <th>fatherBornUS</th>\n",
       "      <th>englishAtHome</th>\n",
       "      <th>computerForSchoolwork</th>\n",
       "      <th>read30MinsADay</th>\n",
       "      <th>minutesPerWeekEnglish</th>\n",
       "      <th>studentsInEnglish</th>\n",
       "      <th>schoolHasLibrary</th>\n",
       "      <th>publicSchool</th>\n",
       "      <th>urban</th>\n",
       "      <th>schoolSize</th>\n",
       "      <th>r_American Indian/Alaska Native</th>\n",
       "      <th>r_Asian</th>\n",
       "      <th>r_Black</th>\n",
       "      <th>r_Hispanic</th>\n",
       "      <th>r_More than one race</th>\n",
       "      <th>r_Native Hawaiian/Other Pacific Islander</th>\n",
       "      <th>r_White</th>\n",
       "      <th>readingScore</th>\n",
       "    </tr>\n",
       "  </thead>\n",
       "  <tbody>\n",
       "    <tr>\n",
       "      <th>grade</th>\n",
       "      <td>1.000000</td>\n",
       "      <td>-0.089213</td>\n",
       "      <td>-0.011200</td>\n",
       "      <td>0.148041</td>\n",
       "      <td>0.028976</td>\n",
       "      <td>0.043972</td>\n",
       "      <td>0.042522</td>\n",
       "      <td>0.068751</td>\n",
       "      <td>0.056805</td>\n",
       "      <td>0.010012</td>\n",
       "      <td>-0.015076</td>\n",
       "      <td>-0.062865</td>\n",
       "      <td>-0.057618</td>\n",
       "      <td>-0.009583</td>\n",
       "      <td>0.105568</td>\n",
       "      <td>0.065484</td>\n",
       "      <td>0.045747</td>\n",
       "      <td>0.074487</td>\n",
       "      <td>-0.016703</td>\n",
       "      <td>-0.059306</td>\n",
       "      <td>0.080561</td>\n",
       "      <td>0.063289</td>\n",
       "      <td>-0.023408</td>\n",
       "      <td>0.084707</td>\n",
       "      <td>-0.033769</td>\n",
       "      <td>-0.013163</td>\n",
       "      <td>-0.005996</td>\n",
       "      <td>0.029203</td>\n",
       "      <td>0.004317</td>\n",
       "      <td>0.272413</td>\n",
       "    </tr>\n",
       "    <tr>\n",
       "      <th>male</th>\n",
       "      <td>-0.089213</td>\n",
       "      <td>1.000000</td>\n",
       "      <td>0.005507</td>\n",
       "      <td>-0.088671</td>\n",
       "      <td>0.031166</td>\n",
       "      <td>0.048206</td>\n",
       "      <td>-0.016717</td>\n",
       "      <td>0.016752</td>\n",
       "      <td>0.057838</td>\n",
       "      <td>0.030472</td>\n",
       "      <td>0.013215</td>\n",
       "      <td>0.002977</td>\n",
       "      <td>0.012652</td>\n",
       "      <td>-0.005748</td>\n",
       "      <td>-0.028993</td>\n",
       "      <td>-0.214101</td>\n",
       "      <td>0.009808</td>\n",
       "      <td>-0.036348</td>\n",
       "      <td>0.022453</td>\n",
       "      <td>-0.075265</td>\n",
       "      <td>0.016113</td>\n",
       "      <td>-0.004586</td>\n",
       "      <td>0.022623</td>\n",
       "      <td>-0.023206</td>\n",
       "      <td>-0.010602</td>\n",
       "      <td>0.015579</td>\n",
       "      <td>-0.008216</td>\n",
       "      <td>0.019584</td>\n",
       "      <td>-0.000760</td>\n",
       "      <td>-0.145303</td>\n",
       "    </tr>\n",
       "    <tr>\n",
       "      <th>preschool</th>\n",
       "      <td>-0.011200</td>\n",
       "      <td>0.005507</td>\n",
       "      <td>1.000000</td>\n",
       "      <td>0.095978</td>\n",
       "      <td>0.140893</td>\n",
       "      <td>0.154680</td>\n",
       "      <td>0.069062</td>\n",
       "      <td>0.137600</td>\n",
       "      <td>0.146597</td>\n",
       "      <td>0.054756</td>\n",
       "      <td>0.093149</td>\n",
       "      <td>0.110534</td>\n",
       "      <td>0.113289</td>\n",
       "      <td>0.122812</td>\n",
       "      <td>0.094145</td>\n",
       "      <td>-0.003884</td>\n",
       "      <td>-0.012829</td>\n",
       "      <td>-0.030150</td>\n",
       "      <td>0.029039</td>\n",
       "      <td>-0.076767</td>\n",
       "      <td>-0.056366</td>\n",
       "      <td>-0.024381</td>\n",
       "      <td>-0.002954</td>\n",
       "      <td>-0.001570</td>\n",
       "      <td>0.039726</td>\n",
       "      <td>-0.120714</td>\n",
       "      <td>0.000731</td>\n",
       "      <td>-0.001656</td>\n",
       "      <td>0.077568</td>\n",
       "      <td>0.060373</td>\n",
       "    </tr>\n",
       "    <tr>\n",
       "      <th>expectBachelors</th>\n",
       "      <td>0.148041</td>\n",
       "      <td>-0.088671</td>\n",
       "      <td>0.095978</td>\n",
       "      <td>1.000000</td>\n",
       "      <td>0.109735</td>\n",
       "      <td>0.174178</td>\n",
       "      <td>0.070219</td>\n",
       "      <td>0.151738</td>\n",
       "      <td>0.208115</td>\n",
       "      <td>0.023476</td>\n",
       "      <td>-0.002508</td>\n",
       "      <td>0.009766</td>\n",
       "      <td>0.009201</td>\n",
       "      <td>0.035530</td>\n",
       "      <td>0.132233</td>\n",
       "      <td>0.125497</td>\n",
       "      <td>0.008403</td>\n",
       "      <td>0.041987</td>\n",
       "      <td>0.055405</td>\n",
       "      <td>-0.113289</td>\n",
       "      <td>0.006144</td>\n",
       "      <td>0.021538</td>\n",
       "      <td>-0.032191</td>\n",
       "      <td>0.062091</td>\n",
       "      <td>-0.008816</td>\n",
       "      <td>-0.088334</td>\n",
       "      <td>-0.000554</td>\n",
       "      <td>0.003074</td>\n",
       "      <td>0.064732</td>\n",
       "      <td>0.359425</td>\n",
       "    </tr>\n",
       "    <tr>\n",
       "      <th>motherHS</th>\n",
       "      <td>0.028976</td>\n",
       "      <td>0.031166</td>\n",
       "      <td>0.140893</td>\n",
       "      <td>0.109735</td>\n",
       "      <td>1.000000</td>\n",
       "      <td>0.252665</td>\n",
       "      <td>0.170211</td>\n",
       "      <td>0.509090</td>\n",
       "      <td>0.229883</td>\n",
       "      <td>0.036855</td>\n",
       "      <td>0.176047</td>\n",
       "      <td>0.344936</td>\n",
       "      <td>0.337395</td>\n",
       "      <td>0.376071</td>\n",
       "      <td>0.182245</td>\n",
       "      <td>0.020236</td>\n",
       "      <td>0.031403</td>\n",
       "      <td>-0.042705</td>\n",
       "      <td>0.021296</td>\n",
       "      <td>-0.074333</td>\n",
       "      <td>-0.116650</td>\n",
       "      <td>-0.089987</td>\n",
       "      <td>-0.004978</td>\n",
       "      <td>-0.044241</td>\n",
       "      <td>0.062062</td>\n",
       "      <td>-0.348739</td>\n",
       "      <td>0.024971</td>\n",
       "      <td>0.006369</td>\n",
       "      <td>0.260682</td>\n",
       "      <td>0.161376</td>\n",
       "    </tr>\n",
       "    <tr>\n",
       "      <th>motherBachelors</th>\n",
       "      <td>0.043972</td>\n",
       "      <td>0.048206</td>\n",
       "      <td>0.154680</td>\n",
       "      <td>0.174178</td>\n",
       "      <td>0.252665</td>\n",
       "      <td>1.000000</td>\n",
       "      <td>0.133704</td>\n",
       "      <td>0.210307</td>\n",
       "      <td>0.539321</td>\n",
       "      <td>0.067062</td>\n",
       "      <td>0.028062</td>\n",
       "      <td>0.140357</td>\n",
       "      <td>0.119619</td>\n",
       "      <td>0.160095</td>\n",
       "      <td>0.144212</td>\n",
       "      <td>0.033012</td>\n",
       "      <td>0.017249</td>\n",
       "      <td>-0.043409</td>\n",
       "      <td>0.022864</td>\n",
       "      <td>-0.172575</td>\n",
       "      <td>-0.040708</td>\n",
       "      <td>-0.007501</td>\n",
       "      <td>-0.023187</td>\n",
       "      <td>0.010866</td>\n",
       "      <td>-0.000595</td>\n",
       "      <td>-0.206743</td>\n",
       "      <td>0.007320</td>\n",
       "      <td>-0.006831</td>\n",
       "      <td>0.173525</td>\n",
       "      <td>0.213743</td>\n",
       "    </tr>\n",
       "    <tr>\n",
       "      <th>motherWork</th>\n",
       "      <td>0.042522</td>\n",
       "      <td>-0.016717</td>\n",
       "      <td>0.069062</td>\n",
       "      <td>0.070219</td>\n",
       "      <td>0.170211</td>\n",
       "      <td>0.133704</td>\n",
       "      <td>1.000000</td>\n",
       "      <td>0.115492</td>\n",
       "      <td>0.046268</td>\n",
       "      <td>0.054015</td>\n",
       "      <td>0.067138</td>\n",
       "      <td>0.102452</td>\n",
       "      <td>0.094600</td>\n",
       "      <td>0.121524</td>\n",
       "      <td>0.091743</td>\n",
       "      <td>-0.027740</td>\n",
       "      <td>0.022426</td>\n",
       "      <td>-0.011111</td>\n",
       "      <td>-0.007515</td>\n",
       "      <td>-0.025414</td>\n",
       "      <td>-0.027873</td>\n",
       "      <td>-0.047528</td>\n",
       "      <td>-0.021544</td>\n",
       "      <td>-0.025607</td>\n",
       "      <td>0.041216</td>\n",
       "      <td>-0.102118</td>\n",
       "      <td>0.013330</td>\n",
       "      <td>-0.005968</td>\n",
       "      <td>0.071580</td>\n",
       "      <td>0.047248</td>\n",
       "    </tr>\n",
       "    <tr>\n",
       "      <th>fatherHS</th>\n",
       "      <td>0.068751</td>\n",
       "      <td>0.016752</td>\n",
       "      <td>0.137600</td>\n",
       "      <td>0.151738</td>\n",
       "      <td>0.509090</td>\n",
       "      <td>0.210307</td>\n",
       "      <td>0.115492</td>\n",
       "      <td>1.000000</td>\n",
       "      <td>0.281755</td>\n",
       "      <td>0.107036</td>\n",
       "      <td>0.150403</td>\n",
       "      <td>0.298765</td>\n",
       "      <td>0.320266</td>\n",
       "      <td>0.336876</td>\n",
       "      <td>0.170892</td>\n",
       "      <td>0.046933</td>\n",
       "      <td>0.036223</td>\n",
       "      <td>-0.020973</td>\n",
       "      <td>0.036179</td>\n",
       "      <td>-0.086946</td>\n",
       "      <td>-0.100400</td>\n",
       "      <td>-0.083902</td>\n",
       "      <td>-0.018314</td>\n",
       "      <td>0.017634</td>\n",
       "      <td>0.044931</td>\n",
       "      <td>-0.339347</td>\n",
       "      <td>0.019806</td>\n",
       "      <td>0.017167</td>\n",
       "      <td>0.241250</td>\n",
       "      <td>0.188446</td>\n",
       "    </tr>\n",
       "    <tr>\n",
       "      <th>fatherBachelors</th>\n",
       "      <td>0.056805</td>\n",
       "      <td>0.057838</td>\n",
       "      <td>0.146597</td>\n",
       "      <td>0.208115</td>\n",
       "      <td>0.229883</td>\n",
       "      <td>0.539321</td>\n",
       "      <td>0.046268</td>\n",
       "      <td>0.281755</td>\n",
       "      <td>1.000000</td>\n",
       "      <td>0.108559</td>\n",
       "      <td>-0.008772</td>\n",
       "      <td>0.068955</td>\n",
       "      <td>0.072586</td>\n",
       "      <td>0.125238</td>\n",
       "      <td>0.172355</td>\n",
       "      <td>0.057101</td>\n",
       "      <td>0.008416</td>\n",
       "      <td>-0.031457</td>\n",
       "      <td>0.006428</td>\n",
       "      <td>-0.188413</td>\n",
       "      <td>-0.007594</td>\n",
       "      <td>0.031286</td>\n",
       "      <td>-0.044834</td>\n",
       "      <td>0.072559</td>\n",
       "      <td>-0.062323</td>\n",
       "      <td>-0.202203</td>\n",
       "      <td>-0.012158</td>\n",
       "      <td>-0.011727</td>\n",
       "      <td>0.192768</td>\n",
       "      <td>0.260840</td>\n",
       "    </tr>\n",
       "    <tr>\n",
       "      <th>fatherWork</th>\n",
       "      <td>0.010012</td>\n",
       "      <td>0.030472</td>\n",
       "      <td>0.054756</td>\n",
       "      <td>0.023476</td>\n",
       "      <td>0.036855</td>\n",
       "      <td>0.067062</td>\n",
       "      <td>0.054015</td>\n",
       "      <td>0.107036</td>\n",
       "      <td>0.108559</td>\n",
       "      <td>1.000000</td>\n",
       "      <td>-0.024228</td>\n",
       "      <td>-0.004170</td>\n",
       "      <td>-0.007727</td>\n",
       "      <td>0.013639</td>\n",
       "      <td>0.083243</td>\n",
       "      <td>-0.012241</td>\n",
       "      <td>0.023599</td>\n",
       "      <td>0.003508</td>\n",
       "      <td>-0.003134</td>\n",
       "      <td>-0.020203</td>\n",
       "      <td>-0.029030</td>\n",
       "      <td>-0.022164</td>\n",
       "      <td>-0.042797</td>\n",
       "      <td>-0.010644</td>\n",
       "      <td>-0.095892</td>\n",
       "      <td>-0.020836</td>\n",
       "      <td>-0.014122</td>\n",
       "      <td>-0.033243</td>\n",
       "      <td>0.102633</td>\n",
       "      <td>0.067909</td>\n",
       "    </tr>\n",
       "    <tr>\n",
       "      <th>selfBornUS</th>\n",
       "      <td>-0.015076</td>\n",
       "      <td>0.013215</td>\n",
       "      <td>0.093149</td>\n",
       "      <td>-0.002508</td>\n",
       "      <td>0.176047</td>\n",
       "      <td>0.028062</td>\n",
       "      <td>0.067138</td>\n",
       "      <td>0.150403</td>\n",
       "      <td>-0.008772</td>\n",
       "      <td>-0.024228</td>\n",
       "      <td>1.000000</td>\n",
       "      <td>0.470561</td>\n",
       "      <td>0.441392</td>\n",
       "      <td>0.468425</td>\n",
       "      <td>0.010185</td>\n",
       "      <td>-0.010905</td>\n",
       "      <td>0.004834</td>\n",
       "      <td>-0.036692</td>\n",
       "      <td>-0.012363</td>\n",
       "      <td>-0.039766</td>\n",
       "      <td>-0.116324</td>\n",
       "      <td>-0.133465</td>\n",
       "      <td>0.020882</td>\n",
       "      <td>-0.199204</td>\n",
       "      <td>0.028255</td>\n",
       "      <td>-0.200906</td>\n",
       "      <td>0.028880</td>\n",
       "      <td>-0.025554</td>\n",
       "      <td>0.220138</td>\n",
       "      <td>0.039097</td>\n",
       "    </tr>\n",
       "    <tr>\n",
       "      <th>motherBornUS</th>\n",
       "      <td>-0.062865</td>\n",
       "      <td>0.002977</td>\n",
       "      <td>0.110534</td>\n",
       "      <td>0.009766</td>\n",
       "      <td>0.344936</td>\n",
       "      <td>0.140357</td>\n",
       "      <td>0.102452</td>\n",
       "      <td>0.298765</td>\n",
       "      <td>0.068955</td>\n",
       "      <td>-0.004170</td>\n",
       "      <td>0.470561</td>\n",
       "      <td>1.000000</td>\n",
       "      <td>0.791107</td>\n",
       "      <td>0.653097</td>\n",
       "      <td>0.011331</td>\n",
       "      <td>-0.002979</td>\n",
       "      <td>0.022577</td>\n",
       "      <td>-0.094795</td>\n",
       "      <td>0.001285</td>\n",
       "      <td>0.018613</td>\n",
       "      <td>-0.286551</td>\n",
       "      <td>-0.244124</td>\n",
       "      <td>0.045291</td>\n",
       "      <td>-0.345882</td>\n",
       "      <td>0.093223</td>\n",
       "      <td>-0.497395</td>\n",
       "      <td>0.035128</td>\n",
       "      <td>-0.083329</td>\n",
       "      <td>0.490618</td>\n",
       "      <td>0.066411</td>\n",
       "    </tr>\n",
       "    <tr>\n",
       "      <th>fatherBornUS</th>\n",
       "      <td>-0.057618</td>\n",
       "      <td>0.012652</td>\n",
       "      <td>0.113289</td>\n",
       "      <td>0.009201</td>\n",
       "      <td>0.337395</td>\n",
       "      <td>0.119619</td>\n",
       "      <td>0.094600</td>\n",
       "      <td>0.320266</td>\n",
       "      <td>0.072586</td>\n",
       "      <td>-0.007727</td>\n",
       "      <td>0.441392</td>\n",
       "      <td>0.791107</td>\n",
       "      <td>1.000000</td>\n",
       "      <td>0.633340</td>\n",
       "      <td>0.026298</td>\n",
       "      <td>0.009739</td>\n",
       "      <td>0.015979</td>\n",
       "      <td>-0.086160</td>\n",
       "      <td>0.003341</td>\n",
       "      <td>0.023054</td>\n",
       "      <td>-0.294878</td>\n",
       "      <td>-0.248009</td>\n",
       "      <td>0.040963</td>\n",
       "      <td>-0.335270</td>\n",
       "      <td>0.078680</td>\n",
       "      <td>-0.490651</td>\n",
       "      <td>0.043756</td>\n",
       "      <td>-0.068857</td>\n",
       "      <td>0.484489</td>\n",
       "      <td>0.085264</td>\n",
       "    </tr>\n",
       "    <tr>\n",
       "      <th>englishAtHome</th>\n",
       "      <td>-0.009583</td>\n",
       "      <td>-0.005748</td>\n",
       "      <td>0.122812</td>\n",
       "      <td>0.035530</td>\n",
       "      <td>0.376071</td>\n",
       "      <td>0.160095</td>\n",
       "      <td>0.121524</td>\n",
       "      <td>0.336876</td>\n",
       "      <td>0.125238</td>\n",
       "      <td>0.013639</td>\n",
       "      <td>0.468425</td>\n",
       "      <td>0.653097</td>\n",
       "      <td>0.633340</td>\n",
       "      <td>1.000000</td>\n",
       "      <td>0.071950</td>\n",
       "      <td>0.008428</td>\n",
       "      <td>0.003802</td>\n",
       "      <td>-0.069967</td>\n",
       "      <td>-0.005857</td>\n",
       "      <td>-0.038667</td>\n",
       "      <td>-0.215128</td>\n",
       "      <td>-0.204354</td>\n",
       "      <td>0.008235</td>\n",
       "      <td>-0.203169</td>\n",
       "      <td>0.101774</td>\n",
       "      <td>-0.475429</td>\n",
       "      <td>0.063134</td>\n",
       "      <td>0.007971</td>\n",
       "      <td>0.385595</td>\n",
       "      <td>0.120762</td>\n",
       "    </tr>\n",
       "    <tr>\n",
       "      <th>computerForSchoolwork</th>\n",
       "      <td>0.105568</td>\n",
       "      <td>-0.028993</td>\n",
       "      <td>0.094145</td>\n",
       "      <td>0.132233</td>\n",
       "      <td>0.182245</td>\n",
       "      <td>0.144212</td>\n",
       "      <td>0.091743</td>\n",
       "      <td>0.170892</td>\n",
       "      <td>0.172355</td>\n",
       "      <td>0.083243</td>\n",
       "      <td>0.010185</td>\n",
       "      <td>0.011331</td>\n",
       "      <td>0.026298</td>\n",
       "      <td>0.071950</td>\n",
       "      <td>1.000000</td>\n",
       "      <td>-0.015438</td>\n",
       "      <td>0.004469</td>\n",
       "      <td>0.052001</td>\n",
       "      <td>0.008955</td>\n",
       "      <td>-0.074288</td>\n",
       "      <td>0.023242</td>\n",
       "      <td>0.066941</td>\n",
       "      <td>-0.072039</td>\n",
       "      <td>0.048092</td>\n",
       "      <td>-0.058535</td>\n",
       "      <td>-0.091684</td>\n",
       "      <td>-0.012226</td>\n",
       "      <td>0.029316</td>\n",
       "      <td>0.110508</td>\n",
       "      <td>0.190266</td>\n",
       "    </tr>\n",
       "    <tr>\n",
       "      <th>read30MinsADay</th>\n",
       "      <td>0.065484</td>\n",
       "      <td>-0.214101</td>\n",
       "      <td>-0.003884</td>\n",
       "      <td>0.125497</td>\n",
       "      <td>0.020236</td>\n",
       "      <td>0.033012</td>\n",
       "      <td>-0.027740</td>\n",
       "      <td>0.046933</td>\n",
       "      <td>0.057101</td>\n",
       "      <td>-0.012241</td>\n",
       "      <td>-0.010905</td>\n",
       "      <td>-0.002979</td>\n",
       "      <td>0.009739</td>\n",
       "      <td>0.008428</td>\n",
       "      <td>-0.015438</td>\n",
       "      <td>1.000000</td>\n",
       "      <td>0.020766</td>\n",
       "      <td>0.008379</td>\n",
       "      <td>0.010067</td>\n",
       "      <td>0.003405</td>\n",
       "      <td>0.029070</td>\n",
       "      <td>-0.007225</td>\n",
       "      <td>0.005721</td>\n",
       "      <td>0.032059</td>\n",
       "      <td>0.012908</td>\n",
       "      <td>-0.025130</td>\n",
       "      <td>0.017315</td>\n",
       "      <td>0.002386</td>\n",
       "      <td>-0.005537</td>\n",
       "      <td>0.241094</td>\n",
       "    </tr>\n",
       "    <tr>\n",
       "      <th>minutesPerWeekEnglish</th>\n",
       "      <td>0.045747</td>\n",
       "      <td>0.009808</td>\n",
       "      <td>-0.012829</td>\n",
       "      <td>0.008403</td>\n",
       "      <td>0.031403</td>\n",
       "      <td>0.017249</td>\n",
       "      <td>0.022426</td>\n",
       "      <td>0.036223</td>\n",
       "      <td>0.008416</td>\n",
       "      <td>0.023599</td>\n",
       "      <td>0.004834</td>\n",
       "      <td>0.022577</td>\n",
       "      <td>0.015979</td>\n",
       "      <td>0.003802</td>\n",
       "      <td>0.004469</td>\n",
       "      <td>0.020766</td>\n",
       "      <td>1.000000</td>\n",
       "      <td>0.040743</td>\n",
       "      <td>-0.000751</td>\n",
       "      <td>0.042140</td>\n",
       "      <td>-0.045861</td>\n",
       "      <td>0.006433</td>\n",
       "      <td>-0.002839</td>\n",
       "      <td>0.004377</td>\n",
       "      <td>-0.048650</td>\n",
       "      <td>-0.021015</td>\n",
       "      <td>0.017789</td>\n",
       "      <td>-0.010471</td>\n",
       "      <td>0.041233</td>\n",
       "      <td>0.068374</td>\n",
       "    </tr>\n",
       "    <tr>\n",
       "      <th>studentsInEnglish</th>\n",
       "      <td>0.074487</td>\n",
       "      <td>-0.036348</td>\n",
       "      <td>-0.030150</td>\n",
       "      <td>0.041987</td>\n",
       "      <td>-0.042705</td>\n",
       "      <td>-0.043409</td>\n",
       "      <td>-0.011111</td>\n",
       "      <td>-0.020973</td>\n",
       "      <td>-0.031457</td>\n",
       "      <td>0.003508</td>\n",
       "      <td>-0.036692</td>\n",
       "      <td>-0.094795</td>\n",
       "      <td>-0.086160</td>\n",
       "      <td>-0.069967</td>\n",
       "      <td>0.052001</td>\n",
       "      <td>0.008379</td>\n",
       "      <td>0.040743</td>\n",
       "      <td>1.000000</td>\n",
       "      <td>0.055911</td>\n",
       "      <td>0.084035</td>\n",
       "      <td>0.161696</td>\n",
       "      <td>0.252567</td>\n",
       "      <td>-0.046396</td>\n",
       "      <td>0.076220</td>\n",
       "      <td>-0.045578</td>\n",
       "      <td>0.077202</td>\n",
       "      <td>0.015231</td>\n",
       "      <td>0.025549</td>\n",
       "      <td>-0.066563</td>\n",
       "      <td>0.032793</td>\n",
       "    </tr>\n",
       "    <tr>\n",
       "      <th>schoolHasLibrary</th>\n",
       "      <td>-0.016703</td>\n",
       "      <td>0.022453</td>\n",
       "      <td>0.029039</td>\n",
       "      <td>0.055405</td>\n",
       "      <td>0.021296</td>\n",
       "      <td>0.022864</td>\n",
       "      <td>-0.007515</td>\n",
       "      <td>0.036179</td>\n",
       "      <td>0.006428</td>\n",
       "      <td>-0.003134</td>\n",
       "      <td>-0.012363</td>\n",
       "      <td>0.001285</td>\n",
       "      <td>0.003341</td>\n",
       "      <td>-0.005857</td>\n",
       "      <td>0.008955</td>\n",
       "      <td>0.010067</td>\n",
       "      <td>-0.000751</td>\n",
       "      <td>0.055911</td>\n",
       "      <td>1.000000</td>\n",
       "      <td>0.054164</td>\n",
       "      <td>-0.110345</td>\n",
       "      <td>0.019449</td>\n",
       "      <td>-0.003327</td>\n",
       "      <td>0.021454</td>\n",
       "      <td>0.025397</td>\n",
       "      <td>-0.044148</td>\n",
       "      <td>0.016700</td>\n",
       "      <td>0.004069</td>\n",
       "      <td>0.008616</td>\n",
       "      <td>0.020409</td>\n",
       "    </tr>\n",
       "    <tr>\n",
       "      <th>publicSchool</th>\n",
       "      <td>-0.059306</td>\n",
       "      <td>-0.075265</td>\n",
       "      <td>-0.076767</td>\n",
       "      <td>-0.113289</td>\n",
       "      <td>-0.074333</td>\n",
       "      <td>-0.172575</td>\n",
       "      <td>-0.025414</td>\n",
       "      <td>-0.086946</td>\n",
       "      <td>-0.188413</td>\n",
       "      <td>-0.020203</td>\n",
       "      <td>-0.039766</td>\n",
       "      <td>0.018613</td>\n",
       "      <td>0.023054</td>\n",
       "      <td>-0.038667</td>\n",
       "      <td>-0.074288</td>\n",
       "      <td>0.003405</td>\n",
       "      <td>0.042140</td>\n",
       "      <td>0.084035</td>\n",
       "      <td>0.054164</td>\n",
       "      <td>1.000000</td>\n",
       "      <td>-0.261065</td>\n",
       "      <td>0.233649</td>\n",
       "      <td>0.026356</td>\n",
       "      <td>-0.034019</td>\n",
       "      <td>0.070429</td>\n",
       "      <td>0.029555</td>\n",
       "      <td>-0.005669</td>\n",
       "      <td>-0.047417</td>\n",
       "      <td>-0.054528</td>\n",
       "      <td>-0.140822</td>\n",
       "    </tr>\n",
       "    <tr>\n",
       "      <th>urban</th>\n",
       "      <td>0.080561</td>\n",
       "      <td>0.016113</td>\n",
       "      <td>-0.056366</td>\n",
       "      <td>0.006144</td>\n",
       "      <td>-0.116650</td>\n",
       "      <td>-0.040708</td>\n",
       "      <td>-0.027873</td>\n",
       "      <td>-0.100400</td>\n",
       "      <td>-0.007594</td>\n",
       "      <td>-0.029030</td>\n",
       "      <td>-0.116324</td>\n",
       "      <td>-0.286551</td>\n",
       "      <td>-0.294878</td>\n",
       "      <td>-0.215128</td>\n",
       "      <td>0.023242</td>\n",
       "      <td>0.029070</td>\n",
       "      <td>-0.045861</td>\n",
       "      <td>0.161696</td>\n",
       "      <td>-0.110345</td>\n",
       "      <td>-0.261065</td>\n",
       "      <td>1.000000</td>\n",
       "      <td>0.331002</td>\n",
       "      <td>-0.038173</td>\n",
       "      <td>0.101213</td>\n",
       "      <td>0.100762</td>\n",
       "      <td>0.271837</td>\n",
       "      <td>-0.008299</td>\n",
       "      <td>0.034635</td>\n",
       "      <td>-0.334288</td>\n",
       "      <td>-0.062066</td>\n",
       "    </tr>\n",
       "    <tr>\n",
       "      <th>schoolSize</th>\n",
       "      <td>0.063289</td>\n",
       "      <td>-0.004586</td>\n",
       "      <td>-0.024381</td>\n",
       "      <td>0.021538</td>\n",
       "      <td>-0.089987</td>\n",
       "      <td>-0.007501</td>\n",
       "      <td>-0.047528</td>\n",
       "      <td>-0.083902</td>\n",
       "      <td>0.031286</td>\n",
       "      <td>-0.022164</td>\n",
       "      <td>-0.133465</td>\n",
       "      <td>-0.244124</td>\n",
       "      <td>-0.248009</td>\n",
       "      <td>-0.204354</td>\n",
       "      <td>0.066941</td>\n",
       "      <td>-0.007225</td>\n",
       "      <td>0.006433</td>\n",
       "      <td>0.252567</td>\n",
       "      <td>0.019449</td>\n",
       "      <td>0.233649</td>\n",
       "      <td>0.331002</td>\n",
       "      <td>1.000000</td>\n",
       "      <td>-0.063193</td>\n",
       "      <td>0.084064</td>\n",
       "      <td>-0.007679</td>\n",
       "      <td>0.242724</td>\n",
       "      <td>-0.014811</td>\n",
       "      <td>0.008711</td>\n",
       "      <td>-0.211039</td>\n",
       "      <td>0.034782</td>\n",
       "    </tr>\n",
       "    <tr>\n",
       "      <th>r_American Indian/Alaska Native</th>\n",
       "      <td>-0.023408</td>\n",
       "      <td>0.022623</td>\n",
       "      <td>-0.002954</td>\n",
       "      <td>-0.032191</td>\n",
       "      <td>-0.004978</td>\n",
       "      <td>-0.023187</td>\n",
       "      <td>-0.021544</td>\n",
       "      <td>-0.018314</td>\n",
       "      <td>-0.044834</td>\n",
       "      <td>-0.042797</td>\n",
       "      <td>0.020882</td>\n",
       "      <td>0.045291</td>\n",
       "      <td>0.040963</td>\n",
       "      <td>0.008235</td>\n",
       "      <td>-0.072039</td>\n",
       "      <td>0.005721</td>\n",
       "      <td>-0.002839</td>\n",
       "      <td>-0.046396</td>\n",
       "      <td>-0.003327</td>\n",
       "      <td>0.026356</td>\n",
       "      <td>-0.038173</td>\n",
       "      <td>-0.063193</td>\n",
       "      <td>1.000000</td>\n",
       "      <td>-0.019981</td>\n",
       "      <td>-0.036867</td>\n",
       "      <td>-0.053646</td>\n",
       "      <td>-0.018562</td>\n",
       "      <td>-0.008707</td>\n",
       "      <td>-0.110350</td>\n",
       "      <td>-0.069957</td>\n",
       "    </tr>\n",
       "    <tr>\n",
       "      <th>r_Asian</th>\n",
       "      <td>0.084707</td>\n",
       "      <td>-0.023206</td>\n",
       "      <td>-0.001570</td>\n",
       "      <td>0.062091</td>\n",
       "      <td>-0.044241</td>\n",
       "      <td>0.010866</td>\n",
       "      <td>-0.025607</td>\n",
       "      <td>0.017634</td>\n",
       "      <td>0.072559</td>\n",
       "      <td>-0.010644</td>\n",
       "      <td>-0.199204</td>\n",
       "      <td>-0.345882</td>\n",
       "      <td>-0.335270</td>\n",
       "      <td>-0.203169</td>\n",
       "      <td>0.048092</td>\n",
       "      <td>0.032059</td>\n",
       "      <td>0.004377</td>\n",
       "      <td>0.076220</td>\n",
       "      <td>0.021454</td>\n",
       "      <td>-0.034019</td>\n",
       "      <td>0.101213</td>\n",
       "      <td>0.084064</td>\n",
       "      <td>-0.019981</td>\n",
       "      <td>1.000000</td>\n",
       "      <td>-0.074847</td>\n",
       "      <td>-0.108912</td>\n",
       "      <td>-0.037684</td>\n",
       "      <td>-0.017676</td>\n",
       "      <td>-0.224031</td>\n",
       "      <td>0.095688</td>\n",
       "    </tr>\n",
       "    <tr>\n",
       "      <th>r_Black</th>\n",
       "      <td>-0.033769</td>\n",
       "      <td>-0.010602</td>\n",
       "      <td>0.039726</td>\n",
       "      <td>-0.008816</td>\n",
       "      <td>0.062062</td>\n",
       "      <td>-0.000595</td>\n",
       "      <td>0.041216</td>\n",
       "      <td>0.044931</td>\n",
       "      <td>-0.062323</td>\n",
       "      <td>-0.095892</td>\n",
       "      <td>0.028255</td>\n",
       "      <td>0.093223</td>\n",
       "      <td>0.078680</td>\n",
       "      <td>0.101774</td>\n",
       "      <td>-0.058535</td>\n",
       "      <td>0.012908</td>\n",
       "      <td>-0.048650</td>\n",
       "      <td>-0.045578</td>\n",
       "      <td>0.025397</td>\n",
       "      <td>0.070429</td>\n",
       "      <td>0.100762</td>\n",
       "      <td>-0.007679</td>\n",
       "      <td>-0.036867</td>\n",
       "      <td>-0.074847</td>\n",
       "      <td>1.000000</td>\n",
       "      <td>-0.200958</td>\n",
       "      <td>-0.069532</td>\n",
       "      <td>-0.032615</td>\n",
       "      <td>-0.413368</td>\n",
       "      <td>-0.224659</td>\n",
       "    </tr>\n",
       "    <tr>\n",
       "      <th>r_Hispanic</th>\n",
       "      <td>-0.013163</td>\n",
       "      <td>0.015579</td>\n",
       "      <td>-0.120714</td>\n",
       "      <td>-0.088334</td>\n",
       "      <td>-0.348739</td>\n",
       "      <td>-0.206743</td>\n",
       "      <td>-0.102118</td>\n",
       "      <td>-0.339347</td>\n",
       "      <td>-0.202203</td>\n",
       "      <td>-0.020836</td>\n",
       "      <td>-0.200906</td>\n",
       "      <td>-0.497395</td>\n",
       "      <td>-0.490651</td>\n",
       "      <td>-0.475429</td>\n",
       "      <td>-0.091684</td>\n",
       "      <td>-0.025130</td>\n",
       "      <td>-0.021015</td>\n",
       "      <td>0.077202</td>\n",
       "      <td>-0.044148</td>\n",
       "      <td>0.029555</td>\n",
       "      <td>0.271837</td>\n",
       "      <td>0.242724</td>\n",
       "      <td>-0.053646</td>\n",
       "      <td>-0.108912</td>\n",
       "      <td>-0.200958</td>\n",
       "      <td>1.000000</td>\n",
       "      <td>-0.101178</td>\n",
       "      <td>-0.047459</td>\n",
       "      <td>-0.601501</td>\n",
       "      <td>-0.185445</td>\n",
       "    </tr>\n",
       "    <tr>\n",
       "      <th>r_More than one race</th>\n",
       "      <td>-0.005996</td>\n",
       "      <td>-0.008216</td>\n",
       "      <td>0.000731</td>\n",
       "      <td>-0.000554</td>\n",
       "      <td>0.024971</td>\n",
       "      <td>0.007320</td>\n",
       "      <td>0.013330</td>\n",
       "      <td>0.019806</td>\n",
       "      <td>-0.012158</td>\n",
       "      <td>-0.014122</td>\n",
       "      <td>0.028880</td>\n",
       "      <td>0.035128</td>\n",
       "      <td>0.043756</td>\n",
       "      <td>0.063134</td>\n",
       "      <td>-0.012226</td>\n",
       "      <td>0.017315</td>\n",
       "      <td>0.017789</td>\n",
       "      <td>0.015231</td>\n",
       "      <td>0.016700</td>\n",
       "      <td>-0.005669</td>\n",
       "      <td>-0.008299</td>\n",
       "      <td>-0.014811</td>\n",
       "      <td>-0.018562</td>\n",
       "      <td>-0.037684</td>\n",
       "      <td>-0.069532</td>\n",
       "      <td>-0.101178</td>\n",
       "      <td>1.000000</td>\n",
       "      <td>-0.016421</td>\n",
       "      <td>-0.208122</td>\n",
       "      <td>-0.000292</td>\n",
       "    </tr>\n",
       "    <tr>\n",
       "      <th>r_Native Hawaiian/Other Pacific Islander</th>\n",
       "      <td>0.029203</td>\n",
       "      <td>0.019584</td>\n",
       "      <td>-0.001656</td>\n",
       "      <td>0.003074</td>\n",
       "      <td>0.006369</td>\n",
       "      <td>-0.006831</td>\n",
       "      <td>-0.005968</td>\n",
       "      <td>0.017167</td>\n",
       "      <td>-0.011727</td>\n",
       "      <td>-0.033243</td>\n",
       "      <td>-0.025554</td>\n",
       "      <td>-0.083329</td>\n",
       "      <td>-0.068857</td>\n",
       "      <td>0.007971</td>\n",
       "      <td>0.029316</td>\n",
       "      <td>0.002386</td>\n",
       "      <td>-0.010471</td>\n",
       "      <td>0.025549</td>\n",
       "      <td>0.004069</td>\n",
       "      <td>-0.047417</td>\n",
       "      <td>0.034635</td>\n",
       "      <td>0.008711</td>\n",
       "      <td>-0.008707</td>\n",
       "      <td>-0.017676</td>\n",
       "      <td>-0.032615</td>\n",
       "      <td>-0.047459</td>\n",
       "      <td>-0.016421</td>\n",
       "      <td>1.000000</td>\n",
       "      <td>-0.097624</td>\n",
       "      <td>0.014165</td>\n",
       "    </tr>\n",
       "    <tr>\n",
       "      <th>r_White</th>\n",
       "      <td>0.004317</td>\n",
       "      <td>-0.000760</td>\n",
       "      <td>0.077568</td>\n",
       "      <td>0.064732</td>\n",
       "      <td>0.260682</td>\n",
       "      <td>0.173525</td>\n",
       "      <td>0.071580</td>\n",
       "      <td>0.241250</td>\n",
       "      <td>0.192768</td>\n",
       "      <td>0.102633</td>\n",
       "      <td>0.220138</td>\n",
       "      <td>0.490618</td>\n",
       "      <td>0.484489</td>\n",
       "      <td>0.385595</td>\n",
       "      <td>0.110508</td>\n",
       "      <td>-0.005537</td>\n",
       "      <td>0.041233</td>\n",
       "      <td>-0.066563</td>\n",
       "      <td>0.008616</td>\n",
       "      <td>-0.054528</td>\n",
       "      <td>-0.334288</td>\n",
       "      <td>-0.211039</td>\n",
       "      <td>-0.110350</td>\n",
       "      <td>-0.224031</td>\n",
       "      <td>-0.413368</td>\n",
       "      <td>-0.601501</td>\n",
       "      <td>-0.208122</td>\n",
       "      <td>-0.097624</td>\n",
       "      <td>1.000000</td>\n",
       "      <td>0.291210</td>\n",
       "    </tr>\n",
       "    <tr>\n",
       "      <th>readingScore</th>\n",
       "      <td>0.272413</td>\n",
       "      <td>-0.145303</td>\n",
       "      <td>0.060373</td>\n",
       "      <td>0.359425</td>\n",
       "      <td>0.161376</td>\n",
       "      <td>0.213743</td>\n",
       "      <td>0.047248</td>\n",
       "      <td>0.188446</td>\n",
       "      <td>0.260840</td>\n",
       "      <td>0.067909</td>\n",
       "      <td>0.039097</td>\n",
       "      <td>0.066411</td>\n",
       "      <td>0.085264</td>\n",
       "      <td>0.120762</td>\n",
       "      <td>0.190266</td>\n",
       "      <td>0.241094</td>\n",
       "      <td>0.068374</td>\n",
       "      <td>0.032793</td>\n",
       "      <td>0.020409</td>\n",
       "      <td>-0.140822</td>\n",
       "      <td>-0.062066</td>\n",
       "      <td>0.034782</td>\n",
       "      <td>-0.069957</td>\n",
       "      <td>0.095688</td>\n",
       "      <td>-0.224659</td>\n",
       "      <td>-0.185445</td>\n",
       "      <td>-0.000292</td>\n",
       "      <td>0.014165</td>\n",
       "      <td>0.291210</td>\n",
       "      <td>1.000000</td>\n",
       "    </tr>\n",
       "  </tbody>\n",
       "</table>\n",
       "</div>"
      ],
      "text/plain": [
       "                                             grade      male  preschool  \\\n",
       "grade                                     1.000000 -0.089213  -0.011200   \n",
       "male                                     -0.089213  1.000000   0.005507   \n",
       "preschool                                -0.011200  0.005507   1.000000   \n",
       "expectBachelors                           0.148041 -0.088671   0.095978   \n",
       "motherHS                                  0.028976  0.031166   0.140893   \n",
       "motherBachelors                           0.043972  0.048206   0.154680   \n",
       "motherWork                                0.042522 -0.016717   0.069062   \n",
       "fatherHS                                  0.068751  0.016752   0.137600   \n",
       "fatherBachelors                           0.056805  0.057838   0.146597   \n",
       "fatherWork                                0.010012  0.030472   0.054756   \n",
       "selfBornUS                               -0.015076  0.013215   0.093149   \n",
       "motherBornUS                             -0.062865  0.002977   0.110534   \n",
       "fatherBornUS                             -0.057618  0.012652   0.113289   \n",
       "englishAtHome                            -0.009583 -0.005748   0.122812   \n",
       "computerForSchoolwork                     0.105568 -0.028993   0.094145   \n",
       "read30MinsADay                            0.065484 -0.214101  -0.003884   \n",
       "minutesPerWeekEnglish                     0.045747  0.009808  -0.012829   \n",
       "studentsInEnglish                         0.074487 -0.036348  -0.030150   \n",
       "schoolHasLibrary                         -0.016703  0.022453   0.029039   \n",
       "publicSchool                             -0.059306 -0.075265  -0.076767   \n",
       "urban                                     0.080561  0.016113  -0.056366   \n",
       "schoolSize                                0.063289 -0.004586  -0.024381   \n",
       "r_American Indian/Alaska Native          -0.023408  0.022623  -0.002954   \n",
       "r_Asian                                   0.084707 -0.023206  -0.001570   \n",
       "r_Black                                  -0.033769 -0.010602   0.039726   \n",
       "r_Hispanic                               -0.013163  0.015579  -0.120714   \n",
       "r_More than one race                     -0.005996 -0.008216   0.000731   \n",
       "r_Native Hawaiian/Other Pacific Islander  0.029203  0.019584  -0.001656   \n",
       "r_White                                   0.004317 -0.000760   0.077568   \n",
       "readingScore                              0.272413 -0.145303   0.060373   \n",
       "\n",
       "                                          expectBachelors  motherHS  \\\n",
       "grade                                            0.148041  0.028976   \n",
       "male                                            -0.088671  0.031166   \n",
       "preschool                                        0.095978  0.140893   \n",
       "expectBachelors                                  1.000000  0.109735   \n",
       "motherHS                                         0.109735  1.000000   \n",
       "motherBachelors                                  0.174178  0.252665   \n",
       "motherWork                                       0.070219  0.170211   \n",
       "fatherHS                                         0.151738  0.509090   \n",
       "fatherBachelors                                  0.208115  0.229883   \n",
       "fatherWork                                       0.023476  0.036855   \n",
       "selfBornUS                                      -0.002508  0.176047   \n",
       "motherBornUS                                     0.009766  0.344936   \n",
       "fatherBornUS                                     0.009201  0.337395   \n",
       "englishAtHome                                    0.035530  0.376071   \n",
       "computerForSchoolwork                            0.132233  0.182245   \n",
       "read30MinsADay                                   0.125497  0.020236   \n",
       "minutesPerWeekEnglish                            0.008403  0.031403   \n",
       "studentsInEnglish                                0.041987 -0.042705   \n",
       "schoolHasLibrary                                 0.055405  0.021296   \n",
       "publicSchool                                    -0.113289 -0.074333   \n",
       "urban                                            0.006144 -0.116650   \n",
       "schoolSize                                       0.021538 -0.089987   \n",
       "r_American Indian/Alaska Native                 -0.032191 -0.004978   \n",
       "r_Asian                                          0.062091 -0.044241   \n",
       "r_Black                                         -0.008816  0.062062   \n",
       "r_Hispanic                                      -0.088334 -0.348739   \n",
       "r_More than one race                            -0.000554  0.024971   \n",
       "r_Native Hawaiian/Other Pacific Islander         0.003074  0.006369   \n",
       "r_White                                          0.064732  0.260682   \n",
       "readingScore                                     0.359425  0.161376   \n",
       "\n",
       "                                          motherBachelors  motherWork  \\\n",
       "grade                                            0.043972    0.042522   \n",
       "male                                             0.048206   -0.016717   \n",
       "preschool                                        0.154680    0.069062   \n",
       "expectBachelors                                  0.174178    0.070219   \n",
       "motherHS                                         0.252665    0.170211   \n",
       "motherBachelors                                  1.000000    0.133704   \n",
       "motherWork                                       0.133704    1.000000   \n",
       "fatherHS                                         0.210307    0.115492   \n",
       "fatherBachelors                                  0.539321    0.046268   \n",
       "fatherWork                                       0.067062    0.054015   \n",
       "selfBornUS                                       0.028062    0.067138   \n",
       "motherBornUS                                     0.140357    0.102452   \n",
       "fatherBornUS                                     0.119619    0.094600   \n",
       "englishAtHome                                    0.160095    0.121524   \n",
       "computerForSchoolwork                            0.144212    0.091743   \n",
       "read30MinsADay                                   0.033012   -0.027740   \n",
       "minutesPerWeekEnglish                            0.017249    0.022426   \n",
       "studentsInEnglish                               -0.043409   -0.011111   \n",
       "schoolHasLibrary                                 0.022864   -0.007515   \n",
       "publicSchool                                    -0.172575   -0.025414   \n",
       "urban                                           -0.040708   -0.027873   \n",
       "schoolSize                                      -0.007501   -0.047528   \n",
       "r_American Indian/Alaska Native                 -0.023187   -0.021544   \n",
       "r_Asian                                          0.010866   -0.025607   \n",
       "r_Black                                         -0.000595    0.041216   \n",
       "r_Hispanic                                      -0.206743   -0.102118   \n",
       "r_More than one race                             0.007320    0.013330   \n",
       "r_Native Hawaiian/Other Pacific Islander        -0.006831   -0.005968   \n",
       "r_White                                          0.173525    0.071580   \n",
       "readingScore                                     0.213743    0.047248   \n",
       "\n",
       "                                          fatherHS  fatherBachelors  \\\n",
       "grade                                     0.068751         0.056805   \n",
       "male                                      0.016752         0.057838   \n",
       "preschool                                 0.137600         0.146597   \n",
       "expectBachelors                           0.151738         0.208115   \n",
       "motherHS                                  0.509090         0.229883   \n",
       "motherBachelors                           0.210307         0.539321   \n",
       "motherWork                                0.115492         0.046268   \n",
       "fatherHS                                  1.000000         0.281755   \n",
       "fatherBachelors                           0.281755         1.000000   \n",
       "fatherWork                                0.107036         0.108559   \n",
       "selfBornUS                                0.150403        -0.008772   \n",
       "motherBornUS                              0.298765         0.068955   \n",
       "fatherBornUS                              0.320266         0.072586   \n",
       "englishAtHome                             0.336876         0.125238   \n",
       "computerForSchoolwork                     0.170892         0.172355   \n",
       "read30MinsADay                            0.046933         0.057101   \n",
       "minutesPerWeekEnglish                     0.036223         0.008416   \n",
       "studentsInEnglish                        -0.020973        -0.031457   \n",
       "schoolHasLibrary                          0.036179         0.006428   \n",
       "publicSchool                             -0.086946        -0.188413   \n",
       "urban                                    -0.100400        -0.007594   \n",
       "schoolSize                               -0.083902         0.031286   \n",
       "r_American Indian/Alaska Native          -0.018314        -0.044834   \n",
       "r_Asian                                   0.017634         0.072559   \n",
       "r_Black                                   0.044931        -0.062323   \n",
       "r_Hispanic                               -0.339347        -0.202203   \n",
       "r_More than one race                      0.019806        -0.012158   \n",
       "r_Native Hawaiian/Other Pacific Islander  0.017167        -0.011727   \n",
       "r_White                                   0.241250         0.192768   \n",
       "readingScore                              0.188446         0.260840   \n",
       "\n",
       "                                          fatherWork  selfBornUS  \\\n",
       "grade                                       0.010012   -0.015076   \n",
       "male                                        0.030472    0.013215   \n",
       "preschool                                   0.054756    0.093149   \n",
       "expectBachelors                             0.023476   -0.002508   \n",
       "motherHS                                    0.036855    0.176047   \n",
       "motherBachelors                             0.067062    0.028062   \n",
       "motherWork                                  0.054015    0.067138   \n",
       "fatherHS                                    0.107036    0.150403   \n",
       "fatherBachelors                             0.108559   -0.008772   \n",
       "fatherWork                                  1.000000   -0.024228   \n",
       "selfBornUS                                 -0.024228    1.000000   \n",
       "motherBornUS                               -0.004170    0.470561   \n",
       "fatherBornUS                               -0.007727    0.441392   \n",
       "englishAtHome                               0.013639    0.468425   \n",
       "computerForSchoolwork                       0.083243    0.010185   \n",
       "read30MinsADay                             -0.012241   -0.010905   \n",
       "minutesPerWeekEnglish                       0.023599    0.004834   \n",
       "studentsInEnglish                           0.003508   -0.036692   \n",
       "schoolHasLibrary                           -0.003134   -0.012363   \n",
       "publicSchool                               -0.020203   -0.039766   \n",
       "urban                                      -0.029030   -0.116324   \n",
       "schoolSize                                 -0.022164   -0.133465   \n",
       "r_American Indian/Alaska Native            -0.042797    0.020882   \n",
       "r_Asian                                    -0.010644   -0.199204   \n",
       "r_Black                                    -0.095892    0.028255   \n",
       "r_Hispanic                                 -0.020836   -0.200906   \n",
       "r_More than one race                       -0.014122    0.028880   \n",
       "r_Native Hawaiian/Other Pacific Islander   -0.033243   -0.025554   \n",
       "r_White                                     0.102633    0.220138   \n",
       "readingScore                                0.067909    0.039097   \n",
       "\n",
       "                                          motherBornUS  fatherBornUS  \\\n",
       "grade                                        -0.062865     -0.057618   \n",
       "male                                          0.002977      0.012652   \n",
       "preschool                                     0.110534      0.113289   \n",
       "expectBachelors                               0.009766      0.009201   \n",
       "motherHS                                      0.344936      0.337395   \n",
       "motherBachelors                               0.140357      0.119619   \n",
       "motherWork                                    0.102452      0.094600   \n",
       "fatherHS                                      0.298765      0.320266   \n",
       "fatherBachelors                               0.068955      0.072586   \n",
       "fatherWork                                   -0.004170     -0.007727   \n",
       "selfBornUS                                    0.470561      0.441392   \n",
       "motherBornUS                                  1.000000      0.791107   \n",
       "fatherBornUS                                  0.791107      1.000000   \n",
       "englishAtHome                                 0.653097      0.633340   \n",
       "computerForSchoolwork                         0.011331      0.026298   \n",
       "read30MinsADay                               -0.002979      0.009739   \n",
       "minutesPerWeekEnglish                         0.022577      0.015979   \n",
       "studentsInEnglish                            -0.094795     -0.086160   \n",
       "schoolHasLibrary                              0.001285      0.003341   \n",
       "publicSchool                                  0.018613      0.023054   \n",
       "urban                                        -0.286551     -0.294878   \n",
       "schoolSize                                   -0.244124     -0.248009   \n",
       "r_American Indian/Alaska Native               0.045291      0.040963   \n",
       "r_Asian                                      -0.345882     -0.335270   \n",
       "r_Black                                       0.093223      0.078680   \n",
       "r_Hispanic                                   -0.497395     -0.490651   \n",
       "r_More than one race                          0.035128      0.043756   \n",
       "r_Native Hawaiian/Other Pacific Islander     -0.083329     -0.068857   \n",
       "r_White                                       0.490618      0.484489   \n",
       "readingScore                                  0.066411      0.085264   \n",
       "\n",
       "                                          englishAtHome  \\\n",
       "grade                                         -0.009583   \n",
       "male                                          -0.005748   \n",
       "preschool                                      0.122812   \n",
       "expectBachelors                                0.035530   \n",
       "motherHS                                       0.376071   \n",
       "motherBachelors                                0.160095   \n",
       "motherWork                                     0.121524   \n",
       "fatherHS                                       0.336876   \n",
       "fatherBachelors                                0.125238   \n",
       "fatherWork                                     0.013639   \n",
       "selfBornUS                                     0.468425   \n",
       "motherBornUS                                   0.653097   \n",
       "fatherBornUS                                   0.633340   \n",
       "englishAtHome                                  1.000000   \n",
       "computerForSchoolwork                          0.071950   \n",
       "read30MinsADay                                 0.008428   \n",
       "minutesPerWeekEnglish                          0.003802   \n",
       "studentsInEnglish                             -0.069967   \n",
       "schoolHasLibrary                              -0.005857   \n",
       "publicSchool                                  -0.038667   \n",
       "urban                                         -0.215128   \n",
       "schoolSize                                    -0.204354   \n",
       "r_American Indian/Alaska Native                0.008235   \n",
       "r_Asian                                       -0.203169   \n",
       "r_Black                                        0.101774   \n",
       "r_Hispanic                                    -0.475429   \n",
       "r_More than one race                           0.063134   \n",
       "r_Native Hawaiian/Other Pacific Islander       0.007971   \n",
       "r_White                                        0.385595   \n",
       "readingScore                                   0.120762   \n",
       "\n",
       "                                          computerForSchoolwork  \\\n",
       "grade                                                  0.105568   \n",
       "male                                                  -0.028993   \n",
       "preschool                                              0.094145   \n",
       "expectBachelors                                        0.132233   \n",
       "motherHS                                               0.182245   \n",
       "motherBachelors                                        0.144212   \n",
       "motherWork                                             0.091743   \n",
       "fatherHS                                               0.170892   \n",
       "fatherBachelors                                        0.172355   \n",
       "fatherWork                                             0.083243   \n",
       "selfBornUS                                             0.010185   \n",
       "motherBornUS                                           0.011331   \n",
       "fatherBornUS                                           0.026298   \n",
       "englishAtHome                                          0.071950   \n",
       "computerForSchoolwork                                  1.000000   \n",
       "read30MinsADay                                        -0.015438   \n",
       "minutesPerWeekEnglish                                  0.004469   \n",
       "studentsInEnglish                                      0.052001   \n",
       "schoolHasLibrary                                       0.008955   \n",
       "publicSchool                                          -0.074288   \n",
       "urban                                                  0.023242   \n",
       "schoolSize                                             0.066941   \n",
       "r_American Indian/Alaska Native                       -0.072039   \n",
       "r_Asian                                                0.048092   \n",
       "r_Black                                               -0.058535   \n",
       "r_Hispanic                                            -0.091684   \n",
       "r_More than one race                                  -0.012226   \n",
       "r_Native Hawaiian/Other Pacific Islander               0.029316   \n",
       "r_White                                                0.110508   \n",
       "readingScore                                           0.190266   \n",
       "\n",
       "                                          read30MinsADay  \\\n",
       "grade                                           0.065484   \n",
       "male                                           -0.214101   \n",
       "preschool                                      -0.003884   \n",
       "expectBachelors                                 0.125497   \n",
       "motherHS                                        0.020236   \n",
       "motherBachelors                                 0.033012   \n",
       "motherWork                                     -0.027740   \n",
       "fatherHS                                        0.046933   \n",
       "fatherBachelors                                 0.057101   \n",
       "fatherWork                                     -0.012241   \n",
       "selfBornUS                                     -0.010905   \n",
       "motherBornUS                                   -0.002979   \n",
       "fatherBornUS                                    0.009739   \n",
       "englishAtHome                                   0.008428   \n",
       "computerForSchoolwork                          -0.015438   \n",
       "read30MinsADay                                  1.000000   \n",
       "minutesPerWeekEnglish                           0.020766   \n",
       "studentsInEnglish                               0.008379   \n",
       "schoolHasLibrary                                0.010067   \n",
       "publicSchool                                    0.003405   \n",
       "urban                                           0.029070   \n",
       "schoolSize                                     -0.007225   \n",
       "r_American Indian/Alaska Native                 0.005721   \n",
       "r_Asian                                         0.032059   \n",
       "r_Black                                         0.012908   \n",
       "r_Hispanic                                     -0.025130   \n",
       "r_More than one race                            0.017315   \n",
       "r_Native Hawaiian/Other Pacific Islander        0.002386   \n",
       "r_White                                        -0.005537   \n",
       "readingScore                                    0.241094   \n",
       "\n",
       "                                          minutesPerWeekEnglish  \\\n",
       "grade                                                  0.045747   \n",
       "male                                                   0.009808   \n",
       "preschool                                             -0.012829   \n",
       "expectBachelors                                        0.008403   \n",
       "motherHS                                               0.031403   \n",
       "motherBachelors                                        0.017249   \n",
       "motherWork                                             0.022426   \n",
       "fatherHS                                               0.036223   \n",
       "fatherBachelors                                        0.008416   \n",
       "fatherWork                                             0.023599   \n",
       "selfBornUS                                             0.004834   \n",
       "motherBornUS                                           0.022577   \n",
       "fatherBornUS                                           0.015979   \n",
       "englishAtHome                                          0.003802   \n",
       "computerForSchoolwork                                  0.004469   \n",
       "read30MinsADay                                         0.020766   \n",
       "minutesPerWeekEnglish                                  1.000000   \n",
       "studentsInEnglish                                      0.040743   \n",
       "schoolHasLibrary                                      -0.000751   \n",
       "publicSchool                                           0.042140   \n",
       "urban                                                 -0.045861   \n",
       "schoolSize                                             0.006433   \n",
       "r_American Indian/Alaska Native                       -0.002839   \n",
       "r_Asian                                                0.004377   \n",
       "r_Black                                               -0.048650   \n",
       "r_Hispanic                                            -0.021015   \n",
       "r_More than one race                                   0.017789   \n",
       "r_Native Hawaiian/Other Pacific Islander              -0.010471   \n",
       "r_White                                                0.041233   \n",
       "readingScore                                           0.068374   \n",
       "\n",
       "                                          studentsInEnglish  schoolHasLibrary  \\\n",
       "grade                                              0.074487         -0.016703   \n",
       "male                                              -0.036348          0.022453   \n",
       "preschool                                         -0.030150          0.029039   \n",
       "expectBachelors                                    0.041987          0.055405   \n",
       "motherHS                                          -0.042705          0.021296   \n",
       "motherBachelors                                   -0.043409          0.022864   \n",
       "motherWork                                        -0.011111         -0.007515   \n",
       "fatherHS                                          -0.020973          0.036179   \n",
       "fatherBachelors                                   -0.031457          0.006428   \n",
       "fatherWork                                         0.003508         -0.003134   \n",
       "selfBornUS                                        -0.036692         -0.012363   \n",
       "motherBornUS                                      -0.094795          0.001285   \n",
       "fatherBornUS                                      -0.086160          0.003341   \n",
       "englishAtHome                                     -0.069967         -0.005857   \n",
       "computerForSchoolwork                              0.052001          0.008955   \n",
       "read30MinsADay                                     0.008379          0.010067   \n",
       "minutesPerWeekEnglish                              0.040743         -0.000751   \n",
       "studentsInEnglish                                  1.000000          0.055911   \n",
       "schoolHasLibrary                                   0.055911          1.000000   \n",
       "publicSchool                                       0.084035          0.054164   \n",
       "urban                                              0.161696         -0.110345   \n",
       "schoolSize                                         0.252567          0.019449   \n",
       "r_American Indian/Alaska Native                   -0.046396         -0.003327   \n",
       "r_Asian                                            0.076220          0.021454   \n",
       "r_Black                                           -0.045578          0.025397   \n",
       "r_Hispanic                                         0.077202         -0.044148   \n",
       "r_More than one race                               0.015231          0.016700   \n",
       "r_Native Hawaiian/Other Pacific Islander           0.025549          0.004069   \n",
       "r_White                                           -0.066563          0.008616   \n",
       "readingScore                                       0.032793          0.020409   \n",
       "\n",
       "                                          publicSchool     urban  schoolSize  \\\n",
       "grade                                        -0.059306  0.080561    0.063289   \n",
       "male                                         -0.075265  0.016113   -0.004586   \n",
       "preschool                                    -0.076767 -0.056366   -0.024381   \n",
       "expectBachelors                              -0.113289  0.006144    0.021538   \n",
       "motherHS                                     -0.074333 -0.116650   -0.089987   \n",
       "motherBachelors                              -0.172575 -0.040708   -0.007501   \n",
       "motherWork                                   -0.025414 -0.027873   -0.047528   \n",
       "fatherHS                                     -0.086946 -0.100400   -0.083902   \n",
       "fatherBachelors                              -0.188413 -0.007594    0.031286   \n",
       "fatherWork                                   -0.020203 -0.029030   -0.022164   \n",
       "selfBornUS                                   -0.039766 -0.116324   -0.133465   \n",
       "motherBornUS                                  0.018613 -0.286551   -0.244124   \n",
       "fatherBornUS                                  0.023054 -0.294878   -0.248009   \n",
       "englishAtHome                                -0.038667 -0.215128   -0.204354   \n",
       "computerForSchoolwork                        -0.074288  0.023242    0.066941   \n",
       "read30MinsADay                                0.003405  0.029070   -0.007225   \n",
       "minutesPerWeekEnglish                         0.042140 -0.045861    0.006433   \n",
       "studentsInEnglish                             0.084035  0.161696    0.252567   \n",
       "schoolHasLibrary                              0.054164 -0.110345    0.019449   \n",
       "publicSchool                                  1.000000 -0.261065    0.233649   \n",
       "urban                                        -0.261065  1.000000    0.331002   \n",
       "schoolSize                                    0.233649  0.331002    1.000000   \n",
       "r_American Indian/Alaska Native               0.026356 -0.038173   -0.063193   \n",
       "r_Asian                                      -0.034019  0.101213    0.084064   \n",
       "r_Black                                       0.070429  0.100762   -0.007679   \n",
       "r_Hispanic                                    0.029555  0.271837    0.242724   \n",
       "r_More than one race                         -0.005669 -0.008299   -0.014811   \n",
       "r_Native Hawaiian/Other Pacific Islander     -0.047417  0.034635    0.008711   \n",
       "r_White                                      -0.054528 -0.334288   -0.211039   \n",
       "readingScore                                 -0.140822 -0.062066    0.034782   \n",
       "\n",
       "                                          r_American Indian/Alaska Native  \\\n",
       "grade                                                           -0.023408   \n",
       "male                                                             0.022623   \n",
       "preschool                                                       -0.002954   \n",
       "expectBachelors                                                 -0.032191   \n",
       "motherHS                                                        -0.004978   \n",
       "motherBachelors                                                 -0.023187   \n",
       "motherWork                                                      -0.021544   \n",
       "fatherHS                                                        -0.018314   \n",
       "fatherBachelors                                                 -0.044834   \n",
       "fatherWork                                                      -0.042797   \n",
       "selfBornUS                                                       0.020882   \n",
       "motherBornUS                                                     0.045291   \n",
       "fatherBornUS                                                     0.040963   \n",
       "englishAtHome                                                    0.008235   \n",
       "computerForSchoolwork                                           -0.072039   \n",
       "read30MinsADay                                                   0.005721   \n",
       "minutesPerWeekEnglish                                           -0.002839   \n",
       "studentsInEnglish                                               -0.046396   \n",
       "schoolHasLibrary                                                -0.003327   \n",
       "publicSchool                                                     0.026356   \n",
       "urban                                                           -0.038173   \n",
       "schoolSize                                                      -0.063193   \n",
       "r_American Indian/Alaska Native                                  1.000000   \n",
       "r_Asian                                                         -0.019981   \n",
       "r_Black                                                         -0.036867   \n",
       "r_Hispanic                                                      -0.053646   \n",
       "r_More than one race                                            -0.018562   \n",
       "r_Native Hawaiian/Other Pacific Islander                        -0.008707   \n",
       "r_White                                                         -0.110350   \n",
       "readingScore                                                    -0.069957   \n",
       "\n",
       "                                           r_Asian   r_Black  r_Hispanic  \\\n",
       "grade                                     0.084707 -0.033769   -0.013163   \n",
       "male                                     -0.023206 -0.010602    0.015579   \n",
       "preschool                                -0.001570  0.039726   -0.120714   \n",
       "expectBachelors                           0.062091 -0.008816   -0.088334   \n",
       "motherHS                                 -0.044241  0.062062   -0.348739   \n",
       "motherBachelors                           0.010866 -0.000595   -0.206743   \n",
       "motherWork                               -0.025607  0.041216   -0.102118   \n",
       "fatherHS                                  0.017634  0.044931   -0.339347   \n",
       "fatherBachelors                           0.072559 -0.062323   -0.202203   \n",
       "fatherWork                               -0.010644 -0.095892   -0.020836   \n",
       "selfBornUS                               -0.199204  0.028255   -0.200906   \n",
       "motherBornUS                             -0.345882  0.093223   -0.497395   \n",
       "fatherBornUS                             -0.335270  0.078680   -0.490651   \n",
       "englishAtHome                            -0.203169  0.101774   -0.475429   \n",
       "computerForSchoolwork                     0.048092 -0.058535   -0.091684   \n",
       "read30MinsADay                            0.032059  0.012908   -0.025130   \n",
       "minutesPerWeekEnglish                     0.004377 -0.048650   -0.021015   \n",
       "studentsInEnglish                         0.076220 -0.045578    0.077202   \n",
       "schoolHasLibrary                          0.021454  0.025397   -0.044148   \n",
       "publicSchool                             -0.034019  0.070429    0.029555   \n",
       "urban                                     0.101213  0.100762    0.271837   \n",
       "schoolSize                                0.084064 -0.007679    0.242724   \n",
       "r_American Indian/Alaska Native          -0.019981 -0.036867   -0.053646   \n",
       "r_Asian                                   1.000000 -0.074847   -0.108912   \n",
       "r_Black                                  -0.074847  1.000000   -0.200958   \n",
       "r_Hispanic                               -0.108912 -0.200958    1.000000   \n",
       "r_More than one race                     -0.037684 -0.069532   -0.101178   \n",
       "r_Native Hawaiian/Other Pacific Islander -0.017676 -0.032615   -0.047459   \n",
       "r_White                                  -0.224031 -0.413368   -0.601501   \n",
       "readingScore                              0.095688 -0.224659   -0.185445   \n",
       "\n",
       "                                          r_More than one race  \\\n",
       "grade                                                -0.005996   \n",
       "male                                                 -0.008216   \n",
       "preschool                                             0.000731   \n",
       "expectBachelors                                      -0.000554   \n",
       "motherHS                                              0.024971   \n",
       "motherBachelors                                       0.007320   \n",
       "motherWork                                            0.013330   \n",
       "fatherHS                                              0.019806   \n",
       "fatherBachelors                                      -0.012158   \n",
       "fatherWork                                           -0.014122   \n",
       "selfBornUS                                            0.028880   \n",
       "motherBornUS                                          0.035128   \n",
       "fatherBornUS                                          0.043756   \n",
       "englishAtHome                                         0.063134   \n",
       "computerForSchoolwork                                -0.012226   \n",
       "read30MinsADay                                        0.017315   \n",
       "minutesPerWeekEnglish                                 0.017789   \n",
       "studentsInEnglish                                     0.015231   \n",
       "schoolHasLibrary                                      0.016700   \n",
       "publicSchool                                         -0.005669   \n",
       "urban                                                -0.008299   \n",
       "schoolSize                                           -0.014811   \n",
       "r_American Indian/Alaska Native                      -0.018562   \n",
       "r_Asian                                              -0.037684   \n",
       "r_Black                                              -0.069532   \n",
       "r_Hispanic                                           -0.101178   \n",
       "r_More than one race                                  1.000000   \n",
       "r_Native Hawaiian/Other Pacific Islander             -0.016421   \n",
       "r_White                                              -0.208122   \n",
       "readingScore                                         -0.000292   \n",
       "\n",
       "                                          r_Native Hawaiian/Other Pacific Islander  \\\n",
       "grade                                                                     0.029203   \n",
       "male                                                                      0.019584   \n",
       "preschool                                                                -0.001656   \n",
       "expectBachelors                                                           0.003074   \n",
       "motherHS                                                                  0.006369   \n",
       "motherBachelors                                                          -0.006831   \n",
       "motherWork                                                               -0.005968   \n",
       "fatherHS                                                                  0.017167   \n",
       "fatherBachelors                                                          -0.011727   \n",
       "fatherWork                                                               -0.033243   \n",
       "selfBornUS                                                               -0.025554   \n",
       "motherBornUS                                                             -0.083329   \n",
       "fatherBornUS                                                             -0.068857   \n",
       "englishAtHome                                                             0.007971   \n",
       "computerForSchoolwork                                                     0.029316   \n",
       "read30MinsADay                                                            0.002386   \n",
       "minutesPerWeekEnglish                                                    -0.010471   \n",
       "studentsInEnglish                                                         0.025549   \n",
       "schoolHasLibrary                                                          0.004069   \n",
       "publicSchool                                                             -0.047417   \n",
       "urban                                                                     0.034635   \n",
       "schoolSize                                                                0.008711   \n",
       "r_American Indian/Alaska Native                                          -0.008707   \n",
       "r_Asian                                                                  -0.017676   \n",
       "r_Black                                                                  -0.032615   \n",
       "r_Hispanic                                                               -0.047459   \n",
       "r_More than one race                                                     -0.016421   \n",
       "r_Native Hawaiian/Other Pacific Islander                                  1.000000   \n",
       "r_White                                                                  -0.097624   \n",
       "readingScore                                                              0.014165   \n",
       "\n",
       "                                           r_White  readingScore  \n",
       "grade                                     0.004317      0.272413  \n",
       "male                                     -0.000760     -0.145303  \n",
       "preschool                                 0.077568      0.060373  \n",
       "expectBachelors                           0.064732      0.359425  \n",
       "motherHS                                  0.260682      0.161376  \n",
       "motherBachelors                           0.173525      0.213743  \n",
       "motherWork                                0.071580      0.047248  \n",
       "fatherHS                                  0.241250      0.188446  \n",
       "fatherBachelors                           0.192768      0.260840  \n",
       "fatherWork                                0.102633      0.067909  \n",
       "selfBornUS                                0.220138      0.039097  \n",
       "motherBornUS                              0.490618      0.066411  \n",
       "fatherBornUS                              0.484489      0.085264  \n",
       "englishAtHome                             0.385595      0.120762  \n",
       "computerForSchoolwork                     0.110508      0.190266  \n",
       "read30MinsADay                           -0.005537      0.241094  \n",
       "minutesPerWeekEnglish                     0.041233      0.068374  \n",
       "studentsInEnglish                        -0.066563      0.032793  \n",
       "schoolHasLibrary                          0.008616      0.020409  \n",
       "publicSchool                             -0.054528     -0.140822  \n",
       "urban                                    -0.334288     -0.062066  \n",
       "schoolSize                               -0.211039      0.034782  \n",
       "r_American Indian/Alaska Native          -0.110350     -0.069957  \n",
       "r_Asian                                  -0.224031      0.095688  \n",
       "r_Black                                  -0.413368     -0.224659  \n",
       "r_Hispanic                               -0.601501     -0.185445  \n",
       "r_More than one race                     -0.208122     -0.000292  \n",
       "r_Native Hawaiian/Other Pacific Islander -0.097624      0.014165  \n",
       "r_White                                   1.000000      0.291210  \n",
       "readingScore                              0.291210      1.000000  "
      ]
     },
     "metadata": {},
     "output_type": "display_data"
    }
   ],
   "source": [
    "from IPython.display import display\n",
    "tempdf = pisa.copy()\n",
    "\n",
    "raceeth = pd.get_dummies(tempdf['raceeth'], 'r')\n",
    "tempdf = pd.concat([tempdf, raceeth], axis=1)\n",
    "tempdf = tempdf.drop('raceeth', axis=1)\n",
    "\n",
    "#move the prediction target towards the end\n",
    "tempdf = tempdf.drop('readingScore', axis=1)\n",
    "tempdf['readingScore'] = pisa['readingScore']\n",
    "\n",
    "raceeth\n",
    "corr = tempdf.corr(method='pearson')\n",
    "with pd.option_context('display.max_columns', None):\n",
    "    display(corr)"
   ]
  },
  {
   "cell_type": "markdown",
   "metadata": {},
   "source": [
    "### Correlation heatmap "
   ]
  },
  {
   "cell_type": "code",
   "execution_count": 60,
   "metadata": {
    "collapsed": false
   },
   "outputs": [
    {
     "data": {
      "image/png": "[encoded data removed]",
      "text/plain": [
       "<matplotlib.figure.Figure at 0xcd664a8>"
      ]
     },
     "metadata": {},
     "output_type": "display_data"
    }
   ],
   "source": [
    "mask = np.zeros_like(corr, dtype=np.bool)\n",
    "mask[np.triu_indices_from(mask)] = True\n",
    "# # Set up the matplotlib figure\n",
    "f, ax = plt.subplots(figsize=(8, 8))\n",
    "#\n",
    "# # Generate a custom diverging colormap\n",
    "cmap = sns.diverging_palette(220, 10, as_cmap=True)\n",
    "#\n",
    "# # Draw the heatmap with the mask and correct aspect ratio\n",
    "sns.heatmap(corr, mask=mask, cmap=cmap,vmax=1,\n",
    "            square=True,linewidths=.1, cbar_kws={\"shrink\": .8}, ax=ax)\n",
    "plt.show()"
   ]
  },
  {
   "cell_type": "markdown",
   "metadata": {},
   "source": [
    "### List of features sorted by correlation with target "
   ]
  },
  {
   "cell_type": "code",
   "execution_count": 61,
   "metadata": {
    "collapsed": false
   },
   "outputs": [
    {
     "name": "stdout",
     "output_type": "stream",
     "text": [
      "List the  features decendingly by their correlation with Reading Score:\n",
      "\n",
      "      expectBachelors: 0.359\n",
      "              r_White: 0.291\n",
      "                grade: 0.272\n",
      "      fatherBachelors: 0.261\n",
      "       read30MinsADay: 0.241\n",
      "              r_Black: -0.225\n",
      "      motherBachelors: 0.214\n",
      "computerForSchoolwork: 0.190\n",
      "             fatherHS: 0.188\n",
      "           r_Hispanic: -0.185\n",
      "             motherHS: 0.161\n",
      "                 male: -0.145\n",
      "         publicSchool: -0.141\n",
      "        englishAtHome: 0.121\n",
      "              r_Asian: 0.096\n",
      "         fatherBornUS: 0.085\n",
      "r_American Indian/Alaska Native: -0.070\n",
      "minutesPerWeekEnglish: 0.068\n",
      "           fatherWork: 0.068\n",
      "         motherBornUS: 0.066\n",
      "                urban: -0.062\n",
      "            preschool: 0.060\n",
      "           motherWork: 0.047\n",
      "           selfBornUS: 0.039\n",
      "           schoolSize: 0.035\n",
      "    studentsInEnglish: 0.033\n",
      "     schoolHasLibrary: 0.020\n",
      "r_Native Hawaiian/Other Pacific Islander: 0.014\n",
      " r_More than one race: -0.000\n"
     ]
    }
   ],
   "source": [
    "cor_dict = corr['readingScore'].to_dict()\n",
    "del cor_dict['readingScore']\n",
    "print(\"List the  features decendingly by their correlation with Reading Score:\\n\")\n",
    "for ele in sorted(cor_dict.items(), key = lambda x: -abs(x[1])):\n",
    "    print(\"%21s: %.3f\" %(ele))"
   ]
  },
  {
   "cell_type": "markdown",
   "metadata": {},
   "source": [
    "### Bivariate visualizations"
   ]
  },
  {
   "cell_type": "markdown",
   "metadata": {},
   "source": [
    "#### grade and readingScore"
   ]
  },
  {
   "cell_type": "code",
   "execution_count": 62,
   "metadata": {
    "collapsed": false
   },
   "outputs": [
    {
     "data": {
      "image/png": "[encoded data removed]",
      "text/plain": [
       "<matplotlib.figure.Figure at 0xdff2a20>"
      ]
     },
     "metadata": {},
     "output_type": "display_data"
    }
   ],
   "source": [
    "fig, ax = plt.subplots(1,2, figsize=(12, 4))\n",
    "sns.countplot(x='grade', data=pisa, ax=ax[0])\n",
    "sns.boxplot(x='grade', y='readingScore', data=pisa, ax=ax[1])\n",
    "plt.show()"
   ]
  },
  {
   "cell_type": "markdown",
   "metadata": {},
   "source": [
    "#### race distribution"
   ]
  },
  {
   "cell_type": "code",
   "execution_count": 63,
   "metadata": {
    "collapsed": false
   },
   "outputs": [
    {
     "data": {
      "image/png": "[encoded data removed]",
      "text/plain": [
       "<matplotlib.figure.Figure at 0xcddc0f0>"
      ]
     },
     "metadata": {},
     "output_type": "display_data"
    }
   ],
   "source": [
    "fig = plt.figure(figsize=(12, 4))\n",
    "sns.countplot(x='raceeth', data=pisa)\n",
    "a = plt.xticks(rotation = 10)"
   ]
  },
  {
   "cell_type": "markdown",
   "metadata": {},
   "source": [
    "#### race and readingScore"
   ]
  },
  {
   "cell_type": "code",
   "execution_count": 64,
   "metadata": {
    "collapsed": false
   },
   "outputs": [
    {
     "data": {
      "image/png": "[encoded data removed]",
      "text/plain": [
       "<matplotlib.figure.Figure at 0xf4d22b0>"
      ]
     },
     "metadata": {},
     "output_type": "display_data"
    }
   ],
   "source": [
    "fig = plt.figure(figsize=(12, 4))\n",
    "sns.boxplot(x='raceeth', y='readingScore', data=pisa)\n",
    "x = plt.xticks(rotation = 10)\n",
    "plt.show()"
   ]
  },
  {
   "cell_type": "markdown",
   "metadata": {},
   "source": [
    "#### expectBachelors and readingScore"
   ]
  },
  {
   "cell_type": "code",
   "execution_count": 65,
   "metadata": {
    "collapsed": false
   },
   "outputs": [
    {
     "data": {
      "image/png": "[encoded data removed]",
      "text/plain": [
       "<matplotlib.figure.Figure at 0xda1e518>"
      ]
     },
     "metadata": {},
     "output_type": "display_data"
    }
   ],
   "source": [
    "fig, ax = plt.subplots(1,2, figsize=(7, 2))\n",
    "sns.countplot(x='expectBachelors', data=pisa, ax=ax[0])\n",
    "sns.boxplot(x='expectBachelors', y='readingScore', data=pisa, ax=ax[1])\n",
    "plt.show()"
   ]
  },
  {
   "cell_type": "markdown",
   "metadata": {},
   "source": [
    "#### motherHS and readingScore"
   ]
  },
  {
   "cell_type": "code",
   "execution_count": 66,
   "metadata": {
    "collapsed": false
   },
   "outputs": [
    {
     "data": {
      "image/png": "[encoded data removed]",
      "text/plain": [
       "<matplotlib.figure.Figure at 0x1113e780>"
      ]
     },
     "metadata": {},
     "output_type": "display_data"
    }
   ],
   "source": [
    "fig, ax = plt.subplots(1,2, figsize=(7, 2))\n",
    "sns.countplot(x='motherHS', data=pisa, ax=ax[0])\n",
    "sns.boxplot(x='motherHS', y='readingScore', data=pisa, ax=ax[1])\n",
    "plt.show()"
   ]
  },
  {
   "cell_type": "markdown",
   "metadata": {},
   "source": [
    "#### motherBachelors and readingScore"
   ]
  },
  {
   "cell_type": "code",
   "execution_count": 67,
   "metadata": {
    "collapsed": false
   },
   "outputs": [
    {
     "data": {
      "image/png": "[encoded data removed]",
      "text/plain": [
       "<matplotlib.figure.Figure at 0x122186a0>"
      ]
     },
     "metadata": {},
     "output_type": "display_data"
    }
   ],
   "source": [
    "fig, ax = plt.subplots(1,2, figsize=(7, 2))\n",
    "sns.countplot(x='motherBachelors', data=pisa, ax=ax[0])\n",
    "sns.boxplot(x='motherBachelors', y='readingScore', data=pisa, ax=ax[1])\n",
    "plt.show()"
   ]
  },
  {
   "cell_type": "markdown",
   "metadata": {},
   "source": [
    "#### computerForSchoolwork and readingScore"
   ]
  },
  {
   "cell_type": "code",
   "execution_count": 68,
   "metadata": {
    "collapsed": false,
    "scrolled": true
   },
   "outputs": [
    {
     "data": {
      "image/png": "[encoded data removed]",
      "text/plain": [
       "<matplotlib.figure.Figure at 0x1160d7b8>"
      ]
     },
     "metadata": {},
     "output_type": "display_data"
    }
   ],
   "source": [
    "fig, ax = plt.subplots(1,2, figsize=(7, 2))\n",
    "sns.countplot(x='computerForSchoolwork', data=pisa, ax=ax[0])\n",
    "sns.boxplot(x='computerForSchoolwork', y='readingScore', data=pisa, ax=ax[1])\n",
    "plt.show()"
   ]
  },
  {
   "cell_type": "markdown",
   "metadata": {},
   "source": [
    "#### read30MinsADay and readingScore"
   ]
  },
  {
   "cell_type": "code",
   "execution_count": 69,
   "metadata": {
    "collapsed": false
   },
   "outputs": [
    {
     "data": {
      "image/png": "[encoded data removed]",
      "text/plain": [
       "<matplotlib.figure.Figure at 0xe1f6ac8>"
      ]
     },
     "metadata": {},
     "output_type": "display_data"
    }
   ],
   "source": [
    "fig, ax = plt.subplots(1,2, figsize=(7, 2))\n",
    "sns.countplot(x='read30MinsADay', data=pisa, ax=ax[0])\n",
    "sns.boxplot(x='read30MinsADay', y='readingScore', data=pisa, ax=ax[1])\n",
    "plt.show()"
   ]
  },
  {
   "cell_type": "markdown",
   "metadata": {},
   "source": [
    "#### publicSchool and readingScore"
   ]
  },
  {
   "cell_type": "code",
   "execution_count": 70,
   "metadata": {
    "collapsed": false
   },
   "outputs": [
    {
     "data": {
      "image/png": "[encoded data removed]",
      "text/plain": [
       "<matplotlib.figure.Figure at 0x117c73c8>"
      ]
     },
     "metadata": {},
     "output_type": "display_data"
    }
   ],
   "source": [
    "fig, ax = plt.subplots(1,2, figsize=(7, 2))\n",
    "sns.countplot(x='publicSchool', data=pisa, ax=ax[0])\n",
    "sns.boxplot(x='publicSchool', y='readingScore', data=pisa, ax=ax[1])\n",
    "plt.show()"
   ]
  },
  {
   "cell_type": "markdown",
   "metadata": {},
   "source": [
    "## 2.3 Algorithms and Techniques"
   ]
  },
  {
   "cell_type": "markdown",
   "metadata": {},
   "source": [
    "### Split into train and test sets"
   ]
  },
  {
   "cell_type": "code",
   "execution_count": 71,
   "metadata": {
    "collapsed": false
   },
   "outputs": [],
   "source": [
    "from sklearn.model_selection import train_test_split\n",
    "pisa = pd.read_csv('pisa2009.csv')\n",
    "X = pisa.drop('readingScore', axis=1)\n",
    "y = pisa['readingScore']\n",
    "del pisa\n",
    "# split into training and test sets\n",
    "X_train, X_test, y_train, y_test = train_test_split(X, y, test_size=0.3, random_state=7)"
   ]
  },
  {
   "cell_type": "markdown",
   "metadata": {},
   "source": [
    "## 2.4 Benchmark"
   ]
  },
  {
   "cell_type": "code",
   "execution_count": 72,
   "metadata": {
    "collapsed": false
   },
   "outputs": [
    {
     "name": "stdout",
     "output_type": "stream",
     "text": [
      "Benchmark r2 score: 0.32\n",
      "Benchmark RMSE: 78.36\n"
     ]
    }
   ],
   "source": [
    "# Use average of scores as benchmark\n",
    "from sklearn.metrics import mean_squared_error\n",
    "from sklearn.metrics import r2_score\n",
    "from sklearn.linear_model import LinearRegression\n",
    "from sklearn.model_selection import KFold\n",
    "from sklearn.model_selection import cross_val_score\n",
    "\n",
    "\n",
    "X_train_bm = X_train.copy()\n",
    "X_test_bm = X_test.copy()\n",
    "\n",
    "# Once categorical feature 'raceeth' will be dropped\n",
    "X_train_bm = X_train_bm.drop('raceeth', axis=1)\n",
    "X_test_bm = X_test_bm.drop('raceeth', axis=1)\n",
    "\n",
    "# replace missing values with 0\n",
    "X_train_bm = X_train_bm.apply(lambda x:x.fillna(0))\n",
    "X_test_bm = X_test_bm.apply(lambda x:x.fillna(0))\n",
    "\n",
    "# Use LinearRegression for benchmark\n",
    "model = LinearRegression()\n",
    "model.fit(X_train_bm, y_train)\n",
    "benchmark_rmse = np.sqrt(mean_squared_error(y_test, model.predict(X_test_bm)))\n",
    "benchmark_r2 = r2_score(y_test, model.predict(X_test_bm))\n",
    "print \"Benchmark r2 score: %.2f\" % benchmark_r2\n",
    "print \"Benchmark RMSE: %.2f\" % benchmark_rmse"
   ]
  },
  {
   "cell_type": "markdown",
   "metadata": {},
   "source": [
    "# 3. Methodology\n",
    "## 3.1 Data Preprocessing"
   ]
  },
  {
   "cell_type": "markdown",
   "metadata": {},
   "source": [
    "Following preprocessing will be done:\n",
    "* Handling missing values\n",
    "* Binning certain continuous predictors\n",
    "* Handling categorical predictors\n",
    "* Handling multicollinearity"
   ]
  },
  {
   "cell_type": "markdown",
   "metadata": {},
   "source": [
    "Merge the training and validation sets for preprocessing so that both will undergo same process."
   ]
  },
  {
   "cell_type": "code",
   "execution_count": 73,
   "metadata": {
    "collapsed": false
   },
   "outputs": [],
   "source": [
    "train_size = X_train.shape[0]\n",
    "pisa = pd.concat([X_train, X_test], ignore_index=True)\n",
    "del X_train\n",
    "del X_test"
   ]
  },
  {
   "cell_type": "markdown",
   "metadata": {},
   "source": [
    "### 3.1.1 Handling Missing Values"
   ]
  },
  {
   "cell_type": "code",
   "execution_count": 74,
   "metadata": {
    "collapsed": false
   },
   "outputs": [],
   "source": [
    "# For continuous variables replace the missing data with average of columns\n",
    "pisa['minutesPerWeekEnglish'].fillna(int(pisa['minutesPerWeekEnglish'].mean()), inplace=True)\n",
    "pisa['studentsInEnglish'].fillna(int(pisa['studentsInEnglish'].mean()), inplace=True)\n",
    "pisa['schoolSize'].fillna(int(pisa['schoolSize'].mean()), inplace=True)\n",
    "\n",
    "# For 'raceeth' use 'NoRace' replacement\n",
    "pisa['raceeth'].fillna('NoRace', inplace=True)\n",
    "\n",
    "# For binary variable use 0 in place of missing value\n",
    "pisa = pisa.apply(lambda x:x.fillna(0))\n"
   ]
  },
  {
   "cell_type": "code",
   "execution_count": 75,
   "metadata": {
    "collapsed": false
   },
   "outputs": [
    {
     "data": {
      "text/plain": [
       "Index([u'grade', u'male', u'raceeth', u'preschool', u'expectBachelors',\n",
       "       u'motherHS', u'motherBachelors', u'motherWork', u'fatherHS',\n",
       "       u'fatherBachelors', u'fatherWork', u'selfBornUS', u'motherBornUS',\n",
       "       u'fatherBornUS', u'englishAtHome', u'computerForSchoolwork',\n",
       "       u'read30MinsADay', u'minutesPerWeekEnglish', u'studentsInEnglish',\n",
       "       u'schoolHasLibrary', u'publicSchool', u'urban', u'schoolSize'],\n",
       "      dtype='object')"
      ]
     },
     "execution_count": 75,
     "metadata": {},
     "output_type": "execute_result"
    }
   ],
   "source": [
    "pisa.columns"
   ]
  },
  {
   "cell_type": "markdown",
   "metadata": {},
   "source": [
    "### 3.1.2 Binning Continuous Variables"
   ]
  },
  {
   "cell_type": "markdown",
   "metadata": {},
   "source": [
    "#### minutesPerWeekEnglish"
   ]
  },
  {
   "cell_type": "code",
   "execution_count": 76,
   "metadata": {
    "collapsed": false
   },
   "outputs": [
    {
     "data": {
      "text/plain": [
       "200-300     3337\n",
       "<100         518\n",
       "400-2500     503\n",
       "100-200      500\n",
       "300-400      375\n",
       "Name: minutesPerWeekEnglish_bin, dtype: int64"
      ]
     },
     "execution_count": 76,
     "metadata": {},
     "output_type": "execute_result"
    }
   ],
   "source": [
    "\n",
    "bins = [-1, 100, 200, 300, 400, 2500 ]\n",
    "group_names = ['<100', '100-200', '200-300', '300-400', '400-2500']\n",
    "pisa['minutesPerWeekEnglish_bin'] = pd.cut(pisa['minutesPerWeekEnglish'], bins, labels=group_names)\n",
    "pisa = pisa.drop('minutesPerWeekEnglish', axis=1)\n",
    "pisa['minutesPerWeekEnglish_bin'].value_counts()\n"
   ]
  },
  {
   "cell_type": "markdown",
   "metadata": {},
   "source": [
    "#### studentsInEnglish"
   ]
  },
  {
   "cell_type": "code",
   "execution_count": 77,
   "metadata": {
    "collapsed": false
   },
   "outputs": [
    {
     "data": {
      "text/plain": [
       "20-30     3105\n",
       "10-20     1549\n",
       "30-40      418\n",
       "<10        116\n",
       "40-50       23\n",
       "50-100      22\n",
       "Name: studentsInEnglish_bin, dtype: int64"
      ]
     },
     "execution_count": 77,
     "metadata": {},
     "output_type": "execute_result"
    }
   ],
   "source": [
    "bins = [0, 10, 20, 30, 40, 50, 100 ]\n",
    "group_names = ['<10', '10-20', '20-30', '30-40', '40-50', '50-100']\n",
    "pisa['studentsInEnglish_bin'] = pd.cut(pisa['studentsInEnglish'], bins, labels=group_names)\n",
    "pisa = pisa.drop('studentsInEnglish', axis=1)\n",
    "pisa['studentsInEnglish_bin'].value_counts()"
   ]
  },
  {
   "cell_type": "markdown",
   "metadata": {},
   "source": [
    "#### schoolSize"
   ]
  },
  {
   "cell_type": "code",
   "execution_count": 78,
   "metadata": {
    "collapsed": false
   },
   "outputs": [
    {
     "data": {
      "text/plain": [
       "1000-2000    2096\n",
       "500-1000     1251\n",
       "2000-3000     843\n",
       "100-500       794\n",
       "3000-7000     237\n",
       "<100           12\n",
       "Name: schoolSize_bin, dtype: int64"
      ]
     },
     "execution_count": 78,
     "metadata": {},
     "output_type": "execute_result"
    }
   ],
   "source": [
    "bins = [0, 100, 500, 1000, 2000, 3000, 7000 ]\n",
    "group_names = ['<100', '100-500', '500-1000', '1000-2000', '2000-3000', '3000-7000']\n",
    "pisa['schoolSize_bin'] = pd.cut(pisa['schoolSize'], bins, labels=group_names)\n",
    "pisa = pisa.drop('schoolSize', axis=1)\n",
    "pisa['schoolSize_bin'].value_counts()"
   ]
  },
  {
   "cell_type": "markdown",
   "metadata": {},
   "source": [
    "### 3.1.3 Handling categorical variables"
   ]
  },
  {
   "cell_type": "code",
   "execution_count": 79,
   "metadata": {
    "collapsed": false
   },
   "outputs": [],
   "source": [
    "# Encode categorical data\n",
    "raceeth = pd.get_dummies(pisa['raceeth'], 'raceeth')\n",
    "pisa = pd.concat([pisa, raceeth], axis=1)\n",
    "pisa = pisa.drop('raceeth', axis=1)\n",
    "\n",
    "minutes = pd.get_dummies(pisa['minutesPerWeekEnglish_bin'], 'minutes')\n",
    "pisa = pd.concat([pisa, minutes], axis=1)\n",
    "pisa = pisa.drop('minutesPerWeekEnglish_bin', axis=1)\n",
    "\n",
    "students = pd.get_dummies(pisa['studentsInEnglish_bin'], 'students')\n",
    "pisa = pd.concat([pisa, students], axis=1)\n",
    "pisa = pisa.drop('studentsInEnglish_bin', axis=1)\n",
    "\n",
    "school = pd.get_dummies(pisa['schoolSize_bin'], 'school')\n",
    "pisa = pd.concat([pisa, school], axis=1)\n",
    "pisa = pisa.drop('schoolSize_bin', axis=1)\n",
    "\n",
    "grade = pd.get_dummies(pisa['grade'], 'grade')\n",
    "pisa = pd.concat([pisa, grade], axis=1)\n",
    "pisa = pisa.drop('grade', axis=1)"
   ]
  },
  {
   "cell_type": "markdown",
   "metadata": {},
   "source": [
    "### 3.1.4 Handling multicolinearity"
   ]
  },
  {
   "cell_type": "code",
   "execution_count": 80,
   "metadata": {
    "collapsed": true
   },
   "outputs": [],
   "source": [
    "# remove multicolinearity marked for removal in exploration phase\n",
    "pisa = pisa.drop(['motherBachelors','motherBornUS', 'fatherBornUS'], axis=1)"
   ]
  },
  {
   "cell_type": "code",
   "execution_count": 81,
   "metadata": {
    "collapsed": false
   },
   "outputs": [
    {
     "data": {
      "text/plain": [
       "array(['male', 'preschool', 'expectBachelors', 'motherHS', 'motherWork',\n",
       "       'fatherHS', 'fatherBachelors', 'fatherWork', 'selfBornUS',\n",
       "       'englishAtHome', 'computerForSchoolwork', 'read30MinsADay',\n",
       "       'schoolHasLibrary', 'publicSchool', 'urban',\n",
       "       'raceeth_American Indian/Alaska Native', 'raceeth_Asian',\n",
       "       'raceeth_Black', 'raceeth_Hispanic', 'raceeth_More than one race',\n",
       "       'raceeth_Native Hawaiian/Other Pacific Islander', 'raceeth_NoRace',\n",
       "       'raceeth_White', 'minutes_<100', 'minutes_100-200',\n",
       "       'minutes_200-300', 'minutes_300-400', 'minutes_400-2500',\n",
       "       'students_<10', 'students_10-20', 'students_20-30',\n",
       "       'students_30-40', 'students_40-50', 'students_50-100',\n",
       "       'school_<100', 'school_100-500', 'school_500-1000',\n",
       "       'school_1000-2000', 'school_2000-3000', 'school_3000-7000',\n",
       "       'grade_8', 'grade_9', 'grade_10', 'grade_11', 'grade_12'], dtype=object)"
      ]
     },
     "execution_count": 81,
     "metadata": {},
     "output_type": "execute_result"
    }
   ],
   "source": [
    "pisa.columns.values"
   ]
  },
  {
   "cell_type": "markdown",
   "metadata": {},
   "source": [
    "### Split  into test and training sets"
   ]
  },
  {
   "cell_type": "code",
   "execution_count": 82,
   "metadata": {
    "collapsed": false
   },
   "outputs": [
    {
     "name": "stdout",
     "output_type": "stream",
     "text": [
      "(3663, 45)\n",
      "(1570, 45)\n"
     ]
    }
   ],
   "source": [
    "X_train = pisa.iloc[:train_size,:]\n",
    "X_test = pisa.iloc[train_size:,:]\n",
    "print X_train.shape\n",
    "print X_test.shape"
   ]
  },
  {
   "cell_type": "markdown",
   "metadata": {},
   "source": [
    "## 3.2 Implementation"
   ]
  },
  {
   "cell_type": "markdown",
   "metadata": {},
   "source": [
    "In this section a number of algorithms will be spot checked.  "
   ]
  },
  {
   "cell_type": "code",
   "execution_count": 83,
   "metadata": {
    "collapsed": true
   },
   "outputs": [],
   "source": [
    "from sklearn.linear_model import LinearRegression\n",
    "from sklearn.linear_model import Ridge\n",
    "from sklearn.svm import SVR\n",
    "from sklearn.ensemble import RandomForestRegressor\n",
    "from sklearn.ensemble import GradientBoostingRegressor\n",
    "from sklearn.model_selection import learning_curve\n",
    "from sklearn.model_selection import validation_curve\n",
    "from sklearn.model_selection import GridSearchCV"
   ]
  },
  {
   "cell_type": "markdown",
   "metadata": {},
   "source": [
    "### Helper functions"
   ]
  },
  {
   "cell_type": "code",
   "execution_count": 84,
   "metadata": {
    "collapsed": false
   },
   "outputs": [],
   "source": [
    "def cross_validate_models(models, X_train, y_train):\n",
    "    '''\n",
    "    Perform  10-fold cross validation on mulitple models. Prints the RMSE and R2 scores\n",
    "    of each model for comparison.\n",
    "    \n",
    "    Arguments:\n",
    "    models - list of models (tuple of model name, and model object)\n",
    "    X_train - Input features\n",
    "    y_train - Target values\n",
    "        \n",
    "    '''\n",
    "#    results_rmse = []\n",
    "#    results_r2 = []\n",
    "#    names = []\n",
    "    print \"%20s: %15s %10s %10s\" % ('Model', 'RMSE (std)', 'R2 (std)', 'Time' )\n",
    "    for name, model in models:\n",
    "        kfold = KFold(n_splits=10, random_state=7)\n",
    "        \n",
    "        start = timeit.default_timer()\n",
    "        cv_results = np.sqrt(-cross_val_score(model, X_train, y_train, cv=kfold, scoring='neg_mean_squared_error'))\n",
    "        cv_results_r2 = cross_val_score(model, X_train, y_train, cv=kfold, scoring='r2')\n",
    "        stop = timeit.default_timer()\n",
    "        \n",
    "        #results_rmse.append(cv_results)\n",
    "        #results_r2.append(cv_results_r2)\n",
    "        #names.append(name)\n",
    "        msg = \"%20s: %7.3f (%.3f)  %7.3f (%.3f) %d seconds\" % \\\n",
    "        (name, cv_results.mean(), cv_results.std(), cv_results_r2.mean(), cv_results_r2.std(), stop-start)\n",
    "        print(msg)"
   ]
  },
  {
   "cell_type": "code",
   "execution_count": 122,
   "metadata": {
    "collapsed": true
   },
   "outputs": [],
   "source": [
    "def test_set_validation(models, X_train, y_train, X_test, y_test):\n",
    "    '''\n",
    "    Train the models on training set and tests the trained models on validation data.\n",
    "    \n",
    "    Arguments:\n",
    "    models - list of models (tuple of model name, and model object) \n",
    "    X_train - Input features from training set.\n",
    "    y_train - Target values of training set.\n",
    "    X_test - Input features from validation set.\n",
    "    y_test - Target values of validation set.\n",
    "    '''\n",
    "    for name, model in models:\n",
    "        start = timeit.default_timer()\n",
    "        model.fit(X_train, y_train)\n",
    "        rmse = np.sqrt(mean_squared_error(y_test, model.predict(X_test)))\n",
    "        r2 = r2_score(y_test, model.predict(X_test))\n",
    "        stop = timeit.default_timer()\n",
    "\n",
    "        print \"%15s RMSE: %.2f r2 score: %.3f time:%d seconds\" % (name, rmse, r2, stop-start )"
   ]
  },
  {
   "cell_type": "code",
   "execution_count": 86,
   "metadata": {
    "collapsed": false
   },
   "outputs": [],
   "source": [
    "# http://scikit-learn.org/stable/auto_examples/model_selection/plot_learning_curve.html\n",
    "\n",
    "def plot_learning_curve(estimator, title, X, y, scoring, ylim=None):\n",
    "    '''\n",
    "    Generate a plot of the test and training learning curve.\n",
    "    \n",
    "    Arguments:\n",
    "    estimator - the model used.\n",
    "    title - title for the chart.\n",
    "    X - Input features.\n",
    "    y - Target values.\n",
    "    scoring - the scoring function\n",
    "    ylim - Minimum and maximum y values plotted\n",
    "    '''\n",
    "    plt.figure(figsize=(6,3))\n",
    "    plt.title(title)\n",
    "    if ylim is not None:\n",
    "        plt.ylim(*ylim)\n",
    "    plt.xlabel(\"Training examples\")\n",
    "    plt.ylabel(scoring)\n",
    "    \n",
    "    # Create 10 cross-validation sets for training and testing\n",
    "    cv = ShuffleSplit(n_splits = 10, test_size = 0.2, random_state = 0)\n",
    "    train_sizes = np.linspace(.1, 1.0, 10)\n",
    "    \n",
    "    train_sizes, train_scores, test_scores = learning_curve(estimator, X, y, cv=cv,\n",
    "                                                            train_sizes=train_sizes, scoring= scoring)\n",
    "    \n",
    "    train_scores_mean = np.mean(train_scores, axis=1)\n",
    "    train_scores_std = np.std(train_scores, axis=1)\n",
    "    test_scores_mean = np.mean(test_scores, axis=1)\n",
    "    test_scores_std = np.std(test_scores, axis=1)\n",
    "    \n",
    "    plt.grid()\n",
    "    plt.fill_between(train_sizes, train_scores_mean - train_scores_std,\n",
    "                     train_scores_mean + train_scores_std, alpha=0.1, color=\"r\")\n",
    "    plt.fill_between(train_sizes, test_scores_mean - test_scores_std,\n",
    "                     test_scores_mean + test_scores_std, alpha=0.1, color=\"g\")\n",
    "    plt.plot(train_sizes, train_scores_mean, 'o-', color=\"r\", label=\"Training score\")\n",
    "    plt.plot(train_sizes, test_scores_mean, 'o-', color=\"g\", label=\"Cross-validation score\")\n",
    "    plt.legend(loc=\"best\")\n",
    "    \n",
    "    \n",
    "    return plt"
   ]
  },
  {
   "cell_type": "code",
   "execution_count": 87,
   "metadata": {
    "collapsed": false
   },
   "outputs": [
    {
     "name": "stdout",
     "output_type": "stream",
     "text": [
      "               Model:      RMSE (std)   R2 (std)       Time\n",
      "               Ridge:  76.223 (3.725)    0.363 (0.035) 0 seconds\n",
      "        SupprtVector:  76.372 (3.559)    0.360 (0.030) 15 seconds\n",
      "       GradientBoost:  76.118 (3.663)    0.365 (0.030) 8 seconds\n",
      "       RandomForests:  85.190 (3.407)    0.199 (0.057) 3 seconds\n"
     ]
    }
   ],
   "source": [
    "models = []\n",
    "models.append(('Ridge', Ridge()))\n",
    "models.append(('SupprtVector', SVR(kernel='linear')))\n",
    "models.append(('GradientBoost', GradientBoostingRegressor() ))\n",
    "models.append(('RandomForests', RandomForestRegressor() ))\n",
    "cross_validate_models(models, X_train, y_train)"
   ]
  },
  {
   "cell_type": "code",
   "execution_count": 88,
   "metadata": {
    "collapsed": false
   },
   "outputs": [
    {
     "name": "stdout",
     "output_type": "stream",
     "text": [
      "Benchmark r2 score: 0.32\n",
      "Benchmark RMSE: 78.36\n"
     ]
    }
   ],
   "source": [
    "print \"Benchmark r2 score: %.2f\" % benchmark_r2\n",
    "print \"Benchmark RMSE: %.2f\" % benchmark_rmse"
   ]
  },
  {
   "cell_type": "markdown",
   "metadata": {},
   "source": [
    "### Learning curves"
   ]
  },
  {
   "cell_type": "code",
   "execution_count": 89,
   "metadata": {
    "collapsed": false
   },
   "outputs": [
    {
     "data": {
      "image/png": "[encoded data removed]",
      "text/plain": [
       "<matplotlib.figure.Figure at 0x1060a1d0>"
      ]
     },
     "metadata": {},
     "output_type": "display_data"
    },
    {
     "data": {
      "image/png": "[encoded data removed]",
      "text/plain": [
       "<matplotlib.figure.Figure at 0xf46ecc0>"
      ]
     },
     "metadata": {},
     "output_type": "display_data"
    },
    {
     "data": {
      "image/png": "[encoded data removed]",
      "text/plain": [
       "<matplotlib.figure.Figure at 0x10e84710>"
      ]
     },
     "metadata": {},
     "output_type": "display_data"
    },
    {
     "data": {
      "image/png": "[encoded data removed]",
      "text/plain": [
       "<matplotlib.figure.Figure at 0x10aeaf98>"
      ]
     },
     "metadata": {},
     "output_type": "display_data"
    }
   ],
   "source": [
    "for name, model in models:\n",
    "    plot_learning_curve(model,name, X_train, y_train, 'r2')"
   ]
  },
  {
   "cell_type": "markdown",
   "metadata": {},
   "source": [
    "### Verify with test set"
   ]
  },
  {
   "cell_type": "code",
   "execution_count": 90,
   "metadata": {
    "collapsed": false
   },
   "outputs": [
    {
     "name": "stdout",
     "output_type": "stream",
     "text": [
      "          Ridge RMSE: 75.09 r2 score: 0.38 time:0 seconds\n",
      "   SupprtVector RMSE: 75.12 r2 score: 0.38 time:1 seconds\n",
      "  GradientBoost RMSE: 73.95 r2 score: 0.40 time:0 seconds\n",
      "  RandomForests RMSE: 81.45 r2 score: 0.27 time:0 seconds\n",
      "\n",
      "\n",
      "Benchmark r2 score: 0.32\n",
      "Benchmark RMSE: 78.36\n"
     ]
    }
   ],
   "source": [
    "test_set_validation(models, X_train, y_train, X_test, y_test)\n",
    "\n",
    "print \"\\n\"\n",
    "print \"Benchmark r2 score: %.2f\" % benchmark_r2\n",
    "print \"Benchmark RMSE: %.2f\" % benchmark_rmse   "
   ]
  },
  {
   "cell_type": "markdown",
   "metadata": {},
   "source": [
    "## 3.3 Refinement"
   ]
  },
  {
   "cell_type": "markdown",
   "metadata": {},
   "source": [
    "### 3.3.1. Feature selction"
   ]
  },
  {
   "cell_type": "markdown",
   "metadata": {},
   "source": [
    "Model performance before feature selection"
   ]
  },
  {
   "cell_type": "code",
   "execution_count": 91,
   "metadata": {
    "collapsed": false
   },
   "outputs": [
    {
     "name": "stdout",
     "output_type": "stream",
     "text": [
      "               Model:      RMSE (std)   R2 (std)       Time\n",
      "               Ridge:  76.223 (3.725)    0.363 (0.035) 0 seconds\n",
      "        SupprtVector:  76.372 (3.559)    0.360 (0.030) 13 seconds\n",
      "       GradientBoost:  76.124 (3.673)    0.365 (0.031) 7 seconds\n",
      "       RandomForests:  85.391 (3.198)    0.202 (0.053) 3 seconds\n"
     ]
    }
   ],
   "source": [
    "cross_validate_models(models, X_train, y_train)"
   ]
  },
  {
   "cell_type": "markdown",
   "metadata": {},
   "source": [
    "#### Feature Reduction through PCA (Principal Component Analysis)"
   ]
  },
  {
   "cell_type": "code",
   "execution_count": 116,
   "metadata": {
    "collapsed": false
   },
   "outputs": [
    {
     "name": "stdout",
     "output_type": "stream",
     "text": [
      "0.93468105247\n",
      "               Model:      RMSE (std)   R2 (std)       Time\n",
      "               Ridge:  76.686 (3.632)    0.355 (0.029) 0 seconds\n",
      "        SupprtVector:  76.781 (3.607)    0.354 (0.027) 9 seconds\n",
      "       GradientBoost:  77.727 (3.676)    0.337 (0.028) 14 seconds\n",
      "       RandomForests:  84.238 (3.649)    0.221 (0.025) 10 seconds\n"
     ]
    }
   ],
   "source": [
    "from sklearn.decomposition import PCA\n",
    "pca = PCA(n_components=25)\n",
    "fit = pca.fit(X_train)\n",
    "print sum(fit.explained_variance_ratio_)\n",
    "X_transformed = fit.transform(X_train)\n",
    "cross_validate_models(models, X_transformed, y_train)"
   ]
  },
  {
   "cell_type": "markdown",
   "metadata": {},
   "source": [
    "#### Feature Importance"
   ]
  },
  {
   "cell_type": "code",
   "execution_count": 111,
   "metadata": {
    "collapsed": false
   },
   "outputs": [
    {
     "data": {
      "image/png": "[encoded data removed]",
      "text/plain": [
       "<matplotlib.figure.Figure at 0xd6dcd68>"
      ]
     },
     "metadata": {},
     "output_type": "display_data"
    }
   ],
   "source": [
    "model = RandomForestRegressor()\n",
    "model.fit(X_train, y_train)\n",
    "importances = model.feature_importances_\n",
    "feat_sel_indices = np.argsort(importances)[::-1]\n",
    "feature_labels = pisa.columns\n",
    "labels_reordered = [feature_labels[i] for i in feat_sel_indices]\n",
    "plt.figure(figsize=(15,8)) \n",
    "plt.title('Feature Importances')\n",
    "plt.bar(range(X_train.shape[1]), importances[feat_sel_indices],color='lightblue', align='center')\n",
    "plt.xticks(range(X_train.shape[1]), labels_reordered, rotation=90)\n",
    "plt.xlim([-1, X_train.shape[1]])\n",
    "#plt.tight_layout()\n",
    "plt.show()"
   ]
  },
  {
   "cell_type": "code",
   "execution_count": 112,
   "metadata": {
    "collapsed": true
   },
   "outputs": [],
   "source": [
    "selected_features = feat_sel_indices[:25]"
   ]
  },
  {
   "cell_type": "code",
   "execution_count": 113,
   "metadata": {
    "collapsed": false
   },
   "outputs": [
    {
     "name": "stdout",
     "output_type": "stream",
     "text": [
      "               Model:      RMSE (std)   R2 (std)       Time\n",
      "               Ridge:  77.027 (3.683)    0.349 (0.031) 0 seconds\n",
      "        SupprtVector:  77.148 (3.622)    0.348 (0.027) 9 seconds\n",
      "       GradientBoost:  76.801 (3.780)    0.353 (0.034) 4 seconds\n",
      "       RandomForests:  86.191 (2.669)    0.178 (0.063) 2 seconds\n"
     ]
    }
   ],
   "source": [
    "cross_validate_models(models, X_train[selected_features], y_train)"
   ]
  },
  {
   "cell_type": "markdown",
   "metadata": {},
   "source": [
    "#### SelectKBest"
   ]
  },
  {
   "cell_type": "code",
   "execution_count": 114,
   "metadata": {
    "collapsed": false
   },
   "outputs": [
    {
     "name": "stdout",
     "output_type": "stream",
     "text": [
      "               Model:      RMSE (std)   R2 (std)       Time\n",
      "               Ridge:  76.281 (3.582)    0.362 (0.033) 0 seconds\n",
      "        SupprtVector:  76.367 (3.541)    0.360 (0.029) 9 seconds\n",
      "       GradientBoost:  76.671 (3.674)    0.355 (0.036) 4 seconds\n",
      "       RandomForests:  85.903 (4.005)    0.191 (0.047) 2 seconds\n"
     ]
    }
   ],
   "source": [
    "from sklearn.feature_selection import SelectKBest\n",
    "from sklearn.feature_selection import f_regression\n",
    "\n",
    "X_transformed = SelectKBest(f_regression, k=25).fit_transform(X_train, y_train)\n",
    "cross_validate_models(models, X_transformed, y_train)"
   ]
  },
  {
   "cell_type": "markdown",
   "metadata": {},
   "source": [
    "#### Recursive Feature Elimination (RFE)"
   ]
  },
  {
   "cell_type": "code",
   "execution_count": 117,
   "metadata": {
    "collapsed": false
   },
   "outputs": [
    {
     "name": "stdout",
     "output_type": "stream",
     "text": [
      "               Model:      RMSE (std)   R2 (std)       Time\n",
      "               Ridge:  76.233 (3.482)    0.362 (0.033) 0 seconds\n",
      "        SupprtVector:  76.421 (3.360)    0.359 (0.028) 9 seconds\n",
      "       GradientBoost:  76.012 (3.588)    0.366 (0.034) 4 seconds\n",
      "       RandomForests:  85.105 (3.504)    0.219 (0.026) 2 seconds\n"
     ]
    }
   ],
   "source": [
    "X_transformed = RFE(GradientBoostingRegressor(), 25).fit_transform(X_train, y_train)\n",
    "cross_validate_models(models, X_transformed, y_train)"
   ]
  },
  {
   "cell_type": "markdown",
   "metadata": {},
   "source": [
    "Best R2 Score (0.366 GradientBoost) is seen with RFE. \n",
    "Next look for the best number of features for RFE"
   ]
  },
  {
   "cell_type": "code",
   "execution_count": 106,
   "metadata": {
    "collapsed": false
   },
   "outputs": [
    {
     "name": "stdout",
     "output_type": "stream",
     "text": [
      "Top 20 features RMSE: 76.04 r2 score: 0.366\n",
      "Top 21 features RMSE: 75.97 r2 score: 0.367\n",
      "Top 22 features RMSE: 76.01 r2 score: 0.366\n",
      "Top 23 features RMSE: 75.98 r2 score: 0.367\n",
      "Top 24 features RMSE: 76.06 r2 score: 0.366\n",
      "Top 25 features RMSE: 76.00 r2 score: 0.366\n",
      "Top 26 features RMSE: 75.86 r2 score: 0.369\n",
      "Top 27 features RMSE: 75.84 r2 score: 0.369\n",
      "Top 28 features RMSE: 75.87 r2 score: 0.369\n",
      "Top 29 features RMSE: 75.85 r2 score: 0.369\n",
      "Top 30 features RMSE: 75.94 r2 score: 0.368\n",
      "Top 31 features RMSE: 75.91 r2 score: 0.368\n",
      "Top 32 features RMSE: 75.90 r2 score: 0.368\n",
      "Top 33 features RMSE: 75.92 r2 score: 0.368\n",
      "Top 34 features RMSE: 75.87 r2 score: 0.369\n",
      "Top 35 features RMSE: 75.90 r2 score: 0.368\n",
      "Top 36 features RMSE: 75.94 r2 score: 0.367\n",
      "Top 37 features RMSE: 75.95 r2 score: 0.367\n",
      "Top 38 features RMSE: 76.00 r2 score: 0.367\n",
      "Top 39 features RMSE: 76.00 r2 score: 0.367\n",
      "Top 40 features RMSE: 76.01 r2 score: 0.366\n",
      "Top 41 features RMSE: 76.14 r2 score: 0.364\n",
      "Top 42 features RMSE: 76.12 r2 score: 0.365\n",
      "Top 43 features RMSE: 76.09 r2 score: 0.365\n",
      "Top 44 features RMSE: 76.10 r2 score: 0.365\n",
      "Top 45 features RMSE: 76.11 r2 score: 0.365\n"
     ]
    }
   ],
   "source": [
    "kfold = KFold(n_splits=10, random_state=7)\n",
    "for n_features in range(20, X_train.shape[1]+1):\n",
    "    X_transformed = RFE(GradientBoostingRegressor(), n_features).fit_transform(X_train, y_train)\n",
    "    model = GradientBoostingRegressor()\n",
    "    rmse = np.mean(np.sqrt(-cross_val_score(model, X_transformed, y_train, cv=kfold, scoring='neg_mean_squared_error')))\n",
    "    r2 = np.mean(cross_val_score(model, X_transformed, y_train, cv=kfold, scoring='r2'))  \n",
    "           \n",
    "    print \"Top %2d features RMSE: %.2f r2 score: %.3f\" % (n_features, rmse, r2 )"
   ]
  },
  {
   "cell_type": "markdown",
   "metadata": {},
   "source": [
    "Selected number of features is 27"
   ]
  },
  {
   "cell_type": "code",
   "execution_count": 120,
   "metadata": {
    "collapsed": false
   },
   "outputs": [
    {
     "name": "stdout",
     "output_type": "stream",
     "text": [
      "               Model:      RMSE (std)   R2 (std)       Time\n",
      "               Ridge:  76.102 (3.509)    0.365 (0.033) 0 seconds\n",
      "        SupprtVector:  76.330 (3.412)    0.361 (0.027) 9 seconds\n",
      "       GradientBoost:  75.833 (3.531)    0.369 (0.032) 5 seconds\n",
      "       RandomForests:  85.500 (3.310)    0.189 (0.049) 2 seconds\n"
     ]
    }
   ],
   "source": [
    "rfe = RFE(GradientBoostingRegressor(), 27).fit(X_train, y_train)\n",
    "X_train_rfe = rfe.transform(X_train)\n",
    "cross_validate_models(models, X_train_rfe , y_train)"
   ]
  },
  {
   "cell_type": "markdown",
   "metadata": {},
   "source": [
    "#### Verify with unseen data"
   ]
  },
  {
   "cell_type": "code",
   "execution_count": 123,
   "metadata": {
    "collapsed": false
   },
   "outputs": [
    {
     "name": "stdout",
     "output_type": "stream",
     "text": [
      "          Ridge RMSE: 75.09 r2 score: 0.376 time:0 seconds\n",
      "   SupprtVector RMSE: 75.20 r2 score: 0.375 time:0 seconds\n",
      "  GradientBoost RMSE: 73.97 r2 score: 0.395 time:0 seconds\n",
      "  RandomForests RMSE: 84.95 r2 score: 0.202 time:0 seconds\n",
      "\n",
      "\n",
      "Benchmark r2 score: 0.32\n",
      "Benchmark RMSE: 78.36\n"
     ]
    }
   ],
   "source": [
    "X_test_rfe = rfe.transform(X_test)\n",
    "test_set_validation(models, X_train_rfe, y_train, X_test_rfe, y_test)\n",
    "\n",
    "print \"\\n\"\n",
    "print \"Benchmark r2 score: %.2f\" % benchmark_r2\n",
    "print \"Benchmark RMSE: %.2f\" % benchmark_rmse   "
   ]
  },
  {
   "cell_type": "markdown",
   "metadata": {},
   "source": [
    "### 3.3.2 Selecting hyperparameters"
   ]
  },
  {
   "cell_type": "code",
   "execution_count": 125,
   "metadata": {
    "collapsed": false
   },
   "outputs": [],
   "source": [
    "def plot_validation_curve(estimator, X, y, param_name, param_range, \n",
    "                          scoring, plot_title, x_label, y_label, n_jobs=-1):\n",
    "    '''\n",
    "    Plots training and test scores for varying parameter values.\n",
    "    \n",
    "    Arguments:\n",
    "    estimator - The model.\n",
    "    X - Input features.\n",
    "    y - Target values.\n",
    "    param_name - Name of the parameter that will be varied.\n",
    "    param_range - The values of the parameter that will be varied.\n",
    "    scoring - the scoring function.\n",
    "    plot_title - The title of the chart.\n",
    "    x_label - Label for the x axis.\n",
    "    y_label - Label for the y axis.\n",
    "    n_jobs - Number of jobs to run parallel.\n",
    "    '''\n",
    "    cv = ShuffleSplit( test_size=0.2, random_state=7)\n",
    "    \n",
    "    start = timeit.default_timer()\n",
    "    train_scores, test_scores = validation_curve(estimator, X, y, param_name=param_name, param_range=param_range,\n",
    "                                                 cv=cv, scoring=scoring, n_jobs=n_jobs)\n",
    "    stop = timeit.default_timer()\n",
    "    print 'Validation Curves Runtime: %d seconds' % (stop-start)\n",
    "    \n",
    "    train_scores_mean = np.mean(train_scores, axis=1)\n",
    "    train_scores_std = np.std(train_scores, axis=1)\n",
    "    test_scores_mean = np.mean(test_scores, axis=1)\n",
    "    test_scores_std = np.std(test_scores, axis=1)\n",
    "    \n",
    "    # Print Scores\n",
    "    for param, train_score, test_score in zip(param_range, train_scores_mean, test_scores_mean):\n",
    "        print ('{0}: {1:7d}    Train Score: {2:.3f} Test Score: {3:.3f}' .format(param_name, int(param), float(train_score), float(test_score)))\n",
    "    \n",
    "    plt.figure(figsize=(5,3))\n",
    "    plt.title(plot_title)\n",
    "    plt.xlabel(x_label)\n",
    "    plt.ylabel(y_label)\n",
    "    plt.semilogx(param_range, train_scores_mean, label=\"Training score\", color=\"r\")\n",
    "    plt.fill_between(param_range, train_scores_mean - train_scores_std,\n",
    "                     train_scores_mean + train_scores_std, alpha=0.2, color=\"r\")\n",
    "    plt.semilogx(param_range, test_scores_mean, label=\"Cross-validation score\",\n",
    "                 color=\"g\")\n",
    "    plt.fill_between(param_range, test_scores_mean - test_scores_std,\n",
    "                     test_scores_mean + test_scores_std, alpha=0.2, color=\"g\")\n",
    "    plt.legend(loc=\"best\")\n",
    "    plt.show()"
   ]
  },
  {
   "cell_type": "code",
   "execution_count": 126,
   "metadata": {
    "collapsed": true
   },
   "outputs": [],
   "source": [
    "def grid_search_validation_curve(estimator, X, y, param_name, param_value, scoring):\n",
    "    '''\n",
    "    Perform grid search for a  varying parameter and plots the validation curve.\n",
    "    \n",
    "    Arguments:\n",
    "    estimator - The model.\n",
    "    X - Input features.\n",
    "    y - Target values.\n",
    "    param_name - Name of the parameter that will be varied.\n",
    "    param_range - The values of the parameter that will be varied.\n",
    "    scoring - the scoring function.\n",
    "    '''\n",
    "    param_grid = {}\n",
    "    param_grid[param_name] = param_value\n",
    "\n",
    "    kfold = KFold(n_splits=5, random_state=7)\n",
    "    grid = GridSearchCV(estimator=estimator, param_grid=param_grid, scoring=scoring, cv=kfold)\n",
    "    grid_result = grid.fit(X, y)\n",
    "\n",
    "    print(\"Best: %f using %s\" % (grid_result.best_score_, grid_result.best_params_))\n",
    "    means = grid_result.cv_results_['mean_test_score']\n",
    "    stds = grid_result.cv_results_['std_test_score']\n",
    "    params = grid_result.cv_results_['params']\n",
    "    for mean, stdev, param in zip(means, stds, params):\n",
    "        print(\"%f (%f) with: %r\" % (mean, stdev, param))\n",
    "    #plot_validation_curve(model, X_train, y_train, param_name, param_value, 'r2',\n",
    "    #                      'validation curve - '+estimator.__class__.__name__ , param_name,scoring )"
   ]
  },
  {
   "cell_type": "code",
   "execution_count": 136,
   "metadata": {
    "collapsed": false
   },
   "outputs": [],
   "source": [
    "def select_hyperparams(estimator, X_train, y_train, param_grid, scoring):\n",
    "    '''\n",
    "    Finds the best hyperparameters for the model using grid search with 5x2 cross validation.\n",
    "    \n",
    "    Arguments:\n",
    "    X_train - Input features from training set.\n",
    "    y_train - Target values of training set.\n",
    "    estimator - The model. \n",
    "    param_grid - Dictionary containing hyperparameters and their range.\n",
    "    scoring - the scoring function.\n",
    "    '''\n",
    "    \n",
    "    start = timeit.default_timer()\n",
    "   \n",
    "    model_gs = GridSearchCV(estimator=estimator,param_grid=param_grid,\n",
    "                  scoring=scoring, cv=2, n_jobs=-1)\n",
    "   \n",
    "    scores = cross_val_score(estimator=estimator, X=X_train, y=y_train,\n",
    "                             scoring=scoring, cv=5)\n",
    "\n",
    "    model_gs = model_gs.fit(X=X_train, y=y_train)\n",
    "    \n",
    "    stop = timeit.default_timer()\n",
    "    print 'GridSearchCV Runtime: %d seconds' % (stop-start)\n",
    "    print '\\n'\n",
    "    print 'All CV Scores:', scores\n",
    "    print('Mean CV Score: %.3f +/- %.3f' % (np.mean(scores), np.std(scores)))\n",
    "    print 'Best Estimator:\\n', model_gs.best_estimator_\n",
    "    return model_gs.best_estimator_"
   ]
  },
  {
   "cell_type": "markdown",
   "metadata": {},
   "source": [
    "#### Hyperparameters for Gradient Boosting Regressor\n",
    "* learning_rate\n",
    "* n_estimators\n",
    "* max_depth\n",
    "* min_samples_split\n",
    "* min_samples_leaf\n",
    "* subsample"
   ]
  },
  {
   "cell_type": "code",
   "execution_count": 128,
   "metadata": {
    "collapsed": false
   },
   "outputs": [
    {
     "name": "stdout",
     "output_type": "stream",
     "text": [
      "Best: 0.368163 using {'learning_rate': 0.1}\n",
      "0.238206 (0.008844) with: {'learning_rate': 0.01}\n",
      "0.368163 (0.026018) with: {'learning_rate': 0.1}\n",
      "0.362542 (0.025728) with: {'learning_rate': 0.15}\n",
      "0.360339 (0.026248) with: {'learning_rate': 0.2}\n",
      "0.354625 (0.026586) with: {'learning_rate': 0.3}\n",
      "0.342406 (0.025975) with: {'learning_rate': 0.35}\n",
      "0.343010 (0.029106) with: {'learning_rate': 0.4}\n",
      "0.324914 (0.035414) with: {'learning_rate': 0.5}\n",
      "0.315040 (0.041202) with: {'learning_rate': 0.6}\n",
      "0.301891 (0.030884) with: {'learning_rate': 0.7}\n"
     ]
    }
   ],
   "source": [
    "learning_rate = [0.01,0.1,0.15,0.2,0.3,0.35,0.4,0.5,0.6,0.7]\n",
    "model = GradientBoostingRegressor(random_state=7)\n",
    "grid_search_validation_curve(model, X_train_rfe, y_train, param_name='learning_rate',\n",
    "                             param_value=learning_rate, scoring='r2')"
   ]
  },
  {
   "cell_type": "code",
   "execution_count": 130,
   "metadata": {
    "collapsed": false
   },
   "outputs": [
    {
     "name": "stdout",
     "output_type": "stream",
     "text": [
      "Best: 0.368163 using {'n_estimators': 100}\n",
      "0.358097 (0.022264) with: {'n_estimators': 50}\n",
      "0.368163 (0.026018) with: {'n_estimators': 100}\n",
      "0.365789 (0.024881) with: {'n_estimators': 150}\n",
      "0.363719 (0.025988) with: {'n_estimators': 200}\n",
      "0.360022 (0.026666) with: {'n_estimators': 250}\n",
      "0.357381 (0.026350) with: {'n_estimators': 300}\n",
      "0.354160 (0.026955) with: {'n_estimators': 350}\n",
      "0.350100 (0.028219) with: {'n_estimators': 400}\n",
      "0.346539 (0.028145) with: {'n_estimators': 450}\n",
      "0.344185 (0.028346) with: {'n_estimators': 500}\n",
      "0.340289 (0.028647) with: {'n_estimators': 550}\n"
     ]
    }
   ],
   "source": [
    "n_estimators = range(50, 600, 50)\n",
    "model = GradientBoostingRegressor(learning_rate=0.1, random_state=7)\n",
    "grid_search_validation_curve(model, X_train_rfe, y_train, param_name='n_estimators',\n",
    "                             param_value=n_estimators, scoring='r2')"
   ]
  },
  {
   "cell_type": "code",
   "execution_count": 131,
   "metadata": {
    "collapsed": false
   },
   "outputs": [
    {
     "name": "stdout",
     "output_type": "stream",
     "text": [
      "Best: 0.368163 using {'max_depth': 3}\n",
      "0.342053 (0.019113) with: {'max_depth': 1}\n",
      "0.364473 (0.025050) with: {'max_depth': 2}\n",
      "0.368163 (0.026018) with: {'max_depth': 3}\n",
      "0.359911 (0.028329) with: {'max_depth': 4}\n",
      "0.342419 (0.031090) with: {'max_depth': 5}\n",
      "0.318316 (0.038855) with: {'max_depth': 6}\n",
      "0.277991 (0.037738) with: {'max_depth': 7}\n",
      "0.221256 (0.046635) with: {'max_depth': 8}\n",
      "0.167004 (0.047909) with: {'max_depth': 9}\n",
      "0.118510 (0.074926) with: {'max_depth': 10}\n"
     ]
    }
   ],
   "source": [
    "max_depth = range(1, 11)\n",
    "model = GradientBoostingRegressor(learning_rate=0.1, n_estimators=100, random_state=7)\n",
    "grid_search_validation_curve(model, X_train_rfe, y_train, param_name='max_depth',\n",
    "                             param_value=max_depth, scoring='r2')"
   ]
  },
  {
   "cell_type": "code",
   "execution_count": 132,
   "metadata": {
    "collapsed": false
   },
   "outputs": [
    {
     "name": "stdout",
     "output_type": "stream",
     "text": [
      "Best: 0.368254 using {'min_samples_split': 4}\n",
      "0.368163 (0.026018) with: {'min_samples_split': 1}\n",
      "0.368163 (0.026018) with: {'min_samples_split': 3}\n",
      "0.368254 (0.025987) with: {'min_samples_split': 4}\n",
      "0.368131 (0.026113) with: {'min_samples_split': 5}\n",
      "0.368131 (0.026113) with: {'min_samples_split': 6}\n",
      "0.368062 (0.026084) with: {'min_samples_split': 7}\n",
      "0.367979 (0.026164) with: {'min_samples_split': 8}\n",
      "0.367836 (0.025910) with: {'min_samples_split': 9}\n",
      "0.368163 (0.025734) with: {'min_samples_split': 10}\n",
      "0.368045 (0.024634) with: {'min_samples_split': 15}\n",
      "0.367662 (0.024828) with: {'min_samples_split': 20}\n",
      "0.366139 (0.025770) with: {'min_samples_split': 30}\n"
     ]
    }
   ],
   "source": [
    "min_samples_split = [1,3,4,5,6,7,8,9,10,15,20,30]\n",
    "model = GradientBoostingRegressor(learning_rate=0.1, n_estimators=100,max_depth=3, random_state=7)\n",
    "grid_search_validation_curve(model, X_train_rfe, y_train,\n",
    "                             param_name='min_samples_split', param_value=min_samples_split, scoring='r2')"
   ]
  },
  {
   "cell_type": "code",
   "execution_count": 133,
   "metadata": {
    "collapsed": false
   },
   "outputs": [
    {
     "name": "stdout",
     "output_type": "stream",
     "text": [
      "Best: 0.368770 using {'min_samples_leaf': 5}\n",
      "0.368254 (0.025987) with: {'min_samples_leaf': 1}\n",
      "0.365772 (0.026603) with: {'min_samples_leaf': 2}\n",
      "0.365606 (0.026888) with: {'min_samples_leaf': 3}\n",
      "0.367803 (0.026293) with: {'min_samples_leaf': 4}\n",
      "0.368770 (0.026671) with: {'min_samples_leaf': 5}\n",
      "0.367619 (0.025634) with: {'min_samples_leaf': 7}\n"
     ]
    }
   ],
   "source": [
    "min_samples_leaf = [1,2,3,4,5,7]\n",
    "model = GradientBoostingRegressor(learning_rate=0.1, n_estimators=100,max_depth=3, min_samples_split=4, random_state=7)\n",
    "grid_search_validation_curve(model, X_train_rfe, y_train, param_name='min_samples_leaf',\n",
    "                             param_value=min_samples_leaf, scoring='r2')"
   ]
  },
  {
   "cell_type": "code",
   "execution_count": 134,
   "metadata": {
    "collapsed": false
   },
   "outputs": [
    {
     "name": "stdout",
     "output_type": "stream",
     "text": [
      "Best: 0.372126 using {'subsample': 0.7}\n",
      "0.346447 (0.028351) with: {'subsample': 0.1}\n",
      "0.361025 (0.029858) with: {'subsample': 0.3}\n",
      "0.365428 (0.027159) with: {'subsample': 0.5}\n",
      "0.371754 (0.026794) with: {'subsample': 0.6}\n",
      "0.372126 (0.024919) with: {'subsample': 0.7}\n",
      "0.370570 (0.027350) with: {'subsample': 0.75}\n",
      "0.371576 (0.027768) with: {'subsample': 0.8}\n",
      "0.368753 (0.028984) with: {'subsample': 0.9}\n",
      "0.368770 (0.026671) with: {'subsample': 1.0}\n"
     ]
    }
   ],
   "source": [
    "subsample = [0.1,0.3,0.5,0.6,0.7,0.75,0.8,0.9,1.0]\n",
    "model = GradientBoostingRegressor(learning_rate=0.1, n_estimators=100, max_depth=3, min_samples_split=4,\n",
    "                                  min_samples_leaf=5, random_state=7)\n",
    "grid_search_validation_curve(model, X_train_rfe, y_train, param_name='subsample',\n",
    "                             param_value=subsample, scoring='r2')"
   ]
  },
  {
   "cell_type": "code",
   "execution_count": 138,
   "metadata": {
    "collapsed": true
   },
   "outputs": [],
   "source": [
    "tuned_models = []"
   ]
  },
  {
   "cell_type": "code",
   "execution_count": 137,
   "metadata": {
    "collapsed": false
   },
   "outputs": [
    {
     "name": "stdout",
     "output_type": "stream",
     "text": [
      "GridSearchCV Runtime: 949 seconds\n",
      "\n",
      "\n",
      "All CV Scores: [ 0.37906469  0.34937323  0.35640126  0.4139764   0.34150773]\n",
      "Mean CV Score: 0.368 +/- 0.026\n",
      "Best Estimator:\n",
      "GradientBoostingRegressor(alpha=0.9, criterion='friedman_mse', init=None,\n",
      "             learning_rate=0.1, loss='ls', max_depth=2,\n",
      "             max_features='sqrt', max_leaf_nodes=None,\n",
      "             min_impurity_split=1e-07, min_samples_leaf=8,\n",
      "             min_samples_split=3, min_weight_fraction_leaf=0.0,\n",
      "             n_estimators=250, presort='auto', random_state=7,\n",
      "             subsample=0.6, verbose=0, warm_start=False)\n"
     ]
    },
    {
     "ename": "NameError",
     "evalue": "name 'tuned_models' is not defined",
     "output_type": "error",
     "traceback": [
      "\u001b[1;31m---------------------------------------------------------------------------\u001b[0m",
      "\u001b[1;31mNameError\u001b[0m                                 Traceback (most recent call last)",
      "\u001b[1;32m<ipython-input-137-097179002363>\u001b[0m in \u001b[0;36m<module>\u001b[1;34m()\u001b[0m\n\u001b[0;32m     10\u001b[0m \u001b[0mmodel\u001b[0m \u001b[1;33m=\u001b[0m \u001b[0mGradientBoostingRegressor\u001b[0m\u001b[1;33m(\u001b[0m\u001b[1;33m)\u001b[0m\u001b[1;33m\u001b[0m\u001b[0m\n\u001b[0;32m     11\u001b[0m \u001b[0mbest\u001b[0m \u001b[1;33m=\u001b[0m \u001b[0mselect_hyperparams\u001b[0m\u001b[1;33m(\u001b[0m\u001b[0mmodel\u001b[0m\u001b[1;33m,\u001b[0m \u001b[0mX_train_rfe\u001b[0m\u001b[1;33m,\u001b[0m \u001b[0my_train\u001b[0m\u001b[1;33m,\u001b[0m \u001b[0mparam_grid\u001b[0m\u001b[1;33m,\u001b[0m \u001b[1;34m'r2'\u001b[0m\u001b[1;33m)\u001b[0m\u001b[1;33m\u001b[0m\u001b[0m\n\u001b[1;32m---> 12\u001b[1;33m \u001b[0mtuned_models\u001b[0m\u001b[1;33m.\u001b[0m\u001b[0mappend\u001b[0m\u001b[1;33m(\u001b[0m\u001b[1;33m(\u001b[0m\u001b[1;34m'GradientBoost'\u001b[0m\u001b[1;33m,\u001b[0m\u001b[0mbest\u001b[0m\u001b[1;33m)\u001b[0m\u001b[1;33m)\u001b[0m\u001b[1;33m\u001b[0m\u001b[0m\n\u001b[0m",
      "\u001b[1;31mNameError\u001b[0m: name 'tuned_models' is not defined"
     ]
    }
   ],
   "source": [
    "param_grid = {'learning_rate'     : [0.1, 0.15],\n",
    "              'n_estimators'      : [100, 150,200, 250],\n",
    "              'max_features'      : ['auto','sqrt','log2'],\n",
    "              'max_depth'         : [2,3,4],\n",
    "              'min_samples_split' : [4,5,6,7],\n",
    "              'min_samples_leaf'  : [4,5,7,8],\n",
    "              'subsample'         : [0.6, 0.7, 0.8],\n",
    "              'random_state'      : [7]}\n",
    "\n",
    "model = GradientBoostingRegressor()\n",
    "best = select_hyperparams(model, X_train_rfe, y_train, param_grid, 'r2')\n",
    "tuned_models.append(('GradientBoost',best))"
   ]
  },
  {
   "cell_type": "code",
   "execution_count": 139,
   "metadata": {
    "collapsed": false
   },
   "outputs": [
    {
     "name": "stdout",
     "output_type": "stream",
     "text": [
      "  GradientBoost RMSE: 74.52 r2 score: 0.386 time:0 seconds\n"
     ]
    }
   ],
   "source": [
    "test_set_validation(tuned_models, X_train_rfe, y_train, X_test_rfe, y_test)"
   ]
  },
  {
   "cell_type": "markdown",
   "metadata": {},
   "source": [
    "#### Hyperparameters for Support Vector Regressor\n",
    "* C\n",
    "* epsilon"
   ]
  },
  {
   "cell_type": "code",
   "execution_count": 140,
   "metadata": {
    "collapsed": false
   },
   "outputs": [
    {
     "name": "stdout",
     "output_type": "stream",
     "text": [
      "Best: 0.363237 using {'C': 3}\n",
      "0.360448 (0.023495) with: {'C': 1}\n",
      "0.363140 (0.026854) with: {'C': 2}\n",
      "0.363237 (0.027942) with: {'C': 3}\n",
      "0.363095 (0.028287) with: {'C': 4}\n",
      "0.362995 (0.028731) with: {'C': 5}\n"
     ]
    }
   ],
   "source": [
    "model = SVR(kernel='linear')\n",
    "C = [1, 2, 3, 4, 5]\n",
    "grid_search_validation_curve(model, X_train_rfe, y_train, param_name='C', param_value=C, scoring='r2')"
   ]
  },
  {
   "cell_type": "markdown",
   "metadata": {},
   "source": [
    "Lets keep 1, 2, 3 and 4 for hyperparameter tuning"
   ]
  },
  {
   "cell_type": "code",
   "execution_count": 141,
   "metadata": {
    "collapsed": false
   },
   "outputs": [
    {
     "name": "stdout",
     "output_type": "stream",
     "text": [
      "Best: 0.364743 using {'epsilon': 14}\n",
      "0.364743 (0.028181) with: {'epsilon': 14}\n",
      "0.364452 (0.027923) with: {'epsilon': 15}\n",
      "0.364033 (0.028107) with: {'epsilon': 16}\n",
      "0.363784 (0.028445) with: {'epsilon': 17}\n",
      "0.364127 (0.028359) with: {'epsilon': 18}\n",
      "0.364241 (0.028127) with: {'epsilon': 19}\n"
     ]
    }
   ],
   "source": [
    "#epsilon = np.logspace(-1,1,10)\n",
    "epsilon = range(14, 20)\n",
    "model = SVR(kernel='linear', C=3)\n",
    "grid_search_validation_curve(model, X_train_rfe, y_train, param_name='epsilon', param_value=epsilon, scoring='r2')"
   ]
  },
  {
   "cell_type": "markdown",
   "metadata": {},
   "source": [
    "Use 1.1, 1.2.1.3, 1.4 "
   ]
  },
  {
   "cell_type": "code",
   "execution_count": 142,
   "metadata": {
    "collapsed": false
   },
   "outputs": [
    {
     "name": "stdout",
     "output_type": "stream",
     "text": [
      "GridSearchCV Runtime: 26 seconds\n",
      "\n",
      "\n",
      "All CV Scores: [ 0.20175518  0.19653667  0.19803185  0.20703579  0.19662521]\n",
      "Mean CV Score: 0.200 +/- 0.004\n",
      "Best Estimator:\n",
      "SVR(C=3, cache_size=200, coef0=0.0, degree=3, epsilon=14, gamma='auto',\n",
      "  kernel='linear', max_iter=-1, shrinking=True, tol=0.001, verbose=False)\n"
     ]
    }
   ],
   "source": [
    "param_grid = {'kernel' : ['linear', 'rbf'],\n",
    "              'C'      : [1, 2, 3],\n",
    "              'epsilon': [ 13, 14,15, 16, ]\n",
    "              }\n",
    "\n",
    "model = SVR()\n",
    "best = select_hyperparams(model, X_train_rfe, y_train, param_grid, 'r2')\n",
    "tuned_models.append(('SVR',best))"
   ]
  },
  {
   "cell_type": "code",
   "execution_count": 143,
   "metadata": {
    "collapsed": false
   },
   "outputs": [
    {
     "name": "stdout",
     "output_type": "stream",
     "text": [
      "  GradientBoost RMSE: 74.52 r2 score: 0.386 time:0 seconds\n",
      "            SVR RMSE: 75.00 r2 score: 0.378 time:0 seconds\n"
     ]
    }
   ],
   "source": [
    "test_set_validation(tuned_models, X_train_rfe, y_train, X_test_rfe, y_test)"
   ]
  },
  {
   "cell_type": "markdown",
   "metadata": {},
   "source": [
    "#### Hyperparameters for Ridge\n",
    "* alpha"
   ]
  },
  {
   "cell_type": "code",
   "execution_count": 145,
   "metadata": {
    "collapsed": false
   },
   "outputs": [
    {
     "name": "stdout",
     "output_type": "stream",
     "text": [
      "GridSearchCV Runtime: 3 seconds\n",
      "\n",
      "\n",
      "All CV Scores: [ 0.38072595  0.33654731  0.35667149  0.41378225  0.33404467]\n",
      "Mean CV Score: 0.364 +/- 0.030\n",
      "Best Estimator:\n",
      "Ridge(alpha=15, copy_X=True, fit_intercept=True, max_iter=None,\n",
      "   normalize=False, random_state=None, solver='auto', tol=0.001)\n"
     ]
    }
   ],
   "source": [
    "model = Ridge()\n",
    "alpha = range(1,30,2)\n",
    "param_grid = {'alpha' : alpha}\n",
    "best = select_hyperparams(model, X_train_rfe, y_train, param_grid, 'r2')\n",
    "tuned_models.append(('Ridge',best))"
   ]
  },
  {
   "cell_type": "code",
   "execution_count": 146,
   "metadata": {
    "collapsed": false
   },
   "outputs": [
    {
     "name": "stdout",
     "output_type": "stream",
     "text": [
      "               Model:      RMSE (std)   R2 (std)       Time\n",
      "       GradientBoost:  75.849 (3.622)    0.369 (0.032) 4 seconds\n",
      "                 SVR:  76.084 (3.453)    0.365 (0.031) 8 seconds\n",
      "               Ridge:  76.086 (3.510)    0.365 (0.031) 0 seconds\n"
     ]
    }
   ],
   "source": [
    "cross_validate_models(tuned_models, X_train_rfe , y_train)"
   ]
  },
  {
   "cell_type": "markdown",
   "metadata": {},
   "source": [
    "#### Hyperparameters for Random Forest Regressor\n",
    "* n_estimators\n",
    "* max_features\n",
    "* max_depth\n",
    "* min_samples_split\n",
    "* min_samples_leaf"
   ]
  },
  {
   "cell_type": "code",
   "execution_count": 148,
   "metadata": {
    "collapsed": false
   },
   "outputs": [
    {
     "name": "stdout",
     "output_type": "stream",
     "text": [
      "Best: 0.235341 using {'n_estimators': 250}\n",
      "0.227927 (0.041441) with: {'n_estimators': 50}\n",
      "0.235134 (0.039024) with: {'n_estimators': 150}\n",
      "0.235341 (0.039648) with: {'n_estimators': 250}\n",
      "0.235281 (0.039949) with: {'n_estimators': 350}\n"
     ]
    }
   ],
   "source": [
    "n_estimators = range(50, 400, 100)\n",
    "model = RandomForestRegressor(random_state=7)\n",
    "grid_search_validation_curve(model, X_train_rfe, y_train,\n",
    "                             param_name='n_estimators', param_value=n_estimators, scoring='r2')"
   ]
  },
  {
   "cell_type": "code",
   "execution_count": 149,
   "metadata": {
    "collapsed": false
   },
   "outputs": [
    {
     "name": "stdout",
     "output_type": "stream",
     "text": [
      "Best: 0.336673 using {'max_depth': 7}\n",
      "0.128563 (0.024673) with: {'max_depth': 1}\n",
      "0.222223 (0.019837) with: {'max_depth': 2}\n",
      "0.269683 (0.019542) with: {'max_depth': 3}\n",
      "0.298441 (0.019469) with: {'max_depth': 4}\n",
      "0.317654 (0.020572) with: {'max_depth': 5}\n",
      "0.330977 (0.023217) with: {'max_depth': 6}\n",
      "0.336673 (0.025180) with: {'max_depth': 7}\n",
      "0.335996 (0.026910) with: {'max_depth': 8}\n",
      "0.332288 (0.027191) with: {'max_depth': 9}\n",
      "0.324168 (0.029600) with: {'max_depth': 10}\n"
     ]
    }
   ],
   "source": [
    "max_depth = range(1, 11)\n",
    "model = RandomForestRegressor(n_estimators=250, random_state=7)\n",
    "grid_search_validation_curve(model, X_train_rfe, y_train,\n",
    "                             param_name='max_depth', param_value=max_depth, scoring='r2')"
   ]
  },
  {
   "cell_type": "code",
   "execution_count": 152,
   "metadata": {
    "collapsed": false
   },
   "outputs": [
    {
     "name": "stdout",
     "output_type": "stream",
     "text": [
      "Best: 0.338344 using {'min_samples_split': 22}\n",
      "0.337747 (0.023940) with: {'min_samples_split': 10}\n",
      "0.337686 (0.023797) with: {'min_samples_split': 12}\n",
      "0.337575 (0.023373) with: {'min_samples_split': 14}\n",
      "0.337909 (0.022906) with: {'min_samples_split': 16}\n",
      "0.338111 (0.022493) with: {'min_samples_split': 18}\n",
      "0.338332 (0.022243) with: {'min_samples_split': 20}\n",
      "0.338344 (0.022146) with: {'min_samples_split': 22}\n",
      "0.338322 (0.021945) with: {'min_samples_split': 24}\n",
      "0.338272 (0.022067) with: {'min_samples_split': 26}\n",
      "0.338231 (0.021844) with: {'min_samples_split': 28}\n",
      "0.338033 (0.021578) with: {'min_samples_split': 30}\n",
      "0.338037 (0.021569) with: {'min_samples_split': 32}\n",
      "0.338097 (0.021354) with: {'min_samples_split': 34}\n",
      "0.338037 (0.021450) with: {'min_samples_split': 36}\n",
      "0.338256 (0.021159) with: {'min_samples_split': 38}\n"
     ]
    }
   ],
   "source": [
    "#min_samples_split = [1,3,4,5,6,7,8,9,10,15,20,30]\n",
    "min_samples_split = range(10,40, 2)\n",
    "model = RandomForestRegressor(n_estimators=250, max_depth=7, random_state=7)\n",
    "grid_search_validation_curve(model, X_train_rfe, y_train,\n",
    "                             param_name='min_samples_split', param_value=min_samples_split, scoring='r2')"
   ]
  },
  {
   "cell_type": "code",
   "execution_count": 153,
   "metadata": {
    "collapsed": false
   },
   "outputs": [
    {
     "name": "stdout",
     "output_type": "stream",
     "text": [
      "Best: 0.339083 using {'min_samples_leaf': 2}\n",
      "0.338344 (0.022146) with: {'min_samples_leaf': 1}\n",
      "0.339083 (0.022039) with: {'min_samples_leaf': 2}\n",
      "0.339025 (0.021994) with: {'min_samples_leaf': 3}\n",
      "0.338924 (0.022454) with: {'min_samples_leaf': 4}\n",
      "0.338271 (0.022895) with: {'min_samples_leaf': 5}\n",
      "0.337785 (0.022905) with: {'min_samples_leaf': 6}\n",
      "0.337062 (0.022917) with: {'min_samples_leaf': 7}\n",
      "0.336275 (0.022483) with: {'min_samples_leaf': 8}\n",
      "0.335593 (0.022738) with: {'min_samples_leaf': 9}\n",
      "0.335346 (0.022847) with: {'min_samples_leaf': 10}\n"
     ]
    }
   ],
   "source": [
    "min_samples_leaf = range(1, 11)\n",
    "model = RandomForestRegressor(n_estimators=250,  max_depth=7, min_samples_split=22, random_state=7)\n",
    "grid_search_validation_curve(model, X_train_rfe, y_train,\n",
    "                             param_name='min_samples_leaf', param_value=min_samples_leaf, scoring='r2')"
   ]
  },
  {
   "cell_type": "code",
   "execution_count": 154,
   "metadata": {
    "collapsed": false
   },
   "outputs": [
    {
     "name": "stdout",
     "output_type": "stream",
     "text": [
      "GridSearchCV Runtime: 123 seconds\n",
      "\n",
      "\n",
      "All CV Scores: [ 0.16617708  0.1856973   0.21675744  0.26252479  0.12940157]\n",
      "Mean CV Score: 0.192 +/- 0.045\n",
      "Best Estimator:\n",
      "RandomForestRegressor(bootstrap=True, criterion='mse', max_depth=8,\n",
      "           max_features='sqrt', max_leaf_nodes=None,\n",
      "           min_impurity_split=1e-07, min_samples_leaf=1,\n",
      "           min_samples_split=21, min_weight_fraction_leaf=0.0,\n",
      "           n_estimators=250, n_jobs=1, oob_score=False, random_state=7,\n",
      "           verbose=0, warm_start=False)\n"
     ]
    }
   ],
   "source": [
    "param_grid = {'n_estimators'      : [250],\n",
    "              'max_depth'         : [6, 7,8],\n",
    "              'min_samples_split' : [21,22,23,24],\n",
    "              'min_samples_leaf'  : [1,2,3],\n",
    "              'max_features'      : ['auto','sqrt','log2'],\n",
    "              'random_state'      : [7]}\n",
    "\n",
    "model = RandomForestRegressor()\n",
    "best = select_hyperparams(model, X_train_rfe, y_train, param_grid, 'r2')\n",
    "tuned_models.append(('RandomForest',best))"
   ]
  },
  {
   "cell_type": "code",
   "execution_count": 155,
   "metadata": {
    "collapsed": false
   },
   "outputs": [
    {
     "name": "stdout",
     "output_type": "stream",
     "text": [
      "               Model:      RMSE (std)   R2 (std)       Time\n",
      "       GradientBoost:  75.849 (3.622)    0.369 (0.032) 5 seconds\n",
      "                 SVR:  76.084 (3.453)    0.365 (0.031) 8 seconds\n",
      "               Ridge:  76.086 (3.510)    0.365 (0.031) 0 seconds\n",
      "        RandomForest:  76.984 (3.734)    0.351 (0.023) 21 seconds\n"
     ]
    }
   ],
   "source": [
    "cross_validate_models(tuned_models, X_train_rfe , y_train)"
   ]
  },
  {
   "cell_type": "markdown",
   "metadata": {},
   "source": [
    "# 4. Results"
   ]
  },
  {
   "cell_type": "markdown",
   "metadata": {},
   "source": [
    "## 4.1 Model Evaluation and Validation"
   ]
  },
  {
   "cell_type": "markdown",
   "metadata": {
    "collapsed": false
   },
   "source": [
    "### 4.1.1 Validatiing with unseen data"
   ]
  },
  {
   "cell_type": "code",
   "execution_count": 156,
   "metadata": {
    "collapsed": false
   },
   "outputs": [
    {
     "name": "stdout",
     "output_type": "stream",
     "text": [
      "  GradientBoost RMSE: 74.52 r2 score: 0.386 time:0 seconds\n",
      "            SVR RMSE: 75.00 r2 score: 0.378 time:0 seconds\n",
      "          Ridge RMSE: 75.01 r2 score: 0.378 time:0 seconds\n",
      "   RandomForest RMSE: 75.29 r2 score: 0.373 time:1 seconds\n",
      "Benchmark r2 score: 0.32\n",
      "Benchmark RMSE: 78.36\n"
     ]
    }
   ],
   "source": [
    "test_set_validation(tuned_models, X_train_rfe, y_train, X_test_rfe, y_test)\n",
    "\n",
    "print \"Benchmark r2 score: %.2f\" % benchmark_r2\n",
    "print \"Benchmark RMSE: %.2f\" % benchmark_rmse"
   ]
  },
  {
   "cell_type": "markdown",
   "metadata": {},
   "source": [
    "Among the four tuned algorithms GradientBoost got best score. Other algorithms also scored closer.\n",
    "The RMSE got improved from 78.36 to 74.08. The R2 got improved from 0.32 to 0.39. "
   ]
  },
  {
   "cell_type": "markdown",
   "metadata": {},
   "source": [
    "### 4.1.2 Generalization of the final model"
   ]
  },
  {
   "cell_type": "code",
   "execution_count": null,
   "metadata": {
    "collapsed": false
   },
   "outputs": [],
   "source": []
  },
  {
   "cell_type": "code",
   "execution_count": null,
   "metadata": {
    "collapsed": false
   },
   "outputs": [],
   "source": []
  },
  {
   "cell_type": "markdown",
   "metadata": {},
   "source": [
    "## 4.2 Justification"
   ]
  },
  {
   "cell_type": "markdown",
   "metadata": {},
   "source": [
    "The results are better than the benchmark result reported earlier\n",
    "Analyze and discuss the final solutions\n",
    "Is the final solution significant enough to have solved the problem? No."
   ]
  },
  {
   "cell_type": "markdown",
   "metadata": {
    "collapsed": true
   },
   "source": [
    "# 5. Conclusion"
   ]
  },
  {
   "cell_type": "markdown",
   "metadata": {},
   "source": [
    "## 5.1 Free-Form Visualization"
   ]
  },
  {
   "cell_type": "markdown",
   "metadata": {},
   "source": [
    "### Residual plot "
   ]
  },
  {
   "cell_type": "code",
   "execution_count": null,
   "metadata": {
    "collapsed": false
   },
   "outputs": [],
   "source": [
    "final_model.fit(X_train_rfe, y_train)\n",
    "test_pred = final_model.predict(X_test_rfe)\n",
    "sns.residplot(y_test, test_pred)"
   ]
  },
  {
   "cell_type": "markdown",
   "metadata": {},
   "source": [
    "The above residual plot shows residuals on the vertical axis and the target variable, readingScore on the horizontal axis. The above residual plot shows a random pattern. A line of best fit is a good approximation of the data."
   ]
  },
  {
   "cell_type": "markdown",
   "metadata": {},
   "source": [
    "### Actual vs Predicted Plot"
   ]
  },
  {
   "cell_type": "code",
   "execution_count": null,
   "metadata": {
    "collapsed": false
   },
   "outputs": [],
   "source": [
    "sns.regplot(y_test, test_pred)"
   ]
  },
  {
   "cell_type": "markdown",
   "metadata": {},
   "source": [
    "Scatter plots of Actual Vs Predicted are useful in analyzing the performance of the model. Ideally, all points should be close to a regressed diagonal line. "
   ]
  },
  {
   "cell_type": "markdown",
   "metadata": {},
   "source": [
    "## 5.2 Reflection"
   ]
  },
  {
   "cell_type": "code",
   "execution_count": null,
   "metadata": {
    "collapsed": true
   },
   "outputs": [],
   "source": []
  },
  {
   "cell_type": "markdown",
   "metadata": {},
   "source": [
    "## 5.3 Improvement"
   ]
  },
  {
   "cell_type": "markdown",
   "metadata": {},
   "source": [
    "### Ensemble of GradientBoost, SVR, Ridge and RandomForest"
   ]
  },
  {
   "cell_type": "code",
   "execution_count": null,
   "metadata": {
    "collapsed": false
   },
   "outputs": [],
   "source": [
    "model_gbm = GradientBoostingRegressor(learning_rate=0.1, max_depth=3, max_features='log2',\n",
    "                                 min_samples_leaf=4, n_estimators=100, random_state=7, subsample=0.9)\n",
    "model_ridge = Ridge(alpha=25)\n",
    "model_svr = SVR(C=3, kernel='linear', epsilon=18)\n",
    "model_rf = RandomForestRegressor(max_depth=8, max_features='sqrt',\n",
    "                                 min_samples_leaf=1, min_samples_split=3, n_estimators=550, random_state=7)\n",
    "\n",
    "model_gbm.fit(X_train, y_train)\n",
    "model_ridge.fit(X_train, y_train)\n",
    "model_svr.fit(X_train, y_train)\n",
    "model_rf.fit(X_train, y_train)"
   ]
  },
  {
   "cell_type": "code",
   "execution_count": null,
   "metadata": {
    "collapsed": false
   },
   "outputs": [],
   "source": [
    "ensemble_pred = model_gbm.predict(X_test)\n",
    "print r2_score(y_test, ensemble_pred)\n",
    "sns.regplot(y_test, ensemble_pred)"
   ]
  },
  {
   "cell_type": "code",
   "execution_count": null,
   "metadata": {
    "collapsed": false
   },
   "outputs": [],
   "source": [
    "ensemble_pred = (model_gbm.predict(X_test) + model_ridge.predict(X_test))/2\n",
    "print r2_score(y_test, ensemble_pred)\n",
    "sns.regplot(y_test, ensemble_pred)"
   ]
  },
  {
   "cell_type": "code",
   "execution_count": null,
   "metadata": {
    "collapsed": false
   },
   "outputs": [],
   "source": [
    "ensemble_pred = (model_gbm.predict(X_test) + model_ridge.predict(X_test) + model_svr.predict(X_test))/3\n",
    "print r2_score(y_test, ensemble_pred)\n",
    "sns.regplot(y_test, ensemble_pred)"
   ]
  },
  {
   "cell_type": "code",
   "execution_count": null,
   "metadata": {
    "collapsed": false
   },
   "outputs": [],
   "source": [
    "ensemble_pred = (model_gbm.predict(X_test) + model_rf.predict(X_test))/2\n",
    "print r2_score(y_test, ensemble_pred)\n",
    "sns.regplot(y_test, ensemble_pred)"
   ]
  },
  {
   "cell_type": "code",
   "execution_count": null,
   "metadata": {
    "collapsed": false
   },
   "outputs": [],
   "source": [
    "plt.hist(model_gbm.predict(X_test))"
   ]
  },
  {
   "cell_type": "code",
   "execution_count": null,
   "metadata": {
    "collapsed": false
   },
   "outputs": [],
   "source": [
    "plt.hist(y_test)"
   ]
  },
  {
   "cell_type": "code",
   "execution_count": null,
   "metadata": {
    "collapsed": true
   },
   "outputs": [],
   "source": []
  }
 ],
 "metadata": {
  "kernelspec": {
   "display_name": "Python 2",
   "language": "python",
   "name": "python2"
  },
  "language_info": {
   "codemirror_mode": {
    "name": "ipython",
    "version": 2
   },
   "file_extension": ".py",
   "mimetype": "text/x-python",
   "name": "python",
   "nbconvert_exporter": "python",
   "pygments_lexer": "ipython2",
   "version": "2.7.11"
  }
 },
 "nbformat": 4,
 "nbformat_minor": 0
}
